{
  "nbformat": 4,
  "nbformat_minor": 0,
  "metadata": {
    "colab": {
      "name": "Reconstruct DM.ipynb",
      "provenance": [],
      "collapsed_sections": [],
      "authorship_tag": "ABX9TyMhEhQDFCdgKEFUJ3U4BJCF",
      "include_colab_link": true
    },
    "kernelspec": {
      "name": "python3",
      "display_name": "Python 3"
    },
    "widgets": {
      "application/vnd.jupyter.widget-state+json": {
        "3b74d9836a724ef5bd77db9116c29b3c": {
          "model_module": "@jupyter-widgets/controls",
          "model_name": "HBoxModel",
          "state": {
            "_view_name": "HBoxView",
            "_dom_classes": [],
            "_model_name": "HBoxModel",
            "_view_module": "@jupyter-widgets/controls",
            "_model_module_version": "1.5.0",
            "_view_count": null,
            "_view_module_version": "1.5.0",
            "box_style": "",
            "layout": "IPY_MODEL_5625db634db64f8e9e7312d4fa0fbe3a",
            "_model_module": "@jupyter-widgets/controls",
            "children": [
              "IPY_MODEL_8768f32db92b46818d1830091ec9216e",
              "IPY_MODEL_2a43c2fd2cc24721954223c10df34baf"
            ]
          }
        },
        "5625db634db64f8e9e7312d4fa0fbe3a": {
          "model_module": "@jupyter-widgets/base",
          "model_name": "LayoutModel",
          "state": {
            "_view_name": "LayoutView",
            "grid_template_rows": null,
            "right": null,
            "justify_content": null,
            "_view_module": "@jupyter-widgets/base",
            "overflow": null,
            "_model_module_version": "1.2.0",
            "_view_count": null,
            "flex_flow": null,
            "width": null,
            "min_width": null,
            "border": null,
            "align_items": null,
            "bottom": null,
            "_model_module": "@jupyter-widgets/base",
            "top": null,
            "grid_column": null,
            "overflow_y": null,
            "overflow_x": null,
            "grid_auto_flow": null,
            "grid_area": null,
            "grid_template_columns": null,
            "flex": null,
            "_model_name": "LayoutModel",
            "justify_items": null,
            "grid_row": null,
            "max_height": null,
            "align_content": null,
            "visibility": null,
            "align_self": null,
            "height": null,
            "min_height": null,
            "padding": null,
            "grid_auto_rows": null,
            "grid_gap": null,
            "max_width": null,
            "order": null,
            "_view_module_version": "1.2.0",
            "grid_template_areas": null,
            "object_position": null,
            "object_fit": null,
            "grid_auto_columns": null,
            "margin": null,
            "display": null,
            "left": null
          }
        },
        "8768f32db92b46818d1830091ec9216e": {
          "model_module": "@jupyter-widgets/controls",
          "model_name": "IntProgressModel",
          "state": {
            "_view_name": "ProgressView",
            "style": "IPY_MODEL_46b71880fe59457db96fe21299227873",
            "_dom_classes": [],
            "description": "Epochs: 100%",
            "_model_name": "IntProgressModel",
            "bar_style": "success",
            "max": 20,
            "_view_module": "@jupyter-widgets/controls",
            "_model_module_version": "1.5.0",
            "value": 20,
            "_view_count": null,
            "_view_module_version": "1.5.0",
            "orientation": "horizontal",
            "min": 0,
            "description_tooltip": null,
            "_model_module": "@jupyter-widgets/controls",
            "layout": "IPY_MODEL_ca156aae3da84741a2bdcc1107af456c"
          }
        },
        "2a43c2fd2cc24721954223c10df34baf": {
          "model_module": "@jupyter-widgets/controls",
          "model_name": "HTMLModel",
          "state": {
            "_view_name": "HTMLView",
            "style": "IPY_MODEL_e4cc91c3d98848ba82555e196b7c7e11",
            "_dom_classes": [],
            "description": "",
            "_model_name": "HTMLModel",
            "placeholder": "​",
            "_view_module": "@jupyter-widgets/controls",
            "_model_module_version": "1.5.0",
            "value": " 20/20 [1:37:57&lt;00:00, 293.88s/it]",
            "_view_count": null,
            "_view_module_version": "1.5.0",
            "description_tooltip": null,
            "_model_module": "@jupyter-widgets/controls",
            "layout": "IPY_MODEL_4f1803e9a9b94587815004704def4304"
          }
        },
        "46b71880fe59457db96fe21299227873": {
          "model_module": "@jupyter-widgets/controls",
          "model_name": "ProgressStyleModel",
          "state": {
            "_view_name": "StyleView",
            "_model_name": "ProgressStyleModel",
            "description_width": "initial",
            "_view_module": "@jupyter-widgets/base",
            "_model_module_version": "1.5.0",
            "_view_count": null,
            "_view_module_version": "1.2.0",
            "bar_color": null,
            "_model_module": "@jupyter-widgets/controls"
          }
        },
        "ca156aae3da84741a2bdcc1107af456c": {
          "model_module": "@jupyter-widgets/base",
          "model_name": "LayoutModel",
          "state": {
            "_view_name": "LayoutView",
            "grid_template_rows": null,
            "right": null,
            "justify_content": null,
            "_view_module": "@jupyter-widgets/base",
            "overflow": null,
            "_model_module_version": "1.2.0",
            "_view_count": null,
            "flex_flow": null,
            "width": null,
            "min_width": null,
            "border": null,
            "align_items": null,
            "bottom": null,
            "_model_module": "@jupyter-widgets/base",
            "top": null,
            "grid_column": null,
            "overflow_y": null,
            "overflow_x": null,
            "grid_auto_flow": null,
            "grid_area": null,
            "grid_template_columns": null,
            "flex": null,
            "_model_name": "LayoutModel",
            "justify_items": null,
            "grid_row": null,
            "max_height": null,
            "align_content": null,
            "visibility": null,
            "align_self": null,
            "height": null,
            "min_height": null,
            "padding": null,
            "grid_auto_rows": null,
            "grid_gap": null,
            "max_width": null,
            "order": null,
            "_view_module_version": "1.2.0",
            "grid_template_areas": null,
            "object_position": null,
            "object_fit": null,
            "grid_auto_columns": null,
            "margin": null,
            "display": null,
            "left": null
          }
        },
        "e4cc91c3d98848ba82555e196b7c7e11": {
          "model_module": "@jupyter-widgets/controls",
          "model_name": "DescriptionStyleModel",
          "state": {
            "_view_name": "StyleView",
            "_model_name": "DescriptionStyleModel",
            "description_width": "",
            "_view_module": "@jupyter-widgets/base",
            "_model_module_version": "1.5.0",
            "_view_count": null,
            "_view_module_version": "1.2.0",
            "_model_module": "@jupyter-widgets/controls"
          }
        },
        "4f1803e9a9b94587815004704def4304": {
          "model_module": "@jupyter-widgets/base",
          "model_name": "LayoutModel",
          "state": {
            "_view_name": "LayoutView",
            "grid_template_rows": null,
            "right": null,
            "justify_content": null,
            "_view_module": "@jupyter-widgets/base",
            "overflow": null,
            "_model_module_version": "1.2.0",
            "_view_count": null,
            "flex_flow": null,
            "width": null,
            "min_width": null,
            "border": null,
            "align_items": null,
            "bottom": null,
            "_model_module": "@jupyter-widgets/base",
            "top": null,
            "grid_column": null,
            "overflow_y": null,
            "overflow_x": null,
            "grid_auto_flow": null,
            "grid_area": null,
            "grid_template_columns": null,
            "flex": null,
            "_model_name": "LayoutModel",
            "justify_items": null,
            "grid_row": null,
            "max_height": null,
            "align_content": null,
            "visibility": null,
            "align_self": null,
            "height": null,
            "min_height": null,
            "padding": null,
            "grid_auto_rows": null,
            "grid_gap": null,
            "max_width": null,
            "order": null,
            "_view_module_version": "1.2.0",
            "grid_template_areas": null,
            "object_position": null,
            "object_fit": null,
            "grid_auto_columns": null,
            "margin": null,
            "display": null,
            "left": null
          }
        }
      }
    }
  },
  "cells": [
    {
      "cell_type": "markdown",
      "metadata": {
        "id": "view-in-github",
        "colab_type": "text"
      },
      "source": [
        "<a href=\"https://colab.research.google.com/github/nahumsa/DM-Reconstruction/blob/master/Reconstruct%20DM.ipynb\" target=\"_parent\"><img src=\"https://colab.research.google.com/assets/colab-badge.svg\" alt=\"Open In Colab\"/></a>"
      ]
    },
    {
      "cell_type": "markdown",
      "metadata": {
        "id": "7iavbKiKltUC",
        "colab_type": "text"
      },
      "source": [
        "# Reconstruction of a density matrix"
      ]
    },
    {
      "cell_type": "markdown",
      "metadata": {
        "id": "IyyOmdrhl0M6",
        "colab_type": "text"
      },
      "source": [
        "### Import dependencies for Google Colab"
      ]
    },
    {
      "cell_type": "code",
      "metadata": {
        "id": "or1p7TPNljDn",
        "colab_type": "code",
        "colab": {}
      },
      "source": [
        "! git clone https://github.com/nahumsa/DM-Reconstruction"
      ],
      "execution_count": 0,
      "outputs": []
    },
    {
      "cell_type": "code",
      "metadata": {
        "id": "X2mpd0AWmLyu",
        "colab_type": "code",
        "colab": {}
      },
      "source": [
        "!pip install qutip"
      ],
      "execution_count": 0,
      "outputs": []
    },
    {
      "cell_type": "code",
      "metadata": {
        "id": "krooM51-ls4K",
        "colab_type": "code",
        "outputId": "8616d06d-2264-42ce-9b6b-8c9d94709ca7",
        "colab": {
          "base_uri": "https://localhost:8080/",
          "height": 34
        }
      },
      "source": [
        "% cd DM-Reconstruction/"
      ],
      "execution_count": 3,
      "outputs": [
        {
          "output_type": "stream",
          "text": [
            "/content/DM-Reconstruction\n"
          ],
          "name": "stdout"
        }
      ]
    },
    {
      "cell_type": "markdown",
      "metadata": {
        "id": "51n6qyGel7Cu",
        "colab_type": "text"
      },
      "source": [
        "##Import Dependencies"
      ]
    },
    {
      "cell_type": "code",
      "metadata": {
        "id": "s6XbBlzomUE1",
        "colab_type": "code",
        "colab": {}
      },
      "source": [
        "try:\n",
        "  %tensorflow_version 2.x\n",
        "\n",
        "except Exception:\n",
        "  pass\n",
        "  \n",
        "import tensorflow as tf\n",
        "\n",
        "#Set Random Seed for reproduction\n",
        "tf.random.set_seed(1234)\n",
        "\n",
        "# Remove warnings\n",
        "import logging\n",
        "logging.getLogger('tensorflow').disabled = True\n",
        "\n",
        "#Use this to not need to initialize tensors outside session\n",
        "tf.config.experimental_run_functions_eagerly(True)"
      ],
      "execution_count": 0,
      "outputs": []
    },
    {
      "cell_type": "code",
      "metadata": {
        "id": "BeM7wtQQxEJb",
        "colab_type": "code",
        "colab": {}
      },
      "source": [
        "%load_ext autoreload\n",
        "%autoreload 2"
      ],
      "execution_count": 0,
      "outputs": []
    },
    {
      "cell_type": "code",
      "metadata": {
        "id": "11b8B7JbmhC0",
        "colab_type": "code",
        "colab": {}
      },
      "source": [
        "%matplotlib inline\n",
        "import matplotlib.pyplot as plt\n",
        "import numpy as np\n",
        "import qutip\n",
        "from tqdm.notebook import tqdm"
      ],
      "execution_count": 0,
      "outputs": []
    },
    {
      "cell_type": "markdown",
      "metadata": {
        "id": "mPm1NbddH2kC",
        "colab_type": "text"
      },
      "source": [
        "## Creating dataset"
      ]
    },
    {
      "cell_type": "code",
      "metadata": {
        "id": "V9UD_UPnoqia",
        "colab_type": "code",
        "colab": {}
      },
      "source": [
        "from Utils.Dataset import create_dataset\n",
        "\n",
        "samples_train = 5000\n",
        "states_train, measurements_train, labels_train = create_dataset(samples_train)\n",
        "\n",
        "samples_test = 3000\n",
        "states_test, measurements_test, labels_test = create_dataset(samples_test)"
      ],
      "execution_count": 0,
      "outputs": []
    },
    {
      "cell_type": "code",
      "metadata": {
        "id": "s6dn7Kgxsbq9",
        "colab_type": "code",
        "colab": {}
      },
      "source": [
        "from Utils.Dataset import create_x\n",
        "\n",
        "#Transforming in an np.array\n",
        "X_train = np.array(create_x(measurements_train))\n",
        "Y_train = np.array(labels_train)\n",
        "\n",
        "X_test = np.array(create_x(measurements_test))\n",
        "Y_test = np.array(labels_test)\n",
        "\n",
        "#print(f\"Shape of the Training: \\n X: {X_train.shape}\")"
      ],
      "execution_count": 0,
      "outputs": []
    },
    {
      "cell_type": "markdown",
      "metadata": {
        "id": "779vLn76r_nf",
        "colab_type": "text"
      },
      "source": [
        "# Models"
      ]
    },
    {
      "cell_type": "markdown",
      "metadata": {
        "id": "46tzC7I695H7",
        "colab_type": "text"
      },
      "source": [
        "## Using Trace distance as a loss function"
      ]
    },
    {
      "cell_type": "code",
      "metadata": {
        "id": "-V6Jjo0U_SZO",
        "colab_type": "code",
        "colab": {}
      },
      "source": [
        "from Models.TVAE import TraceVAE\n",
        "\n",
        "ZDIM = 20\n",
        "input_dim = X_train.shape[1]\n",
        "hidden_dims = [64,128,256]\n",
        "batchsize = 32\n",
        "\n",
        "vae = TraceVAE(original_dim=input_dim,\n",
        "               intermediate_dim=hidden_dims,\n",
        "               latent_dim=ZDIM)\n",
        "\n",
        "# Optimizer.\n",
        "optimizer = tf.keras.optimizers.Adam(learning_rate=1e-3)\n",
        "\n",
        "vae.compile(optimizer=optimizer)\n",
        "\n",
        "# Prepare a dataset.\n",
        "dataset = tf.data.Dataset.from_tensor_slices(X_train)\n",
        "dataset = dataset.shuffle(buffer_size=1024).batch(batchsize)"
      ],
      "execution_count": 0,
      "outputs": []
    },
    {
      "cell_type": "code",
      "metadata": {
        "id": "KTSxXl85zy2L",
        "colab_type": "code",
        "outputId": "fc7e70dc-b7b2-44de-f3f6-ef30661007c5",
        "colab": {
          "base_uri": "https://localhost:8080/",
          "height": 558,
          "referenced_widgets": [
            "3b74d9836a724ef5bd77db9116c29b3c",
            "5625db634db64f8e9e7312d4fa0fbe3a",
            "8768f32db92b46818d1830091ec9216e",
            "2a43c2fd2cc24721954223c10df34baf",
            "46b71880fe59457db96fe21299227873",
            "ca156aae3da84741a2bdcc1107af456c",
            "e4cc91c3d98848ba82555e196b7c7e11",
            "4f1803e9a9b94587815004704def4304"
          ]
        }
      },
      "source": [
        "from Utils.Plotter import PeriodicPlotter\n",
        "\n",
        "r_loss = 10.\n",
        "beta = 1e-2\n",
        "epochs = 20\n",
        "\n",
        "# Periodic Plotter for loss\n",
        "plotter = PeriodicPlotter(sec=5, xlabel='Epochs', ylabel='Loss')\n",
        "\n",
        "loss_epochs = vae.training(dataset, epochs, r_loss, beta, Plotter=plotter)"
      ],
      "execution_count": 10,
      "outputs": [
        {
          "output_type": "display_data",
          "data": {
            "image/png": "[encoded data removed]",
            "text/plain": [
              "<Figure size 432x288 with 1 Axes>"
            ]
          },
          "metadata": {
            "tags": []
          }
        },
        {
          "output_type": "stream",
          "text": [
            "\n"
          ],
          "name": "stdout"
        },
        {
          "output_type": "display_data",
          "data": {
            "image/png": "[encoded data removed]",
            "text/plain": [
              "<Figure size 432x288 with 1 Axes>"
            ]
          },
          "metadata": {
            "tags": [],
            "needs_background": "light"
          }
        }
      ]
    },
    {
      "cell_type": "code",
      "metadata": {
        "id": "EJuxEm_3xyMt",
        "colab_type": "code",
        "outputId": "6dca8145-cbcc-4987-fe3f-a37bbfd2d14d",
        "colab": {
          "base_uri": "https://localhost:8080/",
          "height": 338
        }
      },
      "source": [
        "fig = plt.figure(figsize=(14,5))\n",
        "gs = fig.add_gridspec(1, 3)\n",
        "ax1 = fig.add_subplot(gs[0, 0])\n",
        "ax2 = fig.add_subplot(gs[0, 1])\n",
        "\n",
        "\n",
        "ax1.imshow((X_train[0:20]), cmap=\"gray\")\n",
        "ax1.set_title('Original', size=16)\n",
        "\n",
        "ax2.imshow(vae.predict(X_train[0:20]), cmap=\"gray\")\n",
        "ax2.set_title('Reconstruction', size=16)\n",
        "\n",
        "#_, _, z = vae.encoder(X_test)\n",
        "#z = z.numpy()\n",
        "\n",
        "#ax3 = fig.add_subplot(gs[0, 2])\n",
        "#ims = ax3.scatter(z[:,0], z[:,1], c=Y_test)\n",
        "#ax3.set_title('Latent Space', size=16)\n",
        "#plt.colorbar(ims, ax=ax3)\n",
        "\n",
        "plt.show()"
      ],
      "execution_count": 12,
      "outputs": [
        {
          "output_type": "display_data",
          "data": {
            "image/png": "[encoded data removed]",
            "text/plain": [
              "<Figure size 1008x360 with 2 Axes>"
            ]
          },
          "metadata": {
            "tags": [],
            "needs_background": "light"
          }
        }
      ]
    },
    {
      "cell_type": "markdown",
      "metadata": {
        "id": "lN6qbKS_FVt-",
        "colab_type": "text"
      },
      "source": [
        "# Denoising measurements with gaussian error"
      ]
    },
    {
      "cell_type": "code",
      "metadata": {
        "id": "ErHKj87QFfLU",
        "colab_type": "code",
        "outputId": "f0d45f1f-54e3-4f24-9762-a5d3f1f2b1c7",
        "colab": {
          "base_uri": "https://localhost:8080/",
          "height": 69
        }
      },
      "source": [
        "from Utils.Dataset import create_x\n",
        "n_measurements = len(measurements_train[0])\n",
        "noise_factor = 1.\n",
        "\n",
        "#Transforming in an np.array\n",
        "X_train = np.array(create_x(measurements_train)) + noise_factor*np.random.randn(samples_train,n_measurements)\n",
        "Y_train = np.array(create_x(measurements_train))\n",
        "labels_train = np.array(labels_train)\n",
        "\n",
        "X_test = np.array(create_x(measurements_test)) + noise_factor*np.random.randn(samples_test,n_measurements)\n",
        "Y_test = np.array(create_x(measurements_test))\n",
        "labels_test = np.array(labels_test)\n",
        "\n",
        "print(f\"Shape of the Training: \\n X: {X_train.shape} \\n Y: {Y_train.shape}\")"
      ],
      "execution_count": 14,
      "outputs": [
        {
          "output_type": "stream",
          "text": [
            "Shape of the Training: \n",
            " X: (5000, 15) \n",
            " Y: (5000, 15)\n"
          ],
          "name": "stdout"
        }
      ]
    },
    {
      "cell_type": "code",
      "metadata": {
        "id": "OaKSLr3KGQP7",
        "colab_type": "code",
        "colab": {}
      },
      "source": [
        "from Models.TVAE import TraceVAE\n",
        "from Utils.QMetrics import trace_loss\n",
        "\n",
        "class Denoise(TraceVAE):\n",
        "  def __init__(self,\n",
        "               original_dim,\n",
        "               intermediate_dim,\n",
        "               latent_dim,               \n",
        "               **kwargs):    \n",
        "\n",
        "    super(Denoise, self).__init__(original_dim,\n",
        "                                   intermediate_dim,\n",
        "                                   latent_dim)\n",
        "  def training_step(self, x, y, r_loss, beta):\n",
        "    \"\"\"Training step for the VAE.\n",
        "  \n",
        "    Parameters\n",
        "    -------------------------------------------\n",
        "    x: Data with noise\n",
        "    y: Data without noise\n",
        "    VAE(tf.keras.Model): Variational Autoencoder model. \n",
        "    optimizer(tf.keras.optimizer): Optimizer used.  \n",
        "    r_loss(float): Parameter controlling reconstruction loss.\n",
        "    beta(float): Parameter controlling the KL divergence.\n",
        "\n",
        "    Return:\n",
        "    Loss(float): Loss value of the training step.\n",
        "\n",
        "    \"\"\"\n",
        "    with tf.GradientTape() as tape:\n",
        "      reconstructed = self(x)  # Compute input reconstruction.\n",
        "      # Compute loss.\n",
        "      print(len(y))\n",
        "      loss = trace_loss(y, reconstructed)\n",
        "      kl = sum(self.losses)\n",
        "      loss = r_loss * loss + beta*kl  \n",
        "    \n",
        "    # Update the weights of the VAE.\n",
        "    grads = tape.gradient(loss, self.trainable_weights)\n",
        "    self.optimizer.apply_gradients(zip(grads, self.trainable_weights))    \n",
        "    return loss\n",
        "\n",
        "  def training(self, dataset,\n",
        "             epochs, r_loss, beta,              \n",
        "             Plotter=None):\n",
        "    \"\"\" Training of the Variational Autoencoder for a \n",
        "    tensorflow.dataset.\n",
        "\n",
        "    Parameters\n",
        "    -------------------------------------------\n",
        "    dataset(tf.data.Dataset): Dataset of the data.\n",
        "    VAE(tf.keras.Model): Variational Autoencoder model.\n",
        "    epochs(int): Number of epochs.\n",
        "    r_loss(float): Parameter controlling reconstruction loss.\n",
        "    beta(float): Parameter controlling the KL divergence.  \n",
        "    Plotter(object): Plotter object to show how the training is\n",
        "                    going (Default=None).\n",
        "\n",
        "    \"\"\"\n",
        "\n",
        "    losses = []\n",
        "    epochs = range(epochs)\n",
        "\n",
        "    for i in tqdm(epochs, desc='Epochs'):\n",
        "      losses_epochs = []\n",
        "      for step, (x, y) in enumerate(dataset):\n",
        "\n",
        "        loss = self.training_step(x, y, r_loss, beta)\n",
        "  \n",
        "        # Logging.\n",
        "        losses_epochs.append(float(loss))\n",
        "      losses.append(np.mean(losses_epochs))\n",
        "    \n",
        "      if Plotter != None:\n",
        "        Plotter.plot(losses)\n",
        "\n",
        "    return losses "
      ],
      "execution_count": 0,
      "outputs": []
    },
    {
      "cell_type": "code",
      "metadata": {
        "id": "Zd2y3694_ryj",
        "colab_type": "code",
        "colab": {}
      },
      "source": [
        "ZDIM = 20\n",
        "input_dim = X_train.shape[1]\n",
        "hidden_dims = [64,128,256]\n",
        "batchsize = 512\n",
        "\n",
        "denoising = Denoise(original_dim=input_dim,\n",
        "               intermediate_dim=hidden_dims,\n",
        "               latent_dim=ZDIM)\n",
        "\n",
        "# Optimizer.\n",
        "optimizer = tf.keras.optimizers.Adam(learning_rate=1e-3)\n",
        "\n",
        "denoising.compile(optimizer=optimizer)"
      ],
      "execution_count": 0,
      "outputs": []
    },
    {
      "cell_type": "code",
      "metadata": {
        "id": "jxpej_YvAi_g",
        "colab_type": "code",
        "colab": {}
      },
      "source": [
        "# Prepare a dataset.\n",
        "dataset = tf.data.Dataset.from_tensor_slices((X_train,Y_train))\n",
        "dataset = dataset.shuffle(buffer_size=1024).batch(batchsize)"
      ],
      "execution_count": 0,
      "outputs": []
    },
    {
      "cell_type": "code",
      "metadata": {
        "id": "-FyXgTU1RWLw",
        "colab_type": "code",
        "colab": {}
      },
      "source": [
        "from Utils.Plotter import PeriodicPlotter\n",
        "\n",
        "r_loss = 10.\n",
        "beta = 1e-2\n",
        "epochs = 1\n",
        "\n",
        "# Periodic Plotter for loss\n",
        "plotter = PeriodicPlotter(sec=5, xlabel='Epochs', ylabel='Loss')\n",
        "\n",
        "loss_epochs = denoising.training(dataset, epochs, r_loss, beta, Plotter=plotter)"
      ],
      "execution_count": 0,
      "outputs": []
    },
    {
      "cell_type": "code",
      "metadata": {
        "id": "4B6T848SRfjF",
        "colab_type": "code",
        "outputId": "e684a77b-d1af-4c79-bf0e-4e772377a287",
        "colab": {
          "base_uri": "https://localhost:8080/",
          "height": 338
        }
      },
      "source": [
        "fig = plt.figure(figsize=(14,5))\n",
        "gs = fig.add_gridspec(1, 3)\n",
        "ax1 = fig.add_subplot(gs[0, 0])\n",
        "ax2 = fig.add_subplot(gs[0, 1])\n",
        "ax3 = fig.add_subplot(gs[0, 2])\n",
        "\n",
        "ax1.imshow((X_test[0:20]), cmap=\"gray\")\n",
        "ax1.set_title('Original with noise', size=16)\n",
        "\n",
        "ax2.imshow(denoising.predict(X_test[0:20]), cmap=\"gray\")\n",
        "ax2.set_title('Denoising', size=16)\n",
        "\n",
        "ax3.imshow((Y_test[0:20]), cmap=\"gray\")\n",
        "ax3.set_title('Original without noise', size=16)\n",
        "plt.show()"
      ],
      "execution_count": 19,
      "outputs": [
        {
          "output_type": "display_data",
          "data": {
            "image/png": "[encoded data removed]",
            "text/plain": [
              "<Figure size 1008x360 with 3 Axes>"
            ]
          },
          "metadata": {
            "tags": [],
            "needs_background": "light"
          }
        }
      ]
    },
    {
      "cell_type": "markdown",
      "metadata": {
        "id": "L_SDl0EmxBSo",
        "colab_type": "text"
      },
      "source": [
        "# Trace distance with separable states"
      ]
    },
    {
      "cell_type": "code",
      "metadata": {
        "colab_type": "code",
        "id": "zKj7nl6ZyY45",
        "colab": {}
      },
      "source": [
        "from Utils.Dataset import create_dataset\n",
        "\n",
        "samples_train = 5000\n",
        "states_train, measurements_train, labels_train = create_dataset(samples_train)\n",
        "\n",
        "samples_test = 3000\n",
        "states_test, measurements_test, labels_test = create_dataset(samples_test)"
      ],
      "execution_count": 0,
      "outputs": []
    },
    {
      "cell_type": "code",
      "metadata": {
        "colab_type": "code",
        "id": "U4GdVPPOyY5B",
        "colab": {}
      },
      "source": [
        "from Utils.Dataset import create_x\n",
        "\n",
        "#Transforming in an np.array\n",
        "X_train = np.array(create_x(measurements_train))\n",
        "Y_train = np.array(labels_train)\n",
        "\n",
        "X_test = np.array(create_x(measurements_test))\n",
        "Y_test = np.array(labels_test)\n",
        "\n",
        "# Prepare a dataset.\n",
        "dataset = tf.data.Dataset.from_tensor_slices(X_train)\n",
        "dataset = dataset.shuffle(buffer_size=1024).batch(batchsize)"
      ],
      "execution_count": 0,
      "outputs": []
    },
    {
      "cell_type": "code",
      "metadata": {
        "id": "lJWEWEeTwkJf",
        "colab_type": "code",
        "colab": {}
      },
      "source": [
        "from Models.TVAE import TraceVAE\n",
        "from Utils.QMetrics import trace_loss, create_2qubit_density_mat\n",
        "from Utils.Dataset import generate_separable\n",
        "\n",
        "class Entanglement(TraceVAE):\n",
        "  def __init__(self,\n",
        "               original_dim,\n",
        "               intermediate_dim,\n",
        "               latent_dim,               \n",
        "               **kwargs):    \n",
        "\n",
        "    super(Entanglement, self).__init__(original_dim,\n",
        "                                   intermediate_dim,\n",
        "                                   latent_dim)\n",
        "    \n",
        "  def training_step(self, x, r_loss, beta):\n",
        "    \"\"\"Training step for the VAE.\n",
        "  \n",
        "    Parameters\n",
        "    -------------------------------------------\n",
        "    x: Data.\n",
        "    VAE(tf.keras.Model): Variational Autoencoder model. \n",
        "    optimizer(tf.keras.optimizer): Optimizer used.  \n",
        "    r_loss(float): Parameter controlling reconstruction loss.\n",
        "    beta(float): Parameter controlling the KL divergence.\n",
        "\n",
        "    Return:\n",
        "    Loss(float): Loss value of the training step.\n",
        "\n",
        "    \"\"\"\n",
        "    with tf.GradientTape() as tape:\n",
        "      reconstructed = self(x)  # Compute input reconstruction.\n",
        "      # Compute loss.\n",
        "\n",
        "      sep_states, sep_measurements = generate_separable(len(x))\n",
        "      sep_measurements = tf.Variable(create_x(sep_measurements), dtype=tf.dtypes.complex64)      \n",
        "      loss = trace_loss(sep_measurements, reconstructed)\n",
        "      kl = sum(self.losses)\n",
        "      loss = r_loss * loss + beta*kl  \n",
        "    \n",
        "    # Update the weights of the VAE.\n",
        "    grads = tape.gradient(loss, self.trainable_weights)\n",
        "    self.optimizer.apply_gradients(zip(grads, self.trainable_weights))    \n",
        "    \n",
        "    return loss\n"
      ],
      "execution_count": 0,
      "outputs": []
    },
    {
      "cell_type": "code",
      "metadata": {
        "id": "rDDto2-MyHvV",
        "colab_type": "code",
        "colab": {}
      },
      "source": [
        "ZDIM = 20\n",
        "input_dim = X_train.shape[1]\n",
        "hidden_dims = [64,128,256]\n",
        "batchsize = 512\n",
        "\n",
        "ent = Entanglement(original_dim=input_dim,\n",
        "               intermediate_dim=hidden_dims,\n",
        "               latent_dim=ZDIM)\n",
        "\n",
        "# Optimizer.\n",
        "optimizer = tf.keras.optimizers.Adam(learning_rate=1e-3)\n",
        "\n",
        "ent.compile(optimizer=optimizer)"
      ],
      "execution_count": 0,
      "outputs": []
    },
    {
      "cell_type": "code",
      "metadata": {
        "id": "maahAanByycZ",
        "colab_type": "code",
        "colab": {}
      },
      "source": [
        "from Utils.Plotter import PeriodicPlotter\n",
        "\n",
        "r_loss = 10.\n",
        "beta = 1e-2\n",
        "epochs = 200\n",
        "\n",
        "# Periodic Plotter for loss\n",
        "plotter = PeriodicPlotter(sec=5, xlabel='Epochs', ylabel='Loss')\n",
        "\n",
        "loss_epochs = ent.training(dataset, epochs, r_loss, beta, Plotter=plotter)"
      ],
      "execution_count": 0,
      "outputs": []
    },
    {
      "cell_type": "code",
      "metadata": {
        "id": "ibUO9tFqzg4-",
        "colab_type": "code",
        "colab": {
          "base_uri": "https://localhost:8080/",
          "height": 338
        },
        "outputId": "20a7c90b-74fb-4778-a9a8-841d11ed1afa"
      },
      "source": [
        "fig = plt.figure(figsize=(14,5))\n",
        "gs = fig.add_gridspec(1, 3)\n",
        "ax1 = fig.add_subplot(gs[0, 0])\n",
        "ax2 = fig.add_subplot(gs[0, 1])\n",
        "\n",
        "\n",
        "ax1.imshow((X_train[0:20]), cmap=\"gray\")\n",
        "ax1.set_title('Original', size=16)\n",
        "\n",
        "ax2.imshow(ent.predict(X_train[0:20]), cmap=\"gray\")\n",
        "ax2.set_title('Reconstruction', size=16)\n",
        "\n",
        "#_, _, z = ent.encoder(X_test)\n",
        "#z = z.numpy()\n",
        "\n",
        "#ax3 = fig.add_subplot(gs[0, 2])\n",
        "#ims = ax3.scatter(z[:,0], z[:,1], c=Y_test)\n",
        "#ax3.set_title('Latent Space', size=16)\n",
        "#plt.colorbar(ims, ax=ax3)\n",
        "\n",
        "plt.show()"
      ],
      "execution_count": 134,
      "outputs": [
        {
          "output_type": "display_data",
          "data": {
            "image/png": "[encoded data removed]",
            "text/plain": [
              "<Figure size 1008x360 with 2 Axes>"
            ]
          },
          "metadata": {
            "tags": [],
            "needs_background": "light"
          }
        }
      ]
    },
    {
      "cell_type": "markdown",
      "metadata": {
        "id": "Acb2Judy5b7B",
        "colab_type": "text"
      },
      "source": [
        "### Evaluating entangled and separable states"
      ]
    },
    {
      "cell_type": "markdown",
      "metadata": {
        "id": "_DFr2_pT7lVz",
        "colab_type": "text"
      },
      "source": [
        "\n",
        "Separable"
      ]
    },
    {
      "cell_type": "code",
      "metadata": {
        "id": "c5hsR1sA2q-9",
        "colab_type": "code",
        "colab": {
          "base_uri": "https://localhost:8080/",
          "height": 34
        },
        "outputId": "db074f92-1a85-4b26-97d3-c7347d78b142"
      },
      "source": [
        "from Utils.Dataset import generate_separable\n",
        "n_meas = 1000\n",
        "state, meas = generate_separable(n_meas)\n",
        "meas = np.array(create_x(meas))\n",
        "print(f'Trace loss: {trace_loss(ent(meas),meas)}')"
      ],
      "execution_count": 135,
      "outputs": [
        {
          "output_type": "stream",
          "text": [
            "Trace loss: 0.2567058801651001\n"
          ],
          "name": "stdout"
        }
      ]
    },
    {
      "cell_type": "markdown",
      "metadata": {
        "id": "Ytxu2pP97nGB",
        "colab_type": "text"
      },
      "source": [
        "\n",
        "Entangled"
      ]
    },
    {
      "cell_type": "code",
      "metadata": {
        "id": "regy0oWH2ngQ",
        "colab_type": "code",
        "colab": {
          "base_uri": "https://localhost:8080/",
          "height": 34
        },
        "outputId": "e82714d6-ce2f-40fe-8a77-306bb92fc56b"
      },
      "source": [
        "from Utils.Dataset import generate_entangled\n",
        "n_meas = 1000\n",
        "state, meas = generate_entangled(n_meas)\n",
        "meas = np.array(create_x(meas))\n",
        "print(f'Trace loss: {trace_loss(ent(meas),meas)}')"
      ],
      "execution_count": 136,
      "outputs": [
        {
          "output_type": "stream",
          "text": [
            "Trace loss: 0.3427059054374695\n"
          ],
          "name": "stdout"
        }
      ]
    },
    {
      "cell_type": "code",
      "metadata": {
        "id": "-O1Nr2tX-Wki",
        "colab_type": "code",
        "colab": {}
      },
      "source": [
        ""
      ],
      "execution_count": 0,
      "outputs": []
    }
  ]
}