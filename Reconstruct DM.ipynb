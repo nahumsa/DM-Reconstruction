{
  "nbformat": 4,
  "nbformat_minor": 0,
  "metadata": {
    "colab": {
      "name": "Reconstruct DM.ipynb",
      "provenance": [],
      "collapsed_sections": [],
      "toc_visible": true,
      "authorship_tag": "ABX9TyOHFzDnFgtWipoEZBuEeOdK",
      "include_colab_link": true
    },
    "kernelspec": {
      "name": "python3",
      "display_name": "Python 3"
    },
    "widgets": {
      "application/vnd.jupyter.widget-state+json": {
        "03bf8fe0ce8f4fc2a492d9abde619070": {
          "model_module": "@jupyter-widgets/controls",
          "model_name": "HBoxModel",
          "state": {
            "_view_name": "HBoxView",
            "_dom_classes": [],
            "_model_name": "HBoxModel",
            "_view_module": "@jupyter-widgets/controls",
            "_model_module_version": "1.5.0",
            "_view_count": null,
            "_view_module_version": "1.5.0",
            "box_style": "",
            "layout": "IPY_MODEL_78c23cb29e27432db9da7aff46e7ba6d",
            "_model_module": "@jupyter-widgets/controls",
            "children": [
              "IPY_MODEL_99f04b621bb04ce387b98fd4e392121a",
              "IPY_MODEL_a169a5f266144868b744bd7527a2edf9"
            ]
          }
        },
        "78c23cb29e27432db9da7aff46e7ba6d": {
          "model_module": "@jupyter-widgets/base",
          "model_name": "LayoutModel",
          "state": {
            "_view_name": "LayoutView",
            "grid_template_rows": null,
            "right": null,
            "justify_content": null,
            "_view_module": "@jupyter-widgets/base",
            "overflow": null,
            "_model_module_version": "1.2.0",
            "_view_count": null,
            "flex_flow": null,
            "width": null,
            "min_width": null,
            "border": null,
            "align_items": null,
            "bottom": null,
            "_model_module": "@jupyter-widgets/base",
            "top": null,
            "grid_column": null,
            "overflow_y": null,
            "overflow_x": null,
            "grid_auto_flow": null,
            "grid_area": null,
            "grid_template_columns": null,
            "flex": null,
            "_model_name": "LayoutModel",
            "justify_items": null,
            "grid_row": null,
            "max_height": null,
            "align_content": null,
            "visibility": null,
            "align_self": null,
            "height": null,
            "min_height": null,
            "padding": null,
            "grid_auto_rows": null,
            "grid_gap": null,
            "max_width": null,
            "order": null,
            "_view_module_version": "1.2.0",
            "grid_template_areas": null,
            "object_position": null,
            "object_fit": null,
            "grid_auto_columns": null,
            "margin": null,
            "display": null,
            "left": null
          }
        },
        "99f04b621bb04ce387b98fd4e392121a": {
          "model_module": "@jupyter-widgets/controls",
          "model_name": "FloatProgressModel",
          "state": {
            "_view_name": "ProgressView",
            "style": "IPY_MODEL_0280d87888ae4d2b8299bdc47891a341",
            "_dom_classes": [],
            "description": "Epochs: 100%",
            "_model_name": "FloatProgressModel",
            "bar_style": "success",
            "max": 25,
            "_view_module": "@jupyter-widgets/controls",
            "_model_module_version": "1.5.0",
            "value": 25,
            "_view_count": null,
            "_view_module_version": "1.5.0",
            "orientation": "horizontal",
            "min": 0,
            "description_tooltip": null,
            "_model_module": "@jupyter-widgets/controls",
            "layout": "IPY_MODEL_b6e803033a4848269b397a4fc7f5ccfb"
          }
        },
        "a169a5f266144868b744bd7527a2edf9": {
          "model_module": "@jupyter-widgets/controls",
          "model_name": "HTMLModel",
          "state": {
            "_view_name": "HTMLView",
            "style": "IPY_MODEL_84a84e38bca4496390ec73ce92eb44c2",
            "_dom_classes": [],
            "description": "",
            "_model_name": "HTMLModel",
            "placeholder": "​",
            "_view_module": "@jupyter-widgets/controls",
            "_model_module_version": "1.5.0",
            "value": " 25/25 [06:42&lt;00:00, 16.09s/it]",
            "_view_count": null,
            "_view_module_version": "1.5.0",
            "description_tooltip": null,
            "_model_module": "@jupyter-widgets/controls",
            "layout": "IPY_MODEL_73e561d300ff47399bb67c2440de7bf5"
          }
        },
        "0280d87888ae4d2b8299bdc47891a341": {
          "model_module": "@jupyter-widgets/controls",
          "model_name": "ProgressStyleModel",
          "state": {
            "_view_name": "StyleView",
            "_model_name": "ProgressStyleModel",
            "description_width": "initial",
            "_view_module": "@jupyter-widgets/base",
            "_model_module_version": "1.5.0",
            "_view_count": null,
            "_view_module_version": "1.2.0",
            "bar_color": null,
            "_model_module": "@jupyter-widgets/controls"
          }
        },
        "b6e803033a4848269b397a4fc7f5ccfb": {
          "model_module": "@jupyter-widgets/base",
          "model_name": "LayoutModel",
          "state": {
            "_view_name": "LayoutView",
            "grid_template_rows": null,
            "right": null,
            "justify_content": null,
            "_view_module": "@jupyter-widgets/base",
            "overflow": null,
            "_model_module_version": "1.2.0",
            "_view_count": null,
            "flex_flow": null,
            "width": null,
            "min_width": null,
            "border": null,
            "align_items": null,
            "bottom": null,
            "_model_module": "@jupyter-widgets/base",
            "top": null,
            "grid_column": null,
            "overflow_y": null,
            "overflow_x": null,
            "grid_auto_flow": null,
            "grid_area": null,
            "grid_template_columns": null,
            "flex": null,
            "_model_name": "LayoutModel",
            "justify_items": null,
            "grid_row": null,
            "max_height": null,
            "align_content": null,
            "visibility": null,
            "align_self": null,
            "height": null,
            "min_height": null,
            "padding": null,
            "grid_auto_rows": null,
            "grid_gap": null,
            "max_width": null,
            "order": null,
            "_view_module_version": "1.2.0",
            "grid_template_areas": null,
            "object_position": null,
            "object_fit": null,
            "grid_auto_columns": null,
            "margin": null,
            "display": null,
            "left": null
          }
        },
        "84a84e38bca4496390ec73ce92eb44c2": {
          "model_module": "@jupyter-widgets/controls",
          "model_name": "DescriptionStyleModel",
          "state": {
            "_view_name": "StyleView",
            "_model_name": "DescriptionStyleModel",
            "description_width": "",
            "_view_module": "@jupyter-widgets/base",
            "_model_module_version": "1.5.0",
            "_view_count": null,
            "_view_module_version": "1.2.0",
            "_model_module": "@jupyter-widgets/controls"
          }
        },
        "73e561d300ff47399bb67c2440de7bf5": {
          "model_module": "@jupyter-widgets/base",
          "model_name": "LayoutModel",
          "state": {
            "_view_name": "LayoutView",
            "grid_template_rows": null,
            "right": null,
            "justify_content": null,
            "_view_module": "@jupyter-widgets/base",
            "overflow": null,
            "_model_module_version": "1.2.0",
            "_view_count": null,
            "flex_flow": null,
            "width": null,
            "min_width": null,
            "border": null,
            "align_items": null,
            "bottom": null,
            "_model_module": "@jupyter-widgets/base",
            "top": null,
            "grid_column": null,
            "overflow_y": null,
            "overflow_x": null,
            "grid_auto_flow": null,
            "grid_area": null,
            "grid_template_columns": null,
            "flex": null,
            "_model_name": "LayoutModel",
            "justify_items": null,
            "grid_row": null,
            "max_height": null,
            "align_content": null,
            "visibility": null,
            "align_self": null,
            "height": null,
            "min_height": null,
            "padding": null,
            "grid_auto_rows": null,
            "grid_gap": null,
            "max_width": null,
            "order": null,
            "_view_module_version": "1.2.0",
            "grid_template_areas": null,
            "object_position": null,
            "object_fit": null,
            "grid_auto_columns": null,
            "margin": null,
            "display": null,
            "left": null
          }
        },
        "d1ee9583dec442a0bcf97ae3276d2b81": {
          "model_module": "@jupyter-widgets/controls",
          "model_name": "HBoxModel",
          "state": {
            "_view_name": "HBoxView",
            "_dom_classes": [],
            "_model_name": "HBoxModel",
            "_view_module": "@jupyter-widgets/controls",
            "_model_module_version": "1.5.0",
            "_view_count": null,
            "_view_module_version": "1.5.0",
            "box_style": "",
            "layout": "IPY_MODEL_965d9faebf1b4a68816720e969751197",
            "_model_module": "@jupyter-widgets/controls",
            "children": [
              "IPY_MODEL_177971c603a34122bd853bb0fa4aada1",
              "IPY_MODEL_46e8f9fb5a8a4beab031eb46c0966b57"
            ]
          }
        },
        "965d9faebf1b4a68816720e969751197": {
          "model_module": "@jupyter-widgets/base",
          "model_name": "LayoutModel",
          "state": {
            "_view_name": "LayoutView",
            "grid_template_rows": null,
            "right": null,
            "justify_content": null,
            "_view_module": "@jupyter-widgets/base",
            "overflow": null,
            "_model_module_version": "1.2.0",
            "_view_count": null,
            "flex_flow": null,
            "width": null,
            "min_width": null,
            "border": null,
            "align_items": null,
            "bottom": null,
            "_model_module": "@jupyter-widgets/base",
            "top": null,
            "grid_column": null,
            "overflow_y": null,
            "overflow_x": null,
            "grid_auto_flow": null,
            "grid_area": null,
            "grid_template_columns": null,
            "flex": null,
            "_model_name": "LayoutModel",
            "justify_items": null,
            "grid_row": null,
            "max_height": null,
            "align_content": null,
            "visibility": null,
            "align_self": null,
            "height": null,
            "min_height": null,
            "padding": null,
            "grid_auto_rows": null,
            "grid_gap": null,
            "max_width": null,
            "order": null,
            "_view_module_version": "1.2.0",
            "grid_template_areas": null,
            "object_position": null,
            "object_fit": null,
            "grid_auto_columns": null,
            "margin": null,
            "display": null,
            "left": null
          }
        },
        "177971c603a34122bd853bb0fa4aada1": {
          "model_module": "@jupyter-widgets/controls",
          "model_name": "FloatProgressModel",
          "state": {
            "_view_name": "ProgressView",
            "style": "IPY_MODEL_b1a80fb5f8f44938b8e9c3ac0a6cf978",
            "_dom_classes": [],
            "description": "Epochs: 100%",
            "_model_name": "FloatProgressModel",
            "bar_style": "success",
            "max": 25,
            "_view_module": "@jupyter-widgets/controls",
            "_model_module_version": "1.5.0",
            "value": 25,
            "_view_count": null,
            "_view_module_version": "1.5.0",
            "orientation": "horizontal",
            "min": 0,
            "description_tooltip": null,
            "_model_module": "@jupyter-widgets/controls",
            "layout": "IPY_MODEL_f1856b471d844d0d9dbe83e9d44d6be6"
          }
        },
        "46e8f9fb5a8a4beab031eb46c0966b57": {
          "model_module": "@jupyter-widgets/controls",
          "model_name": "HTMLModel",
          "state": {
            "_view_name": "HTMLView",
            "style": "IPY_MODEL_3edf19b19e67455784b3ba39aaf32658",
            "_dom_classes": [],
            "description": "",
            "_model_name": "HTMLModel",
            "placeholder": "​",
            "_view_module": "@jupyter-widgets/controls",
            "_model_module_version": "1.5.0",
            "value": " 25/25 [05:28&lt;00:00, 13.14s/it]",
            "_view_count": null,
            "_view_module_version": "1.5.0",
            "description_tooltip": null,
            "_model_module": "@jupyter-widgets/controls",
            "layout": "IPY_MODEL_f435ba3452874110a7095e1b47edd342"
          }
        },
        "b1a80fb5f8f44938b8e9c3ac0a6cf978": {
          "model_module": "@jupyter-widgets/controls",
          "model_name": "ProgressStyleModel",
          "state": {
            "_view_name": "StyleView",
            "_model_name": "ProgressStyleModel",
            "description_width": "initial",
            "_view_module": "@jupyter-widgets/base",
            "_model_module_version": "1.5.0",
            "_view_count": null,
            "_view_module_version": "1.2.0",
            "bar_color": null,
            "_model_module": "@jupyter-widgets/controls"
          }
        },
        "f1856b471d844d0d9dbe83e9d44d6be6": {
          "model_module": "@jupyter-widgets/base",
          "model_name": "LayoutModel",
          "state": {
            "_view_name": "LayoutView",
            "grid_template_rows": null,
            "right": null,
            "justify_content": null,
            "_view_module": "@jupyter-widgets/base",
            "overflow": null,
            "_model_module_version": "1.2.0",
            "_view_count": null,
            "flex_flow": null,
            "width": null,
            "min_width": null,
            "border": null,
            "align_items": null,
            "bottom": null,
            "_model_module": "@jupyter-widgets/base",
            "top": null,
            "grid_column": null,
            "overflow_y": null,
            "overflow_x": null,
            "grid_auto_flow": null,
            "grid_area": null,
            "grid_template_columns": null,
            "flex": null,
            "_model_name": "LayoutModel",
            "justify_items": null,
            "grid_row": null,
            "max_height": null,
            "align_content": null,
            "visibility": null,
            "align_self": null,
            "height": null,
            "min_height": null,
            "padding": null,
            "grid_auto_rows": null,
            "grid_gap": null,
            "max_width": null,
            "order": null,
            "_view_module_version": "1.2.0",
            "grid_template_areas": null,
            "object_position": null,
            "object_fit": null,
            "grid_auto_columns": null,
            "margin": null,
            "display": null,
            "left": null
          }
        },
        "3edf19b19e67455784b3ba39aaf32658": {
          "model_module": "@jupyter-widgets/controls",
          "model_name": "DescriptionStyleModel",
          "state": {
            "_view_name": "StyleView",
            "_model_name": "DescriptionStyleModel",
            "description_width": "",
            "_view_module": "@jupyter-widgets/base",
            "_model_module_version": "1.5.0",
            "_view_count": null,
            "_view_module_version": "1.2.0",
            "_model_module": "@jupyter-widgets/controls"
          }
        },
        "f435ba3452874110a7095e1b47edd342": {
          "model_module": "@jupyter-widgets/base",
          "model_name": "LayoutModel",
          "state": {
            "_view_name": "LayoutView",
            "grid_template_rows": null,
            "right": null,
            "justify_content": null,
            "_view_module": "@jupyter-widgets/base",
            "overflow": null,
            "_model_module_version": "1.2.0",
            "_view_count": null,
            "flex_flow": null,
            "width": null,
            "min_width": null,
            "border": null,
            "align_items": null,
            "bottom": null,
            "_model_module": "@jupyter-widgets/base",
            "top": null,
            "grid_column": null,
            "overflow_y": null,
            "overflow_x": null,
            "grid_auto_flow": null,
            "grid_area": null,
            "grid_template_columns": null,
            "flex": null,
            "_model_name": "LayoutModel",
            "justify_items": null,
            "grid_row": null,
            "max_height": null,
            "align_content": null,
            "visibility": null,
            "align_self": null,
            "height": null,
            "min_height": null,
            "padding": null,
            "grid_auto_rows": null,
            "grid_gap": null,
            "max_width": null,
            "order": null,
            "_view_module_version": "1.2.0",
            "grid_template_areas": null,
            "object_position": null,
            "object_fit": null,
            "grid_auto_columns": null,
            "margin": null,
            "display": null,
            "left": null
          }
        },
        "8c35b3f9d30344a5a7bb36ef6f985554": {
          "model_module": "@jupyter-widgets/controls",
          "model_name": "HBoxModel",
          "state": {
            "_view_name": "HBoxView",
            "_dom_classes": [],
            "_model_name": "HBoxModel",
            "_view_module": "@jupyter-widgets/controls",
            "_model_module_version": "1.5.0",
            "_view_count": null,
            "_view_module_version": "1.5.0",
            "box_style": "",
            "layout": "IPY_MODEL_df2f0523724741fb98113c4b06acd55f",
            "_model_module": "@jupyter-widgets/controls",
            "children": [
              "IPY_MODEL_b1de581498764d67a3c04e596f0a123a",
              "IPY_MODEL_b19199d2fe9847ea9f37432181ea1751"
            ]
          }
        },
        "df2f0523724741fb98113c4b06acd55f": {
          "model_module": "@jupyter-widgets/base",
          "model_name": "LayoutModel",
          "state": {
            "_view_name": "LayoutView",
            "grid_template_rows": null,
            "right": null,
            "justify_content": null,
            "_view_module": "@jupyter-widgets/base",
            "overflow": null,
            "_model_module_version": "1.2.0",
            "_view_count": null,
            "flex_flow": null,
            "width": null,
            "min_width": null,
            "border": null,
            "align_items": null,
            "bottom": null,
            "_model_module": "@jupyter-widgets/base",
            "top": null,
            "grid_column": null,
            "overflow_y": null,
            "overflow_x": null,
            "grid_auto_flow": null,
            "grid_area": null,
            "grid_template_columns": null,
            "flex": null,
            "_model_name": "LayoutModel",
            "justify_items": null,
            "grid_row": null,
            "max_height": null,
            "align_content": null,
            "visibility": null,
            "align_self": null,
            "height": null,
            "min_height": null,
            "padding": null,
            "grid_auto_rows": null,
            "grid_gap": null,
            "max_width": null,
            "order": null,
            "_view_module_version": "1.2.0",
            "grid_template_areas": null,
            "object_position": null,
            "object_fit": null,
            "grid_auto_columns": null,
            "margin": null,
            "display": null,
            "left": null
          }
        },
        "b1de581498764d67a3c04e596f0a123a": {
          "model_module": "@jupyter-widgets/controls",
          "model_name": "FloatProgressModel",
          "state": {
            "_view_name": "ProgressView",
            "style": "IPY_MODEL_d8bfd658a8b349579b8c8847bb56f952",
            "_dom_classes": [],
            "description": "Epochs: 100%",
            "_model_name": "FloatProgressModel",
            "bar_style": "success",
            "max": 25,
            "_view_module": "@jupyter-widgets/controls",
            "_model_module_version": "1.5.0",
            "value": 25,
            "_view_count": null,
            "_view_module_version": "1.5.0",
            "orientation": "horizontal",
            "min": 0,
            "description_tooltip": null,
            "_model_module": "@jupyter-widgets/controls",
            "layout": "IPY_MODEL_10c1918e64d54d01a7ed2234a085c1e0"
          }
        },
        "b19199d2fe9847ea9f37432181ea1751": {
          "model_module": "@jupyter-widgets/controls",
          "model_name": "HTMLModel",
          "state": {
            "_view_name": "HTMLView",
            "style": "IPY_MODEL_d224febcdbab4c0994833bde34f84590",
            "_dom_classes": [],
            "description": "",
            "_model_name": "HTMLModel",
            "placeholder": "​",
            "_view_module": "@jupyter-widgets/controls",
            "_model_module_version": "1.5.0",
            "value": " 25/25 [05:49&lt;00:00, 13.98s/it]",
            "_view_count": null,
            "_view_module_version": "1.5.0",
            "description_tooltip": null,
            "_model_module": "@jupyter-widgets/controls",
            "layout": "IPY_MODEL_774fb3bc3e614b61bddfd3aaedcb632e"
          }
        },
        "d8bfd658a8b349579b8c8847bb56f952": {
          "model_module": "@jupyter-widgets/controls",
          "model_name": "ProgressStyleModel",
          "state": {
            "_view_name": "StyleView",
            "_model_name": "ProgressStyleModel",
            "description_width": "initial",
            "_view_module": "@jupyter-widgets/base",
            "_model_module_version": "1.5.0",
            "_view_count": null,
            "_view_module_version": "1.2.0",
            "bar_color": null,
            "_model_module": "@jupyter-widgets/controls"
          }
        },
        "10c1918e64d54d01a7ed2234a085c1e0": {
          "model_module": "@jupyter-widgets/base",
          "model_name": "LayoutModel",
          "state": {
            "_view_name": "LayoutView",
            "grid_template_rows": null,
            "right": null,
            "justify_content": null,
            "_view_module": "@jupyter-widgets/base",
            "overflow": null,
            "_model_module_version": "1.2.0",
            "_view_count": null,
            "flex_flow": null,
            "width": null,
            "min_width": null,
            "border": null,
            "align_items": null,
            "bottom": null,
            "_model_module": "@jupyter-widgets/base",
            "top": null,
            "grid_column": null,
            "overflow_y": null,
            "overflow_x": null,
            "grid_auto_flow": null,
            "grid_area": null,
            "grid_template_columns": null,
            "flex": null,
            "_model_name": "LayoutModel",
            "justify_items": null,
            "grid_row": null,
            "max_height": null,
            "align_content": null,
            "visibility": null,
            "align_self": null,
            "height": null,
            "min_height": null,
            "padding": null,
            "grid_auto_rows": null,
            "grid_gap": null,
            "max_width": null,
            "order": null,
            "_view_module_version": "1.2.0",
            "grid_template_areas": null,
            "object_position": null,
            "object_fit": null,
            "grid_auto_columns": null,
            "margin": null,
            "display": null,
            "left": null
          }
        },
        "d224febcdbab4c0994833bde34f84590": {
          "model_module": "@jupyter-widgets/controls",
          "model_name": "DescriptionStyleModel",
          "state": {
            "_view_name": "StyleView",
            "_model_name": "DescriptionStyleModel",
            "description_width": "",
            "_view_module": "@jupyter-widgets/base",
            "_model_module_version": "1.5.0",
            "_view_count": null,
            "_view_module_version": "1.2.0",
            "_model_module": "@jupyter-widgets/controls"
          }
        },
        "774fb3bc3e614b61bddfd3aaedcb632e": {
          "model_module": "@jupyter-widgets/base",
          "model_name": "LayoutModel",
          "state": {
            "_view_name": "LayoutView",
            "grid_template_rows": null,
            "right": null,
            "justify_content": null,
            "_view_module": "@jupyter-widgets/base",
            "overflow": null,
            "_model_module_version": "1.2.0",
            "_view_count": null,
            "flex_flow": null,
            "width": null,
            "min_width": null,
            "border": null,
            "align_items": null,
            "bottom": null,
            "_model_module": "@jupyter-widgets/base",
            "top": null,
            "grid_column": null,
            "overflow_y": null,
            "overflow_x": null,
            "grid_auto_flow": null,
            "grid_area": null,
            "grid_template_columns": null,
            "flex": null,
            "_model_name": "LayoutModel",
            "justify_items": null,
            "grid_row": null,
            "max_height": null,
            "align_content": null,
            "visibility": null,
            "align_self": null,
            "height": null,
            "min_height": null,
            "padding": null,
            "grid_auto_rows": null,
            "grid_gap": null,
            "max_width": null,
            "order": null,
            "_view_module_version": "1.2.0",
            "grid_template_areas": null,
            "object_position": null,
            "object_fit": null,
            "grid_auto_columns": null,
            "margin": null,
            "display": null,
            "left": null
          }
        },
        "6c19b752019843d88192d2221aa75279": {
          "model_module": "@jupyter-widgets/controls",
          "model_name": "HBoxModel",
          "state": {
            "_view_name": "HBoxView",
            "_dom_classes": [],
            "_model_name": "HBoxModel",
            "_view_module": "@jupyter-widgets/controls",
            "_model_module_version": "1.5.0",
            "_view_count": null,
            "_view_module_version": "1.5.0",
            "box_style": "",
            "layout": "IPY_MODEL_3ff21f18479a4ad9993076d60494783a",
            "_model_module": "@jupyter-widgets/controls",
            "children": [
              "IPY_MODEL_4df5777638a541a1a9983d661831e229",
              "IPY_MODEL_5175a27d99ee400280e5f8c2cde87ffc"
            ]
          }
        },
        "3ff21f18479a4ad9993076d60494783a": {
          "model_module": "@jupyter-widgets/base",
          "model_name": "LayoutModel",
          "state": {
            "_view_name": "LayoutView",
            "grid_template_rows": null,
            "right": null,
            "justify_content": null,
            "_view_module": "@jupyter-widgets/base",
            "overflow": null,
            "_model_module_version": "1.2.0",
            "_view_count": null,
            "flex_flow": null,
            "width": null,
            "min_width": null,
            "border": null,
            "align_items": null,
            "bottom": null,
            "_model_module": "@jupyter-widgets/base",
            "top": null,
            "grid_column": null,
            "overflow_y": null,
            "overflow_x": null,
            "grid_auto_flow": null,
            "grid_area": null,
            "grid_template_columns": null,
            "flex": null,
            "_model_name": "LayoutModel",
            "justify_items": null,
            "grid_row": null,
            "max_height": null,
            "align_content": null,
            "visibility": null,
            "align_self": null,
            "height": null,
            "min_height": null,
            "padding": null,
            "grid_auto_rows": null,
            "grid_gap": null,
            "max_width": null,
            "order": null,
            "_view_module_version": "1.2.0",
            "grid_template_areas": null,
            "object_position": null,
            "object_fit": null,
            "grid_auto_columns": null,
            "margin": null,
            "display": null,
            "left": null
          }
        },
        "4df5777638a541a1a9983d661831e229": {
          "model_module": "@jupyter-widgets/controls",
          "model_name": "FloatProgressModel",
          "state": {
            "_view_name": "ProgressView",
            "style": "IPY_MODEL_e2b9fc6f5938407eb35a89af17bdcfc1",
            "_dom_classes": [],
            "description": "Epochs: 100%",
            "_model_name": "FloatProgressModel",
            "bar_style": "success",
            "max": 30,
            "_view_module": "@jupyter-widgets/controls",
            "_model_module_version": "1.5.0",
            "value": 30,
            "_view_count": null,
            "_view_module_version": "1.5.0",
            "orientation": "horizontal",
            "min": 0,
            "description_tooltip": null,
            "_model_module": "@jupyter-widgets/controls",
            "layout": "IPY_MODEL_35370faa87cb4d15b070dc677e20645c"
          }
        },
        "5175a27d99ee400280e5f8c2cde87ffc": {
          "model_module": "@jupyter-widgets/controls",
          "model_name": "HTMLModel",
          "state": {
            "_view_name": "HTMLView",
            "style": "IPY_MODEL_18c7507c082d4167ab1f6ff38fdc6649",
            "_dom_classes": [],
            "description": "",
            "_model_name": "HTMLModel",
            "placeholder": "​",
            "_view_module": "@jupyter-widgets/controls",
            "_model_module_version": "1.5.0",
            "value": " 30/30 [08:02&lt;00:00, 16.09s/it]",
            "_view_count": null,
            "_view_module_version": "1.5.0",
            "description_tooltip": null,
            "_model_module": "@jupyter-widgets/controls",
            "layout": "IPY_MODEL_8ab2b5f55e264717bf6a7f60afaaa7fb"
          }
        },
        "e2b9fc6f5938407eb35a89af17bdcfc1": {
          "model_module": "@jupyter-widgets/controls",
          "model_name": "ProgressStyleModel",
          "state": {
            "_view_name": "StyleView",
            "_model_name": "ProgressStyleModel",
            "description_width": "initial",
            "_view_module": "@jupyter-widgets/base",
            "_model_module_version": "1.5.0",
            "_view_count": null,
            "_view_module_version": "1.2.0",
            "bar_color": null,
            "_model_module": "@jupyter-widgets/controls"
          }
        },
        "35370faa87cb4d15b070dc677e20645c": {
          "model_module": "@jupyter-widgets/base",
          "model_name": "LayoutModel",
          "state": {
            "_view_name": "LayoutView",
            "grid_template_rows": null,
            "right": null,
            "justify_content": null,
            "_view_module": "@jupyter-widgets/base",
            "overflow": null,
            "_model_module_version": "1.2.0",
            "_view_count": null,
            "flex_flow": null,
            "width": null,
            "min_width": null,
            "border": null,
            "align_items": null,
            "bottom": null,
            "_model_module": "@jupyter-widgets/base",
            "top": null,
            "grid_column": null,
            "overflow_y": null,
            "overflow_x": null,
            "grid_auto_flow": null,
            "grid_area": null,
            "grid_template_columns": null,
            "flex": null,
            "_model_name": "LayoutModel",
            "justify_items": null,
            "grid_row": null,
            "max_height": null,
            "align_content": null,
            "visibility": null,
            "align_self": null,
            "height": null,
            "min_height": null,
            "padding": null,
            "grid_auto_rows": null,
            "grid_gap": null,
            "max_width": null,
            "order": null,
            "_view_module_version": "1.2.0",
            "grid_template_areas": null,
            "object_position": null,
            "object_fit": null,
            "grid_auto_columns": null,
            "margin": null,
            "display": null,
            "left": null
          }
        },
        "18c7507c082d4167ab1f6ff38fdc6649": {
          "model_module": "@jupyter-widgets/controls",
          "model_name": "DescriptionStyleModel",
          "state": {
            "_view_name": "StyleView",
            "_model_name": "DescriptionStyleModel",
            "description_width": "",
            "_view_module": "@jupyter-widgets/base",
            "_model_module_version": "1.5.0",
            "_view_count": null,
            "_view_module_version": "1.2.0",
            "_model_module": "@jupyter-widgets/controls"
          }
        },
        "8ab2b5f55e264717bf6a7f60afaaa7fb": {
          "model_module": "@jupyter-widgets/base",
          "model_name": "LayoutModel",
          "state": {
            "_view_name": "LayoutView",
            "grid_template_rows": null,
            "right": null,
            "justify_content": null,
            "_view_module": "@jupyter-widgets/base",
            "overflow": null,
            "_model_module_version": "1.2.0",
            "_view_count": null,
            "flex_flow": null,
            "width": null,
            "min_width": null,
            "border": null,
            "align_items": null,
            "bottom": null,
            "_model_module": "@jupyter-widgets/base",
            "top": null,
            "grid_column": null,
            "overflow_y": null,
            "overflow_x": null,
            "grid_auto_flow": null,
            "grid_area": null,
            "grid_template_columns": null,
            "flex": null,
            "_model_name": "LayoutModel",
            "justify_items": null,
            "grid_row": null,
            "max_height": null,
            "align_content": null,
            "visibility": null,
            "align_self": null,
            "height": null,
            "min_height": null,
            "padding": null,
            "grid_auto_rows": null,
            "grid_gap": null,
            "max_width": null,
            "order": null,
            "_view_module_version": "1.2.0",
            "grid_template_areas": null,
            "object_position": null,
            "object_fit": null,
            "grid_auto_columns": null,
            "margin": null,
            "display": null,
            "left": null
          }
        },
        "20ab49eb767046a5bc40d80aaea06c85": {
          "model_module": "@jupyter-widgets/controls",
          "model_name": "HBoxModel",
          "state": {
            "_view_name": "HBoxView",
            "_dom_classes": [],
            "_model_name": "HBoxModel",
            "_view_module": "@jupyter-widgets/controls",
            "_model_module_version": "1.5.0",
            "_view_count": null,
            "_view_module_version": "1.5.0",
            "box_style": "",
            "layout": "IPY_MODEL_6730188d23bc49e7a8cc26a36ed220a0",
            "_model_module": "@jupyter-widgets/controls",
            "children": [
              "IPY_MODEL_6e644535786a43108a6787f8ce457b56",
              "IPY_MODEL_c25a59ce1cce409fb05b15e27ff5f667"
            ]
          }
        },
        "6730188d23bc49e7a8cc26a36ed220a0": {
          "model_module": "@jupyter-widgets/base",
          "model_name": "LayoutModel",
          "state": {
            "_view_name": "LayoutView",
            "grid_template_rows": null,
            "right": null,
            "justify_content": null,
            "_view_module": "@jupyter-widgets/base",
            "overflow": null,
            "_model_module_version": "1.2.0",
            "_view_count": null,
            "flex_flow": null,
            "width": null,
            "min_width": null,
            "border": null,
            "align_items": null,
            "bottom": null,
            "_model_module": "@jupyter-widgets/base",
            "top": null,
            "grid_column": null,
            "overflow_y": null,
            "overflow_x": null,
            "grid_auto_flow": null,
            "grid_area": null,
            "grid_template_columns": null,
            "flex": null,
            "_model_name": "LayoutModel",
            "justify_items": null,
            "grid_row": null,
            "max_height": null,
            "align_content": null,
            "visibility": null,
            "align_self": null,
            "height": null,
            "min_height": null,
            "padding": null,
            "grid_auto_rows": null,
            "grid_gap": null,
            "max_width": null,
            "order": null,
            "_view_module_version": "1.2.0",
            "grid_template_areas": null,
            "object_position": null,
            "object_fit": null,
            "grid_auto_columns": null,
            "margin": null,
            "display": null,
            "left": null
          }
        },
        "6e644535786a43108a6787f8ce457b56": {
          "model_module": "@jupyter-widgets/controls",
          "model_name": "FloatProgressModel",
          "state": {
            "_view_name": "ProgressView",
            "style": "IPY_MODEL_75e230c0ef76464fbacccda83d845200",
            "_dom_classes": [],
            "description": "Epochs: 100%",
            "_model_name": "FloatProgressModel",
            "bar_style": "success",
            "max": 25,
            "_view_module": "@jupyter-widgets/controls",
            "_model_module_version": "1.5.0",
            "value": 25,
            "_view_count": null,
            "_view_module_version": "1.5.0",
            "orientation": "horizontal",
            "min": 0,
            "description_tooltip": null,
            "_model_module": "@jupyter-widgets/controls",
            "layout": "IPY_MODEL_f56f0812893f475fa7d2314e5707899a"
          }
        },
        "c25a59ce1cce409fb05b15e27ff5f667": {
          "model_module": "@jupyter-widgets/controls",
          "model_name": "HTMLModel",
          "state": {
            "_view_name": "HTMLView",
            "style": "IPY_MODEL_8d4c7050c06d4cd3906ceb026a38941b",
            "_dom_classes": [],
            "description": "",
            "_model_name": "HTMLModel",
            "placeholder": "​",
            "_view_module": "@jupyter-widgets/controls",
            "_model_module_version": "1.5.0",
            "value": " 25/25 [05:51&lt;00:00, 14.04s/it]",
            "_view_count": null,
            "_view_module_version": "1.5.0",
            "description_tooltip": null,
            "_model_module": "@jupyter-widgets/controls",
            "layout": "IPY_MODEL_05f5cef303b945ac8d334c95c00a0209"
          }
        },
        "75e230c0ef76464fbacccda83d845200": {
          "model_module": "@jupyter-widgets/controls",
          "model_name": "ProgressStyleModel",
          "state": {
            "_view_name": "StyleView",
            "_model_name": "ProgressStyleModel",
            "description_width": "initial",
            "_view_module": "@jupyter-widgets/base",
            "_model_module_version": "1.5.0",
            "_view_count": null,
            "_view_module_version": "1.2.0",
            "bar_color": null,
            "_model_module": "@jupyter-widgets/controls"
          }
        },
        "f56f0812893f475fa7d2314e5707899a": {
          "model_module": "@jupyter-widgets/base",
          "model_name": "LayoutModel",
          "state": {
            "_view_name": "LayoutView",
            "grid_template_rows": null,
            "right": null,
            "justify_content": null,
            "_view_module": "@jupyter-widgets/base",
            "overflow": null,
            "_model_module_version": "1.2.0",
            "_view_count": null,
            "flex_flow": null,
            "width": null,
            "min_width": null,
            "border": null,
            "align_items": null,
            "bottom": null,
            "_model_module": "@jupyter-widgets/base",
            "top": null,
            "grid_column": null,
            "overflow_y": null,
            "overflow_x": null,
            "grid_auto_flow": null,
            "grid_area": null,
            "grid_template_columns": null,
            "flex": null,
            "_model_name": "LayoutModel",
            "justify_items": null,
            "grid_row": null,
            "max_height": null,
            "align_content": null,
            "visibility": null,
            "align_self": null,
            "height": null,
            "min_height": null,
            "padding": null,
            "grid_auto_rows": null,
            "grid_gap": null,
            "max_width": null,
            "order": null,
            "_view_module_version": "1.2.0",
            "grid_template_areas": null,
            "object_position": null,
            "object_fit": null,
            "grid_auto_columns": null,
            "margin": null,
            "display": null,
            "left": null
          }
        },
        "8d4c7050c06d4cd3906ceb026a38941b": {
          "model_module": "@jupyter-widgets/controls",
          "model_name": "DescriptionStyleModel",
          "state": {
            "_view_name": "StyleView",
            "_model_name": "DescriptionStyleModel",
            "description_width": "",
            "_view_module": "@jupyter-widgets/base",
            "_model_module_version": "1.5.0",
            "_view_count": null,
            "_view_module_version": "1.2.0",
            "_model_module": "@jupyter-widgets/controls"
          }
        },
        "05f5cef303b945ac8d334c95c00a0209": {
          "model_module": "@jupyter-widgets/base",
          "model_name": "LayoutModel",
          "state": {
            "_view_name": "LayoutView",
            "grid_template_rows": null,
            "right": null,
            "justify_content": null,
            "_view_module": "@jupyter-widgets/base",
            "overflow": null,
            "_model_module_version": "1.2.0",
            "_view_count": null,
            "flex_flow": null,
            "width": null,
            "min_width": null,
            "border": null,
            "align_items": null,
            "bottom": null,
            "_model_module": "@jupyter-widgets/base",
            "top": null,
            "grid_column": null,
            "overflow_y": null,
            "overflow_x": null,
            "grid_auto_flow": null,
            "grid_area": null,
            "grid_template_columns": null,
            "flex": null,
            "_model_name": "LayoutModel",
            "justify_items": null,
            "grid_row": null,
            "max_height": null,
            "align_content": null,
            "visibility": null,
            "align_self": null,
            "height": null,
            "min_height": null,
            "padding": null,
            "grid_auto_rows": null,
            "grid_gap": null,
            "max_width": null,
            "order": null,
            "_view_module_version": "1.2.0",
            "grid_template_areas": null,
            "object_position": null,
            "object_fit": null,
            "grid_auto_columns": null,
            "margin": null,
            "display": null,
            "left": null
          }
        }
      }
    }
  },
  "cells": [
    {
      "cell_type": "markdown",
      "metadata": {
        "id": "view-in-github",
        "colab_type": "text"
      },
      "source": [
        "<a href=\"https://colab.research.google.com/github/nahumsa/DM-Reconstruction/blob/master/Reconstruct%20DM.ipynb\" target=\"_parent\"><img src=\"https://colab.research.google.com/assets/colab-badge.svg\" alt=\"Open In Colab\"/></a>"
      ]
    },
    {
      "cell_type": "markdown",
      "metadata": {
        "id": "7iavbKiKltUC"
      },
      "source": [
        "# Reconstruction of a density matrix"
      ]
    },
    {
      "cell_type": "markdown",
      "metadata": {
        "id": "IyyOmdrhl0M6"
      },
      "source": [
        "### Import dependencies for Google Colab"
      ]
    },
    {
      "cell_type": "code",
      "metadata": {
        "id": "or1p7TPNljDn"
      },
      "source": [
        "from IPython.display import clear_output\n",
        "! git clone https://github.com/nahumsa/DM-Reconstruction\n",
        "clear_output()"
      ],
      "execution_count": 1,
      "outputs": []
    },
    {
      "cell_type": "code",
      "metadata": {
        "id": "krooM51-ls4K"
      },
      "source": [
        "% cd DM-Reconstruction/\n",
        "clear_output()"
      ],
      "execution_count": 2,
      "outputs": []
    },
    {
      "cell_type": "markdown",
      "metadata": {
        "id": "51n6qyGel7Cu"
      },
      "source": [
        "##Import Dependencies"
      ]
    },
    {
      "cell_type": "code",
      "metadata": {
        "id": "s6XbBlzomUE1"
      },
      "source": [
        "try:\n",
        "  %tensorflow_version 2.x\n",
        "\n",
        "except Exception:\n",
        "  pass\n",
        "  \n",
        "import tensorflow as tf\n",
        "\n",
        "#Set Random Seed for reproduction\n",
        "tf.random.set_seed(1234)\n",
        "\n",
        "# Remove warnings\n",
        "import logging\n",
        "logging.getLogger('tensorflow').disabled = True\n",
        "\n",
        "#Use this to not need to initialize tensors outside session\n",
        "tf.config.experimental_run_functions_eagerly(True)"
      ],
      "execution_count": 3,
      "outputs": []
    },
    {
      "cell_type": "code",
      "metadata": {
        "id": "BeM7wtQQxEJb"
      },
      "source": [
        "%load_ext autoreload\n",
        "%autoreload 2"
      ],
      "execution_count": 4,
      "outputs": []
    },
    {
      "cell_type": "code",
      "metadata": {
        "id": "11b8B7JbmhC0"
      },
      "source": [
        "%matplotlib inline\n",
        "import matplotlib.pyplot as plt\n",
        "import numpy as np\n",
        "import os\n",
        "from tqdm.notebook import tqdm"
      ],
      "execution_count": 5,
      "outputs": []
    },
    {
      "cell_type": "markdown",
      "metadata": {
        "id": "mPm1NbddH2kC"
      },
      "source": [
        "## Creating dataset"
      ]
    },
    {
      "cell_type": "code",
      "metadata": {
        "id": "0YDoN2YHP-EG"
      },
      "source": [
        "X_train = np.loadtxt('Data/Measurements/X_train.txt')\n",
        "X_test = np.loadtxt('Data/Measurements/X_test.txt')"
      ],
      "execution_count": null,
      "outputs": []
    },
    {
      "cell_type": "markdown",
      "metadata": {
        "id": "779vLn76r_nf"
      },
      "source": [
        "# Models"
      ]
    },
    {
      "cell_type": "markdown",
      "metadata": {
        "id": "46tzC7I695H7"
      },
      "source": [
        "## Using Trace distance as a loss function"
      ]
    },
    {
      "cell_type": "code",
      "metadata": {
        "id": "-V6Jjo0U_SZO"
      },
      "source": [
        "from Models.TVAE import TraceVAE\n",
        "\n",
        "ZDIM = 20\n",
        "input_dim = X_train.shape[1]\n",
        "hidden_dims = [64,128,256]\n",
        "batchsize = 32\n",
        "dropout_rate=0.3\n",
        "\n",
        "vae = TraceVAE(original_dim=input_dim,\n",
        "               intermediate_dim=hidden_dims,\n",
        "               latent_dim=ZDIM,\n",
        "               dropout_rate=dropout_rate)\n",
        "\n",
        "# Optimizer.\n",
        "optimizer = tf.keras.optimizers.Adam(learning_rate=1e-3)\n",
        "\n",
        "vae.compile(optimizer=optimizer)\n",
        "\n",
        "# Prepare a dataset.\n",
        "dataset = tf.data.Dataset.from_tensor_slices(X_train)\n",
        "dataset = dataset.shuffle(buffer_size=1024).batch(batchsize)\n",
        "val_dataset = tf.data.Dataset.from_tensor_slices(X_test)\n",
        "val_dataset = val_dataset.shuffle(buffer_size=1024).batch(batchsize)"
      ],
      "execution_count": null,
      "outputs": []
    },
    {
      "cell_type": "code",
      "metadata": {
        "id": "KTSxXl85zy2L",
        "outputId": "23c3589d-6d53-46eb-ddd4-956f3a444a4a",
        "colab": {
          "base_uri": "https://localhost:8080/",
          "height": 66,
          "referenced_widgets": [
            "03bf8fe0ce8f4fc2a492d9abde619070",
            "78c23cb29e27432db9da7aff46e7ba6d",
            "99f04b621bb04ce387b98fd4e392121a",
            "a169a5f266144868b744bd7527a2edf9",
            "0280d87888ae4d2b8299bdc47891a341",
            "b6e803033a4848269b397a4fc7f5ccfb",
            "84a84e38bca4496390ec73ce92eb44c2",
            "73e561d300ff47399bb67c2440de7bf5"
          ]
        }
      },
      "source": [
        "from Utils.Plotter import PeriodicPlotter\n",
        "\n",
        "r_loss = 10.\n",
        "beta = 1e-1\n",
        "epochs = 25\n",
        "\n",
        "# Periodic Plotter for loss\n",
        "plotter = PeriodicPlotter(sec=5, xlabel='Epochs', ylabel='Loss')\n",
        "\n",
        "loss_epochs, val_loss_epochs, fidelity_epochs, val_fidelity_epochs = vae.training(dataset, \n",
        "                                                                                  epochs, \n",
        "                                                                                  r_loss, \n",
        "                                                                                  beta,\n",
        "                                                                                  test=val_dataset, \n",
        "                                                                                  )#Plotter=plotter)"
      ],
      "execution_count": null,
      "outputs": [
        {
          "output_type": "display_data",
          "data": {
            "application/vnd.jupyter.widget-view+json": {
              "model_id": "03bf8fe0ce8f4fc2a492d9abde619070",
              "version_minor": 0,
              "version_major": 2
            },
            "text/plain": [
              "HBox(children=(FloatProgress(value=0.0, description='Epochs', max=25.0, style=ProgressStyle(description_width=…"
            ]
          },
          "metadata": {
            "tags": []
          }
        },
        {
          "output_type": "stream",
          "text": [
            "\n"
          ],
          "name": "stdout"
        }
      ]
    },
    {
      "cell_type": "code",
      "metadata": {
        "id": "FdX3pKPC6A-8",
        "outputId": "32b3615e-2c04-4002-8f89-1fe94f542399",
        "colab": {
          "base_uri": "https://localhost:8080/",
          "height": 337
        }
      },
      "source": [
        "epochs = range(len(loss_epochs))\n",
        "\n",
        "fig = plt.figure(figsize=(14,5))\n",
        "gs = fig.add_gridspec(1, 2)\n",
        "ax1 = fig.add_subplot(gs[0, 0])\n",
        "ax2 = fig.add_subplot(gs[0, 1])\n",
        "\n",
        "ax1.plot(epochs,loss_epochs, label='Training')\n",
        "ax1.plot(epochs,val_loss_epochs, label='Validation')\n",
        "ax1.set_xlabel('Epochs')\n",
        "ax1.set_ylabel('Loss')\n",
        "ax1.legend()\n",
        "ax2.plot(epochs,fidelity_epochs, label='Training')\n",
        "ax2.plot(epochs,val_fidelity_epochs, label='Validation')\n",
        "ax2.set_xlabel('Epochs')\n",
        "ax2.set_ylabel('Fidelity')\n",
        "ax2.legend()\n",
        "plt.show()"
      ],
      "execution_count": null,
      "outputs": [
        {
          "output_type": "display_data",
          "data": {
            "image/png": "[encoded data removed]",
            "text/plain": [
              "<Figure size 1008x360 with 2 Axes>"
            ]
          },
          "metadata": {
            "tags": [],
            "needs_background": "light"
          }
        }
      ]
    },
    {
      "cell_type": "code",
      "metadata": {
        "id": "LzIkoTBFQDd3"
      },
      "source": [
        "# Saving results\n",
        "save = False\n",
        "if save:\n",
        "  np.savetxt('Results/TVAE/TVAE_Fidelity.txt', fidelity_epochs)\n",
        "  np.savetxt('Results/TVAE/TVAE_Loss.txt', loss_epochs)\n",
        "  np.savetxt('Results/TVAE/val_TVAE_Fidelity.txt', val_fidelity_epochs)\n",
        "  np.savetxt('Results/TVAE/val_TVAE_Loss.txt', val_loss_epochs)"
      ],
      "execution_count": null,
      "outputs": []
    },
    {
      "cell_type": "markdown",
      "metadata": {
        "id": "lN6qbKS_FVt-"
      },
      "source": [
        "# Denoising measurements with error"
      ]
    },
    {
      "cell_type": "code",
      "metadata": {
        "id": "OaKSLr3KGQP7"
      },
      "source": [
        "from Models.TVAE import TraceVAE\n",
        "from Utils.QMetrics import trace_loss, fidelity_rho\n",
        "\n",
        "class Denoise(TraceVAE):\n",
        "  def __init__(self,\n",
        "               original_dim,\n",
        "               intermediate_dim,\n",
        "               latent_dim,               \n",
        "               dropout_rate,\n",
        "               **kwargs):    \n",
        "\n",
        "    super(Denoise, self).__init__(original_dim,\n",
        "                                   intermediate_dim,\n",
        "                                   latent_dim,\n",
        "                                   dropout_rate)\n",
        "      \n",
        "  def training_step(self, x, y, r_loss, beta):\n",
        "    \"\"\"Training step for the VAE.\n",
        "  \n",
        "    Parameters\n",
        "    -------------------------------------------\n",
        "    x: Data with noise\n",
        "    y: Data without noise\n",
        "    VAE(tf.keras.Model): Variational Autoencoder model. \n",
        "    optimizer(tf.keras.optimizer): Optimizer used.  \n",
        "    r_loss(float): Parameter controlling reconstruction loss.\n",
        "    beta(float): Parameter controlling the KL divergence.\n",
        "\n",
        "    Return:\n",
        "    Loss(float): Loss value of the training step.\n",
        "\n",
        "    \"\"\"\n",
        "    with tf.GradientTape() as tape:\n",
        "      reconstructed = self(x)  # Compute input reconstruction.\n",
        "      # Compute loss.      \n",
        "      loss = trace_loss(y, reconstructed)\n",
        "      kl = sum(self.losses)\n",
        "      loss = r_loss * loss + beta*kl  \n",
        "    \n",
        "    # Update the weights of the VAE.\n",
        "    grads = tape.gradient(loss, self.trainable_weights)\n",
        "    self.optimizer.apply_gradients(zip(grads, self.trainable_weights))    \n",
        "    \n",
        "    fid = fidelity_rho(y, reconstructed)\n",
        "\n",
        "    return loss, np.mean(fid)\n",
        "\n",
        "  def validating_step(self, x, y, r_loss, beta):\n",
        "    \"\"\"Validation step for the VAE.\n",
        "  \n",
        "    Parameters\n",
        "    -------------------------------------------\n",
        "    x: Data    \n",
        "    r_loss(float): Parameter controlling reconstruction loss.\n",
        "    beta(float): Parameter controlling the KL divergence.\n",
        "\n",
        "    Return:\n",
        "    Loss(float): Loss value of the training step.\n",
        "\n",
        "    \"\"\"\n",
        "\n",
        "    reconstructed = self(x)  # Compute input reconstruction.\n",
        "    # Compute loss.      \n",
        "    loss = trace_loss(y, reconstructed)\n",
        "    kl = sum(self.losses)\n",
        "    loss = r_loss * loss + beta*kl\n",
        "    fid = fidelity_rho(y, reconstructed)\n",
        "\n",
        "    return loss, np.mean(fid)\n",
        "\n",
        "  def training(self, dataset,\n",
        "             epochs, r_loss, beta,              \n",
        "             test=None, Plotter=None):\n",
        "    \"\"\" Training of the Variational Autoencoder for a \n",
        "    tensorflow.dataset.\n",
        "\n",
        "    Parameters\n",
        "    -------------------------------------------\n",
        "    dataset(tf.data.Dataset): Dataset of the data.\n",
        "    VAE(tf.keras.Model): Variational Autoencoder model.\n",
        "    epochs(int): Number of epochs.\n",
        "    r_loss(float): Parameter controlling reconstruction loss.\n",
        "    beta(float): Parameter controlling the KL divergence.  \n",
        "    Plotter(object): Plotter object to show how the training is\n",
        "                    going (Default=None).\n",
        "\n",
        "    \"\"\"\n",
        "\n",
        "    losses = []\n",
        "    val_losses = []   \n",
        "    fidelities = []\n",
        "    val_fidelities = [] \n",
        "    epochs = range(epochs)\n",
        "\n",
        "    for i in tqdm(epochs, desc='Epochs'):\n",
        "      losses_epochs = []\n",
        "      fidelity_epochs =[]\n",
        "      for step, (x, y) in enumerate(dataset):\n",
        "\n",
        "        loss, fidelity = self.training_step(x, y, r_loss, beta)\n",
        "  \n",
        "        # Logging.\n",
        "        losses_epochs.append(float(loss))\n",
        "        fidelity_epochs.append(float(fidelity))\n",
        "      \n",
        "      losses.append(np.mean(losses_epochs))\n",
        "      fidelities.append(np.mean(fidelity_epochs))\n",
        "\n",
        "      if test:\n",
        "        val_losses_epochs = []\n",
        "        val_fidelity_epochs = []\n",
        "\n",
        "        for step, (x, y) in enumerate(test):\n",
        "          val_loss, val_fidelity = self.validating_step(x, y, r_loss, beta)\n",
        "    \n",
        "          # Logging.\n",
        "          val_losses_epochs.append(float(val_loss))\n",
        "          val_fidelity_epochs.append(float(val_fidelity))\n",
        "        \n",
        "        val_losses.append(np.mean(val_losses_epochs))  \n",
        "        val_fidelities.append(np.mean(val_fidelity_epochs))\n",
        "      \n",
        "      if Plotter != None:\n",
        "        if test:\n",
        "          Plotter.plot([losses,val_losses])\n",
        "        else:\n",
        "          Plotter.plot(losses)\n",
        "        \n",
        "\n",
        "    return losses, val_losses, fidelities, val_fidelities"
      ],
      "execution_count": 6,
      "outputs": []
    },
    {
      "cell_type": "markdown",
      "metadata": {
        "id": "3KNjTWJN6sMJ"
      },
      "source": [
        "## $\\frac{\\pi}{6}$"
      ]
    },
    {
      "cell_type": "code",
      "metadata": {
        "id": "REHhE6tqgyTg"
      },
      "source": [
        "X_train = np.loadtxt('Data/Measurements_pi6/X_train.txt')\n",
        "Y_train = np.loadtxt('Data/Measurements_pi6/Y_train.txt')\n",
        "X_test = np.loadtxt('Data/Measurements_pi6/X_test.txt')\n",
        "Y_test = np.loadtxt('Data/Measurements_pi6/Y_test.txt')"
      ],
      "execution_count": null,
      "outputs": []
    },
    {
      "cell_type": "code",
      "metadata": {
        "id": "Zd2y3694_ryj"
      },
      "source": [
        "ZDIM = 20\n",
        "input_dim = X_train.shape[1]\n",
        "hidden_dims = [64,128,256]\n",
        "batchsize = 32\n",
        "dropout_rate=0.3\n",
        "\n",
        "denoise = Denoise(original_dim=input_dim,\n",
        "                   intermediate_dim=hidden_dims,\n",
        "                   latent_dim=ZDIM,\n",
        "                   dropout_rate=dropout_rate)\n",
        "\n",
        "# Optimizer.\n",
        "optimizer = tf.keras.optimizers.Adam(learning_rate=1e-3)\n",
        "\n",
        "denoise.compile(optimizer=optimizer)"
      ],
      "execution_count": null,
      "outputs": []
    },
    {
      "cell_type": "code",
      "metadata": {
        "id": "jxpej_YvAi_g"
      },
      "source": [
        "# Prepare a dataset.\n",
        "dataset = tf.data.Dataset.from_tensor_slices((X_train,Y_train))\n",
        "dataset = dataset.shuffle(buffer_size=1024).batch(batchsize)\n",
        "val_dataset = tf.data.Dataset.from_tensor_slices((X_test,Y_test))\n",
        "val_dataset = val_dataset.shuffle(buffer_size=1024).batch(batchsize)"
      ],
      "execution_count": null,
      "outputs": []
    },
    {
      "cell_type": "code",
      "metadata": {
        "id": "-FyXgTU1RWLw",
        "outputId": "b9af8eb5-792f-42ba-b0a6-968c0fa15674",
        "colab": {
          "base_uri": "https://localhost:8080/",
          "height": 66,
          "referenced_widgets": [
            "d1ee9583dec442a0bcf97ae3276d2b81",
            "965d9faebf1b4a68816720e969751197",
            "177971c603a34122bd853bb0fa4aada1",
            "46e8f9fb5a8a4beab031eb46c0966b57",
            "b1a80fb5f8f44938b8e9c3ac0a6cf978",
            "f1856b471d844d0d9dbe83e9d44d6be6",
            "3edf19b19e67455784b3ba39aaf32658",
            "f435ba3452874110a7095e1b47edd342"
          ]
        }
      },
      "source": [
        "from Utils.Plotter import PeriodicPlotter\n",
        "\n",
        "r_loss = 10.\n",
        "beta = 1e-1\n",
        "epochs = 25\n",
        "\n",
        "# Periodic Plotter for loss\n",
        "plotter = PeriodicPlotter(sec=5, xlabel='Epochs', ylabel='Loss')\n",
        "\n",
        "loss_epochs, val_loss_epochs, fidelity_epochs, val_fidelity_epochs = denoise.training(dataset, \n",
        "                                                                                      epochs, \n",
        "                                                                                      r_loss, \n",
        "                                                                                      beta,                                                                                       \n",
        "                                                                                      test=val_dataset,\n",
        "                                                                                      )#Plotter=plotter )"
      ],
      "execution_count": null,
      "outputs": [
        {
          "output_type": "display_data",
          "data": {
            "application/vnd.jupyter.widget-view+json": {
              "model_id": "d1ee9583dec442a0bcf97ae3276d2b81",
              "version_minor": 0,
              "version_major": 2
            },
            "text/plain": [
              "HBox(children=(FloatProgress(value=0.0, description='Epochs', max=25.0, style=ProgressStyle(description_width=…"
            ]
          },
          "metadata": {
            "tags": []
          }
        },
        {
          "output_type": "stream",
          "text": [
            "\n"
          ],
          "name": "stdout"
        }
      ]
    },
    {
      "cell_type": "code",
      "metadata": {
        "id": "UqjQB4VVrGnl",
        "outputId": "93a4badf-84ea-4028-fc8d-99f22f0f926f",
        "colab": {
          "base_uri": "https://localhost:8080/",
          "height": 336
        }
      },
      "source": [
        "epochs = range(len(loss_epochs))\n",
        "\n",
        "fig = plt.figure(figsize=(14,5))\n",
        "gs = fig.add_gridspec(1, 2)\n",
        "ax1 = fig.add_subplot(gs[0, 0])\n",
        "ax2 = fig.add_subplot(gs[0, 1])\n",
        "\n",
        "ax1.plot(epochs,loss_epochs, label='Training')\n",
        "ax1.plot(epochs,val_loss_epochs, label='Validation')\n",
        "ax1.set_xlabel('Epochs')\n",
        "ax1.set_ylabel('Loss')\n",
        "ax1.legend()\n",
        "ax2.plot(epochs,fidelity_epochs, label='Training')\n",
        "ax2.plot(epochs,val_fidelity_epochs, label='Validation')\n",
        "ax2.set_xlabel('Epochs')\n",
        "ax2.set_ylabel('Fidelity')\n",
        "ax2.legend()\n",
        "plt.show()"
      ],
      "execution_count": null,
      "outputs": [
        {
          "output_type": "display_data",
          "data": {
            "image/png": "[encoded data removed]",
            "text/plain": [
              "<Figure size 1008x360 with 2 Axes>"
            ]
          },
          "metadata": {
            "tags": [],
            "needs_background": "light"
          }
        }
      ]
    },
    {
      "cell_type": "code",
      "metadata": {
        "id": "QyRYbqkq8HNC"
      },
      "source": [
        "# Saving results\n",
        "save = False\n",
        "if save:\n",
        "  np.savetxt('Results/Error/TVAE_pi6/TVAE_Fidelity.txt', fidelity_epochs)\n",
        "  np.savetxt('Results/Error/TVAE_pi6/TVAE_Loss.txt', loss_epochs)\n",
        "  np.savetxt('Results/Error/TVAE_pi6/val_TVAE_Fidelity.txt', val_fidelity_epochs)\n",
        "  np.savetxt('Results/Error/TVAE_pi6/val_TVAE_Loss.txt', val_loss_epochs)"
      ],
      "execution_count": null,
      "outputs": []
    },
    {
      "cell_type": "markdown",
      "metadata": {
        "id": "jWILRKCcT9sm"
      },
      "source": [
        "## $\\frac{\\pi}{4}$"
      ]
    },
    {
      "cell_type": "code",
      "metadata": {
        "id": "KCHFKkxsT9sz"
      },
      "source": [
        "X_train = np.loadtxt('Data/Measurements_pi4/X_train.txt')\n",
        "Y_train = np.loadtxt('Data/Measurements_pi4/Y_train.txt')\n",
        "X_test =  np.loadtxt('Data/Measurements_pi4/X_test.txt')\n",
        "Y_test =  np.loadtxt('Data/Measurements_pi4/Y_test.txt')"
      ],
      "execution_count": 7,
      "outputs": []
    },
    {
      "cell_type": "code",
      "metadata": {
        "id": "CzAYp_I-T9s8"
      },
      "source": [
        "ZDIM = 20\n",
        "input_dim = X_train.shape[1]\n",
        "hidden_dims = [64,128,256]\n",
        "batchsize = 32\n",
        "dropout_rate=0.3\n",
        "\n",
        "denoise = Denoise(original_dim=input_dim,\n",
        "                   intermediate_dim=hidden_dims,\n",
        "                   latent_dim=ZDIM,\n",
        "                   dropout_rate=dropout_rate)\n",
        "\n",
        "# Optimizer.\n",
        "optimizer = tf.keras.optimizers.Adam(learning_rate=1e-3)\n",
        "\n",
        "denoise.compile(optimizer=optimizer)"
      ],
      "execution_count": 8,
      "outputs": []
    },
    {
      "cell_type": "code",
      "metadata": {
        "id": "BbBt3BquT9tA"
      },
      "source": [
        "# Prepare a dataset.\n",
        "dataset = tf.data.Dataset.from_tensor_slices((X_train,Y_train))\n",
        "dataset = dataset.shuffle(buffer_size=1024).batch(batchsize)\n",
        "val_dataset = tf.data.Dataset.from_tensor_slices((X_test,Y_test))\n",
        "val_dataset = val_dataset.shuffle(buffer_size=1024).batch(batchsize)"
      ],
      "execution_count": 9,
      "outputs": []
    },
    {
      "cell_type": "code",
      "metadata": {
        "id": "Uj494VPcT9tF",
        "outputId": "b08abbfa-267b-4817-b2fa-b34eba4630f1",
        "colab": {
          "base_uri": "https://localhost:8080/",
          "height": 66,
          "referenced_widgets": [
            "8c35b3f9d30344a5a7bb36ef6f985554",
            "df2f0523724741fb98113c4b06acd55f",
            "b1de581498764d67a3c04e596f0a123a",
            "b19199d2fe9847ea9f37432181ea1751",
            "d8bfd658a8b349579b8c8847bb56f952",
            "10c1918e64d54d01a7ed2234a085c1e0",
            "d224febcdbab4c0994833bde34f84590",
            "774fb3bc3e614b61bddfd3aaedcb632e"
          ]
        }
      },
      "source": [
        "from Utils.Plotter import PeriodicPlotter\n",
        "\n",
        "r_loss = 10.\n",
        "beta = 1e-1\n",
        "epochs = 25\n",
        "\n",
        "# Periodic Plotter for loss\n",
        "plotter = PeriodicPlotter(sec=5, xlabel='Epochs', ylabel='Loss')\n",
        "\n",
        "loss_epochs, val_loss_epochs, fidelity_epochs, val_fidelity_epochs = denoise.training(dataset, \n",
        "                                                                                      epochs, \n",
        "                                                                                      r_loss, \n",
        "                                                                                      beta,                                                                                       \n",
        "                                                                                      test=val_dataset,\n",
        "                                                                                      )#Plotter=plotter )"
      ],
      "execution_count": 10,
      "outputs": [
        {
          "output_type": "display_data",
          "data": {
            "application/vnd.jupyter.widget-view+json": {
              "model_id": "8c35b3f9d30344a5a7bb36ef6f985554",
              "version_minor": 0,
              "version_major": 2
            },
            "text/plain": [
              "HBox(children=(FloatProgress(value=0.0, description='Epochs', max=25.0, style=ProgressStyle(description_width=…"
            ]
          },
          "metadata": {
            "tags": []
          }
        },
        {
          "output_type": "stream",
          "text": [
            "\n"
          ],
          "name": "stdout"
        }
      ]
    },
    {
      "cell_type": "code",
      "metadata": {
        "id": "GfWUalT6T9tL",
        "outputId": "d35a1872-f9d7-4b83-a78c-8af3cba0cf67",
        "colab": {
          "base_uri": "https://localhost:8080/",
          "height": 334
        }
      },
      "source": [
        "epochs = range(len(loss_epochs))\n",
        "\n",
        "fig = plt.figure(figsize=(14,5))\n",
        "gs = fig.add_gridspec(1, 2)\n",
        "ax1 = fig.add_subplot(gs[0, 0])\n",
        "ax2 = fig.add_subplot(gs[0, 1])\n",
        "\n",
        "ax1.plot(epochs,loss_epochs, label='Training')\n",
        "ax1.plot(epochs,val_loss_epochs, label='Validation')\n",
        "ax1.set_xlabel('Epochs')\n",
        "ax1.set_ylabel('Loss')\n",
        "ax1.legend()\n",
        "ax2.plot(epochs,fidelity_epochs, label='Training')\n",
        "ax2.plot(epochs,val_fidelity_epochs, label='Validation')\n",
        "ax2.set_xlabel('Epochs')\n",
        "ax2.set_ylabel('Fidelity')\n",
        "ax2.legend()\n",
        "plt.show()"
      ],
      "execution_count": 11,
      "outputs": [
        {
          "output_type": "display_data",
          "data": {
            "image/png": "[encoded data removed]",
            "text/plain": [
              "<Figure size 1008x360 with 2 Axes>"
            ]
          },
          "metadata": {
            "tags": [],
            "needs_background": "light"
          }
        }
      ]
    },
    {
      "cell_type": "code",
      "metadata": {
        "id": "quR-IxYBT9tP"
      },
      "source": [
        "# Saving results\n",
        "save = False\n",
        "if save:\n",
        "  np.savetxt('Results/Error/TVAE_pi4/TVAE_Fidelity.txt', fidelity_epochs)\n",
        "  np.savetxt('Results/Error/TVAE_pi4/TVAE_Loss.txt', loss_epochs)\n",
        "  np.savetxt('Results/Error/TVAE_pi4/val_TVAE_Fidelity.txt', val_fidelity_epochs)\n",
        "  np.savetxt('Results/Error/TVAE_pi4/val_TVAE_Loss.txt', val_loss_epochs)"
      ],
      "execution_count": 12,
      "outputs": []
    },
    {
      "cell_type": "markdown",
      "metadata": {
        "id": "Z0OEsqAxUUtB"
      },
      "source": [
        "## $\\frac{\\pi}{2}$"
      ]
    },
    {
      "cell_type": "code",
      "metadata": {
        "id": "9fLKOVzPUUtP"
      },
      "source": [
        "X_train = np.loadtxt('Data/Measurements_pi2/X_train.txt')\n",
        "Y_train = np.loadtxt('Data/Measurements_pi2/Y_train.txt')\n",
        "X_test =  np.loadtxt('Data/Measurements_pi2/X_test.txt')\n",
        "Y_test =  np.loadtxt('Data/Measurements_pi2/Y_test.txt')"
      ],
      "execution_count": 13,
      "outputs": []
    },
    {
      "cell_type": "code",
      "metadata": {
        "id": "Pt8XzclGUUta"
      },
      "source": [
        "ZDIM = 20\n",
        "input_dim = X_train.shape[1]\n",
        "hidden_dims = [64,128,256]\n",
        "batchsize = 32\n",
        "dropout_rate=0.3\n",
        "\n",
        "denoise = Denoise(original_dim=input_dim,\n",
        "                   intermediate_dim=hidden_dims,\n",
        "                   latent_dim=ZDIM,\n",
        "                   dropout_rate=dropout_rate)\n",
        "\n",
        "# Optimizer.\n",
        "optimizer = tf.keras.optimizers.Adam(learning_rate=1e-3)\n",
        "\n",
        "denoise.compile(optimizer=optimizer)"
      ],
      "execution_count": 18,
      "outputs": []
    },
    {
      "cell_type": "code",
      "metadata": {
        "id": "aJnfmJNlUUth"
      },
      "source": [
        "# Prepare a dataset.\n",
        "dataset = tf.data.Dataset.from_tensor_slices((X_train,Y_train))\n",
        "dataset = dataset.shuffle(buffer_size=1024).batch(batchsize)\n",
        "val_dataset = tf.data.Dataset.from_tensor_slices((X_test,Y_test))\n",
        "val_dataset = val_dataset.shuffle(buffer_size=1024).batch(batchsize)"
      ],
      "execution_count": 19,
      "outputs": []
    },
    {
      "cell_type": "code",
      "metadata": {
        "id": "bh1d7Sh9UUtn",
        "outputId": "e2d66565-28f1-40f2-a06e-3042b2af21a2",
        "colab": {
          "base_uri": "https://localhost:8080/",
          "height": 66,
          "referenced_widgets": [
            "6c19b752019843d88192d2221aa75279",
            "3ff21f18479a4ad9993076d60494783a",
            "4df5777638a541a1a9983d661831e229",
            "5175a27d99ee400280e5f8c2cde87ffc",
            "e2b9fc6f5938407eb35a89af17bdcfc1",
            "35370faa87cb4d15b070dc677e20645c",
            "18c7507c082d4167ab1f6ff38fdc6649",
            "8ab2b5f55e264717bf6a7f60afaaa7fb"
          ]
        }
      },
      "source": [
        "from Utils.Plotter import PeriodicPlotter\n",
        "\n",
        "r_loss = 10.\n",
        "beta = 1e-1\n",
        "epochs = 30\n",
        "\n",
        "# Periodic Plotter for loss\n",
        "plotter = PeriodicPlotter(sec=5, xlabel='Epochs', ylabel='Loss')\n",
        "\n",
        "loss_epochs, val_loss_epochs, fidelity_epochs, val_fidelity_epochs = denoise.training(dataset, \n",
        "                                                                                      epochs, \n",
        "                                                                                      r_loss, \n",
        "                                                                                      beta,                                                                                       \n",
        "                                                                                      test=val_dataset,\n",
        "                                                                                      )#Plotter=plotter )"
      ],
      "execution_count": 20,
      "outputs": [
        {
          "output_type": "display_data",
          "data": {
            "application/vnd.jupyter.widget-view+json": {
              "model_id": "6c19b752019843d88192d2221aa75279",
              "version_minor": 0,
              "version_major": 2
            },
            "text/plain": [
              "HBox(children=(FloatProgress(value=0.0, description='Epochs', max=30.0, style=ProgressStyle(description_width=…"
            ]
          },
          "metadata": {
            "tags": []
          }
        },
        {
          "output_type": "stream",
          "text": [
            "\n"
          ],
          "name": "stdout"
        }
      ]
    },
    {
      "cell_type": "code",
      "metadata": {
        "id": "8mapAxDVUUtw",
        "outputId": "da4509d3-82c9-4973-b4fb-bf26a439a737",
        "colab": {
          "base_uri": "https://localhost:8080/",
          "height": 334
        }
      },
      "source": [
        "epochs = range(len(loss_epochs))\n",
        "\n",
        "fig = plt.figure(figsize=(14,5))\n",
        "gs = fig.add_gridspec(1, 2)\n",
        "ax1 = fig.add_subplot(gs[0, 0])\n",
        "ax2 = fig.add_subplot(gs[0, 1])\n",
        "\n",
        "ax1.plot(epochs,loss_epochs, label='Training')\n",
        "ax1.plot(epochs,val_loss_epochs, label='Validation')\n",
        "ax1.set_xlabel('Epochs')\n",
        "ax1.set_ylabel('Loss')\n",
        "ax1.legend()\n",
        "ax2.plot(epochs,fidelity_epochs, label='Training')\n",
        "ax2.plot(epochs,val_fidelity_epochs, label='Validation')\n",
        "ax2.set_xlabel('Epochs')\n",
        "ax2.set_ylabel('Fidelity')\n",
        "ax2.legend()\n",
        "plt.show()"
      ],
      "execution_count": 21,
      "outputs": [
        {
          "output_type": "display_data",
          "data": {
            "image/png": "[encoded data removed]",
            "text/plain": [
              "<Figure size 1008x360 with 2 Axes>"
            ]
          },
          "metadata": {
            "tags": [],
            "needs_background": "light"
          }
        }
      ]
    },
    {
      "cell_type": "code",
      "metadata": {
        "id": "hfaee0HDUUt3"
      },
      "source": [
        "# Saving results\n",
        "save = False\n",
        "if save:\n",
        "  np.savetxt('Results/Error/TVAE_pi2/TVAE_Fidelity.txt', fidelity_epochs)\n",
        "  np.savetxt('Results/Error/TVAE_pi2/TVAE_Loss.txt', loss_epochs)\n",
        "  np.savetxt('Results/Error/TVAE_pi2/val_TVAE_Fidelity.txt', val_fidelity_epochs)\n",
        "  np.savetxt('Results/Error/TVAE_pi2/val_TVAE_Loss.txt', val_loss_epochs)"
      ],
      "execution_count": 22,
      "outputs": []
    },
    {
      "cell_type": "markdown",
      "metadata": {
        "id": "B71HYS0ZUbUs"
      },
      "source": [
        "## $\\pi$"
      ]
    },
    {
      "cell_type": "code",
      "metadata": {
        "id": "WZ41E6SQUbUu"
      },
      "source": [
        "X_train = np.loadtxt('Data/Measurements_pi/X_train.txt')\n",
        "Y_train = np.loadtxt('Data/Measurements_pi/Y_train.txt')\n",
        "X_test =  np.loadtxt('Data/Measurements_pi/X_test.txt')\n",
        "Y_test =  np.loadtxt('Data/Measurements_pi/Y_test.txt')"
      ],
      "execution_count": 23,
      "outputs": []
    },
    {
      "cell_type": "code",
      "metadata": {
        "id": "xEQ0IfmKUbUy"
      },
      "source": [
        "ZDIM = 20\n",
        "input_dim = X_train.shape[1]\n",
        "hidden_dims = [64,128,256]\n",
        "batchsize = 32\n",
        "dropout_rate=0.3\n",
        "\n",
        "denoise = Denoise(original_dim=input_dim,\n",
        "                   intermediate_dim=hidden_dims,\n",
        "                   latent_dim=ZDIM,\n",
        "                   dropout_rate=dropout_rate)\n",
        "\n",
        "# Optimizer.\n",
        "optimizer = tf.keras.optimizers.Adam(learning_rate=1e-3)\n",
        "\n",
        "denoise.compile(optimizer=optimizer)"
      ],
      "execution_count": 24,
      "outputs": []
    },
    {
      "cell_type": "code",
      "metadata": {
        "id": "PR3ja5muUbU2"
      },
      "source": [
        "# Prepare a dataset.\n",
        "dataset = tf.data.Dataset.from_tensor_slices((X_train,Y_train))\n",
        "dataset = dataset.shuffle(buffer_size=1024).batch(batchsize)\n",
        "val_dataset = tf.data.Dataset.from_tensor_slices((X_test,Y_test))\n",
        "val_dataset = val_dataset.shuffle(buffer_size=1024).batch(batchsize)"
      ],
      "execution_count": 25,
      "outputs": []
    },
    {
      "cell_type": "code",
      "metadata": {
        "id": "qy4M6N0AUbU8",
        "outputId": "10865afb-b41f-43e0-ef04-8ed153da3cc2",
        "colab": {
          "base_uri": "https://localhost:8080/",
          "height": 66,
          "referenced_widgets": [
            "20ab49eb767046a5bc40d80aaea06c85",
            "6730188d23bc49e7a8cc26a36ed220a0",
            "6e644535786a43108a6787f8ce457b56",
            "c25a59ce1cce409fb05b15e27ff5f667",
            "75e230c0ef76464fbacccda83d845200",
            "f56f0812893f475fa7d2314e5707899a",
            "8d4c7050c06d4cd3906ceb026a38941b",
            "05f5cef303b945ac8d334c95c00a0209"
          ]
        }
      },
      "source": [
        "from Utils.Plotter import PeriodicPlotter\n",
        "\n",
        "r_loss = 10.\n",
        "beta = 1e-1\n",
        "epochs = 25\n",
        "\n",
        "# Periodic Plotter for loss\n",
        "plotter = PeriodicPlotter(sec=5, xlabel='Epochs', ylabel='Loss')\n",
        "\n",
        "loss_epochs, val_loss_epochs, fidelity_epochs, val_fidelity_epochs = denoise.training(dataset, \n",
        "                                                                                      epochs, \n",
        "                                                                                      r_loss, \n",
        "                                                                                      beta,                                                                                       \n",
        "                                                                                      test=val_dataset,\n",
        "                                                                                      )#Plotter=plotter )"
      ],
      "execution_count": 26,
      "outputs": [
        {
          "output_type": "display_data",
          "data": {
            "application/vnd.jupyter.widget-view+json": {
              "model_id": "20ab49eb767046a5bc40d80aaea06c85",
              "version_minor": 0,
              "version_major": 2
            },
            "text/plain": [
              "HBox(children=(FloatProgress(value=0.0, description='Epochs', max=25.0, style=ProgressStyle(description_width=…"
            ]
          },
          "metadata": {
            "tags": []
          }
        },
        {
          "output_type": "stream",
          "text": [
            "\n"
          ],
          "name": "stdout"
        }
      ]
    },
    {
      "cell_type": "code",
      "metadata": {
        "id": "fiLQiO3DUbVE",
        "outputId": "f2171a71-5cd4-470c-8e95-7442526dd3df",
        "colab": {
          "base_uri": "https://localhost:8080/",
          "height": 337
        }
      },
      "source": [
        "epochs = range(len(loss_epochs))\n",
        "\n",
        "fig = plt.figure(figsize=(14,5))\n",
        "gs = fig.add_gridspec(1, 2)\n",
        "ax1 = fig.add_subplot(gs[0, 0])\n",
        "ax2 = fig.add_subplot(gs[0, 1])\n",
        "\n",
        "ax1.plot(epochs,loss_epochs, label='Training')\n",
        "ax1.plot(epochs,val_loss_epochs, label='Validation')\n",
        "ax1.set_xlabel('Epochs')\n",
        "ax1.set_ylabel('Loss')\n",
        "ax1.legend()\n",
        "ax2.plot(epochs,fidelity_epochs, label='Training')\n",
        "ax2.plot(epochs,val_fidelity_epochs, label='Validation')\n",
        "ax2.set_xlabel('Epochs')\n",
        "ax2.set_ylabel('Fidelity')\n",
        "ax2.legend()\n",
        "plt.show()"
      ],
      "execution_count": 27,
      "outputs": [
        {
          "output_type": "display_data",
          "data": {
            "image/png": "[encoded data removed]",
            "text/plain": [
              "<Figure size 1008x360 with 2 Axes>"
            ]
          },
          "metadata": {
            "tags": [],
            "needs_background": "light"
          }
        }
      ]
    },
    {
      "cell_type": "code",
      "metadata": {
        "id": "fXR3fYXQUbVI"
      },
      "source": [
        "# Saving results\n",
        "save = False\n",
        "if save:\n",
        "  np.savetxt('Results/Error/TVAE_pi/TVAE_Fidelity.txt', fidelity_epochs)\n",
        "  np.savetxt('Results/Error/TVAE_pi/TVAE_Loss.txt', loss_epochs)\n",
        "  np.savetxt('Results/Error/TVAE_pi/val_TVAE_Fidelity.txt', val_fidelity_epochs)\n",
        "  np.savetxt('Results/Error/TVAE_pi/val_TVAE_Loss.txt', val_loss_epochs)"
      ],
      "execution_count": 28,
      "outputs": []
    }
  ]
}