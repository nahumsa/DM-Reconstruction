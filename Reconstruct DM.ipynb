{
  "nbformat": 4,
  "nbformat_minor": 0,
  "metadata": {
    "colab": {
      "name": "Reconstruct DM.ipynb",
      "provenance": [],
      "collapsed_sections": [],
      "authorship_tag": "ABX9TyOT7MV2FuVMcx4DkcS6pwxz",
      "include_colab_link": true
    },
    "kernelspec": {
      "name": "python3",
      "display_name": "Python 3"
    },
    "widgets": {
      "application/vnd.jupyter.widget-state+json": {
        "396e632df0c046c5ac347120bc1abcf6": {
          "model_module": "@jupyter-widgets/controls",
          "model_name": "HBoxModel",
          "state": {
            "_view_name": "HBoxView",
            "_dom_classes": [],
            "_model_name": "HBoxModel",
            "_view_module": "@jupyter-widgets/controls",
            "_model_module_version": "1.5.0",
            "_view_count": null,
            "_view_module_version": "1.5.0",
            "box_style": "",
            "layout": "IPY_MODEL_594717e324a2493daf0a8b754f54be14",
            "_model_module": "@jupyter-widgets/controls",
            "children": [
              "IPY_MODEL_71ed52a9cd6445f7877ad5cb1e289b1d",
              "IPY_MODEL_27aea22012674326b8ada8f1be9012e5"
            ]
          }
        },
        "594717e324a2493daf0a8b754f54be14": {
          "model_module": "@jupyter-widgets/base",
          "model_name": "LayoutModel",
          "state": {
            "_view_name": "LayoutView",
            "grid_template_rows": null,
            "right": null,
            "justify_content": null,
            "_view_module": "@jupyter-widgets/base",
            "overflow": null,
            "_model_module_version": "1.2.0",
            "_view_count": null,
            "flex_flow": null,
            "width": null,
            "min_width": null,
            "border": null,
            "align_items": null,
            "bottom": null,
            "_model_module": "@jupyter-widgets/base",
            "top": null,
            "grid_column": null,
            "overflow_y": null,
            "overflow_x": null,
            "grid_auto_flow": null,
            "grid_area": null,
            "grid_template_columns": null,
            "flex": null,
            "_model_name": "LayoutModel",
            "justify_items": null,
            "grid_row": null,
            "max_height": null,
            "align_content": null,
            "visibility": null,
            "align_self": null,
            "height": null,
            "min_height": null,
            "padding": null,
            "grid_auto_rows": null,
            "grid_gap": null,
            "max_width": null,
            "order": null,
            "_view_module_version": "1.2.0",
            "grid_template_areas": null,
            "object_position": null,
            "object_fit": null,
            "grid_auto_columns": null,
            "margin": null,
            "display": null,
            "left": null
          }
        },
        "71ed52a9cd6445f7877ad5cb1e289b1d": {
          "model_module": "@jupyter-widgets/controls",
          "model_name": "IntProgressModel",
          "state": {
            "_view_name": "ProgressView",
            "style": "IPY_MODEL_7f220ef7d45d4c139665fbf2f0fe0db0",
            "_dom_classes": [],
            "description": "Epochs: 100%",
            "_model_name": "IntProgressModel",
            "bar_style": "success",
            "max": 2,
            "_view_module": "@jupyter-widgets/controls",
            "_model_module_version": "1.5.0",
            "value": 2,
            "_view_count": null,
            "_view_module_version": "1.5.0",
            "orientation": "horizontal",
            "min": 0,
            "description_tooltip": null,
            "_model_module": "@jupyter-widgets/controls",
            "layout": "IPY_MODEL_be03ceed98ef4ca7a0274e49545abcbe"
          }
        },
        "27aea22012674326b8ada8f1be9012e5": {
          "model_module": "@jupyter-widgets/controls",
          "model_name": "HTMLModel",
          "state": {
            "_view_name": "HTMLView",
            "style": "IPY_MODEL_4c5cfc59701543ee890bf6a8ef3eca1e",
            "_dom_classes": [],
            "description": "",
            "_model_name": "HTMLModel",
            "placeholder": "​",
            "_view_module": "@jupyter-widgets/controls",
            "_model_module_version": "1.5.0",
            "value": " 2/2 [00:12&lt;00:00,  6.33s/it]",
            "_view_count": null,
            "_view_module_version": "1.5.0",
            "description_tooltip": null,
            "_model_module": "@jupyter-widgets/controls",
            "layout": "IPY_MODEL_caff03b95aa14e239f2052442c20d0cb"
          }
        },
        "7f220ef7d45d4c139665fbf2f0fe0db0": {
          "model_module": "@jupyter-widgets/controls",
          "model_name": "ProgressStyleModel",
          "state": {
            "_view_name": "StyleView",
            "_model_name": "ProgressStyleModel",
            "description_width": "initial",
            "_view_module": "@jupyter-widgets/base",
            "_model_module_version": "1.5.0",
            "_view_count": null,
            "_view_module_version": "1.2.0",
            "bar_color": null,
            "_model_module": "@jupyter-widgets/controls"
          }
        },
        "be03ceed98ef4ca7a0274e49545abcbe": {
          "model_module": "@jupyter-widgets/base",
          "model_name": "LayoutModel",
          "state": {
            "_view_name": "LayoutView",
            "grid_template_rows": null,
            "right": null,
            "justify_content": null,
            "_view_module": "@jupyter-widgets/base",
            "overflow": null,
            "_model_module_version": "1.2.0",
            "_view_count": null,
            "flex_flow": null,
            "width": null,
            "min_width": null,
            "border": null,
            "align_items": null,
            "bottom": null,
            "_model_module": "@jupyter-widgets/base",
            "top": null,
            "grid_column": null,
            "overflow_y": null,
            "overflow_x": null,
            "grid_auto_flow": null,
            "grid_area": null,
            "grid_template_columns": null,
            "flex": null,
            "_model_name": "LayoutModel",
            "justify_items": null,
            "grid_row": null,
            "max_height": null,
            "align_content": null,
            "visibility": null,
            "align_self": null,
            "height": null,
            "min_height": null,
            "padding": null,
            "grid_auto_rows": null,
            "grid_gap": null,
            "max_width": null,
            "order": null,
            "_view_module_version": "1.2.0",
            "grid_template_areas": null,
            "object_position": null,
            "object_fit": null,
            "grid_auto_columns": null,
            "margin": null,
            "display": null,
            "left": null
          }
        },
        "4c5cfc59701543ee890bf6a8ef3eca1e": {
          "model_module": "@jupyter-widgets/controls",
          "model_name": "DescriptionStyleModel",
          "state": {
            "_view_name": "StyleView",
            "_model_name": "DescriptionStyleModel",
            "description_width": "",
            "_view_module": "@jupyter-widgets/base",
            "_model_module_version": "1.5.0",
            "_view_count": null,
            "_view_module_version": "1.2.0",
            "_model_module": "@jupyter-widgets/controls"
          }
        },
        "caff03b95aa14e239f2052442c20d0cb": {
          "model_module": "@jupyter-widgets/base",
          "model_name": "LayoutModel",
          "state": {
            "_view_name": "LayoutView",
            "grid_template_rows": null,
            "right": null,
            "justify_content": null,
            "_view_module": "@jupyter-widgets/base",
            "overflow": null,
            "_model_module_version": "1.2.0",
            "_view_count": null,
            "flex_flow": null,
            "width": null,
            "min_width": null,
            "border": null,
            "align_items": null,
            "bottom": null,
            "_model_module": "@jupyter-widgets/base",
            "top": null,
            "grid_column": null,
            "overflow_y": null,
            "overflow_x": null,
            "grid_auto_flow": null,
            "grid_area": null,
            "grid_template_columns": null,
            "flex": null,
            "_model_name": "LayoutModel",
            "justify_items": null,
            "grid_row": null,
            "max_height": null,
            "align_content": null,
            "visibility": null,
            "align_self": null,
            "height": null,
            "min_height": null,
            "padding": null,
            "grid_auto_rows": null,
            "grid_gap": null,
            "max_width": null,
            "order": null,
            "_view_module_version": "1.2.0",
            "grid_template_areas": null,
            "object_position": null,
            "object_fit": null,
            "grid_auto_columns": null,
            "margin": null,
            "display": null,
            "left": null
          }
        },
        "041b4d4b98274f36afc7fff83a942eb6": {
          "model_module": "@jupyter-widgets/controls",
          "model_name": "HBoxModel",
          "state": {
            "_view_name": "HBoxView",
            "_dom_classes": [],
            "_model_name": "HBoxModel",
            "_view_module": "@jupyter-widgets/controls",
            "_model_module_version": "1.5.0",
            "_view_count": null,
            "_view_module_version": "1.5.0",
            "box_style": "",
            "layout": "IPY_MODEL_7f1898377a3940c38b781f36b9f43d91",
            "_model_module": "@jupyter-widgets/controls",
            "children": [
              "IPY_MODEL_2ba00ef7c0be4ee4848a1cdab8a6e823",
              "IPY_MODEL_3f12e7d77d244739833a93b0f06eb5dc"
            ]
          }
        },
        "7f1898377a3940c38b781f36b9f43d91": {
          "model_module": "@jupyter-widgets/base",
          "model_name": "LayoutModel",
          "state": {
            "_view_name": "LayoutView",
            "grid_template_rows": null,
            "right": null,
            "justify_content": null,
            "_view_module": "@jupyter-widgets/base",
            "overflow": null,
            "_model_module_version": "1.2.0",
            "_view_count": null,
            "flex_flow": null,
            "width": null,
            "min_width": null,
            "border": null,
            "align_items": null,
            "bottom": null,
            "_model_module": "@jupyter-widgets/base",
            "top": null,
            "grid_column": null,
            "overflow_y": null,
            "overflow_x": null,
            "grid_auto_flow": null,
            "grid_area": null,
            "grid_template_columns": null,
            "flex": null,
            "_model_name": "LayoutModel",
            "justify_items": null,
            "grid_row": null,
            "max_height": null,
            "align_content": null,
            "visibility": null,
            "align_self": null,
            "height": null,
            "min_height": null,
            "padding": null,
            "grid_auto_rows": null,
            "grid_gap": null,
            "max_width": null,
            "order": null,
            "_view_module_version": "1.2.0",
            "grid_template_areas": null,
            "object_position": null,
            "object_fit": null,
            "grid_auto_columns": null,
            "margin": null,
            "display": null,
            "left": null
          }
        },
        "2ba00ef7c0be4ee4848a1cdab8a6e823": {
          "model_module": "@jupyter-widgets/controls",
          "model_name": "IntProgressModel",
          "state": {
            "_view_name": "ProgressView",
            "style": "IPY_MODEL_1d28119eef7345d38d62ec4728598af6",
            "_dom_classes": [],
            "description": "Epochs: 100%",
            "_model_name": "IntProgressModel",
            "bar_style": "success",
            "max": 200,
            "_view_module": "@jupyter-widgets/controls",
            "_model_module_version": "1.5.0",
            "value": 200,
            "_view_count": null,
            "_view_module_version": "1.5.0",
            "orientation": "horizontal",
            "min": 0,
            "description_tooltip": null,
            "_model_module": "@jupyter-widgets/controls",
            "layout": "IPY_MODEL_c2ddd35d22c44f298897c9a844470046"
          }
        },
        "3f12e7d77d244739833a93b0f06eb5dc": {
          "model_module": "@jupyter-widgets/controls",
          "model_name": "HTMLModel",
          "state": {
            "_view_name": "HTMLView",
            "style": "IPY_MODEL_418a6fea9af14b18a3091e3353a99490",
            "_dom_classes": [],
            "description": "",
            "_model_name": "HTMLModel",
            "placeholder": "​",
            "_view_module": "@jupyter-widgets/controls",
            "_model_module_version": "1.5.0",
            "value": " 200/200 [02:03&lt;00:00,  1.62it/s]",
            "_view_count": null,
            "_view_module_version": "1.5.0",
            "description_tooltip": null,
            "_model_module": "@jupyter-widgets/controls",
            "layout": "IPY_MODEL_3c2f7ecc7cae4d76b5aee7ec6b44786a"
          }
        },
        "1d28119eef7345d38d62ec4728598af6": {
          "model_module": "@jupyter-widgets/controls",
          "model_name": "ProgressStyleModel",
          "state": {
            "_view_name": "StyleView",
            "_model_name": "ProgressStyleModel",
            "description_width": "initial",
            "_view_module": "@jupyter-widgets/base",
            "_model_module_version": "1.5.0",
            "_view_count": null,
            "_view_module_version": "1.2.0",
            "bar_color": null,
            "_model_module": "@jupyter-widgets/controls"
          }
        },
        "c2ddd35d22c44f298897c9a844470046": {
          "model_module": "@jupyter-widgets/base",
          "model_name": "LayoutModel",
          "state": {
            "_view_name": "LayoutView",
            "grid_template_rows": null,
            "right": null,
            "justify_content": null,
            "_view_module": "@jupyter-widgets/base",
            "overflow": null,
            "_model_module_version": "1.2.0",
            "_view_count": null,
            "flex_flow": null,
            "width": null,
            "min_width": null,
            "border": null,
            "align_items": null,
            "bottom": null,
            "_model_module": "@jupyter-widgets/base",
            "top": null,
            "grid_column": null,
            "overflow_y": null,
            "overflow_x": null,
            "grid_auto_flow": null,
            "grid_area": null,
            "grid_template_columns": null,
            "flex": null,
            "_model_name": "LayoutModel",
            "justify_items": null,
            "grid_row": null,
            "max_height": null,
            "align_content": null,
            "visibility": null,
            "align_self": null,
            "height": null,
            "min_height": null,
            "padding": null,
            "grid_auto_rows": null,
            "grid_gap": null,
            "max_width": null,
            "order": null,
            "_view_module_version": "1.2.0",
            "grid_template_areas": null,
            "object_position": null,
            "object_fit": null,
            "grid_auto_columns": null,
            "margin": null,
            "display": null,
            "left": null
          }
        },
        "418a6fea9af14b18a3091e3353a99490": {
          "model_module": "@jupyter-widgets/controls",
          "model_name": "DescriptionStyleModel",
          "state": {
            "_view_name": "StyleView",
            "_model_name": "DescriptionStyleModel",
            "description_width": "",
            "_view_module": "@jupyter-widgets/base",
            "_model_module_version": "1.5.0",
            "_view_count": null,
            "_view_module_version": "1.2.0",
            "_model_module": "@jupyter-widgets/controls"
          }
        },
        "3c2f7ecc7cae4d76b5aee7ec6b44786a": {
          "model_module": "@jupyter-widgets/base",
          "model_name": "LayoutModel",
          "state": {
            "_view_name": "LayoutView",
            "grid_template_rows": null,
            "right": null,
            "justify_content": null,
            "_view_module": "@jupyter-widgets/base",
            "overflow": null,
            "_model_module_version": "1.2.0",
            "_view_count": null,
            "flex_flow": null,
            "width": null,
            "min_width": null,
            "border": null,
            "align_items": null,
            "bottom": null,
            "_model_module": "@jupyter-widgets/base",
            "top": null,
            "grid_column": null,
            "overflow_y": null,
            "overflow_x": null,
            "grid_auto_flow": null,
            "grid_area": null,
            "grid_template_columns": null,
            "flex": null,
            "_model_name": "LayoutModel",
            "justify_items": null,
            "grid_row": null,
            "max_height": null,
            "align_content": null,
            "visibility": null,
            "align_self": null,
            "height": null,
            "min_height": null,
            "padding": null,
            "grid_auto_rows": null,
            "grid_gap": null,
            "max_width": null,
            "order": null,
            "_view_module_version": "1.2.0",
            "grid_template_areas": null,
            "object_position": null,
            "object_fit": null,
            "grid_auto_columns": null,
            "margin": null,
            "display": null,
            "left": null
          }
        }
      }
    }
  },
  "cells": [
    {
      "cell_type": "markdown",
      "metadata": {
        "id": "view-in-github",
        "colab_type": "text"
      },
      "source": [
        "<a href=\"https://colab.research.google.com/github/nahumsa/DM-Reconstruction/blob/master/Reconstruct%20DM.ipynb\" target=\"_parent\"><img src=\"https://colab.research.google.com/assets/colab-badge.svg\" alt=\"Open In Colab\"/></a>"
      ]
    },
    {
      "cell_type": "markdown",
      "metadata": {
        "id": "7iavbKiKltUC",
        "colab_type": "text"
      },
      "source": [
        "# Reconstruction of a density matrix"
      ]
    },
    {
      "cell_type": "markdown",
      "metadata": {
        "id": "IyyOmdrhl0M6",
        "colab_type": "text"
      },
      "source": [
        "### Import dependencies for Google Colab"
      ]
    },
    {
      "cell_type": "code",
      "metadata": {
        "id": "or1p7TPNljDn",
        "colab_type": "code",
        "colab": {
          "base_uri": "https://localhost:8080/",
          "height": 121
        },
        "outputId": "6bc9fc8e-5329-4775-a417-ee017a91fbef"
      },
      "source": [
        "! git clone https://github.com/nahumsa/DM-Reconstruction"
      ],
      "execution_count": 1,
      "outputs": [
        {
          "output_type": "stream",
          "text": [
            "Cloning into 'DM-Reconstruction'...\n",
            "remote: Enumerating objects: 86, done.\u001b[K\n",
            "remote: Counting objects:   1% (1/86)\u001b[K\rremote: Counting objects:   2% (2/86)\u001b[K\rremote: Counting objects:   3% (3/86)\u001b[K\rremote: Counting objects:   4% (4/86)\u001b[K\rremote: Counting objects:   5% (5/86)\u001b[K\rremote: Counting objects:   6% (6/86)\u001b[K\rremote: Counting objects:   8% (7/86)\u001b[K\rremote: Counting objects:   9% (8/86)\u001b[K\rremote: Counting objects:  10% (9/86)\u001b[K\rremote: Counting objects:  11% (10/86)\u001b[K\rremote: Counting objects:  12% (11/86)\u001b[K\rremote: Counting objects:  13% (12/86)\u001b[K\rremote: Counting objects:  15% (13/86)\u001b[K\rremote: Counting objects:  16% (14/86)\u001b[K\rremote: Counting objects:  17% (15/86)\u001b[K\rremote: Counting objects:  18% (16/86)\u001b[K\rremote: Counting objects:  19% (17/86)\u001b[K\rremote: Counting objects:  20% (18/86)\u001b[K\rremote: Counting objects:  22% (19/86)\u001b[K\rremote: Counting objects:  23% (20/86)\u001b[K\rremote: Counting objects:  24% (21/86)\u001b[K\rremote: Counting objects:  25% (22/86)\u001b[K\rremote: Counting objects:  26% (23/86)\u001b[K\rremote: Counting objects:  27% (24/86)\u001b[K\rremote: Counting objects:  29% (25/86)\u001b[K\rremote: Counting objects:  30% (26/86)\u001b[K\rremote: Counting objects:  31% (27/86)\u001b[K\rremote: Counting objects:  32% (28/86)\u001b[K\rremote: Counting objects:  33% (29/86)\u001b[K\rremote: Counting objects:  34% (30/86)\u001b[K\rremote: Counting objects:  36% (31/86)\u001b[K\rremote: Counting objects:  37% (32/86)\u001b[K\rremote: Counting objects:  38% (33/86)\u001b[K\rremote: Counting objects:  39% (34/86)\u001b[K\rremote: Counting objects:  40% (35/86)\u001b[K\rremote: Counting objects:  41% (36/86)\u001b[K\rremote: Counting objects:  43% (37/86)\u001b[K\rremote: Counting objects:  44% (38/86)\u001b[K\rremote: Counting objects:  45% (39/86)\u001b[K\rremote: Counting objects:  46% (40/86)\u001b[K\rremote: Counting objects:  47% (41/86)\u001b[K\rremote: Counting objects:  48% (42/86)\u001b[K\rremote: Counting objects:  50% (43/86)\u001b[K\rremote: Counting objects:  51% (44/86)\u001b[K\rremote: Counting objects:  52% (45/86)\u001b[K\rremote: Counting objects:  53% (46/86)\u001b[K\rremote: Counting objects:  54% (47/86)\u001b[K\rremote: Counting objects:  55% (48/86)\u001b[K\rremote: Counting objects:  56% (49/86)\u001b[K\rremote: Counting objects:  58% (50/86)\u001b[K\rremote: Counting objects:  59% (51/86)\u001b[K\rremote: Counting objects:  60% (52/86)\u001b[K\rremote: Counting objects:  61% (53/86)\u001b[K\rremote: Counting objects:  62% (54/86)\u001b[K\rremote: Counting objects:  63% (55/86)\u001b[K\rremote: Counting objects:  65% (56/86)\u001b[K\rremote: Counting objects:  66% (57/86)\u001b[K\rremote: Counting objects:  67% (58/86)\u001b[K\rremote: Counting objects:  68% (59/86)\u001b[K\rremote: Counting objects:  69% (60/86)\u001b[K\rremote: Counting objects:  70% (61/86)\u001b[K\rremote: Counting objects:  72% (62/86)\u001b[K\rremote: Counting objects:  73% (63/86)\u001b[K\rremote: Counting objects:  74% (64/86)\u001b[K\rremote: Counting objects:  75% (65/86)\u001b[K\rremote: Counting objects:  76% (66/86)\u001b[K\rremote: Counting objects:  77% (67/86)\u001b[K\rremote: Counting objects:  79% (68/86)\u001b[K\rremote: Counting objects:  80% (69/86)\u001b[K\rremote: Counting objects:  81% (70/86)\u001b[K\rremote: Counting objects:  82% (71/86)\u001b[K\rremote: Counting objects:  83% (72/86)\u001b[K\rremote: Counting objects:  84% (73/86)\u001b[K\rremote: Counting objects:  86% (74/86)\u001b[K\rremote: Counting objects:  87% (75/86)\u001b[K\rremote: Counting objects:  88% (76/86)\u001b[K\rremote: Counting objects:  89% (77/86)\u001b[K\rremote: Counting objects:  90% (78/86)\u001b[K\rremote: Counting objects:  91% (79/86)\u001b[K\rremote: Counting objects:  93% (80/86)\u001b[K\rremote: Counting objects:  94% (81/86)\u001b[K\rremote: Counting objects:  95% (82/86)\u001b[K\rremote: Counting objects:  96% (83/86)\u001b[K\rremote: Counting objects:  97% (84/86)\u001b[K\rremote: Counting objects:  98% (85/86)\u001b[K\rremote: Counting objects: 100% (86/86)\u001b[K\rremote: Counting objects: 100% (86/86), done.\u001b[K\n",
            "remote: Compressing objects:   1% (1/79)\u001b[K\rremote: Compressing objects:   2% (2/79)\u001b[K\rremote: Compressing objects:   3% (3/79)\u001b[K\rremote: Compressing objects:   5% (4/79)\u001b[K\rremote: Compressing objects:   6% (5/79)\u001b[K\rremote: Compressing objects:   7% (6/79)\u001b[K\rremote: Compressing objects:   8% (7/79)\u001b[K\rremote: Compressing objects:  10% (8/79)\u001b[K\rremote: Compressing objects:  11% (9/79)\u001b[K\rremote: Compressing objects:  12% (10/79)\u001b[K\rremote: Compressing objects:  13% (11/79)\u001b[K\rremote: Compressing objects:  15% (12/79)\u001b[K\rremote: Compressing objects:  16% (13/79)\u001b[K\rremote: Compressing objects:  17% (14/79)\u001b[K\rremote: Compressing objects:  18% (15/79)\u001b[K\rremote: Compressing objects:  20% (16/79)\u001b[K\rremote: Compressing objects:  21% (17/79)\u001b[K\rremote: Compressing objects:  22% (18/79)\u001b[K\rremote: Compressing objects:  24% (19/79)\u001b[K\rremote: Compressing objects:  25% (20/79)\u001b[K\rremote: Compressing objects:  26% (21/79)\u001b[K\rremote: Compressing objects:  27% (22/79)\u001b[K\rremote: Compressing objects:  29% (23/79)\u001b[K\rremote: Compressing objects:  30% (24/79)\u001b[K\rremote: Compressing objects:  31% (25/79)\u001b[K\rremote: Compressing objects:  32% (26/79)\u001b[K\rremote: Compressing objects:  34% (27/79)\u001b[K\rremote: Compressing objects:  35% (28/79)\u001b[K\rremote: Compressing objects:  36% (29/79)\u001b[K\rremote: Compressing objects:  37% (30/79)\u001b[K\rremote: Compressing objects:  39% (31/79)\u001b[K\rremote: Compressing objects:  40% (32/79)\u001b[K\rremote: Compressing objects:  41% (33/79)\u001b[K\rremote: Compressing objects:  43% (34/79)\u001b[K\rremote: Compressing objects:  44% (35/79)\u001b[K\rremote: Compressing objects:  45% (36/79)\u001b[K\rremote: Compressing objects:  46% (37/79)\u001b[K\rremote: Compressing objects:  48% (38/79)\u001b[K\rremote: Compressing objects:  49% (39/79)\u001b[K\rremote: Compressing objects:  50% (40/79)\u001b[K\rremote: Compressing objects:  51% (41/79)\u001b[K\rremote: Compressing objects:  53% (42/79)\u001b[K\rremote: Compressing objects:  54% (43/79)\u001b[K\rremote: Compressing objects:  55% (44/79)\u001b[K\rremote: Compressing objects:  56% (45/79)\u001b[K\rremote: Compressing objects:  58% (46/79)\u001b[K\rremote: Compressing objects:  59% (47/79)\u001b[K\rremote: Compressing objects:  60% (48/79)\u001b[K\rremote: Compressing objects:  62% (49/79)\u001b[K\rremote: Compressing objects:  63% (50/79)\u001b[K\rremote: Compressing objects:  64% (51/79)\u001b[K\rremote: Compressing objects:  65% (52/79)\u001b[K\rremote: Compressing objects:  67% (53/79)\u001b[K\rremote: Compressing objects:  68% (54/79)\u001b[K\rremote: Compressing objects:  69% (55/79)\u001b[K\rremote: Compressing objects:  70% (56/79)\u001b[K\rremote: Compressing objects:  72% (57/79)\u001b[K\rremote: Compressing objects:  73% (58/79)\u001b[K\rremote: Compressing objects:  74% (59/79)\u001b[K\rremote: Compressing objects:  75% (60/79)\u001b[K\rremote: Compressing objects:  77% (61/79)\u001b[K\rremote: Compressing objects:  78% (62/79)\u001b[K\rremote: Compressing objects:  79% (63/79)\u001b[K\rremote: Compressing objects:  81% (64/79)\u001b[K\rremote: Compressing objects:  82% (65/79)\u001b[K\rremote: Compressing objects:  83% (66/79)\u001b[K\rremote: Compressing objects:  84% (67/79)\u001b[K\rremote: Compressing objects:  86% (68/79)\u001b[K\rremote: Compressing objects:  87% (69/79)\u001b[K\rremote: Compressing objects:  88% (70/79)\u001b[K\rremote: Compressing objects:  89% (71/79)\u001b[K\rremote: Compressing objects:  91% (72/79)\u001b[K\rremote: Compressing objects:  92% (73/79)\u001b[K\rremote: Compressing objects:  93% (74/79)\u001b[K\rremote: Compressing objects:  94% (75/79)\u001b[K\rremote: Compressing objects:  96% (76/79)\u001b[K\rremote: Compressing objects:  97% (77/79)\u001b[K\rremote: Compressing objects:  98% (78/79)\u001b[K\rremote: Compressing objects: 100% (79/79)\u001b[K\rremote: Compressing objects: 100% (79/79), done.\u001b[K\n",
            "Unpacking objects:   1% (1/86)   \rUnpacking objects:   2% (2/86)   \rUnpacking objects:   3% (3/86)   \rUnpacking objects:   4% (4/86)   \rUnpacking objects:   5% (5/86)   \rUnpacking objects:   6% (6/86)   \rUnpacking objects:   8% (7/86)   \rUnpacking objects:   9% (8/86)   \rUnpacking objects:  10% (9/86)   \rUnpacking objects:  11% (10/86)   \rUnpacking objects:  12% (11/86)   \rUnpacking objects:  13% (12/86)   \rUnpacking objects:  15% (13/86)   \rUnpacking objects:  16% (14/86)   \rUnpacking objects:  17% (15/86)   \rUnpacking objects:  18% (16/86)   \rUnpacking objects:  19% (17/86)   \rUnpacking objects:  20% (18/86)   \rUnpacking objects:  22% (19/86)   \rUnpacking objects:  23% (20/86)   \rUnpacking objects:  24% (21/86)   \rUnpacking objects:  25% (22/86)   \rUnpacking objects:  26% (23/86)   \rUnpacking objects:  27% (24/86)   \rUnpacking objects:  29% (25/86)   \rUnpacking objects:  30% (26/86)   \rUnpacking objects:  31% (27/86)   \rUnpacking objects:  32% (28/86)   \rUnpacking objects:  33% (29/86)   \rUnpacking objects:  34% (30/86)   \rUnpacking objects:  36% (31/86)   \rUnpacking objects:  37% (32/86)   \rUnpacking objects:  38% (33/86)   \rUnpacking objects:  39% (34/86)   \rUnpacking objects:  40% (35/86)   \rUnpacking objects:  41% (36/86)   \rremote: Total 86 (delta 40), reused 15 (delta 2), pack-reused 0\u001b[K\n",
            "Unpacking objects:  43% (37/86)   \rUnpacking objects:  44% (38/86)   \rUnpacking objects:  45% (39/86)   \rUnpacking objects:  46% (40/86)   \rUnpacking objects:  47% (41/86)   \rUnpacking objects:  48% (42/86)   \rUnpacking objects:  50% (43/86)   \rUnpacking objects:  51% (44/86)   \rUnpacking objects:  52% (45/86)   \rUnpacking objects:  53% (46/86)   \rUnpacking objects:  54% (47/86)   \rUnpacking objects:  55% (48/86)   \rUnpacking objects:  56% (49/86)   \rUnpacking objects:  58% (50/86)   \rUnpacking objects:  59% (51/86)   \rUnpacking objects:  60% (52/86)   \rUnpacking objects:  61% (53/86)   \rUnpacking objects:  62% (54/86)   \rUnpacking objects:  63% (55/86)   \rUnpacking objects:  65% (56/86)   \rUnpacking objects:  66% (57/86)   \rUnpacking objects:  67% (58/86)   \rUnpacking objects:  68% (59/86)   \rUnpacking objects:  69% (60/86)   \rUnpacking objects:  70% (61/86)   \rUnpacking objects:  72% (62/86)   \rUnpacking objects:  73% (63/86)   \rUnpacking objects:  74% (64/86)   \rUnpacking objects:  75% (65/86)   \rUnpacking objects:  76% (66/86)   \rUnpacking objects:  77% (67/86)   \rUnpacking objects:  79% (68/86)   \rUnpacking objects:  80% (69/86)   \rUnpacking objects:  81% (70/86)   \rUnpacking objects:  82% (71/86)   \rUnpacking objects:  83% (72/86)   \rUnpacking objects:  84% (73/86)   \rUnpacking objects:  86% (74/86)   \rUnpacking objects:  87% (75/86)   \rUnpacking objects:  88% (76/86)   \rUnpacking objects:  89% (77/86)   \rUnpacking objects:  90% (78/86)   \rUnpacking objects:  91% (79/86)   \rUnpacking objects:  93% (80/86)   \rUnpacking objects:  94% (81/86)   \rUnpacking objects:  95% (82/86)   \rUnpacking objects:  96% (83/86)   \rUnpacking objects:  97% (84/86)   \rUnpacking objects:  98% (85/86)   \rUnpacking objects: 100% (86/86)   \rUnpacking objects: 100% (86/86), done.\n"
          ],
          "name": "stdout"
        }
      ]
    },
    {
      "cell_type": "code",
      "metadata": {
        "id": "X2mpd0AWmLyu",
        "colab_type": "code",
        "colab": {
          "base_uri": "https://localhost:8080/",
          "height": 242
        },
        "outputId": "0c8f286f-eb21-4d00-ce44-d8e160a47458"
      },
      "source": [
        "!pip install qutip"
      ],
      "execution_count": 2,
      "outputs": [
        {
          "output_type": "stream",
          "text": [
            "Collecting qutip\n",
            "\u001b[?25l  Downloading https://files.pythonhosted.org/packages/4f/36/90681586849b4b87b63e4b12353d615628887f0cfe02a218f6b128d3a701/qutip-4.5.0.tar.gz (3.5MB)\n",
            "\u001b[K     |████████████████████████████████| 3.5MB 2.4MB/s \n",
            "\u001b[?25hRequirement already satisfied: numpy>=1.12 in /usr/local/lib/python3.6/dist-packages (from qutip) (1.18.3)\n",
            "Requirement already satisfied: scipy>=1.0 in /usr/local/lib/python3.6/dist-packages (from qutip) (1.4.1)\n",
            "Requirement already satisfied: cython>=0.21 in /usr/local/lib/python3.6/dist-packages (from qutip) (0.29.17)\n",
            "Building wheels for collected packages: qutip\n",
            "  Building wheel for qutip (setup.py) ... \u001b[?25l\u001b[?25hdone\n",
            "  Created wheel for qutip: filename=qutip-4.5.0-cp36-cp36m-linux_x86_64.whl size=12844878 sha256=f81ab70a3d2dde7cad2a51f7c31d5587ae5bd5a34681b7d19ad7a5fa7e522287\n",
            "  Stored in directory: /root/.cache/pip/wheels/c9/85/e8/3fbad9a0816141b4c5f1d73d8a880ed91265fea84192cbe37b\n",
            "Successfully built qutip\n",
            "Installing collected packages: qutip\n",
            "Successfully installed qutip-4.5.0\n"
          ],
          "name": "stdout"
        }
      ]
    },
    {
      "cell_type": "code",
      "metadata": {
        "id": "krooM51-ls4K",
        "colab_type": "code",
        "outputId": "f86ef7d8-ab03-4835-fd87-461a73b9bec1",
        "colab": {
          "base_uri": "https://localhost:8080/",
          "height": 34
        }
      },
      "source": [
        "% cd DM-Reconstruction/"
      ],
      "execution_count": 3,
      "outputs": [
        {
          "output_type": "stream",
          "text": [
            "/content/DM-Reconstruction\n"
          ],
          "name": "stdout"
        }
      ]
    },
    {
      "cell_type": "markdown",
      "metadata": {
        "id": "51n6qyGel7Cu",
        "colab_type": "text"
      },
      "source": [
        "##Import Dependencies"
      ]
    },
    {
      "cell_type": "code",
      "metadata": {
        "id": "s6XbBlzomUE1",
        "colab_type": "code",
        "colab": {}
      },
      "source": [
        "try:\n",
        "  %tensorflow_version 2.x\n",
        "\n",
        "except Exception:\n",
        "  pass\n",
        "  \n",
        "import tensorflow as tf\n",
        "\n",
        "#Set Random Seed for reproduction\n",
        "tf.random.set_seed(1234)\n",
        "\n",
        "# Remove warnings\n",
        "import logging\n",
        "logging.getLogger('tensorflow').disabled = True\n",
        "\n",
        "#Use this to not need to initialize tensors outside session\n",
        "tf.config.experimental_run_functions_eagerly(True)"
      ],
      "execution_count": 0,
      "outputs": []
    },
    {
      "cell_type": "code",
      "metadata": {
        "id": "BeM7wtQQxEJb",
        "colab_type": "code",
        "colab": {}
      },
      "source": [
        "%load_ext autoreload\n",
        "%autoreload 2"
      ],
      "execution_count": 0,
      "outputs": []
    },
    {
      "cell_type": "code",
      "metadata": {
        "id": "11b8B7JbmhC0",
        "colab_type": "code",
        "colab": {}
      },
      "source": [
        "%matplotlib inline\n",
        "import matplotlib.pyplot as plt\n",
        "import numpy as np\n",
        "import qutip\n",
        "from tqdm.notebook import tqdm"
      ],
      "execution_count": 0,
      "outputs": []
    },
    {
      "cell_type": "markdown",
      "metadata": {
        "id": "mPm1NbddH2kC",
        "colab_type": "text"
      },
      "source": [
        "## Creating dataset"
      ]
    },
    {
      "cell_type": "code",
      "metadata": {
        "id": "V9UD_UPnoqia",
        "colab_type": "code",
        "colab": {}
      },
      "source": [
        "from Utils.Dataset import create_dataset\n",
        "\n",
        "samples_train = 5000\n",
        "states_train, measurements_train, labels_train = create_dataset(samples_train)\n",
        "\n",
        "samples_test = 3000\n",
        "states_test, measurements_test, labels_test = create_dataset(samples_test)"
      ],
      "execution_count": 0,
      "outputs": []
    },
    {
      "cell_type": "code",
      "metadata": {
        "id": "s6dn7Kgxsbq9",
        "colab_type": "code",
        "colab": {}
      },
      "source": [
        "from Utils.Dataset import create_x\n",
        "\n",
        "#Transforming in an np.array\n",
        "X_train = np.array(create_x(measurements_train))\n",
        "Y_train = np.array(labels_train)\n",
        "\n",
        "X_test = np.array(create_x(measurements_test))\n",
        "Y_test = np.array(labels_test)\n",
        "\n",
        "#print(f\"Shape of the Training: \\n X: {X_train.shape}\")"
      ],
      "execution_count": 0,
      "outputs": []
    },
    {
      "cell_type": "markdown",
      "metadata": {
        "id": "779vLn76r_nf",
        "colab_type": "text"
      },
      "source": [
        "# Models"
      ]
    },
    {
      "cell_type": "markdown",
      "metadata": {
        "id": "46tzC7I695H7",
        "colab_type": "text"
      },
      "source": [
        "## Using Trace distance as a loss function"
      ]
    },
    {
      "cell_type": "code",
      "metadata": {
        "id": "-V6Jjo0U_SZO",
        "colab_type": "code",
        "colab": {}
      },
      "source": [
        "from Models.TVAE import TraceVAE\n",
        "\n",
        "ZDIM = 20\n",
        "input_dim = X_train.shape[1]\n",
        "hidden_dims = [64,128,256]\n",
        "batchsize = 32\n",
        "\n",
        "vae = TraceVAE(original_dim=input_dim,\n",
        "               intermediate_dim=hidden_dims,\n",
        "               latent_dim=ZDIM)\n",
        "\n",
        "# Optimizer.\n",
        "optimizer = tf.keras.optimizers.Adam(learning_rate=1e-3)\n",
        "\n",
        "vae.compile(optimizer=optimizer)\n",
        "\n",
        "# Prepare a dataset.\n",
        "dataset = tf.data.Dataset.from_tensor_slices(X_train)\n",
        "dataset = dataset.shuffle(buffer_size=1024).batch(batchsize)"
      ],
      "execution_count": 0,
      "outputs": []
    },
    {
      "cell_type": "code",
      "metadata": {
        "id": "KTSxXl85zy2L",
        "colab_type": "code",
        "outputId": "433abc54-6c85-444d-b330-0a5639edb707",
        "colab": {
          "base_uri": "https://localhost:8080/",
          "height": 558,
          "referenced_widgets": [
            "396e632df0c046c5ac347120bc1abcf6",
            "594717e324a2493daf0a8b754f54be14",
            "71ed52a9cd6445f7877ad5cb1e289b1d",
            "27aea22012674326b8ada8f1be9012e5",
            "7f220ef7d45d4c139665fbf2f0fe0db0",
            "be03ceed98ef4ca7a0274e49545abcbe",
            "4c5cfc59701543ee890bf6a8ef3eca1e",
            "caff03b95aa14e239f2052442c20d0cb"
          ]
        }
      },
      "source": [
        "from Utils.Plotter import PeriodicPlotter\n",
        "\n",
        "r_loss = 10.\n",
        "beta = 1e-2\n",
        "epochs = 2\n",
        "\n",
        "# Periodic Plotter for loss\n",
        "plotter = PeriodicPlotter(sec=5, xlabel='Epochs', ylabel='Loss')\n",
        "\n",
        "loss_epochs = vae.training(dataset, epochs, r_loss, beta, Plotter=plotter)"
      ],
      "execution_count": 16,
      "outputs": [
        {
          "output_type": "display_data",
          "data": {
            "image/png": "[encoded data removed]",
            "text/plain": [
              "<Figure size 432x288 with 1 Axes>"
            ]
          },
          "metadata": {
            "tags": []
          }
        },
        {
          "output_type": "stream",
          "text": [
            "\n"
          ],
          "name": "stdout"
        },
        {
          "output_type": "display_data",
          "data": {
            "image/png": "[encoded data removed]",
            "text/plain": [
              "<Figure size 432x288 with 1 Axes>"
            ]
          },
          "metadata": {
            "tags": [],
            "needs_background": "light"
          }
        }
      ]
    },
    {
      "cell_type": "code",
      "metadata": {
        "id": "EJuxEm_3xyMt",
        "colab_type": "code",
        "outputId": "005193cb-cd4d-4c34-e936-88c719d05988",
        "colab": {
          "base_uri": "https://localhost:8080/",
          "height": 338
        }
      },
      "source": [
        "fig = plt.figure(figsize=(14,5))\n",
        "gs = fig.add_gridspec(1, 3)\n",
        "ax1 = fig.add_subplot(gs[0, 0])\n",
        "ax2 = fig.add_subplot(gs[0, 1])\n",
        "\n",
        "\n",
        "ax1.imshow((X_train[0:20]), cmap=\"gray\")\n",
        "ax1.set_title('Original', size=16)\n",
        "\n",
        "ax2.imshow(vae.predict(X_train[0:20]), cmap=\"gray\")\n",
        "ax2.set_title('Reconstruction', size=16)\n",
        "\n",
        "_, _, z = vae.encoder(X_test)\n",
        "z = z.numpy()\n",
        "\n",
        "ax3 = fig.add_subplot(gs[0, 2])\n",
        "ims = ax3.scatter(z[:,0], z[:,1], c=Y_test)\n",
        "ax3.set_title('Latent Space', size=16)\n",
        "plt.colorbar(ims, ax=ax3)\n",
        "\n",
        "plt.show()"
      ],
      "execution_count": 21,
      "outputs": [
        {
          "output_type": "display_data",
          "data": {
            "image/png": "[encoded data removed]",
            "text/plain": [
              "<Figure size 1008x360 with 4 Axes>"
            ]
          },
          "metadata": {
            "tags": [],
            "needs_background": "light"
          }
        }
      ]
    },
    {
      "cell_type": "markdown",
      "metadata": {
        "id": "lN6qbKS_FVt-",
        "colab_type": "text"
      },
      "source": [
        "# Denoising measurements with gaussian error"
      ]
    },
    {
      "cell_type": "code",
      "metadata": {
        "id": "ErHKj87QFfLU",
        "colab_type": "code",
        "colab": {
          "base_uri": "https://localhost:8080/",
          "height": 69
        },
        "outputId": "1792764b-598b-44ae-f86a-ed2e4f53d4de"
      },
      "source": [
        "from Utils.Dataset import create_x\n",
        "n_measurements = len(measurements_train[0])\n",
        "noise_factor = 0.9\n",
        "\n",
        "#Transforming in an np.array\n",
        "X_train = np.array(create_x(measurements_train)) + noise_factor*np.random.randn(samples_train,n_measurements)\n",
        "Y_train = np.array(create_x(measurements_train))\n",
        "labels_train = np.array(labels_train)\n",
        "\n",
        "X_test = np.array(create_x(measurements_test)) + noise_factor*np.random.randn(samples_test,n_measurements)\n",
        "Y_test = np.array(create_x(measurements_test))\n",
        "labels_test = np.array(labels_test)\n",
        "\n",
        "print(f\"Shape of the Training: \\n X: {X_train.shape} \\n Y: {Y_train.shape}\")"
      ],
      "execution_count": 76,
      "outputs": [
        {
          "output_type": "stream",
          "text": [
            "Shape of the Training: \n",
            " X: (5000, 15) \n",
            " Y: (5000, 15)\n"
          ],
          "name": "stdout"
        }
      ]
    },
    {
      "cell_type": "code",
      "metadata": {
        "id": "OaKSLr3KGQP7",
        "colab_type": "code",
        "colab": {}
      },
      "source": [
        "from Models.TVAE import TraceVAE\n",
        "from Utils.QMetrics import trace_loss\n",
        "\n",
        "class Denoise(TraceVAE):\n",
        "  def __init__(self,\n",
        "               original_dim,\n",
        "               intermediate_dim,\n",
        "               latent_dim,               \n",
        "               **kwargs):    \n",
        "\n",
        "    super(Denoise, self).__init__(original_dim,\n",
        "                                   intermediate_dim,\n",
        "                                   latent_dim)\n",
        "  def training_step(self, x, y, r_loss, beta):\n",
        "    \"\"\"Training step for the VAE.\n",
        "  \n",
        "    Parameters\n",
        "    -------------------------------------------\n",
        "    x: Data with noise\n",
        "    y: Data without noise\n",
        "    VAE(tf.keras.Model): Variational Autoencoder model. \n",
        "    optimizer(tf.keras.optimizer): Optimizer used.  \n",
        "    r_loss(float): Parameter controlling reconstruction loss.\n",
        "    beta(float): Parameter controlling the KL divergence.\n",
        "\n",
        "    Return:\n",
        "    Loss(float): Loss value of the training step.\n",
        "\n",
        "    \"\"\"\n",
        "    with tf.GradientTape() as tape:\n",
        "      reconstructed = self(x)  # Compute input reconstruction.\n",
        "      # Compute loss.\n",
        "      loss = trace_loss(y, reconstructed)\n",
        "      kl = sum(self.losses)\n",
        "      loss = r_loss * loss + beta*kl  \n",
        "    \n",
        "    # Update the weights of the VAE.\n",
        "    grads = tape.gradient(loss, self.trainable_weights)\n",
        "    self.optimizer.apply_gradients(zip(grads, self.trainable_weights))    \n",
        "    return loss\n",
        "\n",
        "  def training(self, dataset,\n",
        "             epochs, r_loss, beta,              \n",
        "             Plotter=None):\n",
        "    \"\"\" Training of the Variational Autoencoder for a \n",
        "    tensorflow.dataset.\n",
        "\n",
        "    Parameters\n",
        "    -------------------------------------------\n",
        "    dataset(tf.data.Dataset): Dataset of the data.\n",
        "    VAE(tf.keras.Model): Variational Autoencoder model.\n",
        "    epochs(int): Number of epochs.\n",
        "    r_loss(float): Parameter controlling reconstruction loss.\n",
        "    beta(float): Parameter controlling the KL divergence.  \n",
        "    Plotter(object): Plotter object to show how the training is\n",
        "                    going (Default=None).\n",
        "\n",
        "    \"\"\"\n",
        "\n",
        "    losses = []\n",
        "    epochs = range(epochs)\n",
        "\n",
        "    for i in tqdm(epochs, desc='Epochs'):\n",
        "      losses_epochs = []\n",
        "      for step, (x, y) in enumerate(dataset):\n",
        "\n",
        "        loss = self.training_step(x, y, r_loss, beta)\n",
        "  \n",
        "        # Logging.\n",
        "        losses_epochs.append(float(loss))\n",
        "      losses.append(np.mean(losses_epochs))\n",
        "    \n",
        "      if Plotter != None:\n",
        "        Plotter.plot(losses)\n",
        "\n",
        "    return losses "
      ],
      "execution_count": 0,
      "outputs": []
    },
    {
      "cell_type": "code",
      "metadata": {
        "id": "Zd2y3694_ryj",
        "colab_type": "code",
        "colab": {}
      },
      "source": [
        "ZDIM = 20\n",
        "input_dim = X_train.shape[1]\n",
        "hidden_dims = [64,128,256]\n",
        "batchsize = 512\n",
        "\n",
        "denoising = Denoise(original_dim=input_dim,\n",
        "               intermediate_dim=hidden_dims,\n",
        "               latent_dim=ZDIM)\n",
        "\n",
        "# Optimizer.\n",
        "optimizer = tf.keras.optimizers.Adam(learning_rate=1e-3)\n",
        "\n",
        "denoising.compile(optimizer=optimizer)"
      ],
      "execution_count": 0,
      "outputs": []
    },
    {
      "cell_type": "code",
      "metadata": {
        "id": "jxpej_YvAi_g",
        "colab_type": "code",
        "colab": {}
      },
      "source": [
        "# Prepare a dataset.\n",
        "dataset = tf.data.Dataset.from_tensor_slices((X_train,Y_train))\n",
        "dataset = dataset.shuffle(buffer_size=1024).batch(batchsize)"
      ],
      "execution_count": 0,
      "outputs": []
    },
    {
      "cell_type": "code",
      "metadata": {
        "id": "-FyXgTU1RWLw",
        "colab_type": "code",
        "colab": {
          "base_uri": "https://localhost:8080/",
          "height": 558,
          "referenced_widgets": [
            "041b4d4b98274f36afc7fff83a942eb6",
            "7f1898377a3940c38b781f36b9f43d91",
            "2ba00ef7c0be4ee4848a1cdab8a6e823",
            "3f12e7d77d244739833a93b0f06eb5dc",
            "1d28119eef7345d38d62ec4728598af6",
            "c2ddd35d22c44f298897c9a844470046",
            "418a6fea9af14b18a3091e3353a99490",
            "3c2f7ecc7cae4d76b5aee7ec6b44786a"
          ]
        },
        "outputId": "fd46e343-8c64-4e63-8083-cc36fcb09095"
      },
      "source": [
        "from Utils.Plotter import PeriodicPlotter\n",
        "\n",
        "r_loss = 10.\n",
        "beta = 1e-2\n",
        "epochs = 200\n",
        "\n",
        "# Periodic Plotter for loss\n",
        "plotter = PeriodicPlotter(sec=5, xlabel='Epochs', ylabel='Loss')\n",
        "\n",
        "loss_epochs = denoising.training(dataset, epochs, r_loss, beta, Plotter=plotter)"
      ],
      "execution_count": 84,
      "outputs": [
        {
          "output_type": "display_data",
          "data": {
            "image/png": "[encoded data removed]",
            "text/plain": [
              "<Figure size 432x288 with 1 Axes>"
            ]
          },
          "metadata": {
            "tags": []
          }
        },
        {
          "output_type": "stream",
          "text": [
            "\n"
          ],
          "name": "stdout"
        },
        {
          "output_type": "display_data",
          "data": {
            "image/png": "[encoded data removed]",
            "text/plain": [
              "<Figure size 432x288 with 1 Axes>"
            ]
          },
          "metadata": {
            "tags": [],
            "needs_background": "light"
          }
        }
      ]
    },
    {
      "cell_type": "code",
      "metadata": {
        "id": "4B6T848SRfjF",
        "colab_type": "code",
        "colab": {
          "base_uri": "https://localhost:8080/",
          "height": 338
        },
        "outputId": "91e82f65-b949-4096-a98d-b62846bc9b16"
      },
      "source": [
        "fig = plt.figure(figsize=(14,5))\n",
        "gs = fig.add_gridspec(1, 3)\n",
        "ax1 = fig.add_subplot(gs[0, 0])\n",
        "ax2 = fig.add_subplot(gs[0, 1])\n",
        "ax3 = fig.add_subplot(gs[0, 2])\n",
        "\n",
        "ax1.imshow((X_test[0:20]), cmap=\"gray\")\n",
        "ax1.set_title('Original with noise', size=16)\n",
        "\n",
        "ax2.imshow(denoising.predict(X_test[0:20]), cmap=\"gray\")\n",
        "ax2.set_title('Denoising', size=16)\n",
        "\n",
        "ax3.imshow((Y_test[0:20]), cmap=\"gray\")\n",
        "ax3.set_title('Original without noise', size=16)\n",
        "plt.show()"
      ],
      "execution_count": 86,
      "outputs": [
        {
          "output_type": "display_data",
          "data": {
            "image/png": "[encoded data removed]",
            "text/plain": [
              "<Figure size 1008x360 with 3 Axes>"
            ]
          },
          "metadata": {
            "tags": [],
            "needs_background": "light"
          }
        }
      ]
    },
    {
      "cell_type": "code",
      "metadata": {
        "id": "eweWgRJ4VGhg",
        "colab_type": "code",
        "colab": {}
      },
      "source": [
        ""
      ],
      "execution_count": 0,
      "outputs": []
    }
  ]
}