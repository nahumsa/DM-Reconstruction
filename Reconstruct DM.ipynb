{
  "nbformat": 4,
  "nbformat_minor": 0,
  "metadata": {
    "colab": {
      "name": "Reconstruct DM.ipynb",
      "provenance": [],
      "collapsed_sections": [],
      "authorship_tag": "ABX9TyO1S+Yc3zgZmcBOx2W0vfFz",
      "include_colab_link": true
    },
    "kernelspec": {
      "name": "python3",
      "display_name": "Python 3"
    },
    "widgets": {
      "application/vnd.jupyter.widget-state+json": {
        "3b74d9836a724ef5bd77db9116c29b3c": {
          "model_module": "@jupyter-widgets/controls",
          "model_name": "HBoxModel",
          "state": {
            "_view_name": "HBoxView",
            "_dom_classes": [],
            "_model_name": "HBoxModel",
            "_view_module": "@jupyter-widgets/controls",
            "_model_module_version": "1.5.0",
            "_view_count": null,
            "_view_module_version": "1.5.0",
            "box_style": "",
            "layout": "IPY_MODEL_5625db634db64f8e9e7312d4fa0fbe3a",
            "_model_module": "@jupyter-widgets/controls",
            "children": [
              "IPY_MODEL_8768f32db92b46818d1830091ec9216e",
              "IPY_MODEL_2a43c2fd2cc24721954223c10df34baf"
            ]
          }
        },
        "5625db634db64f8e9e7312d4fa0fbe3a": {
          "model_module": "@jupyter-widgets/base",
          "model_name": "LayoutModel",
          "state": {
            "_view_name": "LayoutView",
            "grid_template_rows": null,
            "right": null,
            "justify_content": null,
            "_view_module": "@jupyter-widgets/base",
            "overflow": null,
            "_model_module_version": "1.2.0",
            "_view_count": null,
            "flex_flow": null,
            "width": null,
            "min_width": null,
            "border": null,
            "align_items": null,
            "bottom": null,
            "_model_module": "@jupyter-widgets/base",
            "top": null,
            "grid_column": null,
            "overflow_y": null,
            "overflow_x": null,
            "grid_auto_flow": null,
            "grid_area": null,
            "grid_template_columns": null,
            "flex": null,
            "_model_name": "LayoutModel",
            "justify_items": null,
            "grid_row": null,
            "max_height": null,
            "align_content": null,
            "visibility": null,
            "align_self": null,
            "height": null,
            "min_height": null,
            "padding": null,
            "grid_auto_rows": null,
            "grid_gap": null,
            "max_width": null,
            "order": null,
            "_view_module_version": "1.2.0",
            "grid_template_areas": null,
            "object_position": null,
            "object_fit": null,
            "grid_auto_columns": null,
            "margin": null,
            "display": null,
            "left": null
          }
        },
        "8768f32db92b46818d1830091ec9216e": {
          "model_module": "@jupyter-widgets/controls",
          "model_name": "IntProgressModel",
          "state": {
            "_view_name": "ProgressView",
            "style": "IPY_MODEL_46b71880fe59457db96fe21299227873",
            "_dom_classes": [],
            "description": "Epochs: 100%",
            "_model_name": "IntProgressModel",
            "bar_style": "success",
            "max": 20,
            "_view_module": "@jupyter-widgets/controls",
            "_model_module_version": "1.5.0",
            "value": 20,
            "_view_count": null,
            "_view_module_version": "1.5.0",
            "orientation": "horizontal",
            "min": 0,
            "description_tooltip": null,
            "_model_module": "@jupyter-widgets/controls",
            "layout": "IPY_MODEL_ca156aae3da84741a2bdcc1107af456c"
          }
        },
        "2a43c2fd2cc24721954223c10df34baf": {
          "model_module": "@jupyter-widgets/controls",
          "model_name": "HTMLModel",
          "state": {
            "_view_name": "HTMLView",
            "style": "IPY_MODEL_e4cc91c3d98848ba82555e196b7c7e11",
            "_dom_classes": [],
            "description": "",
            "_model_name": "HTMLModel",
            "placeholder": "​",
            "_view_module": "@jupyter-widgets/controls",
            "_model_module_version": "1.5.0",
            "value": " 20/20 [1:37:57&lt;00:00, 293.88s/it]",
            "_view_count": null,
            "_view_module_version": "1.5.0",
            "description_tooltip": null,
            "_model_module": "@jupyter-widgets/controls",
            "layout": "IPY_MODEL_4f1803e9a9b94587815004704def4304"
          }
        },
        "46b71880fe59457db96fe21299227873": {
          "model_module": "@jupyter-widgets/controls",
          "model_name": "ProgressStyleModel",
          "state": {
            "_view_name": "StyleView",
            "_model_name": "ProgressStyleModel",
            "description_width": "initial",
            "_view_module": "@jupyter-widgets/base",
            "_model_module_version": "1.5.0",
            "_view_count": null,
            "_view_module_version": "1.2.0",
            "bar_color": null,
            "_model_module": "@jupyter-widgets/controls"
          }
        },
        "ca156aae3da84741a2bdcc1107af456c": {
          "model_module": "@jupyter-widgets/base",
          "model_name": "LayoutModel",
          "state": {
            "_view_name": "LayoutView",
            "grid_template_rows": null,
            "right": null,
            "justify_content": null,
            "_view_module": "@jupyter-widgets/base",
            "overflow": null,
            "_model_module_version": "1.2.0",
            "_view_count": null,
            "flex_flow": null,
            "width": null,
            "min_width": null,
            "border": null,
            "align_items": null,
            "bottom": null,
            "_model_module": "@jupyter-widgets/base",
            "top": null,
            "grid_column": null,
            "overflow_y": null,
            "overflow_x": null,
            "grid_auto_flow": null,
            "grid_area": null,
            "grid_template_columns": null,
            "flex": null,
            "_model_name": "LayoutModel",
            "justify_items": null,
            "grid_row": null,
            "max_height": null,
            "align_content": null,
            "visibility": null,
            "align_self": null,
            "height": null,
            "min_height": null,
            "padding": null,
            "grid_auto_rows": null,
            "grid_gap": null,
            "max_width": null,
            "order": null,
            "_view_module_version": "1.2.0",
            "grid_template_areas": null,
            "object_position": null,
            "object_fit": null,
            "grid_auto_columns": null,
            "margin": null,
            "display": null,
            "left": null
          }
        },
        "e4cc91c3d98848ba82555e196b7c7e11": {
          "model_module": "@jupyter-widgets/controls",
          "model_name": "DescriptionStyleModel",
          "state": {
            "_view_name": "StyleView",
            "_model_name": "DescriptionStyleModel",
            "description_width": "",
            "_view_module": "@jupyter-widgets/base",
            "_model_module_version": "1.5.0",
            "_view_count": null,
            "_view_module_version": "1.2.0",
            "_model_module": "@jupyter-widgets/controls"
          }
        },
        "4f1803e9a9b94587815004704def4304": {
          "model_module": "@jupyter-widgets/base",
          "model_name": "LayoutModel",
          "state": {
            "_view_name": "LayoutView",
            "grid_template_rows": null,
            "right": null,
            "justify_content": null,
            "_view_module": "@jupyter-widgets/base",
            "overflow": null,
            "_model_module_version": "1.2.0",
            "_view_count": null,
            "flex_flow": null,
            "width": null,
            "min_width": null,
            "border": null,
            "align_items": null,
            "bottom": null,
            "_model_module": "@jupyter-widgets/base",
            "top": null,
            "grid_column": null,
            "overflow_y": null,
            "overflow_x": null,
            "grid_auto_flow": null,
            "grid_area": null,
            "grid_template_columns": null,
            "flex": null,
            "_model_name": "LayoutModel",
            "justify_items": null,
            "grid_row": null,
            "max_height": null,
            "align_content": null,
            "visibility": null,
            "align_self": null,
            "height": null,
            "min_height": null,
            "padding": null,
            "grid_auto_rows": null,
            "grid_gap": null,
            "max_width": null,
            "order": null,
            "_view_module_version": "1.2.0",
            "grid_template_areas": null,
            "object_position": null,
            "object_fit": null,
            "grid_auto_columns": null,
            "margin": null,
            "display": null,
            "left": null
          }
        },
        "42e10ed9fb294c95ad5eb29970dde8a6": {
          "model_module": "@jupyter-widgets/controls",
          "model_name": "HBoxModel",
          "state": {
            "_view_name": "HBoxView",
            "_dom_classes": [],
            "_model_name": "HBoxModel",
            "_view_module": "@jupyter-widgets/controls",
            "_model_module_version": "1.5.0",
            "_view_count": null,
            "_view_module_version": "1.5.0",
            "box_style": "",
            "layout": "IPY_MODEL_6d7666fc5abb4feb8cb7db58d0cfdd9f",
            "_model_module": "@jupyter-widgets/controls",
            "children": [
              "IPY_MODEL_17b845f9bda147d9ba94824f1f866fe8",
              "IPY_MODEL_9df2de8d83e84a7a85a33df3bb58931b"
            ]
          }
        },
        "6d7666fc5abb4feb8cb7db58d0cfdd9f": {
          "model_module": "@jupyter-widgets/base",
          "model_name": "LayoutModel",
          "state": {
            "_view_name": "LayoutView",
            "grid_template_rows": null,
            "right": null,
            "justify_content": null,
            "_view_module": "@jupyter-widgets/base",
            "overflow": null,
            "_model_module_version": "1.2.0",
            "_view_count": null,
            "flex_flow": null,
            "width": null,
            "min_width": null,
            "border": null,
            "align_items": null,
            "bottom": null,
            "_model_module": "@jupyter-widgets/base",
            "top": null,
            "grid_column": null,
            "overflow_y": null,
            "overflow_x": null,
            "grid_auto_flow": null,
            "grid_area": null,
            "grid_template_columns": null,
            "flex": null,
            "_model_name": "LayoutModel",
            "justify_items": null,
            "grid_row": null,
            "max_height": null,
            "align_content": null,
            "visibility": null,
            "align_self": null,
            "height": null,
            "min_height": null,
            "padding": null,
            "grid_auto_rows": null,
            "grid_gap": null,
            "max_width": null,
            "order": null,
            "_view_module_version": "1.2.0",
            "grid_template_areas": null,
            "object_position": null,
            "object_fit": null,
            "grid_auto_columns": null,
            "margin": null,
            "display": null,
            "left": null
          }
        },
        "17b845f9bda147d9ba94824f1f866fe8": {
          "model_module": "@jupyter-widgets/controls",
          "model_name": "IntProgressModel",
          "state": {
            "_view_name": "ProgressView",
            "style": "IPY_MODEL_1a9be3d40b044727a8c326f4fed9c318",
            "_dom_classes": [],
            "description": "Epochs: 100%",
            "_model_name": "IntProgressModel",
            "bar_style": "success",
            "max": 20,
            "_view_module": "@jupyter-widgets/controls",
            "_model_module_version": "1.5.0",
            "value": 20,
            "_view_count": null,
            "_view_module_version": "1.5.0",
            "orientation": "horizontal",
            "min": 0,
            "description_tooltip": null,
            "_model_module": "@jupyter-widgets/controls",
            "layout": "IPY_MODEL_0c55a28defa345c5950085ed35409797"
          }
        },
        "9df2de8d83e84a7a85a33df3bb58931b": {
          "model_module": "@jupyter-widgets/controls",
          "model_name": "HTMLModel",
          "state": {
            "_view_name": "HTMLView",
            "style": "IPY_MODEL_aa1ca3641b984b50a24486b2fe30845a",
            "_dom_classes": [],
            "description": "",
            "_model_name": "HTMLModel",
            "placeholder": "​",
            "_view_module": "@jupyter-widgets/controls",
            "_model_module_version": "1.5.0",
            "value": " 20/20 [02:28&lt;00:00,  7.44s/it]",
            "_view_count": null,
            "_view_module_version": "1.5.0",
            "description_tooltip": null,
            "_model_module": "@jupyter-widgets/controls",
            "layout": "IPY_MODEL_60f7ad4fbb274581ad32520ab06b22b0"
          }
        },
        "1a9be3d40b044727a8c326f4fed9c318": {
          "model_module": "@jupyter-widgets/controls",
          "model_name": "ProgressStyleModel",
          "state": {
            "_view_name": "StyleView",
            "_model_name": "ProgressStyleModel",
            "description_width": "initial",
            "_view_module": "@jupyter-widgets/base",
            "_model_module_version": "1.5.0",
            "_view_count": null,
            "_view_module_version": "1.2.0",
            "bar_color": null,
            "_model_module": "@jupyter-widgets/controls"
          }
        },
        "0c55a28defa345c5950085ed35409797": {
          "model_module": "@jupyter-widgets/base",
          "model_name": "LayoutModel",
          "state": {
            "_view_name": "LayoutView",
            "grid_template_rows": null,
            "right": null,
            "justify_content": null,
            "_view_module": "@jupyter-widgets/base",
            "overflow": null,
            "_model_module_version": "1.2.0",
            "_view_count": null,
            "flex_flow": null,
            "width": null,
            "min_width": null,
            "border": null,
            "align_items": null,
            "bottom": null,
            "_model_module": "@jupyter-widgets/base",
            "top": null,
            "grid_column": null,
            "overflow_y": null,
            "overflow_x": null,
            "grid_auto_flow": null,
            "grid_area": null,
            "grid_template_columns": null,
            "flex": null,
            "_model_name": "LayoutModel",
            "justify_items": null,
            "grid_row": null,
            "max_height": null,
            "align_content": null,
            "visibility": null,
            "align_self": null,
            "height": null,
            "min_height": null,
            "padding": null,
            "grid_auto_rows": null,
            "grid_gap": null,
            "max_width": null,
            "order": null,
            "_view_module_version": "1.2.0",
            "grid_template_areas": null,
            "object_position": null,
            "object_fit": null,
            "grid_auto_columns": null,
            "margin": null,
            "display": null,
            "left": null
          }
        },
        "aa1ca3641b984b50a24486b2fe30845a": {
          "model_module": "@jupyter-widgets/controls",
          "model_name": "DescriptionStyleModel",
          "state": {
            "_view_name": "StyleView",
            "_model_name": "DescriptionStyleModel",
            "description_width": "",
            "_view_module": "@jupyter-widgets/base",
            "_model_module_version": "1.5.0",
            "_view_count": null,
            "_view_module_version": "1.2.0",
            "_model_module": "@jupyter-widgets/controls"
          }
        },
        "60f7ad4fbb274581ad32520ab06b22b0": {
          "model_module": "@jupyter-widgets/base",
          "model_name": "LayoutModel",
          "state": {
            "_view_name": "LayoutView",
            "grid_template_rows": null,
            "right": null,
            "justify_content": null,
            "_view_module": "@jupyter-widgets/base",
            "overflow": null,
            "_model_module_version": "1.2.0",
            "_view_count": null,
            "flex_flow": null,
            "width": null,
            "min_width": null,
            "border": null,
            "align_items": null,
            "bottom": null,
            "_model_module": "@jupyter-widgets/base",
            "top": null,
            "grid_column": null,
            "overflow_y": null,
            "overflow_x": null,
            "grid_auto_flow": null,
            "grid_area": null,
            "grid_template_columns": null,
            "flex": null,
            "_model_name": "LayoutModel",
            "justify_items": null,
            "grid_row": null,
            "max_height": null,
            "align_content": null,
            "visibility": null,
            "align_self": null,
            "height": null,
            "min_height": null,
            "padding": null,
            "grid_auto_rows": null,
            "grid_gap": null,
            "max_width": null,
            "order": null,
            "_view_module_version": "1.2.0",
            "grid_template_areas": null,
            "object_position": null,
            "object_fit": null,
            "grid_auto_columns": null,
            "margin": null,
            "display": null,
            "left": null
          }
        }
      }
    }
  },
  "cells": [
    {
      "cell_type": "markdown",
      "metadata": {
        "id": "view-in-github",
        "colab_type": "text"
      },
      "source": [
        "<a href=\"https://colab.research.google.com/github/nahumsa/DM-Reconstruction/blob/master/Reconstruct%20DM.ipynb\" target=\"_parent\"><img src=\"https://colab.research.google.com/assets/colab-badge.svg\" alt=\"Open In Colab\"/></a>"
      ]
    },
    {
      "cell_type": "markdown",
      "metadata": {
        "id": "7iavbKiKltUC",
        "colab_type": "text"
      },
      "source": [
        "# Reconstruction of a density matrix"
      ]
    },
    {
      "cell_type": "markdown",
      "metadata": {
        "id": "IyyOmdrhl0M6",
        "colab_type": "text"
      },
      "source": [
        "### Import dependencies for Google Colab"
      ]
    },
    {
      "cell_type": "code",
      "metadata": {
        "id": "or1p7TPNljDn",
        "colab_type": "code",
        "colab": {
          "base_uri": "https://localhost:8080/",
          "height": 121
        },
        "outputId": "22a910ec-21f3-46b7-86db-36fa9ab571d2"
      },
      "source": [
        "! git clone https://github.com/nahumsa/DM-Reconstruction"
      ],
      "execution_count": 146,
      "outputs": [
        {
          "output_type": "stream",
          "text": [
            "Cloning into 'DM-Reconstruction'...\n",
            "remote: Enumerating objects: 96, done.\u001b[K\n",
            "remote: Counting objects:   1% (1/96)\u001b[K\rremote: Counting objects:   2% (2/96)\u001b[K\rremote: Counting objects:   3% (3/96)\u001b[K\rremote: Counting objects:   4% (4/96)\u001b[K\rremote: Counting objects:   5% (5/96)\u001b[K\rremote: Counting objects:   6% (6/96)\u001b[K\rremote: Counting objects:   7% (7/96)\u001b[K\rremote: Counting objects:   8% (8/96)\u001b[K\rremote: Counting objects:   9% (9/96)\u001b[K\rremote: Counting objects:  10% (10/96)\u001b[K\rremote: Counting objects:  11% (11/96)\u001b[K\rremote: Counting objects:  12% (12/96)\u001b[K\rremote: Counting objects:  13% (13/96)\u001b[K\rremote: Counting objects:  14% (14/96)\u001b[K\rremote: Counting objects:  15% (15/96)\u001b[K\rremote: Counting objects:  16% (16/96)\u001b[K\rremote: Counting objects:  17% (17/96)\u001b[K\rremote: Counting objects:  18% (18/96)\u001b[K\rremote: Counting objects:  19% (19/96)\u001b[K\rremote: Counting objects:  20% (20/96)\u001b[K\rremote: Counting objects:  21% (21/96)\u001b[K\rremote: Counting objects:  22% (22/96)\u001b[K\rremote: Counting objects:  23% (23/96)\u001b[K\rremote: Counting objects:  25% (24/96)\u001b[K\rremote: Counting objects:  26% (25/96)\u001b[K\rremote: Counting objects:  27% (26/96)\u001b[K\rremote: Counting objects:  28% (27/96)\u001b[K\rremote: Counting objects:  29% (28/96)\u001b[K\rremote: Counting objects:  30% (29/96)\u001b[K\rremote: Counting objects:  31% (30/96)\u001b[K\rremote: Counting objects:  32% (31/96)\u001b[K\rremote: Counting objects:  33% (32/96)\u001b[K\rremote: Counting objects:  34% (33/96)\u001b[K\rremote: Counting objects:  35% (34/96)\u001b[K\rremote: Counting objects:  36% (35/96)\u001b[K\rremote: Counting objects:  37% (36/96)\u001b[K\rremote: Counting objects:  38% (37/96)\u001b[K\rremote: Counting objects:  39% (38/96)\u001b[K\rremote: Counting objects:  40% (39/96)\u001b[K\rremote: Counting objects:  41% (40/96)\u001b[K\rremote: Counting objects:  42% (41/96)\u001b[K\rremote: Counting objects:  43% (42/96)\u001b[K\rremote: Counting objects:  44% (43/96)\u001b[K\rremote: Counting objects:  45% (44/96)\u001b[K\rremote: Counting objects:  46% (45/96)\u001b[K\rremote: Counting objects:  47% (46/96)\u001b[K\rremote: Counting objects:  48% (47/96)\u001b[K\rremote: Counting objects:  50% (48/96)\u001b[K\rremote: Counting objects:  51% (49/96)\u001b[K\rremote: Counting objects:  52% (50/96)\u001b[K\rremote: Counting objects:  53% (51/96)\u001b[K\rremote: Counting objects:  54% (52/96)\u001b[K\rremote: Counting objects:  55% (53/96)\u001b[K\rremote: Counting objects:  56% (54/96)\u001b[K\rremote: Counting objects:  57% (55/96)\u001b[K\rremote: Counting objects:  58% (56/96)\u001b[K\rremote: Counting objects:  59% (57/96)\u001b[K\rremote: Counting objects:  60% (58/96)\u001b[K\rremote: Counting objects:  61% (59/96)\u001b[K\rremote: Counting objects:  62% (60/96)\u001b[K\rremote: Counting objects:  63% (61/96)\u001b[K\rremote: Counting objects:  64% (62/96)\u001b[K\rremote: Counting objects:  65% (63/96)\u001b[K\rremote: Counting objects:  66% (64/96)\u001b[K\rremote: Counting objects:  67% (65/96)\u001b[K\rremote: Counting objects:  68% (66/96)\u001b[K\rremote: Counting objects:  69% (67/96)\u001b[K\rremote: Counting objects:  70% (68/96)\u001b[K\rremote: Counting objects:  71% (69/96)\u001b[K\rremote: Counting objects:  72% (70/96)\u001b[K\rremote: Counting objects:  73% (71/96)\u001b[K\rremote: Counting objects:  75% (72/96)\u001b[K\rremote: Counting objects:  76% (73/96)\u001b[K\rremote: Counting objects:  77% (74/96)\u001b[K\rremote: Counting objects:  78% (75/96)\u001b[K\rremote: Counting objects:  79% (76/96)\u001b[K\rremote: Counting objects:  80% (77/96)\u001b[K\rremote: Counting objects:  81% (78/96)\u001b[K\rremote: Counting objects:  82% (79/96)\u001b[K\rremote: Counting objects:  83% (80/96)\u001b[K\rremote: Counting objects:  84% (81/96)\u001b[K\rremote: Counting objects:  85% (82/96)\u001b[K\rremote: Counting objects:  86% (83/96)\u001b[K\rremote: Counting objects:  87% (84/96)\u001b[K\rremote: Counting objects:  88% (85/96)\u001b[K\rremote: Counting objects:  89% (86/96)\u001b[K\rremote: Counting objects:  90% (87/96)\u001b[K\rremote: Counting objects:  91% (88/96)\u001b[K\rremote: Counting objects:  92% (89/96)\u001b[K\rremote: Counting objects:  93% (90/96)\u001b[K\rremote: Counting objects:  94% (91/96)\u001b[K\rremote: Counting objects:  95% (92/96)\u001b[K\rremote: Counting objects:  96% (93/96)\u001b[K\rremote: Counting objects:  97% (94/96)\u001b[K\rremote: Counting objects:  98% (95/96)\u001b[K\rremote: Counting objects: 100% (96/96)\u001b[K\rremote: Counting objects: 100% (96/96), done.\u001b[K\n",
            "remote: Compressing objects:   1% (1/89)\u001b[K\rremote: Compressing objects:   2% (2/89)\u001b[K\rremote: Compressing objects:   3% (3/89)\u001b[K\rremote: Compressing objects:   4% (4/89)\u001b[K\rremote: Compressing objects:   5% (5/89)\u001b[K\rremote: Compressing objects:   6% (6/89)\u001b[K\rremote: Compressing objects:   7% (7/89)\u001b[K\rremote: Compressing objects:   8% (8/89)\u001b[K\rremote: Compressing objects:  10% (9/89)\u001b[K\rremote: Compressing objects:  11% (10/89)\u001b[K\rremote: Compressing objects:  12% (11/89)\u001b[K\rremote: Compressing objects:  13% (12/89)\u001b[K\rremote: Compressing objects:  14% (13/89)\u001b[K\rremote: Compressing objects:  15% (14/89)\u001b[K\rremote: Compressing objects:  16% (15/89)\u001b[K\rremote: Compressing objects:  17% (16/89)\u001b[K\rremote: Compressing objects:  19% (17/89)\u001b[K\rremote: Compressing objects:  20% (18/89)\u001b[K\rremote: Compressing objects:  21% (19/89)\u001b[K\rremote: Compressing objects:  22% (20/89)\u001b[K\rremote: Compressing objects:  23% (21/89)\u001b[K\rremote: Compressing objects:  24% (22/89)\u001b[K\rremote: Compressing objects:  25% (23/89)\u001b[K\rremote: Compressing objects:  26% (24/89)\u001b[K\rremote: Compressing objects:  28% (25/89)\u001b[K\rremote: Compressing objects:  29% (26/89)\u001b[K\rremote: Compressing objects:  30% (27/89)\u001b[K\rremote: Compressing objects:  31% (28/89)\u001b[K\rremote: Compressing objects:  32% (29/89)\u001b[K\rremote: Compressing objects:  33% (30/89)\u001b[K\rremote: Compressing objects:  34% (31/89)\u001b[K\rremote: Compressing objects:  35% (32/89)\u001b[K\rremote: Compressing objects:  37% (33/89)\u001b[K\rremote: Compressing objects:  38% (34/89)\u001b[K\rremote: Compressing objects:  39% (35/89)\u001b[K\rremote: Compressing objects:  40% (36/89)\u001b[K\rremote: Compressing objects:  41% (37/89)\u001b[K\rremote: Compressing objects:  42% (38/89)\u001b[K\rremote: Compressing objects:  43% (39/89)\u001b[K\rremote: Compressing objects:  44% (40/89)\u001b[K\rremote: Compressing objects:  46% (41/89)\u001b[K\rremote: Compressing objects:  47% (42/89)\u001b[K\rremote: Compressing objects:  48% (43/89)\u001b[K\rremote: Compressing objects:  49% (44/89)\u001b[K\rremote: Compressing objects:  50% (45/89)\u001b[K\rremote: Compressing objects:  51% (46/89)\u001b[K\rremote: Compressing objects:  52% (47/89)\u001b[K\rremote: Compressing objects:  53% (48/89)\u001b[K\rremote: Compressing objects:  55% (49/89)\u001b[K\rremote: Compressing objects:  56% (50/89)\u001b[K\rremote: Compressing objects:  57% (51/89)\u001b[K\rremote: Compressing objects:  58% (52/89)\u001b[K\rremote: Compressing objects:  59% (53/89)\u001b[K\rremote: Compressing objects:  60% (54/89)\u001b[K\rremote: Compressing objects:  61% (55/89)\u001b[K\rremote: Compressing objects:  62% (56/89)\u001b[K\rremote: Compressing objects:  64% (57/89)\u001b[K\rremote: Compressing objects:  65% (58/89)\u001b[K\rremote: Compressing objects:  66% (59/89)\u001b[K\rremote: Compressing objects:  67% (60/89)\u001b[K\rremote: Compressing objects:  68% (61/89)\u001b[K\rremote: Compressing objects:  69% (62/89)\u001b[K\rremote: Compressing objects:  70% (63/89)\u001b[K\rremote: Compressing objects:  71% (64/89)\u001b[K\rremote: Compressing objects:  73% (65/89)\u001b[K\rremote: Compressing objects:  74% (66/89)\u001b[K\rremote: Compressing objects:  75% (67/89)\u001b[K\rremote: Compressing objects:  76% (68/89)\u001b[K\rremote: Compressing objects:  77% (69/89)\u001b[K\rremote: Compressing objects:  78% (70/89)\u001b[K\rremote: Compressing objects:  79% (71/89)\u001b[K\rremote: Compressing objects:  80% (72/89)\u001b[K\rremote: Compressing objects:  82% (73/89)\u001b[K\rremote: Compressing objects:  83% (74/89)\u001b[K\rremote: Compressing objects:  84% (75/89)\u001b[K\rremote: Compressing objects:  85% (76/89)\u001b[K\rremote: Compressing objects:  86% (77/89)\u001b[K\rremote: Compressing objects:  87% (78/89)\u001b[K\rremote: Compressing objects:  88% (79/89)\u001b[K\rremote: Compressing objects:  89% (80/89)\u001b[K\rremote: Compressing objects:  91% (81/89)\u001b[K\rremote: Compressing objects:  92% (82/89)\u001b[K\rremote: Compressing objects:  93% (83/89)\u001b[K\rremote: Compressing objects:  94% (84/89)\u001b[K\rremote: Compressing objects:  95% (85/89)\u001b[K\rremote: Compressing objects:  96% (86/89)\u001b[K\rremote: Compressing objects:  97% (87/89)\u001b[K\rremote: Compressing objects:  98% (88/89)\u001b[K\rremote: Compressing objects: 100% (89/89)\u001b[K\rremote: Compressing objects: 100% (89/89), done.\u001b[K\n",
            "Unpacking objects:   1% (1/96)   \rUnpacking objects:   2% (2/96)   \rUnpacking objects:   3% (3/96)   \rUnpacking objects:   4% (4/96)   \rUnpacking objects:   5% (5/96)   \rUnpacking objects:   6% (6/96)   \rUnpacking objects:   7% (7/96)   \rUnpacking objects:   8% (8/96)   \rUnpacking objects:   9% (9/96)   \rUnpacking objects:  10% (10/96)   \rUnpacking objects:  11% (11/96)   \rUnpacking objects:  12% (12/96)   \rUnpacking objects:  13% (13/96)   \rUnpacking objects:  14% (14/96)   \rUnpacking objects:  15% (15/96)   \rUnpacking objects:  16% (16/96)   \rUnpacking objects:  17% (17/96)   \rUnpacking objects:  18% (18/96)   \rUnpacking objects:  19% (19/96)   \rUnpacking objects:  20% (20/96)   \rUnpacking objects:  21% (21/96)   \rUnpacking objects:  22% (22/96)   \rUnpacking objects:  23% (23/96)   \rUnpacking objects:  25% (24/96)   \rUnpacking objects:  26% (25/96)   \rUnpacking objects:  27% (26/96)   \rUnpacking objects:  28% (27/96)   \rUnpacking objects:  29% (28/96)   \rUnpacking objects:  30% (29/96)   \rUnpacking objects:  31% (30/96)   \rUnpacking objects:  32% (31/96)   \rUnpacking objects:  33% (32/96)   \rUnpacking objects:  34% (33/96)   \rUnpacking objects:  35% (34/96)   \rUnpacking objects:  36% (35/96)   \rUnpacking objects:  37% (36/96)   \rUnpacking objects:  38% (37/96)   \rUnpacking objects:  39% (38/96)   \rUnpacking objects:  40% (39/96)   \rUnpacking objects:  41% (40/96)   \rUnpacking objects:  42% (41/96)   \rUnpacking objects:  43% (42/96)   \rUnpacking objects:  44% (43/96)   \rUnpacking objects:  45% (44/96)   \rUnpacking objects:  46% (45/96)   \rUnpacking objects:  47% (46/96)   \rUnpacking objects:  48% (47/96)   \rUnpacking objects:  50% (48/96)   \rUnpacking objects:  51% (49/96)   \rUnpacking objects:  52% (50/96)   \rUnpacking objects:  53% (51/96)   \rUnpacking objects:  54% (52/96)   \rUnpacking objects:  55% (53/96)   \rremote: Total 96 (delta 44), reused 14 (delta 2), pack-reused 0\u001b[K\n",
            "Unpacking objects:  56% (54/96)   \rUnpacking objects:  57% (55/96)   \rUnpacking objects:  58% (56/96)   \rUnpacking objects:  59% (57/96)   \rUnpacking objects:  60% (58/96)   \rUnpacking objects:  61% (59/96)   \rUnpacking objects:  62% (60/96)   \rUnpacking objects:  63% (61/96)   \rUnpacking objects:  64% (62/96)   \rUnpacking objects:  65% (63/96)   \rUnpacking objects:  66% (64/96)   \rUnpacking objects:  67% (65/96)   \rUnpacking objects:  68% (66/96)   \rUnpacking objects:  69% (67/96)   \rUnpacking objects:  70% (68/96)   \rUnpacking objects:  71% (69/96)   \rUnpacking objects:  72% (70/96)   \rUnpacking objects:  73% (71/96)   \rUnpacking objects:  75% (72/96)   \rUnpacking objects:  76% (73/96)   \rUnpacking objects:  77% (74/96)   \rUnpacking objects:  78% (75/96)   \rUnpacking objects:  79% (76/96)   \rUnpacking objects:  80% (77/96)   \rUnpacking objects:  81% (78/96)   \rUnpacking objects:  82% (79/96)   \rUnpacking objects:  83% (80/96)   \rUnpacking objects:  84% (81/96)   \rUnpacking objects:  85% (82/96)   \rUnpacking objects:  86% (83/96)   \rUnpacking objects:  87% (84/96)   \rUnpacking objects:  88% (85/96)   \rUnpacking objects:  89% (86/96)   \rUnpacking objects:  90% (87/96)   \rUnpacking objects:  91% (88/96)   \rUnpacking objects:  92% (89/96)   \rUnpacking objects:  93% (90/96)   \rUnpacking objects:  94% (91/96)   \rUnpacking objects:  95% (92/96)   \rUnpacking objects:  96% (93/96)   \rUnpacking objects:  97% (94/96)   \rUnpacking objects:  98% (95/96)   \rUnpacking objects: 100% (96/96)   \rUnpacking objects: 100% (96/96), done.\n"
          ],
          "name": "stdout"
        }
      ]
    },
    {
      "cell_type": "code",
      "metadata": {
        "id": "X2mpd0AWmLyu",
        "colab_type": "code",
        "colab": {
          "base_uri": "https://localhost:8080/",
          "height": 86
        },
        "outputId": "d0fd9014-83da-4805-8d70-d0ba291e228c"
      },
      "source": [
        "!pip install qutip"
      ],
      "execution_count": 147,
      "outputs": [
        {
          "output_type": "stream",
          "text": [
            "Requirement already satisfied: qutip in /usr/local/lib/python3.6/dist-packages (4.5.0)\n",
            "Requirement already satisfied: cython>=0.21 in /usr/local/lib/python3.6/dist-packages (from qutip) (0.29.17)\n",
            "Requirement already satisfied: numpy>=1.12 in /usr/local/lib/python3.6/dist-packages (from qutip) (1.18.3)\n",
            "Requirement already satisfied: scipy>=1.0 in /usr/local/lib/python3.6/dist-packages (from qutip) (1.4.1)\n"
          ],
          "name": "stdout"
        }
      ]
    },
    {
      "cell_type": "code",
      "metadata": {
        "id": "krooM51-ls4K",
        "colab_type": "code",
        "outputId": "f2370700-39f5-4826-9d69-a06bec56eac3",
        "colab": {
          "base_uri": "https://localhost:8080/",
          "height": 34
        }
      },
      "source": [
        "% cd DM-Reconstruction/"
      ],
      "execution_count": 148,
      "outputs": [
        {
          "output_type": "stream",
          "text": [
            "/content/DM-Reconstruction/DM-Reconstruction\n"
          ],
          "name": "stdout"
        }
      ]
    },
    {
      "cell_type": "markdown",
      "metadata": {
        "id": "51n6qyGel7Cu",
        "colab_type": "text"
      },
      "source": [
        "##Import Dependencies"
      ]
    },
    {
      "cell_type": "code",
      "metadata": {
        "id": "s6XbBlzomUE1",
        "colab_type": "code",
        "colab": {}
      },
      "source": [
        "try:\n",
        "  %tensorflow_version 2.x\n",
        "\n",
        "except Exception:\n",
        "  pass\n",
        "  \n",
        "import tensorflow as tf\n",
        "\n",
        "#Set Random Seed for reproduction\n",
        "tf.random.set_seed(1234)\n",
        "\n",
        "# Remove warnings\n",
        "import logging\n",
        "logging.getLogger('tensorflow').disabled = True\n",
        "\n",
        "#Use this to not need to initialize tensors outside session\n",
        "tf.config.experimental_run_functions_eagerly(True)"
      ],
      "execution_count": 0,
      "outputs": []
    },
    {
      "cell_type": "code",
      "metadata": {
        "id": "BeM7wtQQxEJb",
        "colab_type": "code",
        "colab": {
          "base_uri": "https://localhost:8080/",
          "height": 52
        },
        "outputId": "49662650-f39e-4bb6-9be3-b6ed299555da"
      },
      "source": [
        "%load_ext autoreload\n",
        "%autoreload 2"
      ],
      "execution_count": 150,
      "outputs": [
        {
          "output_type": "stream",
          "text": [
            "The autoreload extension is already loaded. To reload it, use:\n",
            "  %reload_ext autoreload\n"
          ],
          "name": "stdout"
        }
      ]
    },
    {
      "cell_type": "code",
      "metadata": {
        "id": "11b8B7JbmhC0",
        "colab_type": "code",
        "colab": {}
      },
      "source": [
        "%matplotlib inline\n",
        "import matplotlib.pyplot as plt\n",
        "import numpy as np\n",
        "import qutip\n",
        "from tqdm.notebook import tqdm"
      ],
      "execution_count": 0,
      "outputs": []
    },
    {
      "cell_type": "markdown",
      "metadata": {
        "id": "mPm1NbddH2kC",
        "colab_type": "text"
      },
      "source": [
        "## Creating dataset"
      ]
    },
    {
      "cell_type": "code",
      "metadata": {
        "id": "V9UD_UPnoqia",
        "colab_type": "code",
        "colab": {}
      },
      "source": [
        "from Utils.Dataset import create_dataset\n",
        "\n",
        "samples_train = 5000\n",
        "states_train, measurements_train, labels_train = create_dataset(samples_train)\n",
        "\n",
        "samples_test = 3000\n",
        "states_test, measurements_test, labels_test = create_dataset(samples_test)"
      ],
      "execution_count": 0,
      "outputs": []
    },
    {
      "cell_type": "code",
      "metadata": {
        "id": "s6dn7Kgxsbq9",
        "colab_type": "code",
        "colab": {}
      },
      "source": [
        "from Utils.Dataset import create_x\n",
        "\n",
        "#Transforming in an np.array\n",
        "X_train = np.array(create_x(measurements_train))\n",
        "Y_train = np.array(labels_train)\n",
        "\n",
        "X_test = np.array(create_x(measurements_test))\n",
        "Y_test = np.array(labels_test)\n",
        "\n",
        "#print(f\"Shape of the Training: \\n X: {X_train.shape}\")"
      ],
      "execution_count": 0,
      "outputs": []
    },
    {
      "cell_type": "markdown",
      "metadata": {
        "id": "779vLn76r_nf",
        "colab_type": "text"
      },
      "source": [
        "# Models"
      ]
    },
    {
      "cell_type": "markdown",
      "metadata": {
        "id": "46tzC7I695H7",
        "colab_type": "text"
      },
      "source": [
        "## Using Trace distance as a loss function"
      ]
    },
    {
      "cell_type": "code",
      "metadata": {
        "id": "-V6Jjo0U_SZO",
        "colab_type": "code",
        "colab": {}
      },
      "source": [
        "from Models.TVAE import TraceVAE\n",
        "\n",
        "ZDIM = 20\n",
        "input_dim = X_train.shape[1]\n",
        "hidden_dims = [64,128,256]\n",
        "batchsize = 32\n",
        "\n",
        "vae = TraceVAE(original_dim=input_dim,\n",
        "               intermediate_dim=hidden_dims,\n",
        "               latent_dim=ZDIM)\n",
        "\n",
        "# Optimizer.\n",
        "optimizer = tf.keras.optimizers.Adam(learning_rate=1e-3)\n",
        "\n",
        "vae.compile(optimizer=optimizer)\n",
        "\n",
        "# Prepare a dataset.\n",
        "dataset = tf.data.Dataset.from_tensor_slices(X_train)\n",
        "dataset = dataset.shuffle(buffer_size=1024).batch(batchsize)"
      ],
      "execution_count": 0,
      "outputs": []
    },
    {
      "cell_type": "code",
      "metadata": {
        "id": "KTSxXl85zy2L",
        "colab_type": "code",
        "outputId": "fc7e70dc-b7b2-44de-f3f6-ef30661007c5",
        "colab": {
          "base_uri": "https://localhost:8080/",
          "height": 558,
          "referenced_widgets": [
            "3b74d9836a724ef5bd77db9116c29b3c",
            "5625db634db64f8e9e7312d4fa0fbe3a",
            "8768f32db92b46818d1830091ec9216e",
            "2a43c2fd2cc24721954223c10df34baf",
            "46b71880fe59457db96fe21299227873",
            "ca156aae3da84741a2bdcc1107af456c",
            "e4cc91c3d98848ba82555e196b7c7e11",
            "4f1803e9a9b94587815004704def4304"
          ]
        }
      },
      "source": [
        "from Utils.Plotter import PeriodicPlotter\n",
        "\n",
        "r_loss = 10.\n",
        "beta = 1e-2\n",
        "epochs = 20\n",
        "\n",
        "# Periodic Plotter for loss\n",
        "plotter = PeriodicPlotter(sec=5, xlabel='Epochs', ylabel='Loss')\n",
        "\n",
        "loss_epochs = vae.training(dataset, epochs, r_loss, beta, Plotter=plotter)"
      ],
      "execution_count": 0,
      "outputs": [
        {
          "output_type": "display_data",
          "data": {
            "image/png": "[encoded data removed]",
            "text/plain": [
              "<Figure size 432x288 with 1 Axes>"
            ]
          },
          "metadata": {
            "tags": []
          }
        },
        {
          "output_type": "stream",
          "text": [
            "\n"
          ],
          "name": "stdout"
        },
        {
          "output_type": "display_data",
          "data": {
            "image/png": "[encoded data removed]",
            "text/plain": [
              "<Figure size 432x288 with 1 Axes>"
            ]
          },
          "metadata": {
            "tags": [],
            "needs_background": "light"
          }
        }
      ]
    },
    {
      "cell_type": "code",
      "metadata": {
        "id": "EJuxEm_3xyMt",
        "colab_type": "code",
        "outputId": "6dca8145-cbcc-4987-fe3f-a37bbfd2d14d",
        "colab": {
          "base_uri": "https://localhost:8080/",
          "height": 338
        }
      },
      "source": [
        "fig = plt.figure(figsize=(14,5))\n",
        "gs = fig.add_gridspec(1, 3)\n",
        "ax1 = fig.add_subplot(gs[0, 0])\n",
        "ax2 = fig.add_subplot(gs[0, 1])\n",
        "\n",
        "\n",
        "ax1.imshow((X_train[0:20]), cmap=\"gray\")\n",
        "ax1.set_title('Original', size=16)\n",
        "\n",
        "ax2.imshow(vae.predict(X_train[0:20]), cmap=\"gray\")\n",
        "ax2.set_title('Reconstruction', size=16)\n",
        "\n",
        "#_, _, z = vae.encoder(X_test)\n",
        "#z = z.numpy()\n",
        "\n",
        "#ax3 = fig.add_subplot(gs[0, 2])\n",
        "#ims = ax3.scatter(z[:,0], z[:,1], c=Y_test)\n",
        "#ax3.set_title('Latent Space', size=16)\n",
        "#plt.colorbar(ims, ax=ax3)\n",
        "\n",
        "plt.show()"
      ],
      "execution_count": 0,
      "outputs": [
        {
          "output_type": "display_data",
          "data": {
            "image/png": "[encoded data removed]",
            "text/plain": [
              "<Figure size 1008x360 with 2 Axes>"
            ]
          },
          "metadata": {
            "tags": [],
            "needs_background": "light"
          }
        }
      ]
    },
    {
      "cell_type": "markdown",
      "metadata": {
        "id": "lN6qbKS_FVt-",
        "colab_type": "text"
      },
      "source": [
        "# Denoising measurements with gaussian error"
      ]
    },
    {
      "cell_type": "code",
      "metadata": {
        "id": "ErHKj87QFfLU",
        "colab_type": "code",
        "outputId": "f0d45f1f-54e3-4f24-9762-a5d3f1f2b1c7",
        "colab": {
          "base_uri": "https://localhost:8080/",
          "height": 69
        }
      },
      "source": [
        "from Utils.Dataset import create_x\n",
        "n_measurements = len(measurements_train[0])\n",
        "noise_factor = 1.\n",
        "\n",
        "#Transforming in an np.array\n",
        "X_train = np.array(create_x(measurements_train)) + noise_factor*np.random.randn(samples_train,n_measurements)\n",
        "Y_train = np.array(create_x(measurements_train))\n",
        "labels_train = np.array(labels_train)\n",
        "\n",
        "X_test = np.array(create_x(measurements_test)) + noise_factor*np.random.randn(samples_test,n_measurements)\n",
        "Y_test = np.array(create_x(measurements_test))\n",
        "labels_test = np.array(labels_test)\n",
        "\n",
        "print(f\"Shape of the Training: \\n X: {X_train.shape} \\n Y: {Y_train.shape}\")"
      ],
      "execution_count": 0,
      "outputs": [
        {
          "output_type": "stream",
          "text": [
            "Shape of the Training: \n",
            " X: (5000, 15) \n",
            " Y: (5000, 15)\n"
          ],
          "name": "stdout"
        }
      ]
    },
    {
      "cell_type": "code",
      "metadata": {
        "id": "OaKSLr3KGQP7",
        "colab_type": "code",
        "colab": {}
      },
      "source": [
        "from Models.TVAE import TraceVAE\n",
        "from Utils.QMetrics import trace_loss\n",
        "\n",
        "class Denoise(TraceVAE):\n",
        "  def __init__(self,\n",
        "               original_dim,\n",
        "               intermediate_dim,\n",
        "               latent_dim,               \n",
        "               **kwargs):    \n",
        "\n",
        "    super(Denoise, self).__init__(original_dim,\n",
        "                                   intermediate_dim,\n",
        "                                   latent_dim)\n",
        "  def training_step(self, x, y, r_loss, beta):\n",
        "    \"\"\"Training step for the VAE.\n",
        "  \n",
        "    Parameters\n",
        "    -------------------------------------------\n",
        "    x: Data with noise\n",
        "    y: Data without noise\n",
        "    VAE(tf.keras.Model): Variational Autoencoder model. \n",
        "    optimizer(tf.keras.optimizer): Optimizer used.  \n",
        "    r_loss(float): Parameter controlling reconstruction loss.\n",
        "    beta(float): Parameter controlling the KL divergence.\n",
        "\n",
        "    Return:\n",
        "    Loss(float): Loss value of the training step.\n",
        "\n",
        "    \"\"\"\n",
        "    with tf.GradientTape() as tape:\n",
        "      reconstructed = self(x)  # Compute input reconstruction.\n",
        "      # Compute loss.\n",
        "      print(len(y))\n",
        "      loss = trace_loss(y, reconstructed)\n",
        "      kl = sum(self.losses)\n",
        "      loss = r_loss * loss + beta*kl  \n",
        "    \n",
        "    # Update the weights of the VAE.\n",
        "    grads = tape.gradient(loss, self.trainable_weights)\n",
        "    self.optimizer.apply_gradients(zip(grads, self.trainable_weights))    \n",
        "    return loss\n",
        "\n",
        "  def training(self, dataset,\n",
        "             epochs, r_loss, beta,              \n",
        "             Plotter=None):\n",
        "    \"\"\" Training of the Variational Autoencoder for a \n",
        "    tensorflow.dataset.\n",
        "\n",
        "    Parameters\n",
        "    -------------------------------------------\n",
        "    dataset(tf.data.Dataset): Dataset of the data.\n",
        "    VAE(tf.keras.Model): Variational Autoencoder model.\n",
        "    epochs(int): Number of epochs.\n",
        "    r_loss(float): Parameter controlling reconstruction loss.\n",
        "    beta(float): Parameter controlling the KL divergence.  \n",
        "    Plotter(object): Plotter object to show how the training is\n",
        "                    going (Default=None).\n",
        "\n",
        "    \"\"\"\n",
        "\n",
        "    losses = []\n",
        "    epochs = range(epochs)\n",
        "\n",
        "    for i in tqdm(epochs, desc='Epochs'):\n",
        "      losses_epochs = []\n",
        "      for step, (x, y) in enumerate(dataset):\n",
        "\n",
        "        loss = self.training_step(x, y, r_loss, beta)\n",
        "  \n",
        "        # Logging.\n",
        "        losses_epochs.append(float(loss))\n",
        "      losses.append(np.mean(losses_epochs))\n",
        "    \n",
        "      if Plotter != None:\n",
        "        Plotter.plot(losses)\n",
        "\n",
        "    return losses "
      ],
      "execution_count": 0,
      "outputs": []
    },
    {
      "cell_type": "code",
      "metadata": {
        "id": "Zd2y3694_ryj",
        "colab_type": "code",
        "colab": {}
      },
      "source": [
        "ZDIM = 20\n",
        "input_dim = X_train.shape[1]\n",
        "hidden_dims = [64,128,256]\n",
        "batchsize = 512\n",
        "\n",
        "denoising = Denoise(original_dim=input_dim,\n",
        "               intermediate_dim=hidden_dims,\n",
        "               latent_dim=ZDIM)\n",
        "\n",
        "# Optimizer.\n",
        "optimizer = tf.keras.optimizers.Adam(learning_rate=1e-3)\n",
        "\n",
        "denoising.compile(optimizer=optimizer)"
      ],
      "execution_count": 0,
      "outputs": []
    },
    {
      "cell_type": "code",
      "metadata": {
        "id": "jxpej_YvAi_g",
        "colab_type": "code",
        "colab": {}
      },
      "source": [
        "# Prepare a dataset.\n",
        "dataset = tf.data.Dataset.from_tensor_slices((X_train,Y_train))\n",
        "dataset = dataset.shuffle(buffer_size=1024).batch(batchsize)"
      ],
      "execution_count": 0,
      "outputs": []
    },
    {
      "cell_type": "code",
      "metadata": {
        "id": "-FyXgTU1RWLw",
        "colab_type": "code",
        "colab": {}
      },
      "source": [
        "from Utils.Plotter import PeriodicPlotter\n",
        "\n",
        "r_loss = 10.\n",
        "beta = 1e-2\n",
        "epochs = 1\n",
        "\n",
        "# Periodic Plotter for loss\n",
        "plotter = PeriodicPlotter(sec=5, xlabel='Epochs', ylabel='Loss')\n",
        "\n",
        "loss_epochs = denoising.training(dataset, epochs, r_loss, beta, Plotter=plotter)"
      ],
      "execution_count": 0,
      "outputs": []
    },
    {
      "cell_type": "code",
      "metadata": {
        "id": "4B6T848SRfjF",
        "colab_type": "code",
        "outputId": "e684a77b-d1af-4c79-bf0e-4e772377a287",
        "colab": {
          "base_uri": "https://localhost:8080/",
          "height": 338
        }
      },
      "source": [
        "fig = plt.figure(figsize=(14,5))\n",
        "gs = fig.add_gridspec(1, 3)\n",
        "ax1 = fig.add_subplot(gs[0, 0])\n",
        "ax2 = fig.add_subplot(gs[0, 1])\n",
        "ax3 = fig.add_subplot(gs[0, 2])\n",
        "\n",
        "ax1.imshow((X_test[0:20]), cmap=\"gray\")\n",
        "ax1.set_title('Original with noise', size=16)\n",
        "\n",
        "ax2.imshow(denoising.predict(X_test[0:20]), cmap=\"gray\")\n",
        "ax2.set_title('Denoising', size=16)\n",
        "\n",
        "ax3.imshow((Y_test[0:20]), cmap=\"gray\")\n",
        "ax3.set_title('Original without noise', size=16)\n",
        "plt.show()"
      ],
      "execution_count": 0,
      "outputs": [
        {
          "output_type": "display_data",
          "data": {
            "image/png": "[encoded data removed]",
            "text/plain": [
              "<Figure size 1008x360 with 3 Axes>"
            ]
          },
          "metadata": {
            "tags": [],
            "needs_background": "light"
          }
        }
      ]
    },
    {
      "cell_type": "markdown",
      "metadata": {
        "id": "L_SDl0EmxBSo",
        "colab_type": "text"
      },
      "source": [
        "# Trace distance with separable states"
      ]
    },
    {
      "cell_type": "code",
      "metadata": {
        "colab_type": "code",
        "id": "zKj7nl6ZyY45",
        "colab": {}
      },
      "source": [
        "from Utils.Dataset import create_dataset\n",
        "\n",
        "samples_train = 5000\n",
        "states_train, measurements_train, labels_train = create_dataset(samples_train)\n",
        "\n",
        "samples_test = 3000\n",
        "states_test, measurements_test, labels_test = create_dataset(samples_test)"
      ],
      "execution_count": 0,
      "outputs": []
    },
    {
      "cell_type": "code",
      "metadata": {
        "colab_type": "code",
        "id": "U4GdVPPOyY5B",
        "colab": {}
      },
      "source": [
        "from Utils.Dataset import create_x\n",
        "\n",
        "#Transforming in an np.array\n",
        "X_train = np.array(create_x(measurements_train))\n",
        "Y_train = np.array(labels_train)\n",
        "\n",
        "X_test = np.array(create_x(measurements_test))\n",
        "Y_test = np.array(labels_test)\n",
        "\n",
        "# Prepare a dataset.\n",
        "dataset = tf.data.Dataset.from_tensor_slices(X_train)\n",
        "dataset = dataset.shuffle(buffer_size=1024).batch(batchsize)"
      ],
      "execution_count": 0,
      "outputs": []
    },
    {
      "cell_type": "code",
      "metadata": {
        "id": "lJWEWEeTwkJf",
        "colab_type": "code",
        "colab": {}
      },
      "source": [
        "from Models.TVAE import TraceVAE\n",
        "from Utils.QMetrics import trace_loss, create_2qubit_density_mat\n",
        "from Utils.Dataset import generate_separable\n",
        "\n",
        "class Entanglement(TraceVAE):\n",
        "  def __init__(self,\n",
        "               original_dim,\n",
        "               intermediate_dim,\n",
        "               latent_dim,               \n",
        "               **kwargs):    \n",
        "\n",
        "    super(Entanglement, self).__init__(original_dim,\n",
        "                                   intermediate_dim,\n",
        "                                   latent_dim)\n",
        "    \n",
        "  def training_step(self, x, r_loss, beta):\n",
        "    \"\"\"Training step for the VAE.\n",
        "  \n",
        "    Parameters\n",
        "    -------------------------------------------\n",
        "    x: Data.\n",
        "    VAE(tf.keras.Model): Variational Autoencoder model. \n",
        "    optimizer(tf.keras.optimizer): Optimizer used.  \n",
        "    r_loss(float): Parameter controlling reconstruction loss.\n",
        "    beta(float): Parameter controlling the KL divergence.\n",
        "\n",
        "    Return:\n",
        "    Loss(float): Loss value of the training step.\n",
        "\n",
        "    \"\"\"\n",
        "    with tf.GradientTape() as tape:\n",
        "      reconstructed = self(x)  # Compute input reconstruction.\n",
        "      # Compute loss.\n",
        "\n",
        "      sep_states, sep_measurements = generate_separable(len(x))\n",
        "      sep_measurements = tf.Variable(create_x(sep_measurements), dtype=tf.dtypes.complex64)      \n",
        "      loss = trace_loss(sep_measurements, reconstructed)\n",
        "      kl = sum(self.losses)\n",
        "      loss = r_loss * loss + beta*kl  \n",
        "    \n",
        "    # Update the weights of the VAE.\n",
        "    grads = tape.gradient(loss, self.trainable_weights)\n",
        "    self.optimizer.apply_gradients(zip(grads, self.trainable_weights))    \n",
        "    \n",
        "    return loss\n"
      ],
      "execution_count": 0,
      "outputs": []
    },
    {
      "cell_type": "code",
      "metadata": {
        "id": "rDDto2-MyHvV",
        "colab_type": "code",
        "colab": {}
      },
      "source": [
        "ZDIM = 20\n",
        "input_dim = X_train.shape[1]\n",
        "hidden_dims = [64,128,256]\n",
        "batchsize = 512\n",
        "\n",
        "ent = Entanglement(original_dim=input_dim,\n",
        "               intermediate_dim=hidden_dims,\n",
        "               latent_dim=ZDIM)\n",
        "\n",
        "# Optimizer.\n",
        "optimizer = tf.keras.optimizers.Adam(learning_rate=1e-3)\n",
        "\n",
        "ent.compile(optimizer=optimizer)"
      ],
      "execution_count": 0,
      "outputs": []
    },
    {
      "cell_type": "code",
      "metadata": {
        "id": "maahAanByycZ",
        "colab_type": "code",
        "colab": {}
      },
      "source": [
        "from Utils.Plotter import PeriodicPlotter\n",
        "\n",
        "r_loss = 10.\n",
        "beta = 1e-2\n",
        "epochs = 200\n",
        "\n",
        "# Periodic Plotter for loss\n",
        "plotter = PeriodicPlotter(sec=5, xlabel='Epochs', ylabel='Loss')\n",
        "\n",
        "loss_epochs = ent.training(dataset, epochs, r_loss, beta, Plotter=plotter)"
      ],
      "execution_count": 0,
      "outputs": []
    },
    {
      "cell_type": "code",
      "metadata": {
        "id": "ibUO9tFqzg4-",
        "colab_type": "code",
        "outputId": "20a7c90b-74fb-4778-a9a8-841d11ed1afa",
        "colab": {
          "base_uri": "https://localhost:8080/",
          "height": 338
        }
      },
      "source": [
        "fig = plt.figure(figsize=(14,5))\n",
        "gs = fig.add_gridspec(1, 3)\n",
        "ax1 = fig.add_subplot(gs[0, 0])\n",
        "ax2 = fig.add_subplot(gs[0, 1])\n",
        "\n",
        "\n",
        "ax1.imshow((X_train[0:20]), cmap=\"gray\")\n",
        "ax1.set_title('Original', size=16)\n",
        "\n",
        "ax2.imshow(ent.predict(X_train[0:20]), cmap=\"gray\")\n",
        "ax2.set_title('Reconstruction', size=16)\n",
        "\n",
        "#_, _, z = ent.encoder(X_test)\n",
        "#z = z.numpy()\n",
        "\n",
        "#ax3 = fig.add_subplot(gs[0, 2])\n",
        "#ims = ax3.scatter(z[:,0], z[:,1], c=Y_test)\n",
        "#ax3.set_title('Latent Space', size=16)\n",
        "#plt.colorbar(ims, ax=ax3)\n",
        "\n",
        "plt.show()"
      ],
      "execution_count": 0,
      "outputs": [
        {
          "output_type": "display_data",
          "data": {
            "image/png": "[encoded data removed]",
            "text/plain": [
              "<Figure size 1008x360 with 2 Axes>"
            ]
          },
          "metadata": {
            "tags": [],
            "needs_background": "light"
          }
        }
      ]
    },
    {
      "cell_type": "markdown",
      "metadata": {
        "id": "Acb2Judy5b7B",
        "colab_type": "text"
      },
      "source": [
        "### Evaluating entangled and separable states"
      ]
    },
    {
      "cell_type": "markdown",
      "metadata": {
        "id": "_DFr2_pT7lVz",
        "colab_type": "text"
      },
      "source": [
        "\n",
        "Separable"
      ]
    },
    {
      "cell_type": "code",
      "metadata": {
        "id": "c5hsR1sA2q-9",
        "colab_type": "code",
        "outputId": "db074f92-1a85-4b26-97d3-c7347d78b142",
        "colab": {
          "base_uri": "https://localhost:8080/",
          "height": 34
        }
      },
      "source": [
        "from Utils.Dataset import generate_separable\n",
        "n_meas = 1000\n",
        "state, meas = generate_separable(n_meas)\n",
        "meas = np.array(create_x(meas))\n",
        "print(f'Trace loss: {trace_loss(ent(meas),meas)}')"
      ],
      "execution_count": 0,
      "outputs": [
        {
          "output_type": "stream",
          "text": [
            "Trace loss: 0.2567058801651001\n"
          ],
          "name": "stdout"
        }
      ]
    },
    {
      "cell_type": "markdown",
      "metadata": {
        "id": "Ytxu2pP97nGB",
        "colab_type": "text"
      },
      "source": [
        "\n",
        "Entangled"
      ]
    },
    {
      "cell_type": "code",
      "metadata": {
        "id": "regy0oWH2ngQ",
        "colab_type": "code",
        "outputId": "e82714d6-ce2f-40fe-8a77-306bb92fc56b",
        "colab": {
          "base_uri": "https://localhost:8080/",
          "height": 34
        }
      },
      "source": [
        "from Utils.Dataset import generate_entangled\n",
        "n_meas = 1000\n",
        "state, meas = generate_entangled(n_meas)\n",
        "meas = np.array(create_x(meas))\n",
        "print(f'Trace loss: {trace_loss(ent(meas),meas)}')"
      ],
      "execution_count": 0,
      "outputs": [
        {
          "output_type": "stream",
          "text": [
            "Trace loss: 0.3427059054374695\n"
          ],
          "name": "stdout"
        }
      ]
    },
    {
      "cell_type": "markdown",
      "metadata": {
        "id": "YTDsmVeDR2X8",
        "colab_type": "text"
      },
      "source": [
        "# Adding a sample of separable states into training"
      ]
    },
    {
      "cell_type": "code",
      "metadata": {
        "id": "-O1Nr2tX-Wki",
        "colab_type": "code",
        "colab": {}
      },
      "source": [
        "from Utils.Dataset import create_dataset\n",
        "from Utils.Dataset import create_x\n",
        "\n",
        "samples_train = 5000\n",
        "states_train, measurements_train, labels_train = create_dataset(samples_train)\n",
        "\n",
        "samples_test = 3000\n",
        "states_test, measurements_test, labels_test = create_dataset(samples_test)\n",
        "\n",
        "#Transforming in an np.array\n",
        "X_train = np.array(create_x(measurements_train))\n",
        "Y_train = np.array(labels_train)\n",
        "\n",
        "X_test = np.array(create_x(measurements_test))\n",
        "Y_test = np.array(labels_test)\n",
        "\n",
        "# Prepare a dataset.\n",
        "dataset = tf.data.Dataset.from_tensor_slices(X_train)\n",
        "dataset = dataset.shuffle(buffer_size=1024).batch(batchsize)"
      ],
      "execution_count": 0,
      "outputs": []
    },
    {
      "cell_type": "code",
      "metadata": {
        "id": "9Ze6pnqySDLw",
        "colab_type": "code",
        "colab": {}
      },
      "source": [
        "#Adding n_meas separable states to the train data\n",
        "n_meas = 1000\n",
        "state, meas = generate_separable(n_meas)\n",
        "meas = create_x(meas)\n",
        "X_train_aug = np.append(X_train, meas, axis=0)"
      ],
      "execution_count": 0,
      "outputs": []
    },
    {
      "cell_type": "code",
      "metadata": {
        "id": "26W2hpjaSbNT",
        "colab_type": "code",
        "colab": {}
      },
      "source": [
        "from Models.TVAE import TraceVAE\n",
        "\n",
        "ZDIM = 20\n",
        "input_dim = X_train.shape[1]\n",
        "hidden_dims = [64,128,256]\n",
        "batchsize = 32\n",
        "\n",
        "vae = TraceVAE(original_dim=input_dim,\n",
        "               intermediate_dim=hidden_dims,\n",
        "               latent_dim=ZDIM)\n",
        "\n",
        "# Optimizer.\n",
        "optimizer = tf.keras.optimizers.Adam(learning_rate=1e-3)\n",
        "\n",
        "vae.compile(optimizer=optimizer)\n",
        "\n",
        "# Prepare a dataset.\n",
        "dataset = tf.data.Dataset.from_tensor_slices(X_train_aug)\n",
        "dataset = dataset.shuffle(buffer_size=1024).batch(batchsize)"
      ],
      "execution_count": 0,
      "outputs": []
    },
    {
      "cell_type": "code",
      "metadata": {
        "id": "8J9dwDBLTFGm",
        "colab_type": "code",
        "colab": {
          "base_uri": "https://localhost:8080/",
          "height": 558,
          "referenced_widgets": [
            "42e10ed9fb294c95ad5eb29970dde8a6",
            "6d7666fc5abb4feb8cb7db58d0cfdd9f",
            "17b845f9bda147d9ba94824f1f866fe8",
            "9df2de8d83e84a7a85a33df3bb58931b",
            "1a9be3d40b044727a8c326f4fed9c318",
            "0c55a28defa345c5950085ed35409797",
            "aa1ca3641b984b50a24486b2fe30845a",
            "60f7ad4fbb274581ad32520ab06b22b0"
          ]
        },
        "outputId": "9f80d287-adde-4b82-d0ff-d0791f1195f7"
      },
      "source": [
        "from Utils.Plotter import PeriodicPlotter\n",
        "\n",
        "r_loss = 1.\n",
        "beta = 1e-4\n",
        "epochs = 20\n",
        "\n",
        "# Periodic Plotter for loss\n",
        "plotter = PeriodicPlotter(sec=5, xlabel='Epochs', ylabel='Loss')\n",
        "\n",
        "loss_epochs = vae.training(dataset, epochs, r_loss, beta, Plotter=plotter)"
      ],
      "execution_count": 167,
      "outputs": [
        {
          "output_type": "display_data",
          "data": {
            "image/png": "[encoded data removed]",
            "text/plain": [
              "<Figure size 432x288 with 1 Axes>"
            ]
          },
          "metadata": {
            "tags": []
          }
        },
        {
          "output_type": "stream",
          "text": [
            "\n"
          ],
          "name": "stdout"
        },
        {
          "output_type": "display_data",
          "data": {
            "image/png": "[encoded data removed]",
            "text/plain": [
              "<Figure size 432x288 with 1 Axes>"
            ]
          },
          "metadata": {
            "tags": [],
            "needs_background": "light"
          }
        }
      ]
    },
    {
      "cell_type": "code",
      "metadata": {
        "id": "8jMoVNVLTN2n",
        "colab_type": "code",
        "colab": {
          "base_uri": "https://localhost:8080/",
          "height": 338
        },
        "outputId": "6ec8d4c6-a126-41e1-defe-de8a5251d1ab"
      },
      "source": [
        "fig = plt.figure(figsize=(20,5))\n",
        "gs = fig.add_gridspec(1, 3)\n",
        "ax1 = fig.add_subplot(gs[0, 0])\n",
        "ax2 = fig.add_subplot(gs[0, 1])\n",
        "\n",
        "\n",
        "ax1.imshow((X_test[0:20]), cmap=\"gray\")\n",
        "ax1.set_title('Original', size=16)\n",
        "\n",
        "ax2.imshow(vae.predict(X_test[0:20]), cmap=\"gray\")\n",
        "ax2.set_title('Reconstruction', size=16)\n",
        "\n",
        "_, _, z = vae.encoder(X_test)\n",
        "z = z.numpy()\n",
        "\n",
        "ax3 = fig.add_subplot(gs[0, 2])\n",
        "ims = ax3.scatter(z[:,0], z[:,4], alpha=0.5, c=Y_test)\n",
        "ax3.set_title('Latent Space', size=16)\n",
        "plt.colorbar(ims, ax=ax3)\n",
        "\n",
        "plt.show()"
      ],
      "execution_count": 174,
      "outputs": [
        {
          "output_type": "display_data",
          "data": {
            "image/png": "[encoded data removed]",
            "text/plain": [
              "<Figure size 1440x360 with 4 Axes>"
            ]
          },
          "metadata": {
            "tags": [],
            "needs_background": "light"
          }
        }
      ]
    },
    {
      "cell_type": "code",
      "metadata": {
        "id": "C4eXRHYNT07z",
        "colab_type": "code",
        "colab": {}
      },
      "source": [
        ""
      ],
      "execution_count": 0,
      "outputs": []
    }
  ]
}