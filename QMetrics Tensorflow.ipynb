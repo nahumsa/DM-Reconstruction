{
  "nbformat": 4,
  "nbformat_minor": 0,
  "metadata": {
    "colab": {
      "name": "Trace Distance Tensorflow",
      "provenance": [],
      "collapsed_sections": [],
      "authorship_tag": "ABX9TyM/UnEvd/ME39IGiWItlqmL",
      "include_colab_link": true
    },
    "kernelspec": {
      "name": "python3",
      "display_name": "Python 3"
    }
  },
  "cells": [
    {
      "cell_type": "markdown",
      "metadata": {
        "id": "view-in-github",
        "colab_type": "text"
      },
      "source": [
        "<a href=\"https://colab.research.google.com/github/nahumsa/DM-Reconstruction/blob/master/QMetrics%20Tensorflow.ipynb\" target=\"_parent\"><img src=\"https://colab.research.google.com/assets/colab-badge.svg\" alt=\"Open In Colab\"/></a>"
      ]
    },
    {
      "cell_type": "code",
      "metadata": {
        "id": "DW2FrLlAXiv6",
        "colab_type": "code",
        "colab": {
          "base_uri": "https://localhost:8080/",
          "height": 34
        },
        "outputId": "17274dc5-5a04-4d68-daec-c4756ec30de8"
      },
      "source": [
        "import tensorflow as tf\n",
        "from tensorflow import keras\n",
        "import numpy as np\n",
        "print(tf.__version__)"
      ],
      "execution_count": 1,
      "outputs": [
        {
          "output_type": "stream",
          "text": [
            "2.2.0\n"
          ],
          "name": "stdout"
        }
      ]
    },
    {
      "cell_type": "markdown",
      "metadata": {
        "id": "EoIPgpp3Ehm5",
        "colab_type": "text"
      },
      "source": [
        "# Tests"
      ]
    },
    {
      "cell_type": "code",
      "metadata": {
        "id": "sAPtn7AWXkrq",
        "colab_type": "code",
        "colab": {}
      },
      "source": [
        "#Creating pauli matrices\n",
        "sigma_0_np = np.array([[1.,0.],\n",
        "                      [0.,1.]], dtype=np.complex64)\n",
        "\n",
        "sigma_1_np = np.array([[0.,1.],\n",
        "                       [1.,0.]], dtype=np.complex64)\n",
        "\n",
        "sigma_2_np = np.array([[0.,1.j],\n",
        "                       [-1.j,0.]], dtype=np.complex64)\n",
        "\n",
        "sigma_3_np = np.array([[1.,0.],\n",
        "                       [0.,-1.]], dtype=np.complex64)\n",
        "\n",
        "#Converting to tensors\n",
        "sigma_0 = tf.Variable(sigma_0_np, tf.complex64)\n",
        "\n",
        "sigma_1 = tf.Variable(sigma_1_np, tf.complex64)\n",
        "\n",
        "sigma_2 = tf.Variable(sigma_2_np, tf.complex64)\n",
        "\n",
        "sigma_3 = tf.Variable(sigma_3_np, dtype=tf.complex64)"
      ],
      "execution_count": 2,
      "outputs": []
    },
    {
      "cell_type": "code",
      "metadata": {
        "id": "ezzFM6V2CjAp",
        "colab_type": "code",
        "colab": {}
      },
      "source": [
        "def tf_kron(a: tf.Tensor,\n",
        "            b: tf.Tensor) -> tf.Tensor:\n",
        "\n",
        "    \"\"\"Calculates the Kronocker product of two matrices ((2,2) Tensors).\n",
        "\n",
        "    Parameters\n",
        "    -----------------------------------------------------------------------\n",
        "    a(tf.Tensor): Tensor on the left of the product.\n",
        "    b(tf.Tensor): Tensor on the right of the product.\n",
        "\n",
        "    Return\n",
        "    -----------------------------------------------------------------------\n",
        "    (tf.tensor): Kronocker product between a and b.\n",
        "\n",
        "    \"\"\"\n",
        "    assert len(a.shape) == 2\n",
        "    assert len(b.shape) == 2\n",
        "    a_shape = list(b.shape)    \n",
        "    b_shape = list(b.shape)\n",
        "    return tf.reshape(tf.reshape(a,[a_shape[0],1,a_shape[1],1])*tf.reshape(b,[1,b_shape[0],1,b_shape[1]]),[a_shape[0]*b_shape[0],a_shape[1]*b_shape[1]])"
      ],
      "execution_count": 3,
      "outputs": []
    },
    {
      "cell_type": "code",
      "metadata": {
        "id": "AhNQlBsN5V52",
        "colab_type": "code",
        "colab": {
          "base_uri": "https://localhost:8080/",
          "height": 52
        },
        "outputId": "63847d25-c0f0-46f2-d744-ab27cbf3d76d"
      },
      "source": [
        "from itertools import product\n",
        "name_basis_1 = ['I', 'X', 'Y', 'Z']\n",
        "basis_1 = [sigma_0, sigma_1,sigma_2,sigma_3]\n",
        "name_basis_2 = []\n",
        "basis_2 = []\n",
        "for (name_1, meas_1),(name_2,meas_2) in product(zip(name_basis_1, basis_1),zip(name_basis_1, basis_1)):\n",
        "  if name_1 == 'I' and name_2 == 'I':\n",
        "    pass\n",
        "  else:\n",
        "    basis_2.append(tf_kron(meas_1,meas_2))\n",
        "    name_basis_2.append(name_1 + name_2)\n",
        "\n",
        "basis_2_tf = tf.Variable(basis_2)\n",
        "print(name_basis_2)\n",
        "print(basis_2_tf.shape)"
      ],
      "execution_count": 4,
      "outputs": [
        {
          "output_type": "stream",
          "text": [
            "['IX', 'IY', 'IZ', 'XI', 'XX', 'XY', 'XZ', 'YI', 'YX', 'YY', 'YZ', 'ZI', 'ZX', 'ZY', 'ZZ']\n",
            "(15, 4, 4)\n"
          ],
          "name": "stdout"
        }
      ]
    },
    {
      "cell_type": "code",
      "metadata": {
        "id": "mcXTY2ho1Fl4",
        "colab_type": "code",
        "colab": {}
      },
      "source": [
        "meas = [np.random.rand(15),np.random.rand(15),np.random.rand(15),np.random.rand(15)]\n",
        "measurement = np.array(meas, dtype=np.complex64)\n",
        "measurement_tensor = tf.Variable(measurement, tf.complex64)\n",
        "#print(measurement_tensor)"
      ],
      "execution_count": 5,
      "outputs": []
    },
    {
      "cell_type": "code",
      "metadata": {
        "id": "DGOQboKQF5sU",
        "colab_type": "code",
        "colab": {
          "base_uri": "https://localhost:8080/",
          "height": 34
        },
        "outputId": "7d66e886-e4ab-426a-ef85-2a9a54197cf2"
      },
      "source": [
        "ones_II = tf.ones((measurement_tensor.shape[0],1), dtype=tf.dtypes.complex64)\n",
        "II = tf.Variable([tf_kron(sigma_0 , sigma_0)])\n",
        "density_matrix = 0.25*(tf.tensordot(ones_II , II ,axes=1) + tf.tensordot(measurement_tensor,basis_2_tf,axes=1))\n",
        "print(density_matrix.shape)"
      ],
      "execution_count": 6,
      "outputs": [
        {
          "output_type": "stream",
          "text": [
            "(4, 4, 4)\n"
          ],
          "name": "stdout"
        }
      ]
    },
    {
      "cell_type": "code",
      "metadata": {
        "id": "zsFlxsrh4_DY",
        "colab_type": "code",
        "colab": {
          "base_uri": "https://localhost:8080/",
          "height": 86
        },
        "outputId": "8ae31b3b-bc83-463d-dd8b-c74a82320a7b"
      },
      "source": [
        "mat = tf.squeeze(density_matrix)\n",
        "#print(mat)\n",
        "print(f'Eigenvalues: {tf.linalg.eigvalsh(mat)}')\n",
        "log_mat = tf.linalg.logm(mat)"
      ],
      "execution_count": 7,
      "outputs": [
        {
          "output_type": "stream",
          "text": [
            "Eigenvalues: [[-0.34676552+0.j -0.02682498+0.j  0.34494084+0.j  1.0286496 +0.j]\n",
            " [-0.2816484 +0.j  0.07872492+0.j  0.24347967+0.j  0.9594437 +0.j]\n",
            " [-0.31696776+0.j -0.05924157+0.j  0.41280124+0.j  0.9634082 +0.j]\n",
            " [-0.39169022+0.j -0.02072115+0.j  0.24548332+0.j  1.1669284 +0.j]]\n"
          ],
          "name": "stdout"
        }
      ]
    },
    {
      "cell_type": "code",
      "metadata": {
        "id": "mbwXl_7D5FhG",
        "colab_type": "code",
        "colab": {}
      },
      "source": [
        "def pretty_good_fidelity(A,B):\n",
        "  \"\"\" Function for the pretty good fidelity, given by:\n",
        "  Tr(\\sqrt{A}\\sqrt{B})\n",
        "  \n",
        "  \"\"\"\n",
        "  return tf.math.real(tf.linalg.trace(tf.linalg.sqrtm(A)@tf.linalg.sqrtm(B)))"
      ],
      "execution_count": 28,
      "outputs": []
    },
    {
      "cell_type": "code",
      "metadata": {
        "id": "DNf-krha4l5U",
        "colab_type": "code",
        "colab": {
          "base_uri": "https://localhost:8080/",
          "height": 86
        },
        "outputId": "d239a39b-880c-420b-b769-ead5cfd0c7d5"
      },
      "source": [
        "tf.linalg.trace(tf.linalg.sqrtm(mat)@tf.linalg.sqrtm(mat))"
      ],
      "execution_count": 29,
      "outputs": [
        {
          "output_type": "execute_result",
          "data": {
            "text/plain": [
              "<tf.Tensor: shape=(4,), dtype=complex64, numpy=\n",
              "array([0.99999964+4.4470653e-08j, 1.0000004 -1.4901161e-08j,\n",
              "       0.9999999 -4.2840838e-08j, 1.0000005 +4.4237822e-08j],\n",
              "      dtype=complex64)>"
            ]
          },
          "metadata": {
            "tags": []
          },
          "execution_count": 29
        }
      ]
    },
    {
      "cell_type": "code",
      "metadata": {
        "id": "yHpyyvE85TQm",
        "colab_type": "code",
        "colab": {
          "base_uri": "https://localhost:8080/",
          "height": 34
        },
        "outputId": "c4079fd1-97c4-477d-dfed-3c98cb36b6a4"
      },
      "source": [
        "tf.sqrt(pretty_good_fidelity(mat,mat))"
      ],
      "execution_count": 30,
      "outputs": [
        {
          "output_type": "execute_result",
          "data": {
            "text/plain": [
              "<tf.Tensor: shape=(4,), dtype=float32, numpy=array([0.9999998 , 1.0000001 , 0.99999994, 1.0000002 ], dtype=float32)>"
            ]
          },
          "metadata": {
            "tags": []
          },
          "execution_count": 30
        }
      ]
    },
    {
      "cell_type": "markdown",
      "metadata": {
        "id": "uCu-zyXPEeF8",
        "colab_type": "text"
      },
      "source": [
        "# Methods"
      ]
    },
    {
      "cell_type": "markdown",
      "metadata": {
        "id": "p7oEIzibLWxj",
        "colab_type": "text"
      },
      "source": [
        "## One qubit"
      ]
    },
    {
      "cell_type": "code",
      "metadata": {
        "id": "R3Wb2PMtBh7I",
        "colab_type": "code",
        "colab": {}
      },
      "source": [
        "def create_density_mat(measurements: np.array) -> tf.Tensor:\n",
        "  \n",
        "  #Creating the basis\n",
        "  sigma_0_np = np.array([[1.,0.],\n",
        "                        [0.,1.]], dtype=np.complex64)\n",
        "\n",
        "  sigma_1_np = np.array([[0.,1.],\n",
        "                         [1.,0.]], dtype=np.complex64)\n",
        "\n",
        "  sigma_2_np = np.array([[0.,1.j],\n",
        "                         [-1.j,0.]], dtype=np.complex64)\n",
        "\n",
        "  sigma_3_np = np.array([[1.,0.],\n",
        "                        [0.,-1.]], dtype=np.complex64)\n",
        "\n",
        "  #Converting to tensors\n",
        "  sigma_0 = tf.Variable(sigma_0_np, tf.complex64)\n",
        "\n",
        "  sigma_1 = tf.Variable(sigma_1_np, tf.complex64)\n",
        "\n",
        "  sigma_2 = tf.Variable(sigma_2_np, tf.complex64)\n",
        "\n",
        "  sigma_3 = tf.Variable(sigma_3_np, dtype=tf.complex64)\n",
        "\n",
        "  basis = tf.Variable([sigma_1,sigma_2,sigma_3])\n",
        "  \n",
        "  measurement = np.array(measurements, dtype=np.complex64)\n",
        "  measurement_tensor = tf.Variable(measurement, tf.complex64)\n",
        "\n",
        "  density_matrix = 0.5*(sigma_0 + tf.tensordot(measurement_tensor,basis,axes=1))\n",
        "  return density_matrix"
      ],
      "execution_count": null,
      "outputs": []
    },
    {
      "cell_type": "code",
      "metadata": {
        "id": "mbRaeozr4lWy",
        "colab_type": "code",
        "colab": {}
      },
      "source": [
        "def trace_dist(A,B):\n",
        "  dif = A - B\n",
        "  dif = tf.transpose(dif, conjugate=True, perm=[0,2,1]) * dif  \n",
        "  vals = tf.linalg.eigvalsh(dif)\n",
        "  return tf.math.real(0.5*tf.reduce_sum(tf.math.sqrt(tf.math.abs(vals)),axis=-1))"
      ],
      "execution_count": null,
      "outputs": []
    },
    {
      "cell_type": "code",
      "metadata": {
        "id": "gRUCKmZuCGoc",
        "colab_type": "code",
        "colab": {}
      },
      "source": [
        "def trace_loss(y_true,y_pred):\n",
        "  d_y_true = create_density_mat(y_true)  \n",
        "  d_y_pred = create_density_mat(y_pred)  \n",
        "  return tf.reduce_mean(trace_dist(d_y_pred,d_y_true))"
      ],
      "execution_count": null,
      "outputs": []
    },
    {
      "cell_type": "code",
      "metadata": {
        "id": "Q7BZuBrLKSYG",
        "colab_type": "code",
        "colab": {}
      },
      "source": [
        "def entropy(A):    \n",
        "  eigen_A = tf.linalg.eigvalsh(A)\n",
        "  return -tf.math.real(tf.reduce_sum(eigen_A*tf.math.log(eigen_A),axis=-1))\n",
        "\n",
        "def relative_entropy(A,B):\n",
        "  log_B = tf.linalg.logm(B)\n",
        "  eigen_AlogB = tf.linalg.eigvalsh(A*log_B)\n",
        "  return - entropy(A) - tf.math.real(tf.reduce_sum(eigen_AlogB,axis=-1)) "
      ],
      "execution_count": null,
      "outputs": []
    },
    {
      "cell_type": "code",
      "metadata": {
        "id": "B3eaQNqcLDW4",
        "colab_type": "code",
        "colab": {}
      },
      "source": [
        "def r_entropy_loss(y_true,y_pred):\n",
        "  d_y_true = create_density_mat(y_true)  \n",
        "  d_y_pred = create_density_mat(y_pred)  \n",
        "  return tf.reduce_mean(relative_entropy(d_y_pred,d_y_true))"
      ],
      "execution_count": null,
      "outputs": []
    },
    {
      "cell_type": "code",
      "metadata": {
        "id": "rkPfTyNqZJMB",
        "colab_type": "code",
        "colab": {
          "base_uri": "https://localhost:8080/",
          "height": 34
        },
        "outputId": "d35fd1c4-c72b-49b7-8ba6-2999ac3c3b79"
      },
      "source": [
        "y_1 = [[.5,.5,0],[.2,0.3,.3]]\n",
        "y_2 = [[1,0,0],[.2,.3,.3]]\n",
        "r_entropy_loss(y_true=y_1, y_pred=y_2)"
      ],
      "execution_count": null,
      "outputs": [
        {
          "output_type": "execute_result",
          "data": {
            "text/plain": [
              "<tf.Tensor: shape=(), dtype=float32, numpy=-0.12907417>"
            ]
          },
          "metadata": {
            "tags": []
          },
          "execution_count": 21
        }
      ]
    },
    {
      "cell_type": "markdown",
      "metadata": {
        "id": "diG3ommrLb-0",
        "colab_type": "text"
      },
      "source": [
        "## Two qubits"
      ]
    },
    {
      "cell_type": "code",
      "metadata": {
        "id": "iBZEWCUTJ-hh",
        "colab_type": "code",
        "colab": {}
      },
      "source": [
        "from itertools import product\n",
        "def tf_kron(a: tf.Tensor,\n",
        "            b: tf.Tensor) -> tf.Tensor:\n",
        "\n",
        "  \"\"\"Calculates the Kronocker product of two matrices ((2,2) Tensors).\n",
        "\n",
        "  Parameters\n",
        "  -----------------------------------------------------------------------\n",
        "  a(tf.Tensor): Tensor on the left of the product.\n",
        "  b(tf.Tensor): Tensor on the right of the product.\n",
        "\n",
        "  Return\n",
        "  -----------------------------------------------------------------------\n",
        "  (tf.tensor): Kronocker product between a and b.\n",
        "\n",
        "  \"\"\"\n",
        "  assert len(a.shape) == 2\n",
        "  assert len(b.shape) == 2\n",
        "  a_shape = list(b.shape)    \n",
        "  b_shape = list(b.shape)\n",
        "  return tf.reshape(tf.reshape(a,[a_shape[0],1,a_shape[1],1])*tf.reshape(b,[1,b_shape[0],1,b_shape[1]]),[a_shape[0]*b_shape[0],a_shape[1]*b_shape[1]])\n",
        "\n",
        "\n",
        "#Creating pauli matrices\n",
        "sigma_0_np = np.array([[1.,0.],\n",
        "                      [0.,1.]], dtype=np.complex64)\n",
        "\n",
        "sigma_1_np = np.array([[0.,1.],\n",
        "                       [1.,0.]], dtype=np.complex64)\n",
        "\n",
        "sigma_2_np = np.array([[0.,1.j],\n",
        "                       [-1.j,0.]], dtype=np.complex64)\n",
        "\n",
        "sigma_3_np = np.array([[1.,0.],\n",
        "                       [0.,-1.]], dtype=np.complex64)\n",
        "\n",
        "#Converting to tensors\n",
        "sigma_0 = tf.Variable(sigma_0_np, tf.complex64)\n",
        "\n",
        "sigma_1 = tf.Variable(sigma_1_np, tf.complex64)\n",
        "\n",
        "sigma_2 = tf.Variable(sigma_2_np, tf.complex64)\n",
        "\n",
        "sigma_3 = tf.Variable(sigma_3_np, dtype=tf.complex64)\n",
        "\n",
        "def create_2qubit_density_mat(measurements: tf.Variable) -> tf.Variable:\n",
        "  \n",
        "  name_basis_1 = ['I', 'X', 'Y', 'Z']\n",
        "  basis_1 = [sigma_0, sigma_1,sigma_2,sigma_3]\n",
        "  name_basis_2 = []\n",
        "  basis_2 = []\n",
        "  for (name_1, meas_1),(name_2,meas_2) in product(zip(name_basis_1, basis_1),zip(name_basis_1, basis_1)):\n",
        "    if name_1 == 'I' and name_2 == 'I':\n",
        "      pass\n",
        "    else:\n",
        "      basis_2.append(tf_kron(meas_1,meas_2))\n",
        "      name_basis_2.append(name_1 + name_2)\n",
        "  \n",
        "  basis_2_tf = tf.Variable(basis_2)\n",
        "\n",
        "  # Helper to make tr(density_matrix) = 1\n",
        "  ones_II = tf.ones((tf.shape(measurements)[0],1), dtype=tf.dtypes.complex64)\n",
        "  II = tf.Variable([tf_kron(sigma_0 , sigma_0)])\n",
        "  \n",
        "  density_matrix = 0.25*(tf.tensordot(ones_II , II ,axes=1) + tf.tensordot(measurements,basis_2_tf,axes=1))\n",
        "  return density_matrix"
      ],
      "execution_count": 31,
      "outputs": []
    },
    {
      "cell_type": "code",
      "metadata": {
        "id": "gFlClQNebnv7",
        "colab_type": "code",
        "colab": {}
      },
      "source": [
        "def trace_dist(A,B):\n",
        "  dif = tf.math.subtract(A,B)\n",
        "  \n",
        "  dif = tf.transpose(dif, conjugate=True, perm=[0,2,1]) * dif  \n",
        "  vals = tf.linalg.eigvalsh(dif)\n",
        "  return tf.math.real(0.5*tf.reduce_sum(tf.math.sqrt(tf.math.abs(vals)),axis=-1))\n",
        "\n",
        "def trace_loss(y_true,y_pred):\n",
        "  d_y_true = create_2qubit_density_mat(y_true)  \n",
        "  d_y_pred = create_2qubit_density_mat(y_pred)    \n",
        "  return tf.reduce_mean(trace_dist(d_y_pred,d_y_true))"
      ],
      "execution_count": 32,
      "outputs": []
    },
    {
      "cell_type": "code",
      "metadata": {
        "id": "j006E4VsMqJh",
        "colab_type": "code",
        "colab": {}
      },
      "source": [
        "def entropy(A):    \n",
        "  eigen_A = tf.linalg.eigvalsh(A)\n",
        "  return -tf.math.real(tf.reduce_sum(eigen_A*tf.math.log(eigen_A),axis=-1))\n",
        "\n",
        "def relative_entropy(A,B):\n",
        "  log_B = tf.linalg.logm(B)\n",
        "  eigen_AlogB = tf.linalg.eigvalsh(tf.tensordot(A,log_B, axes=1))\n",
        "  return - entropy(A) - tf.math.real(tf.reduce_sum(eigen_AlogB,axis=-1)) \n",
        "\n",
        "def r_entropy_loss(y_true,y_pred):\n",
        "  d_y_true = create_2qubit_density_mat(y_true)  \n",
        "  d_y_pred = create_2qubit_density_mat(y_pred)  \n",
        "  return tf.reduce_mean(relative_entropy(d_y_pred,d_y_true))"
      ],
      "execution_count": 33,
      "outputs": []
    },
    {
      "cell_type": "code",
      "metadata": {
        "id": "I5pgkzKCLrUi",
        "colab_type": "code",
        "colab": {
          "base_uri": "https://localhost:8080/",
          "height": 52
        },
        "outputId": "aab4d969-f58d-444f-fe1b-15057bcf62a5"
      },
      "source": [
        "meas_1 = [np.random.rand(15),np.random.rand(15),np.random.rand(15)]\n",
        "measurement_1 = np.array(meas_1, dtype=np.complex64)\n",
        "measurement_tensor_1 = tf.Variable(measurement_1, tf.complex64)\n",
        "\n",
        "meas_2 = [np.random.rand(15),np.random.rand(15),np.random.rand(15)]\n",
        "measurement_2 = np.array(meas_2, dtype=np.complex64)\n",
        "measurement_tensor_2 = tf.Variable(measurement_2, tf.complex64)\n",
        "\n",
        "print(entropy(create_2qubit_density_mat(measurement_tensor_1)))\n",
        "print(trace_loss(measurement_tensor_1,measurement_tensor_2))\n",
        "#print(r_entropy_loss(measurement_tensor_1,measurement_tensor_2))"
      ],
      "execution_count": 34,
      "outputs": [
        {
          "output_type": "stream",
          "text": [
            "tf.Tensor([-0.32317808 -0.5595948  -0.2129062 ], shape=(3,), dtype=float32)\n",
            "tf.Tensor(0.586917, shape=(), dtype=float32)\n"
          ],
          "name": "stdout"
        }
      ]
    },
    {
      "cell_type": "markdown",
      "metadata": {
        "id": "th6qZS9Q2_PQ",
        "colab_type": "text"
      },
      "source": [
        "## Fidelity"
      ]
    },
    {
      "cell_type": "code",
      "metadata": {
        "id": "zOtyWv9i3DSi",
        "colab_type": "code",
        "colab": {}
      },
      "source": [
        "meas_1 = [np.random.rand(15),np.random.rand(15),np.random.rand(15)]\n",
        "measurement_1 = np.array(meas_1, dtype=np.complex64)\n",
        "measurement_tensor_1 = tf.Variable(measurement_1, tf.complex64)\n",
        "\n",
        "meas_2 = [np.random.rand(15),np.random.rand(15),np.random.rand(15)]\n",
        "measurement_2 = np.array(meas_2, dtype=np.complex64)\n",
        "measurement_tensor_2 = tf.Variable(measurement_2, tf.complex64)"
      ],
      "execution_count": 35,
      "outputs": []
    },
    {
      "cell_type": "code",
      "metadata": {
        "id": "Xovj4Eea6kT7",
        "colab_type": "code",
        "colab": {}
      },
      "source": [
        "def pretty_good_fidelity(A,B):\n",
        "  \"\"\" Function for the pretty good fidelity, given by:\n",
        "  Tr(\\sqrt{A}\\sqrt{B})\n",
        "  \n",
        "  \"\"\"\n",
        "  return tf.math.real(tf.linalg.trace(tf.linalg.sqrtm(A)@tf.linalg.sqrtm(B)))"
      ],
      "execution_count": 36,
      "outputs": []
    },
    {
      "cell_type": "code",
      "metadata": {
        "id": "S4pPSGrc6k7Y",
        "colab_type": "code",
        "colab": {
          "base_uri": "https://localhost:8080/",
          "height": 52
        },
        "outputId": "dcada0b3-1d10-4562-e2d9-91f6be2b1d8e"
      },
      "source": [
        "print(pretty_good_fidelity(create_2qubit_density_mat(measurement_tensor_1),create_2qubit_density_mat(measurement_tensor_1)))\n",
        "print(tf.sqrt(pretty_good_fidelity(create_2qubit_density_mat(measurement_tensor_1),create_2qubit_density_mat(measurement_tensor_1))))"
      ],
      "execution_count": 43,
      "outputs": [
        {
          "output_type": "stream",
          "text": [
            "tf.Tensor([1.0000001 1.0000012 1.0000021], shape=(3,), dtype=float32)\n",
            "tf.Tensor([1.        1.0000006 1.0000011], shape=(3,), dtype=float32)\n"
          ],
          "name": "stdout"
        }
      ]
    },
    {
      "cell_type": "code",
      "metadata": {
        "id": "cr9fihI5VW4D",
        "colab_type": "code",
        "colab": {}
      },
      "source": [
        "def fidelity(A,B):\n",
        "  \"\"\" Calculates the fidelity between density matrices A and B.\n",
        "  \"\"\"\n",
        "  sqrt_A = tf.linalg.sqrtm(A)  \n",
        "  aux = sqrt_A@B@sqrt_A\n",
        "  internal = tf.linalg.sqrtm(aux)\n",
        "  eigenvalues = tf.linalg.eigvalsh(internal)  \n",
        "  return tf.math.real(tf.reduce_sum(tf.sqrt(eigenvalues), axis=-1))"
      ],
      "execution_count": null,
      "outputs": []
    },
    {
      "cell_type": "code",
      "metadata": {
        "id": "gf_LOYLCWZtO",
        "colab_type": "code",
        "colab": {
          "base_uri": "https://localhost:8080/",
          "height": 34
        },
        "outputId": "a1c4efc7-bcab-4550-b66b-7251f3ee366c"
      },
      "source": [
        "fidelity(create_2qubit_density_mat(measurement_tensor_1),create_2qubit_density_mat(measurement_tensor_1))"
      ],
      "execution_count": null,
      "outputs": [
        {
          "output_type": "execute_result",
          "data": {
            "text/plain": [
              "<tf.Tensor: shape=(3,), dtype=float32, numpy=array([2.1140258, 1.7614529, 1.8742006], dtype=float32)>"
            ]
          },
          "metadata": {
            "tags": []
          },
          "execution_count": 78
        }
      ]
    },
    {
      "cell_type": "code",
      "metadata": {
        "id": "pBZxlh8h2eNu",
        "colab_type": "code",
        "colab": {}
      },
      "source": [
        "def dagger(A):\n",
        "  \"\"\"Computes the transpose conjulgate of a density matrix A.\n",
        "  \n",
        "  \"\"\"\n",
        "  return tf.transpose(A, perm=[0,2,1], conjugate=True)    \n",
        "\n",
        "def fidelity(A,B):    \n",
        "  \"\"\" Calculates the fidelity between density matrices A and B.\n",
        "  \"\"\"\n",
        "  (eigenvalues_A, vector_A) = tf.linalg.eig(A)   \n",
        "  aux_fidelity = vector_A@tf.linalg.diag(tf.math.sqrt(eigenvalues_A))@dagger(vector_A)    \n",
        "  f_b = aux_fidelity@B@dagger(aux_fidelity)\n",
        "  (eigenvalues_F, vector_F) = tf.linalg.eig(f_b)    \n",
        "  return tf.square(tf.math.real(tf.linalg.trace(vector_F@tf.linalg.diag(tf.math.sqrt(eigenvalues_F))@dagger(vector_F))))"
      ],
      "execution_count": null,
      "outputs": []
    },
    {
      "cell_type": "code",
      "metadata": {
        "id": "T8gvXLIN2mEe",
        "colab_type": "code",
        "colab": {
          "base_uri": "https://localhost:8080/",
          "height": 34
        },
        "outputId": "2f4d054e-5b97-4c2d-85e7-8ea60f1ea092"
      },
      "source": [
        "fidelity(create_2qubit_density_mat(measurement_tensor_1),create_2qubit_density_mat(measurement_tensor_1))"
      ],
      "execution_count": null,
      "outputs": [
        {
          "output_type": "execute_result",
          "data": {
            "text/plain": [
              "<tf.Tensor: shape=(3,), dtype=float32, numpy=array([2.4242904, 1.9064056, 2.0652583], dtype=float32)>"
            ]
          },
          "metadata": {
            "tags": []
          },
          "execution_count": 86
        }
      ]
    },
    {
      "cell_type": "code",
      "metadata": {
        "id": "C2J_hM2hzT1P",
        "colab_type": "code",
        "colab": {}
      },
      "source": [
        "def sqrt_svd(A):\n",
        "  S, left_A, right_A = tf.linalg.svd(density)\n",
        "  S = tf.cast(tf.linalg.diag(tf.sqrt(S)),dtype='complex64')\n",
        "  return left_A@S@dagger(right_A)\n",
        "\n",
        "def fidelity(A,B):\n",
        "  sqrt_A = sqrt_svd(A)\n",
        "  internal = sqrt_A@B@sqrt_A\n",
        "  sqrt_internal = sqrt_svd(internal)\n",
        "  return tf.square(tf.math.real(tf.linalg.trace(sqrt_internal)))"
      ],
      "execution_count": null,
      "outputs": []
    },
    {
      "cell_type": "code",
      "metadata": {
        "id": "Z8VxKDMF0F_z",
        "colab_type": "code",
        "colab": {
          "base_uri": "https://localhost:8080/",
          "height": 34
        },
        "outputId": "3a1a70ae-7e83-4665-8dbc-97e389e7b495"
      },
      "source": [
        "fidelity(create_2qubit_density_mat(measurement_tensor_1),create_2qubit_density_mat(measurement_tensor_1))"
      ],
      "execution_count": null,
      "outputs": [
        {
          "output_type": "execute_result",
          "data": {
            "text/plain": [
              "<tf.Tensor: shape=(3,), dtype=float32, numpy=array([0.37355238, 1.0448463 , 1.385976  ], dtype=float32)>"
            ]
          },
          "metadata": {
            "tags": []
          },
          "execution_count": 89
        }
      ]
    }
  ]
}