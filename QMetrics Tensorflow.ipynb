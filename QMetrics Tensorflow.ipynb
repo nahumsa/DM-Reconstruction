{
  "nbformat": 4,
  "nbformat_minor": 0,
  "metadata": {
    "colab": {
      "name": "Trace Distance Tensorflow",
      "provenance": [],
      "collapsed_sections": [],
      "authorship_tag": "ABX9TyNUZ2BX92Xsgt+f1pJu3gl4",
      "include_colab_link": true
    },
    "kernelspec": {
      "name": "python3",
      "display_name": "Python 3"
    }
  },
  "cells": [
    {
      "cell_type": "markdown",
      "metadata": {
        "id": "view-in-github",
        "colab_type": "text"
      },
      "source": [
        "<a href=\"https://colab.research.google.com/github/nahumsa/DM-Reconstruction/blob/master/QMetrics%20Tensorflow.ipynb\" target=\"_parent\"><img src=\"https://colab.research.google.com/assets/colab-badge.svg\" alt=\"Open In Colab\"/></a>"
      ]
    },
    {
      "cell_type": "code",
      "metadata": {
        "id": "DW2FrLlAXiv6",
        "colab_type": "code",
        "colab": {
          "base_uri": "https://localhost:8080/",
          "height": 34
        },
        "outputId": "02b88245-5fc5-411a-aeb5-986bdc13a95f"
      },
      "source": [
        "import tensorflow as tf\n",
        "from tensorflow import keras\n",
        "import numpy as np\n",
        "print(tf.__version__)"
      ],
      "execution_count": 1,
      "outputs": [
        {
          "output_type": "stream",
          "text": [
            "2.3.0\n"
          ],
          "name": "stdout"
        }
      ]
    },
    {
      "cell_type": "code",
      "metadata": {
        "id": "XEQcJWgjoxNF",
        "colab_type": "code",
        "colab": {}
      },
      "source": [
        "from IPython.display import clear_output\n",
        "\n",
        "! git clone https://github.com/nahumsa/DM-Reconstruction\n",
        "% cd DM-Reconstruction/\n",
        "! pip install qutip\n",
        "clear_output()"
      ],
      "execution_count": 2,
      "outputs": []
    },
    {
      "cell_type": "markdown",
      "metadata": {
        "id": "LwCCjdrMkF8L",
        "colab_type": "text"
      },
      "source": [
        "# Qutip error"
      ]
    },
    {
      "cell_type": "code",
      "metadata": {
        "id": "kE5_1_wWkHRt",
        "colab_type": "code",
        "colab": {}
      },
      "source": [
        "import qutip as qutip\n",
        "import numpy as np"
      ],
      "execution_count": 15,
      "outputs": []
    },
    {
      "cell_type": "code",
      "metadata": {
        "id": "FP4cjjQcoG4k",
        "colab_type": "code",
        "colab": {}
      },
      "source": [
        "def unitary(theta, phi, lbda):\n",
        "  return np.array([[np.cos(theta/2),-np.exp(1j*lbda)*np.sin(theta/2)],[np.exp(1j*phi)*np.sin(theta/2),np.exp(1j*(phi+lbda)*np.cos(theta/2))]])\n",
        "\n",
        "def add_error(dm, theta, phi, lbda, qubit=1):\n",
        "  err = qutip.Qobj(unitary(theta,phi,lbda))\n",
        "  if qubit == 1:\n",
        "    err = qutip.tensor(qutip.identity(2),err)  \n",
        "  elif qubit == 2:\n",
        "    err = qutip.tensor(err,qutip.identity(2))  \n",
        "  return dm*err"
      ],
      "execution_count": 16,
      "outputs": []
    },
    {
      "cell_type": "code",
      "metadata": {
        "id": "NCWVunxCkzGr",
        "colab_type": "code",
        "colab": {}
      },
      "source": [
        "from itertools import product\n",
        "\n",
        "def measurement(density_matrix, base, name_base):\n",
        "  \"\"\"Measuring the quantum state on a given basis.\n",
        "  \"\"\"\n",
        "  _measurements_names = []\n",
        "  _measurements = []\n",
        "\n",
        "  for (name_1, meas_1),(name_2,meas_2) in product(zip(name_base, base),zip(name_base, base)):\n",
        "    #Ignore the II measurement because it is always 1\n",
        "    if name_1 == 'I' and name_2 == 'I':\n",
        "      pass\n",
        "    else:\n",
        "      measurement_op = qutip.tensor(meas_1,meas_2)\n",
        "      _measurements.append(qutip.expect(measurement_op, density_matrix))\n",
        "      _measurements_names.append(name_1 + name_2)\n",
        "\n",
        "  return [i for i in zip(_measurements, _measurements_names)]\n",
        "\n",
        "def create_dataset_err(n_samples, theta=0., phi=0., lbda=0., qubit=1):\n",
        "  \"\"\"Create dataset.\n",
        "  \n",
        "  Parameters:\n",
        "  n_samples(int): Number of samples.\n",
        "  theta(float): Parameter for the error.\n",
        "  phi(float): Parameter for the error.\n",
        "  lbda(float): Parameter for the error.\n",
        "  qubit(int): In which qubit you want to put the error.\n",
        "  \n",
        "  Output:\n",
        "  _measurements(list): Measurements.\n",
        "  _measurements_err(list): Measurements with error.\n",
        "  \"\"\"\n",
        "  \n",
        "  _measurements = []\n",
        "  _measurements_err = []\n",
        "\n",
        "  #Basis Measured\n",
        "  name_basis = ['I', 'X', 'Y', 'Z']\n",
        "  basis = [qutip.identity(2), qutip.sigmax(),qutip.sigmay(),qutip.sigmaz()]\n",
        "\n",
        "\n",
        "\n",
        "  for _ in range(n_samples):    \n",
        "    density = qutip.rand_dm(4, density=0.75, dims=[[2,2],[2,2]])\n",
        "    density_err = add_error(density, theta, phi, lbda, qubit)    \n",
        "    \n",
        "    \n",
        "    val_measurements = measurement(density_matrix=density, \n",
        "                                   base=basis, \n",
        "                                   name_base=name_basis)\n",
        "    \n",
        "    val_measurements_err = measurement(density_matrix=density_err,\n",
        "                                       base=basis,\n",
        "                                       name_base=name_basis)\n",
        "    \n",
        "    _measurements.append(val_measurements)\n",
        "    _measurements_err.append(val_measurements_err)\n",
        "    \n",
        "  return _measurements, _measurements_err"
      ],
      "execution_count": 17,
      "outputs": []
    },
    {
      "cell_type": "code",
      "metadata": {
        "id": "TZq81_lMlJ2d",
        "colab_type": "code",
        "colab": {
          "base_uri": "https://localhost:8080/",
          "height": 710
        },
        "outputId": "ad802d70-c9d3-46e0-f897-54e02401811a"
      },
      "source": [
        "measurements, measurements_err = create_dataset_err(1)\n",
        "measurements, measurements_err"
      ],
      "execution_count": 19,
      "outputs": [
        {
          "output_type": "stream",
          "text": [
            "Quantum object: dims = [[2, 2], [2, 2]], shape = (4, 4), type = oper, isherm = True\n",
            "Qobj data =\n",
            "[[ 0.23080246+0.j          0.0824765 +0.04065453j  0.06117131-0.00761314j\n",
            "  -0.00839774-0.11608995j]\n",
            " [ 0.0824765 -0.04065453j  0.24552505+0.j          0.09369987+0.11302472j\n",
            "  -0.06518404+0.02824083j]\n",
            " [ 0.06117131+0.00761314j  0.09369987-0.11302472j  0.15839995+0.j\n",
            "   0.10414703+0.06701624j]\n",
            " [-0.00839774+0.11608995j -0.06518404-0.02824083j  0.10414703-0.06701624j\n",
            "   0.36527254+0.j        ]]\n"
          ],
          "name": "stdout"
        },
        {
          "output_type": "execute_result",
          "data": {
            "text/plain": [
              "([[(0.37324706153513765, 'IX'),\n",
              "   (-0.2153415547766926, 'IY'),\n",
              "   (-0.22159518690047564, 'IZ'),\n",
              "   (-0.00802546358715997, 'XI'),\n",
              "   (0.17060426919798713, 'XX'),\n",
              "   (0.458229341067846, 'XY'),\n",
              "   (0.25271069838525084, 'XZ'),\n",
              "   (-0.04125539123612237, 'YI'),\n",
              "   (0.006130476500984999, 'YX'),\n",
              "   (0.20419522497438827, 'YY'),\n",
              "   (0.07170793126103758, 'YZ'),\n",
              "   (-0.04734497744874222, 'ZI'),\n",
              "   (-0.04334104380133949, 'ZX'),\n",
              "   (0.052723416900611275, 'ZY'),\n",
              "   (0.19214999557868156, 'ZZ')]],\n",
              " [[(0.37324706153513765, 'IX'),\n",
              "   (-0.2153415547766926, 'IY'),\n",
              "   (-0.22159518690047564, 'IZ'),\n",
              "   (-0.00802546358715997, 'XI'),\n",
              "   (0.17060426919798713, 'XX'),\n",
              "   (0.458229341067846, 'XY'),\n",
              "   (0.25271069838525084, 'XZ'),\n",
              "   (-0.04125539123612237, 'YI'),\n",
              "   (0.006130476500984999, 'YX'),\n",
              "   (0.20419522497438827, 'YY'),\n",
              "   (0.07170793126103758, 'YZ'),\n",
              "   (-0.04734497744874222, 'ZI'),\n",
              "   (-0.04334104380133949, 'ZX'),\n",
              "   (0.052723416900611275, 'ZY'),\n",
              "   (0.19214999557868156, 'ZZ')]])"
            ]
          },
          "metadata": {
            "tags": []
          },
          "execution_count": 19
        }
      ]
    },
    {
      "cell_type": "code",
      "metadata": {
        "id": "F8Fc83n8oipr",
        "colab_type": "code",
        "colab": {}
      },
      "source": [
        "def create_x(measurement):\n",
        "  \"\"\"Create an list with all measurements\n",
        "  Parameters:\n",
        "  measurement(list): List of measurements and the basis measured.  \n",
        "  \"\"\"\n",
        "  X = []\n",
        "  for meas in measurement:\n",
        "    aux = []\n",
        "    for result , name in meas:      \n",
        "      aux.append(result)\n",
        "    X.append(aux)\n",
        "  return X"
      ],
      "execution_count": 20,
      "outputs": []
    },
    {
      "cell_type": "code",
      "metadata": {
        "id": "5yZy_i63e31i",
        "colab_type": "code",
        "colab": {}
      },
      "source": [
        "%load_ext autoreload\n",
        "%autoreload 2"
      ],
      "execution_count": 27,
      "outputs": []
    },
    {
      "cell_type": "code",
      "metadata": {
        "id": "BsvKJpgCzBRz",
        "colab_type": "code",
        "colab": {}
      },
      "source": [
        "from Utils.Dataset import create_dataset_err\n",
        "from Utils.Dataset import create_x\n",
        "\n",
        "\n",
        "samples_train = 5000\n",
        "measurements_train, measurements_errors_train = create_dataset_err(samples_train,\n",
        "                                                                   theta=np.pi/6)\n",
        "\n",
        "samples_test = 3000\n",
        "measurements_test, measurements_errors_test = create_dataset_err(samples_test, theta=np.pi/6)\n",
        "\n",
        "#Transforming in an np.array\n",
        "X_train = np.array(create_x(measurements_errors_train))\n",
        "Y_train = np.array(create_x(measurements_train))\n",
        "\n",
        "X_test = np.array(create_x(measurements_errors_test))\n",
        "Y_test = np.array(create_x(measurements_test))\n",
        "\n",
        "np.savetxt('X_train.txt', X_train)\n",
        "np.savetxt('Y_train.txt', Y_train)\n",
        "np.savetxt('X_test.txt', X_test)\n",
        "np.savetxt('Y_test.txt', Y_test)"
      ],
      "execution_count": 37,
      "outputs": []
    },
    {
      "cell_type": "code",
      "metadata": {
        "id": "-aNwo1dCzws2",
        "colab_type": "code",
        "colab": {
          "base_uri": "https://localhost:8080/",
          "height": 121
        },
        "outputId": "3e416a46-0ee3-435b-db7d-759d363d1959"
      },
      "source": [
        "X_train[0], X_test[0]"
      ],
      "execution_count": 39,
      "outputs": [
        {
          "output_type": "execute_result",
          "data": {
            "text/plain": [
              "(array([ 0.02648361,  0.0491725 ,  0.25014348,  0.03943531, -0.15763333,\n",
              "        -0.02841025,  0.10245561, -0.19309999, -0.24724841,  0.04281847,\n",
              "        -0.0330715 , -0.30169592,  0.17940975, -0.18715949,  0.22102461]),\n",
              " array([ 0.07583624,  0.11892929, -0.10239556, -0.25844539,  0.35575293,\n",
              "        -0.40879842, -0.00428185, -0.46485203, -0.09913055, -0.199626  ,\n",
              "        -0.14106012,  0.30757838,  0.18695782, -0.19610613,  0.01787378]))"
            ]
          },
          "metadata": {
            "tags": []
          },
          "execution_count": 39
        }
      ]
    },
    {
      "cell_type": "markdown",
      "metadata": {
        "id": "EoIPgpp3Ehm5",
        "colab_type": "text"
      },
      "source": [
        "# Tests"
      ]
    },
    {
      "cell_type": "code",
      "metadata": {
        "id": "sAPtn7AWXkrq",
        "colab_type": "code",
        "colab": {}
      },
      "source": [
        "#Creating pauli matrices\n",
        "sigma_0_np = np.array([[1.,0.],\n",
        "                      [0.,1.]], dtype=np.complex64)\n",
        "\n",
        "sigma_1_np = np.array([[0.,1.],\n",
        "                       [1.,0.]], dtype=np.complex64)\n",
        "\n",
        "sigma_2_np = np.array([[0.,1.j],\n",
        "                       [-1.j,0.]], dtype=np.complex64)\n",
        "\n",
        "sigma_3_np = np.array([[1.,0.],\n",
        "                       [0.,-1.]], dtype=np.complex64)\n",
        "\n",
        "#Converting to tensors\n",
        "sigma_0 = tf.Variable(sigma_0_np, tf.complex64)\n",
        "\n",
        "sigma_1 = tf.Variable(sigma_1_np, tf.complex64)\n",
        "\n",
        "sigma_2 = tf.Variable(sigma_2_np, tf.complex64)\n",
        "\n",
        "sigma_3 = tf.Variable(sigma_3_np, dtype=tf.complex64)"
      ],
      "execution_count": null,
      "outputs": []
    },
    {
      "cell_type": "code",
      "metadata": {
        "id": "ezzFM6V2CjAp",
        "colab_type": "code",
        "colab": {}
      },
      "source": [
        "def tf_kron(a: tf.Tensor,\n",
        "            b: tf.Tensor) -> tf.Tensor:\n",
        "\n",
        "    \"\"\"Calculates the Kronocker product of two matrices ((2,2) Tensors).\n",
        "\n",
        "    Parameters\n",
        "    -----------------------------------------------------------------------\n",
        "    a(tf.Tensor): Tensor on the left of the product.\n",
        "    b(tf.Tensor): Tensor on the right of the product.\n",
        "\n",
        "    Return\n",
        "    -----------------------------------------------------------------------\n",
        "    (tf.tensor): Kronocker product between a and b.\n",
        "\n",
        "    \"\"\"\n",
        "    assert len(a.shape) == 2\n",
        "    assert len(b.shape) == 2\n",
        "    a_shape = list(b.shape)    \n",
        "    b_shape = list(b.shape)\n",
        "    return tf.reshape(tf.reshape(a,[a_shape[0],1,a_shape[1],1])*tf.reshape(b,[1,b_shape[0],1,b_shape[1]]),[a_shape[0]*b_shape[0],a_shape[1]*b_shape[1]])"
      ],
      "execution_count": null,
      "outputs": []
    },
    {
      "cell_type": "code",
      "metadata": {
        "id": "AhNQlBsN5V52",
        "colab_type": "code",
        "colab": {
          "base_uri": "https://localhost:8080/",
          "height": 52
        },
        "outputId": "93150177-d785-4e1a-9f06-5f433165e078"
      },
      "source": [
        "from itertools import product\n",
        "name_basis_1 = ['I', 'X', 'Y', 'Z']\n",
        "basis_1 = [sigma_0, sigma_1,sigma_2,sigma_3]\n",
        "name_basis_2 = []\n",
        "basis_2 = []\n",
        "for (name_1, meas_1),(name_2,meas_2) in product(zip(name_basis_1, basis_1),zip(name_basis_1, basis_1)):\n",
        "  if name_1 == 'I' and name_2 == 'I':\n",
        "    pass\n",
        "  else:\n",
        "    basis_2.append(tf_kron(meas_1,meas_2))\n",
        "    name_basis_2.append(name_1 + name_2)\n",
        "\n",
        "basis_2_tf = tf.Variable(basis_2)\n",
        "print(name_basis_2)\n",
        "print(basis_2_tf.shape)"
      ],
      "execution_count": null,
      "outputs": [
        {
          "output_type": "stream",
          "text": [
            "['IX', 'IY', 'IZ', 'XI', 'XX', 'XY', 'XZ', 'YI', 'YX', 'YY', 'YZ', 'ZI', 'ZX', 'ZY', 'ZZ']\n",
            "(15, 4, 4)\n"
          ],
          "name": "stdout"
        }
      ]
    },
    {
      "cell_type": "code",
      "metadata": {
        "id": "mcXTY2ho1Fl4",
        "colab_type": "code",
        "colab": {}
      },
      "source": [
        "meas = [np.random.rand(15),np.random.rand(15),np.random.rand(15),np.random.rand(15)]\n",
        "measurement = np.array(meas, dtype=np.complex64)\n",
        "measurement_tensor = tf.Variable(measurement, tf.complex64)\n",
        "#print(measurement_tensor)"
      ],
      "execution_count": null,
      "outputs": []
    },
    {
      "cell_type": "code",
      "metadata": {
        "id": "DGOQboKQF5sU",
        "colab_type": "code",
        "colab": {
          "base_uri": "https://localhost:8080/",
          "height": 34
        },
        "outputId": "e5a4ab74-8267-4faf-c900-61ad3701b0b9"
      },
      "source": [
        "ones_II = tf.ones((measurement_tensor.shape[0],1), dtype=tf.dtypes.complex64)\n",
        "II = tf.Variable([tf_kron(sigma_0 , sigma_0)])\n",
        "density_matrix = 0.25*(tf.tensordot(ones_II , II ,axes=1) + tf.tensordot(measurement_tensor,basis_2_tf,axes=1))\n",
        "print(density_matrix.shape)"
      ],
      "execution_count": null,
      "outputs": [
        {
          "output_type": "stream",
          "text": [
            "(4, 4, 4)\n"
          ],
          "name": "stdout"
        }
      ]
    },
    {
      "cell_type": "code",
      "metadata": {
        "id": "8dceCSxOoCeN",
        "colab_type": "code",
        "colab": {}
      },
      "source": [
        "D = density_matrix[0].numpy()"
      ],
      "execution_count": null,
      "outputs": []
    },
    {
      "cell_type": "code",
      "metadata": {
        "id": "u4ed4yGxoG3d",
        "colab_type": "code",
        "colab": {}
      },
      "source": [
        "import matplotlib.pyplot as plt\n",
        "from mpl_toolkits.mplot3d import Axes3D  # noqa: F401 unused import"
      ],
      "execution_count": null,
      "outputs": []
    },
    {
      "cell_type": "code",
      "metadata": {
        "id": "iPUoKJgls6We",
        "colab_type": "code",
        "colab": {}
      },
      "source": [
        "num = int(np.log2(len(D)))\n",
        "column_names = ['|'+ bin(i)[2:].zfill(num) +'$\\\\rangle$' for i in range(2**num)]\n",
        "row_names = ['$\\\\langle$' + bin(i)[2:].zfill(num) + '|' for i in range(2**num)]\n",
        "lx = len(D[0])            # Work out matrix dimensions\n",
        "ly = len(D[:, 0])"
      ],
      "execution_count": null,
      "outputs": []
    },
    {
      "cell_type": "code",
      "metadata": {
        "id": "UppUSs1Oomwk",
        "colab_type": "code",
        "colab": {
          "base_uri": "https://localhost:8080/",
          "height": 520
        },
        "outputId": "4802283e-ae59-47d9-9185-03a0322e6161"
      },
      "source": [
        "_x = np.arange(len(D))\n",
        "_y = np.arange(len(D))\n",
        "_xx, _yy = np.meshgrid(_x, _y)\n",
        "x, y = _xx.ravel(), _yy.ravel()\n",
        "top = np.imag(D).ravel()\n",
        "bottom = np.zeros_like(top)\n",
        "width = depth = 0.2\n",
        "\n",
        "fig = plt.figure(figsize=(20, 9))\n",
        "\n",
        "ax1 = fig.add_subplot(121, projection='3d')\n",
        "\n",
        "ax1.xaxis.set_major_locator(plt.NullLocator())  \n",
        "ax1.yaxis.set_major_locator(plt.NullLocator())\n",
        "\n",
        "ax1.bar3d(x, y, bottom, width, depth, np.real(D).flatten(), shade=True)\n",
        "\n",
        "ax1.set_xticks(np.arange(0, lx+0.5, 1))\n",
        "ax1.set_yticks(np.arange(0, ly+0.5, 1))\n",
        "ax1.set_yticklabels(row_names, fontsize=14)\n",
        "ax1.set_xticklabels(column_names, fontsize=14, rotation=90)\n",
        "ax1.invert_yaxis()\n",
        "\n",
        "ax1.set_title('Real')\n",
        "plt.show()"
      ],
      "execution_count": null,
      "outputs": [
        {
          "output_type": "display_data",
          "data": {
            "image/png": "[encoded data removed]",
            "text/plain": [
              "<Figure size 1440x648 with 1 Axes>"
            ]
          },
          "metadata": {
            "tags": [],
            "needs_background": "light"
          }
        }
      ]
    },
    {
      "cell_type": "code",
      "metadata": {
        "id": "ve9PsY610Ycr",
        "colab_type": "code",
        "colab": {
          "base_uri": "https://localhost:8080/",
          "height": 572
        },
        "outputId": "2bea322f-3d50-4588-e6de-6818cf864f8e"
      },
      "source": [
        "_x = np.arange(len(D))\n",
        "_y = np.arange(len(D))\n",
        "_xx, _yy = np.meshgrid(_x, _y)\n",
        "x, y = _xx.ravel(), _yy.ravel()\n",
        "top = np.imag(D).ravel()\n",
        "bottom = np.zeros_like(top)\n",
        "width = depth = 0.2\n",
        "\n",
        "fig = plt.figure(figsize=(20, 9))\n",
        "\n",
        "ax1 = fig.add_subplot(121, projection='3d')\n",
        "\n",
        "ax1.xaxis.set_major_locator(plt.NullLocator())  \n",
        "ax1.yaxis.set_major_locator(plt.NullLocator())\n",
        "\n",
        "print(np.imag(D).flatten())\n",
        "ax1.bar3d(x, y, bottom, width, depth, np.imag(D).flatten(), shade=True)\n",
        "\n",
        "ax1.set_xticks(np.arange(0, lx+0.5, 1))\n",
        "ax1.set_yticks(np.arange(0, ly+0.5, 1))\n",
        "ax1.set_yticklabels(row_names, fontsize=14)\n",
        "ax1.set_xticklabels(column_names, fontsize=14, rotation=90)\n",
        "\n",
        "ax1.set_title('Real')\n",
        "plt.show()"
      ],
      "execution_count": null,
      "outputs": [
        {
          "output_type": "stream",
          "text": [
            "[ 0.          0.36593223  0.3919465   0.13620794 -0.36593223  0.\n",
            " -0.10480136 -0.02736269 -0.3919465   0.10480136  0.         -0.13325788\n",
            " -0.13620794  0.02736269  0.13325788  0.        ]\n"
          ],
          "name": "stdout"
        },
        {
          "output_type": "display_data",
          "data": {
            "image/png": "[encoded data removed]",
            "text/plain": [
              "<Figure size 1440x648 with 1 Axes>"
            ]
          },
          "metadata": {
            "tags": [],
            "needs_background": "light"
          }
        }
      ]
    },
    {
      "cell_type": "code",
      "metadata": {
        "id": "zsFlxsrh4_DY",
        "colab_type": "code",
        "colab": {
          "base_uri": "https://localhost:8080/",
          "height": 86
        },
        "outputId": "f72f5254-482f-4cfc-bc0a-10b7d8fc45fc"
      },
      "source": [
        "mat = tf.squeeze(density_matrix)\n",
        "#print(mat)\n",
        "print(f'Eigenvalues: {tf.linalg.eigvalsh(mat)}')\n",
        "log_mat = tf.linalg.logm(mat)"
      ],
      "execution_count": null,
      "outputs": [
        {
          "output_type": "stream",
          "text": [
            "Eigenvalues: [[-0.43625665+0.j -0.12367202+0.j  0.32435423+0.j  1.2355748 +0.j]\n",
            " [-0.32802463+0.j  0.01609422+0.j  0.22311276+0.j  1.0888174 +0.j]\n",
            " [-0.3953889 +0.j -0.20475198+0.j  0.29422307+0.j  1.3059181 +0.j]\n",
            " [-0.2513447 +0.j -0.05367637+0.j  0.3436877 +0.j  0.96133393+0.j]]\n"
          ],
          "name": "stdout"
        }
      ]
    },
    {
      "cell_type": "code",
      "metadata": {
        "id": "mbwXl_7D5FhG",
        "colab_type": "code",
        "colab": {}
      },
      "source": [
        "def pretty_good_fidelity(A,B):\n",
        "  \"\"\" Function for the pretty good fidelity, given by:\n",
        "  Tr(\\sqrt{A}\\sqrt{B})\n",
        "  \n",
        "  \"\"\"\n",
        "  return tf.math.real(tf.linalg.trace(tf.linalg.sqrtm(A)@tf.linalg.sqrtm(B)))"
      ],
      "execution_count": null,
      "outputs": []
    },
    {
      "cell_type": "code",
      "metadata": {
        "id": "DNf-krha4l5U",
        "colab_type": "code",
        "colab": {
          "base_uri": "https://localhost:8080/",
          "height": 86
        },
        "outputId": "d239a39b-880c-420b-b769-ead5cfd0c7d5"
      },
      "source": [
        "tf.linalg.trace(tf.linalg.sqrtm(mat)@tf.linalg.sqrtm(mat))"
      ],
      "execution_count": null,
      "outputs": [
        {
          "output_type": "execute_result",
          "data": {
            "text/plain": [
              "<tf.Tensor: shape=(4,), dtype=complex64, numpy=\n",
              "array([0.99999964+4.4470653e-08j, 1.0000004 -1.4901161e-08j,\n",
              "       0.9999999 -4.2840838e-08j, 1.0000005 +4.4237822e-08j],\n",
              "      dtype=complex64)>"
            ]
          },
          "metadata": {
            "tags": []
          },
          "execution_count": 29
        }
      ]
    },
    {
      "cell_type": "code",
      "metadata": {
        "id": "yHpyyvE85TQm",
        "colab_type": "code",
        "colab": {
          "base_uri": "https://localhost:8080/",
          "height": 34
        },
        "outputId": "c4079fd1-97c4-477d-dfed-3c98cb36b6a4"
      },
      "source": [
        "tf.sqrt(pretty_good_fidelity(mat,mat))"
      ],
      "execution_count": null,
      "outputs": [
        {
          "output_type": "execute_result",
          "data": {
            "text/plain": [
              "<tf.Tensor: shape=(4,), dtype=float32, numpy=array([0.9999998 , 1.0000001 , 0.99999994, 1.0000002 ], dtype=float32)>"
            ]
          },
          "metadata": {
            "tags": []
          },
          "execution_count": 30
        }
      ]
    },
    {
      "cell_type": "markdown",
      "metadata": {
        "id": "uCu-zyXPEeF8",
        "colab_type": "text"
      },
      "source": [
        "# Methods"
      ]
    },
    {
      "cell_type": "markdown",
      "metadata": {
        "id": "p7oEIzibLWxj",
        "colab_type": "text"
      },
      "source": [
        "## One qubit"
      ]
    },
    {
      "cell_type": "code",
      "metadata": {
        "id": "R3Wb2PMtBh7I",
        "colab_type": "code",
        "colab": {}
      },
      "source": [
        "def create_density_mat(measurements: np.array) -> tf.Tensor:\n",
        "  \n",
        "  #Creating the basis\n",
        "  sigma_0_np = np.array([[1.,0.],\n",
        "                        [0.,1.]], dtype=np.complex64)\n",
        "\n",
        "  sigma_1_np = np.array([[0.,1.],\n",
        "                         [1.,0.]], dtype=np.complex64)\n",
        "\n",
        "  sigma_2_np = np.array([[0.,1.j],\n",
        "                         [-1.j,0.]], dtype=np.complex64)\n",
        "\n",
        "  sigma_3_np = np.array([[1.,0.],\n",
        "                        [0.,-1.]], dtype=np.complex64)\n",
        "\n",
        "  #Converting to tensors\n",
        "  sigma_0 = tf.Variable(sigma_0_np, tf.complex64)\n",
        "\n",
        "  sigma_1 = tf.Variable(sigma_1_np, tf.complex64)\n",
        "\n",
        "  sigma_2 = tf.Variable(sigma_2_np, tf.complex64)\n",
        "\n",
        "  sigma_3 = tf.Variable(sigma_3_np, dtype=tf.complex64)\n",
        "\n",
        "  basis = tf.Variable([sigma_1,sigma_2,sigma_3])\n",
        "  \n",
        "  measurement = np.array(measurements, dtype=np.complex64)\n",
        "  measurement_tensor = tf.Variable(measurement, tf.complex64)\n",
        "\n",
        "  density_matrix = 0.5*(sigma_0 + tf.tensordot(measurement_tensor,basis,axes=1))\n",
        "  return density_matrix"
      ],
      "execution_count": null,
      "outputs": []
    },
    {
      "cell_type": "code",
      "metadata": {
        "id": "mbRaeozr4lWy",
        "colab_type": "code",
        "colab": {}
      },
      "source": [
        "def trace_dist(A,B):\n",
        "  dif = A - B\n",
        "  dif = tf.transpose(dif, conjugate=True, perm=[0,2,1]) * dif  \n",
        "  vals = tf.linalg.eigvalsh(dif)\n",
        "  return tf.math.real(0.5*tf.reduce_sum(tf.math.sqrt(tf.math.abs(vals)),axis=-1))"
      ],
      "execution_count": null,
      "outputs": []
    },
    {
      "cell_type": "code",
      "metadata": {
        "id": "gRUCKmZuCGoc",
        "colab_type": "code",
        "colab": {}
      },
      "source": [
        "def trace_loss(y_true,y_pred):\n",
        "  d_y_true = create_density_mat(y_true)  \n",
        "  d_y_pred = create_density_mat(y_pred)  \n",
        "  return tf.reduce_mean(trace_dist(d_y_pred,d_y_true))"
      ],
      "execution_count": null,
      "outputs": []
    },
    {
      "cell_type": "code",
      "metadata": {
        "id": "Q7BZuBrLKSYG",
        "colab_type": "code",
        "colab": {}
      },
      "source": [
        "def entropy(A):    \n",
        "  eigen_A = tf.linalg.eigvalsh(A)\n",
        "  return -tf.math.real(tf.reduce_sum(eigen_A*tf.math.log(eigen_A),axis=-1))\n",
        "\n",
        "def relative_entropy(A,B):\n",
        "  log_B = tf.linalg.logm(B)\n",
        "  eigen_AlogB = tf.linalg.eigvalsh(A*log_B)\n",
        "  return - entropy(A) - tf.math.real(tf.reduce_sum(eigen_AlogB,axis=-1)) "
      ],
      "execution_count": null,
      "outputs": []
    },
    {
      "cell_type": "code",
      "metadata": {
        "id": "B3eaQNqcLDW4",
        "colab_type": "code",
        "colab": {}
      },
      "source": [
        "def r_entropy_loss(y_true,y_pred):\n",
        "  d_y_true = create_density_mat(y_true)  \n",
        "  d_y_pred = create_density_mat(y_pred)  \n",
        "  return tf.reduce_mean(relative_entropy(d_y_pred,d_y_true))"
      ],
      "execution_count": null,
      "outputs": []
    },
    {
      "cell_type": "code",
      "metadata": {
        "id": "rkPfTyNqZJMB",
        "colab_type": "code",
        "colab": {
          "base_uri": "https://localhost:8080/",
          "height": 34
        },
        "outputId": "d35fd1c4-c72b-49b7-8ba6-2999ac3c3b79"
      },
      "source": [
        "y_1 = [[.5,.5,0],[.2,0.3,.3]]\n",
        "y_2 = [[1,0,0],[.2,.3,.3]]\n",
        "r_entropy_loss(y_true=y_1, y_pred=y_2)"
      ],
      "execution_count": null,
      "outputs": [
        {
          "output_type": "execute_result",
          "data": {
            "text/plain": [
              "<tf.Tensor: shape=(), dtype=float32, numpy=-0.12907417>"
            ]
          },
          "metadata": {
            "tags": []
          },
          "execution_count": 21
        }
      ]
    },
    {
      "cell_type": "markdown",
      "metadata": {
        "id": "diG3ommrLb-0",
        "colab_type": "text"
      },
      "source": [
        "## Two qubits"
      ]
    },
    {
      "cell_type": "code",
      "metadata": {
        "id": "iBZEWCUTJ-hh",
        "colab_type": "code",
        "colab": {}
      },
      "source": [
        "from itertools import product\n",
        "def tf_kron(a: tf.Tensor,\n",
        "            b: tf.Tensor) -> tf.Tensor:\n",
        "\n",
        "  \"\"\"Calculates the Kronocker product of two matrices ((2,2) Tensors).\n",
        "\n",
        "  Parameters\n",
        "  -----------------------------------------------------------------------\n",
        "  a(tf.Tensor): Tensor on the left of the product.\n",
        "  b(tf.Tensor): Tensor on the right of the product.\n",
        "\n",
        "  Return\n",
        "  -----------------------------------------------------------------------\n",
        "  (tf.tensor): Kronocker product between a and b.\n",
        "\n",
        "  \"\"\"\n",
        "  assert len(a.shape) == 2\n",
        "  assert len(b.shape) == 2\n",
        "  a_shape = list(b.shape)    \n",
        "  b_shape = list(b.shape)\n",
        "  return tf.reshape(tf.reshape(a,[a_shape[0],1,a_shape[1],1])*tf.reshape(b,[1,b_shape[0],1,b_shape[1]]),[a_shape[0]*b_shape[0],a_shape[1]*b_shape[1]])\n",
        "\n",
        "\n",
        "#Creating pauli matrices\n",
        "sigma_0_np = np.array([[1.,0.],\n",
        "                      [0.,1.]], dtype=np.complex64)\n",
        "\n",
        "sigma_1_np = np.array([[0.,1.],\n",
        "                       [1.,0.]], dtype=np.complex64)\n",
        "\n",
        "sigma_2_np = np.array([[0.,1.j],\n",
        "                       [-1.j,0.]], dtype=np.complex64)\n",
        "\n",
        "sigma_3_np = np.array([[1.,0.],\n",
        "                       [0.,-1.]], dtype=np.complex64)\n",
        "\n",
        "#Converting to tensors\n",
        "sigma_0 = tf.Variable(sigma_0_np, tf.complex64)\n",
        "\n",
        "sigma_1 = tf.Variable(sigma_1_np, tf.complex64)\n",
        "\n",
        "sigma_2 = tf.Variable(sigma_2_np, tf.complex64)\n",
        "\n",
        "sigma_3 = tf.Variable(sigma_3_np, dtype=tf.complex64)\n",
        "\n",
        "def create_2qubit_density_mat(measurements: tf.Variable) -> tf.Variable:\n",
        "  \n",
        "  name_basis_1 = ['I', 'X', 'Y', 'Z']\n",
        "  basis_1 = [sigma_0, sigma_1,sigma_2,sigma_3]\n",
        "  name_basis_2 = []\n",
        "  basis_2 = []\n",
        "  for (name_1, meas_1),(name_2,meas_2) in product(zip(name_basis_1, basis_1),zip(name_basis_1, basis_1)):\n",
        "    if name_1 == 'I' and name_2 == 'I':\n",
        "      pass\n",
        "    else:\n",
        "      basis_2.append(tf_kron(meas_1,meas_2))\n",
        "      name_basis_2.append(name_1 + name_2)\n",
        "  \n",
        "  basis_2_tf = tf.Variable(basis_2)\n",
        "\n",
        "  # Helper to make tr(density_matrix) = 1\n",
        "  ones_II = tf.ones((tf.shape(measurements)[0],1), dtype=tf.dtypes.complex64)\n",
        "  II = tf.Variable([tf_kron(sigma_0 , sigma_0)])\n",
        "  \n",
        "  density_matrix = 0.25*(tf.tensordot(ones_II , II ,axes=1) + tf.tensordot(measurements,basis_2_tf,axes=1))\n",
        "  return density_matrix"
      ],
      "execution_count": null,
      "outputs": []
    },
    {
      "cell_type": "code",
      "metadata": {
        "id": "gFlClQNebnv7",
        "colab_type": "code",
        "colab": {}
      },
      "source": [
        "def trace_dist(A,B):\n",
        "  dif = tf.math.subtract(A,B)\n",
        "  \n",
        "  dif = tf.transpose(dif, conjugate=True, perm=[0,2,1]) * dif  \n",
        "  vals = tf.linalg.eigvalsh(dif)\n",
        "  return tf.math.real(0.5*tf.reduce_sum(tf.math.sqrt(tf.math.abs(vals)),axis=-1))\n",
        "\n",
        "def trace_loss(y_true,y_pred):\n",
        "  d_y_true = create_2qubit_density_mat(y_true)  \n",
        "  d_y_pred = create_2qubit_density_mat(y_pred)    \n",
        "  return tf.reduce_mean(trace_dist(d_y_pred,d_y_true))"
      ],
      "execution_count": null,
      "outputs": []
    },
    {
      "cell_type": "code",
      "metadata": {
        "id": "j006E4VsMqJh",
        "colab_type": "code",
        "colab": {}
      },
      "source": [
        "def entropy(A):    \n",
        "  eigen_A = tf.linalg.eigvalsh(A)\n",
        "  return -tf.math.real(tf.reduce_sum(eigen_A*tf.math.log(eigen_A),axis=-1))\n",
        "\n",
        "def relative_entropy(A,B):\n",
        "  log_B = tf.linalg.logm(B)\n",
        "  eigen_AlogB = tf.linalg.eigvalsh(tf.tensordot(A,log_B, axes=1))\n",
        "  return - entropy(A) - tf.math.real(tf.reduce_sum(eigen_AlogB,axis=-1)) \n",
        "\n",
        "def r_entropy_loss(y_true,y_pred):\n",
        "  d_y_true = create_2qubit_density_mat(y_true)  \n",
        "  d_y_pred = create_2qubit_density_mat(y_pred)  \n",
        "  return tf.reduce_mean(relative_entropy(d_y_pred,d_y_true))"
      ],
      "execution_count": null,
      "outputs": []
    },
    {
      "cell_type": "code",
      "metadata": {
        "id": "I5pgkzKCLrUi",
        "colab_type": "code",
        "colab": {
          "base_uri": "https://localhost:8080/",
          "height": 52
        },
        "outputId": "aab4d969-f58d-444f-fe1b-15057bcf62a5"
      },
      "source": [
        "meas_1 = [np.random.rand(15),np.random.rand(15),np.random.rand(15)]\n",
        "measurement_1 = np.array(meas_1, dtype=np.complex64)\n",
        "measurement_tensor_1 = tf.Variable(measurement_1, tf.complex64)\n",
        "\n",
        "meas_2 = [np.random.rand(15),np.random.rand(15),np.random.rand(15)]\n",
        "measurement_2 = np.array(meas_2, dtype=np.complex64)\n",
        "measurement_tensor_2 = tf.Variable(measurement_2, tf.complex64)\n",
        "\n",
        "print(entropy(create_2qubit_density_mat(measurement_tensor_1)))\n",
        "print(trace_loss(measurement_tensor_1,measurement_tensor_2))\n",
        "#print(r_entropy_loss(measurement_tensor_1,measurement_tensor_2))"
      ],
      "execution_count": null,
      "outputs": [
        {
          "output_type": "stream",
          "text": [
            "tf.Tensor([-0.32317808 -0.5595948  -0.2129062 ], shape=(3,), dtype=float32)\n",
            "tf.Tensor(0.586917, shape=(), dtype=float32)\n"
          ],
          "name": "stdout"
        }
      ]
    },
    {
      "cell_type": "markdown",
      "metadata": {
        "id": "th6qZS9Q2_PQ",
        "colab_type": "text"
      },
      "source": [
        "## Fidelity"
      ]
    },
    {
      "cell_type": "code",
      "metadata": {
        "id": "zOtyWv9i3DSi",
        "colab_type": "code",
        "colab": {}
      },
      "source": [
        "meas_1 = [np.random.rand(15),np.random.rand(15),np.random.rand(15)]\n",
        "measurement_1 = np.array(meas_1, dtype=np.complex64)\n",
        "measurement_tensor_1 = tf.Variable(measurement_1, tf.complex64)\n",
        "\n",
        "meas_2 = [np.random.rand(15),np.random.rand(15),np.random.rand(15)]\n",
        "measurement_2 = np.array(meas_2, dtype=np.complex64)\n",
        "measurement_tensor_2 = tf.Variable(measurement_2, tf.complex64)"
      ],
      "execution_count": null,
      "outputs": []
    },
    {
      "cell_type": "code",
      "metadata": {
        "id": "Xovj4Eea6kT7",
        "colab_type": "code",
        "colab": {}
      },
      "source": [
        "def pretty_good_fidelity(A,B):\n",
        "  \"\"\" Function for the pretty good fidelity, given by:\n",
        "  Tr(\\sqrt{A}\\sqrt{B})\n",
        "  \n",
        "  \"\"\"\n",
        "  return tf.math.real(tf.linalg.trace(tf.linalg.sqrtm(A)@tf.linalg.sqrtm(B)))"
      ],
      "execution_count": null,
      "outputs": []
    },
    {
      "cell_type": "code",
      "metadata": {
        "id": "S4pPSGrc6k7Y",
        "colab_type": "code",
        "colab": {
          "base_uri": "https://localhost:8080/",
          "height": 52
        },
        "outputId": "dcada0b3-1d10-4562-e2d9-91f6be2b1d8e"
      },
      "source": [
        "print(pretty_good_fidelity(create_2qubit_density_mat(measurement_tensor_1),create_2qubit_density_mat(measurement_tensor_1)))\n",
        "print(tf.sqrt(pretty_good_fidelity(create_2qubit_density_mat(measurement_tensor_1),create_2qubit_density_mat(measurement_tensor_1))))"
      ],
      "execution_count": null,
      "outputs": [
        {
          "output_type": "stream",
          "text": [
            "tf.Tensor([1.0000001 1.0000012 1.0000021], shape=(3,), dtype=float32)\n",
            "tf.Tensor([1.        1.0000006 1.0000011], shape=(3,), dtype=float32)\n"
          ],
          "name": "stdout"
        }
      ]
    },
    {
      "cell_type": "code",
      "metadata": {
        "id": "cr9fihI5VW4D",
        "colab_type": "code",
        "colab": {}
      },
      "source": [
        "def fidelity(A,B):\n",
        "  \"\"\" Calculates the fidelity between density matrices A and B.\n",
        "  \"\"\"\n",
        "  sqrt_A = tf.linalg.sqrtm(A)  \n",
        "  aux = sqrt_A@B@sqrt_A\n",
        "  internal = tf.linalg.sqrtm(aux)\n",
        "  eigenvalues = tf.linalg.eigvalsh(internal)  \n",
        "  return tf.math.real(tf.reduce_sum(tf.sqrt(eigenvalues), axis=-1))"
      ],
      "execution_count": null,
      "outputs": []
    },
    {
      "cell_type": "code",
      "metadata": {
        "id": "gf_LOYLCWZtO",
        "colab_type": "code",
        "colab": {
          "base_uri": "https://localhost:8080/",
          "height": 34
        },
        "outputId": "a1c4efc7-bcab-4550-b66b-7251f3ee366c"
      },
      "source": [
        "fidelity(create_2qubit_density_mat(measurement_tensor_1),create_2qubit_density_mat(measurement_tensor_1))"
      ],
      "execution_count": null,
      "outputs": [
        {
          "output_type": "execute_result",
          "data": {
            "text/plain": [
              "<tf.Tensor: shape=(3,), dtype=float32, numpy=array([2.1140258, 1.7614529, 1.8742006], dtype=float32)>"
            ]
          },
          "metadata": {
            "tags": []
          },
          "execution_count": 78
        }
      ]
    },
    {
      "cell_type": "code",
      "metadata": {
        "id": "pBZxlh8h2eNu",
        "colab_type": "code",
        "colab": {}
      },
      "source": [
        "def dagger(A):\n",
        "  \"\"\"Computes the transpose conjulgate of a density matrix A.\n",
        "  \n",
        "  \"\"\"\n",
        "  return tf.transpose(A, perm=[0,2,1], conjugate=True)    \n",
        "\n",
        "def fidelity(A,B):    \n",
        "  \"\"\" Calculates the fidelity between density matrices A and B.\n",
        "  \"\"\"\n",
        "  (eigenvalues_A, vector_A) = tf.linalg.eig(A)   \n",
        "  aux_fidelity = vector_A@tf.linalg.diag(tf.math.sqrt(eigenvalues_A))@dagger(vector_A)    \n",
        "  f_b = aux_fidelity@B@dagger(aux_fidelity)\n",
        "  (eigenvalues_F, vector_F) = tf.linalg.eig(f_b)    \n",
        "  return tf.square(tf.math.real(tf.linalg.trace(vector_F@tf.linalg.diag(tf.math.sqrt(eigenvalues_F))@dagger(vector_F))))"
      ],
      "execution_count": null,
      "outputs": []
    },
    {
      "cell_type": "code",
      "metadata": {
        "id": "T8gvXLIN2mEe",
        "colab_type": "code",
        "colab": {
          "base_uri": "https://localhost:8080/",
          "height": 34
        },
        "outputId": "2f4d054e-5b97-4c2d-85e7-8ea60f1ea092"
      },
      "source": [
        "fidelity(create_2qubit_density_mat(measurement_tensor_1),create_2qubit_density_mat(measurement_tensor_1))"
      ],
      "execution_count": null,
      "outputs": [
        {
          "output_type": "execute_result",
          "data": {
            "text/plain": [
              "<tf.Tensor: shape=(3,), dtype=float32, numpy=array([2.4242904, 1.9064056, 2.0652583], dtype=float32)>"
            ]
          },
          "metadata": {
            "tags": []
          },
          "execution_count": 86
        }
      ]
    },
    {
      "cell_type": "code",
      "metadata": {
        "id": "C2J_hM2hzT1P",
        "colab_type": "code",
        "colab": {}
      },
      "source": [
        "def sqrt_svd(A):\n",
        "  S, left_A, right_A = tf.linalg.svd(density)\n",
        "  S = tf.cast(tf.linalg.diag(tf.sqrt(S)),dtype='complex64')\n",
        "  return left_A@S@dagger(right_A)\n",
        "\n",
        "def fidelity(A,B):\n",
        "  sqrt_A = sqrt_svd(A)\n",
        "  internal = sqrt_A@B@sqrt_A\n",
        "  sqrt_internal = sqrt_svd(internal)\n",
        "  return tf.square(tf.math.real(tf.linalg.trace(sqrt_internal)))"
      ],
      "execution_count": null,
      "outputs": []
    },
    {
      "cell_type": "code",
      "metadata": {
        "id": "Z8VxKDMF0F_z",
        "colab_type": "code",
        "colab": {
          "base_uri": "https://localhost:8080/",
          "height": 34
        },
        "outputId": "3a1a70ae-7e83-4665-8dbc-97e389e7b495"
      },
      "source": [
        "fidelity(create_2qubit_density_mat(measurement_tensor_1),create_2qubit_density_mat(measurement_tensor_1))"
      ],
      "execution_count": null,
      "outputs": [
        {
          "output_type": "execute_result",
          "data": {
            "text/plain": [
              "<tf.Tensor: shape=(3,), dtype=float32, numpy=array([0.37355238, 1.0448463 , 1.385976  ], dtype=float32)>"
            ]
          },
          "metadata": {
            "tags": []
          },
          "execution_count": 89
        }
      ]
    }
  ]
}