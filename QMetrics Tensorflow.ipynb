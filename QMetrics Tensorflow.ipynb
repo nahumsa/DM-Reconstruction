{
  "nbformat": 4,
  "nbformat_minor": 0,
  "metadata": {
    "colab": {
      "name": "Trace Distance Tensorflow",
      "provenance": [],
      "collapsed_sections": [],
      "authorship_tag": "ABX9TyMItnPLzRkdWQGOsn23n0d2",
      "include_colab_link": true
    },
    "kernelspec": {
      "name": "python3",
      "display_name": "Python 3"
    }
  },
  "cells": [
    {
      "cell_type": "markdown",
      "metadata": {
        "id": "view-in-github",
        "colab_type": "text"
      },
      "source": [
        "<a href=\"https://colab.research.google.com/github/nahumsa/DM-Reconstruction/blob/master/QMetrics%20Tensorflow.ipynb\" target=\"_parent\"><img src=\"https://colab.research.google.com/assets/colab-badge.svg\" alt=\"Open In Colab\"/></a>"
      ]
    },
    {
      "cell_type": "code",
      "metadata": {
        "id": "DW2FrLlAXiv6",
        "colab_type": "code",
        "outputId": "309f9d0d-0d5c-4f88-e754-1d87406b95ed",
        "colab": {
          "base_uri": "https://localhost:8080/",
          "height": 34
        }
      },
      "source": [
        "import tensorflow as tf\n",
        "from tensorflow import keras\n",
        "import numpy as np\n",
        "print(tf.__version__)"
      ],
      "execution_count": 1,
      "outputs": [
        {
          "output_type": "stream",
          "text": [
            "2.2.0\n"
          ],
          "name": "stdout"
        }
      ]
    },
    {
      "cell_type": "markdown",
      "metadata": {
        "id": "EoIPgpp3Ehm5",
        "colab_type": "text"
      },
      "source": [
        "# Tests"
      ]
    },
    {
      "cell_type": "code",
      "metadata": {
        "id": "sAPtn7AWXkrq",
        "colab_type": "code",
        "colab": {}
      },
      "source": [
        "#Creating pauli matrices\n",
        "sigma_0_np = np.array([[1.,0.],\n",
        "                      [0.,1.]], dtype=np.complex64)\n",
        "\n",
        "sigma_1_np = np.array([[0.,1.],\n",
        "                       [1.,0.]], dtype=np.complex64)\n",
        "\n",
        "sigma_2_np = np.array([[0.,1.j],\n",
        "                       [-1.j,0.]], dtype=np.complex64)\n",
        "\n",
        "sigma_3_np = np.array([[1.,0.],\n",
        "                       [0.,-1.]], dtype=np.complex64)\n",
        "\n",
        "#Converting to tensors\n",
        "sigma_0 = tf.Variable(sigma_0_np, tf.complex64)\n",
        "\n",
        "sigma_1 = tf.Variable(sigma_1_np, tf.complex64)\n",
        "\n",
        "sigma_2 = tf.Variable(sigma_2_np, tf.complex64)\n",
        "\n",
        "sigma_3 = tf.Variable(sigma_3_np, dtype=tf.complex64)"
      ],
      "execution_count": 0,
      "outputs": []
    },
    {
      "cell_type": "code",
      "metadata": {
        "id": "ezzFM6V2CjAp",
        "colab_type": "code",
        "colab": {}
      },
      "source": [
        "def tf_kron(a: tf.Tensor,\n",
        "            b: tf.Tensor) -> tf.Tensor:\n",
        "\n",
        "    \"\"\"Calculates the Kronocker product of two matrices ((2,2) Tensors).\n",
        "\n",
        "    Parameters\n",
        "    -----------------------------------------------------------------------\n",
        "    a(tf.Tensor): Tensor on the left of the product.\n",
        "    b(tf.Tensor): Tensor on the right of the product.\n",
        "\n",
        "    Return\n",
        "    -----------------------------------------------------------------------\n",
        "    (tf.tensor): Kronocker product between a and b.\n",
        "\n",
        "    \"\"\"\n",
        "    assert len(a.shape) == 2\n",
        "    assert len(b.shape) == 2\n",
        "    a_shape = list(b.shape)    \n",
        "    b_shape = list(b.shape)\n",
        "    return tf.reshape(tf.reshape(a,[a_shape[0],1,a_shape[1],1])*tf.reshape(b,[1,b_shape[0],1,b_shape[1]]),[a_shape[0]*b_shape[0],a_shape[1]*b_shape[1]])"
      ],
      "execution_count": 0,
      "outputs": []
    },
    {
      "cell_type": "code",
      "metadata": {
        "id": "AhNQlBsN5V52",
        "colab_type": "code",
        "outputId": "eadab58b-4fa6-47d5-8baf-3541eae6fca7",
        "colab": {
          "base_uri": "https://localhost:8080/",
          "height": 52
        }
      },
      "source": [
        "from itertools import product\n",
        "name_basis_1 = ['I', 'X', 'Y', 'Z']\n",
        "basis_1 = [sigma_0, sigma_1,sigma_2,sigma_3]\n",
        "name_basis_2 = []\n",
        "basis_2 = []\n",
        "for (name_1, meas_1),(name_2,meas_2) in product(zip(name_basis_1, basis_1),zip(name_basis_1, basis_1)):\n",
        "  if name_1 == 'I' and name_2 == 'I':\n",
        "    pass\n",
        "  else:\n",
        "    basis_2.append(tf_kron(meas_1,meas_2))\n",
        "    name_basis_2.append(name_1 + name_2)\n",
        "\n",
        "basis_2_tf = tf.Variable(basis_2)\n",
        "print(name_basis_2)\n",
        "print(basis_2_tf.shape)"
      ],
      "execution_count": 4,
      "outputs": [
        {
          "output_type": "stream",
          "text": [
            "['IX', 'IY', 'IZ', 'XI', 'XX', 'XY', 'XZ', 'YI', 'YX', 'YY', 'YZ', 'ZI', 'ZX', 'ZY', 'ZZ']\n",
            "(15, 4, 4)\n"
          ],
          "name": "stdout"
        }
      ]
    },
    {
      "cell_type": "code",
      "metadata": {
        "id": "mcXTY2ho1Fl4",
        "colab_type": "code",
        "colab": {}
      },
      "source": [
        "meas = [np.random.rand(15),np.random.rand(15),np.random.rand(15),np.random.rand(15)]\n",
        "measurement = np.array(meas, dtype=np.complex64)\n",
        "measurement_tensor = tf.Variable(measurement, tf.complex64)\n",
        "#print(measurement_tensor)"
      ],
      "execution_count": 0,
      "outputs": []
    },
    {
      "cell_type": "code",
      "metadata": {
        "id": "DGOQboKQF5sU",
        "colab_type": "code",
        "outputId": "29fafd05-0762-4315-fd81-1fa07aaf191a",
        "colab": {
          "base_uri": "https://localhost:8080/",
          "height": 34
        }
      },
      "source": [
        "ones_II = tf.ones((measurement_tensor.shape[0],1), dtype=tf.dtypes.complex64)\n",
        "II = tf.Variable([tf_kron(sigma_0 , sigma_0)])\n",
        "density_matrix = 0.25*(tf.tensordot(ones_II , II ,axes=1) + tf.tensordot(measurement_tensor,basis_2_tf,axes=1))\n",
        "print(density_matrix.shape)"
      ],
      "execution_count": 6,
      "outputs": [
        {
          "output_type": "stream",
          "text": [
            "(4, 4, 4)\n"
          ],
          "name": "stdout"
        }
      ]
    },
    {
      "cell_type": "code",
      "metadata": {
        "id": "zsFlxsrh4_DY",
        "colab_type": "code",
        "outputId": "ec1f438b-700d-4fc1-cee3-32cf557832e4",
        "colab": {
          "base_uri": "https://localhost:8080/",
          "height": 86
        }
      },
      "source": [
        "mat = tf.squeeze(density_matrix)\n",
        "#print(mat)\n",
        "print(f'Eigenvalues: {tf.linalg.eigvalsh(mat)}')\n",
        "log_mat = tf.linalg.logm(mat)"
      ],
      "execution_count": 7,
      "outputs": [
        {
          "output_type": "stream",
          "text": [
            "Eigenvalues: [[-0.43327442+0.j -0.01793911+0.j  0.26848564+0.j  1.1827275 +0.j]\n",
            " [-0.5466988 +0.j -0.0033648 +0.j  0.30324015+0.j  1.2468239 +0.j]\n",
            " [-0.24974662+0.j -0.00860144+0.j  0.32327715+0.j  0.93507105+0.j]\n",
            " [-0.31569844+0.j -0.12145308+0.j  0.45409948+0.j  0.98305184+0.j]]\n"
          ],
          "name": "stdout"
        }
      ]
    },
    {
      "cell_type": "markdown",
      "metadata": {
        "id": "uCu-zyXPEeF8",
        "colab_type": "text"
      },
      "source": [
        "# Methods"
      ]
    },
    {
      "cell_type": "markdown",
      "metadata": {
        "id": "p7oEIzibLWxj",
        "colab_type": "text"
      },
      "source": [
        "## One qubit"
      ]
    },
    {
      "cell_type": "code",
      "metadata": {
        "id": "R3Wb2PMtBh7I",
        "colab_type": "code",
        "colab": {}
      },
      "source": [
        "def create_density_mat(measurements: np.array) -> tf.Tensor:\n",
        "  \n",
        "  #Creating the basis\n",
        "  sigma_0_np = np.array([[1.,0.],\n",
        "                        [0.,1.]], dtype=np.complex64)\n",
        "\n",
        "  sigma_1_np = np.array([[0.,1.],\n",
        "                         [1.,0.]], dtype=np.complex64)\n",
        "\n",
        "  sigma_2_np = np.array([[0.,1.j],\n",
        "                         [-1.j,0.]], dtype=np.complex64)\n",
        "\n",
        "  sigma_3_np = np.array([[1.,0.],\n",
        "                        [0.,-1.]], dtype=np.complex64)\n",
        "\n",
        "  #Converting to tensors\n",
        "  sigma_0 = tf.Variable(sigma_0_np, tf.complex64)\n",
        "\n",
        "  sigma_1 = tf.Variable(sigma_1_np, tf.complex64)\n",
        "\n",
        "  sigma_2 = tf.Variable(sigma_2_np, tf.complex64)\n",
        "\n",
        "  sigma_3 = tf.Variable(sigma_3_np, dtype=tf.complex64)\n",
        "\n",
        "  basis = tf.Variable([sigma_1,sigma_2,sigma_3])\n",
        "  \n",
        "  measurement = np.array(measurements, dtype=np.complex64)\n",
        "  measurement_tensor = tf.Variable(measurement, tf.complex64)\n",
        "\n",
        "  density_matrix = 0.5*(sigma_0 + tf.tensordot(measurement_tensor,basis,axes=1))\n",
        "  return density_matrix"
      ],
      "execution_count": 0,
      "outputs": []
    },
    {
      "cell_type": "code",
      "metadata": {
        "id": "mbRaeozr4lWy",
        "colab_type": "code",
        "colab": {}
      },
      "source": [
        "def trace_dist(A,B):\n",
        "  dif = A - B\n",
        "  dif = tf.transpose(dif, conjugate=True, perm=[0,2,1]) * dif  \n",
        "  vals = tf.linalg.eigvalsh(dif)\n",
        "  return tf.math.real(0.5*tf.reduce_sum(tf.math.sqrt(tf.math.abs(vals)),axis=-1))"
      ],
      "execution_count": 0,
      "outputs": []
    },
    {
      "cell_type": "code",
      "metadata": {
        "id": "gRUCKmZuCGoc",
        "colab_type": "code",
        "colab": {}
      },
      "source": [
        "def trace_loss(y_true,y_pred):\n",
        "  d_y_true = create_density_mat(y_true)  \n",
        "  d_y_pred = create_density_mat(y_pred)  \n",
        "  return tf.reduce_mean(trace_dist(d_y_pred,d_y_true))"
      ],
      "execution_count": 0,
      "outputs": []
    },
    {
      "cell_type": "code",
      "metadata": {
        "id": "Q7BZuBrLKSYG",
        "colab_type": "code",
        "colab": {}
      },
      "source": [
        "def entropy(A):    \n",
        "  eigen_A = tf.linalg.eigvalsh(A)\n",
        "  return -tf.math.real(tf.reduce_sum(eigen_A*tf.math.log(eigen_A),axis=-1))\n",
        "\n",
        "def relative_entropy(A,B):\n",
        "  log_B = tf.linalg.logm(B)\n",
        "  eigen_AlogB = tf.linalg.eigvalsh(A*log_B)\n",
        "  return - entropy(A) - tf.math.real(tf.reduce_sum(eigen_AlogB,axis=-1)) "
      ],
      "execution_count": 0,
      "outputs": []
    },
    {
      "cell_type": "code",
      "metadata": {
        "id": "B3eaQNqcLDW4",
        "colab_type": "code",
        "colab": {}
      },
      "source": [
        "def r_entropy_loss(y_true,y_pred):\n",
        "  d_y_true = create_density_mat(y_true)  \n",
        "  d_y_pred = create_density_mat(y_pred)  \n",
        "  return tf.reduce_mean(relative_entropy(d_y_pred,d_y_true))"
      ],
      "execution_count": 0,
      "outputs": []
    },
    {
      "cell_type": "code",
      "metadata": {
        "id": "rkPfTyNqZJMB",
        "colab_type": "code",
        "outputId": "d35fd1c4-c72b-49b7-8ba6-2999ac3c3b79",
        "colab": {
          "base_uri": "https://localhost:8080/",
          "height": 34
        }
      },
      "source": [
        "y_1 = [[.5,.5,0],[.2,0.3,.3]]\n",
        "y_2 = [[1,0,0],[.2,.3,.3]]\n",
        "r_entropy_loss(y_true=y_1, y_pred=y_2)"
      ],
      "execution_count": 0,
      "outputs": [
        {
          "output_type": "execute_result",
          "data": {
            "text/plain": [
              "<tf.Tensor: shape=(), dtype=float32, numpy=-0.12907417>"
            ]
          },
          "metadata": {
            "tags": []
          },
          "execution_count": 21
        }
      ]
    },
    {
      "cell_type": "markdown",
      "metadata": {
        "id": "diG3ommrLb-0",
        "colab_type": "text"
      },
      "source": [
        "## Two qubits"
      ]
    },
    {
      "cell_type": "code",
      "metadata": {
        "id": "iBZEWCUTJ-hh",
        "colab_type": "code",
        "colab": {}
      },
      "source": [
        "from itertools import product\n",
        "def tf_kron(a: tf.Tensor,\n",
        "            b: tf.Tensor) -> tf.Tensor:\n",
        "\n",
        "  \"\"\"Calculates the Kronocker product of two matrices ((2,2) Tensors).\n",
        "\n",
        "  Parameters\n",
        "  -----------------------------------------------------------------------\n",
        "  a(tf.Tensor): Tensor on the left of the product.\n",
        "  b(tf.Tensor): Tensor on the right of the product.\n",
        "\n",
        "  Return\n",
        "  -----------------------------------------------------------------------\n",
        "  (tf.tensor): Kronocker product between a and b.\n",
        "\n",
        "  \"\"\"\n",
        "  assert len(a.shape) == 2\n",
        "  assert len(b.shape) == 2\n",
        "  a_shape = list(b.shape)    \n",
        "  b_shape = list(b.shape)\n",
        "  return tf.reshape(tf.reshape(a,[a_shape[0],1,a_shape[1],1])*tf.reshape(b,[1,b_shape[0],1,b_shape[1]]),[a_shape[0]*b_shape[0],a_shape[1]*b_shape[1]])\n",
        "\n",
        "\n",
        "#Creating pauli matrices\n",
        "sigma_0_np = np.array([[1.,0.],\n",
        "                      [0.,1.]], dtype=np.complex64)\n",
        "\n",
        "sigma_1_np = np.array([[0.,1.],\n",
        "                       [1.,0.]], dtype=np.complex64)\n",
        "\n",
        "sigma_2_np = np.array([[0.,1.j],\n",
        "                       [-1.j,0.]], dtype=np.complex64)\n",
        "\n",
        "sigma_3_np = np.array([[1.,0.],\n",
        "                       [0.,-1.]], dtype=np.complex64)\n",
        "\n",
        "#Converting to tensors\n",
        "sigma_0 = tf.Variable(sigma_0_np, tf.complex64)\n",
        "\n",
        "sigma_1 = tf.Variable(sigma_1_np, tf.complex64)\n",
        "\n",
        "sigma_2 = tf.Variable(sigma_2_np, tf.complex64)\n",
        "\n",
        "sigma_3 = tf.Variable(sigma_3_np, dtype=tf.complex64)\n",
        "\n",
        "def create_2qubit_density_mat(measurements: tf.Variable) -> tf.Variable:\n",
        "  \n",
        "  name_basis_1 = ['I', 'X', 'Y', 'Z']\n",
        "  basis_1 = [sigma_0, sigma_1,sigma_2,sigma_3]\n",
        "  name_basis_2 = []\n",
        "  basis_2 = []\n",
        "  for (name_1, meas_1),(name_2,meas_2) in product(zip(name_basis_1, basis_1),zip(name_basis_1, basis_1)):\n",
        "    if name_1 == 'I' and name_2 == 'I':\n",
        "      pass\n",
        "    else:\n",
        "      basis_2.append(tf_kron(meas_1,meas_2))\n",
        "      name_basis_2.append(name_1 + name_2)\n",
        "  \n",
        "  basis_2_tf = tf.Variable(basis_2)\n",
        "\n",
        "  # Helper to make tr(density_matrix) = 1\n",
        "  ones_II = tf.ones((tf.shape(measurements)[0],1), dtype=tf.dtypes.complex64)\n",
        "  II = tf.Variable([tf_kron(sigma_0 , sigma_0)])\n",
        "  \n",
        "  density_matrix = 0.25*(tf.tensordot(ones_II , II ,axes=1) + tf.tensordot(measurements,basis_2_tf,axes=1))\n",
        "  return density_matrix"
      ],
      "execution_count": 0,
      "outputs": []
    },
    {
      "cell_type": "code",
      "metadata": {
        "id": "gFlClQNebnv7",
        "colab_type": "code",
        "colab": {}
      },
      "source": [
        "def trace_dist(A,B):\n",
        "  dif = tf.math.subtract(A,B)\n",
        "  \n",
        "  dif = tf.transpose(dif, conjugate=True, perm=[0,2,1]) * dif  \n",
        "  vals = tf.linalg.eigvalsh(dif)\n",
        "  return tf.math.real(0.5*tf.reduce_sum(tf.math.sqrt(tf.math.abs(vals)),axis=-1))\n",
        "\n",
        "def trace_loss(y_true,y_pred):\n",
        "  d_y_true = create_2qubit_density_mat(y_true)  \n",
        "  d_y_pred = create_2qubit_density_mat(y_pred)    \n",
        "  return tf.reduce_mean(trace_dist(d_y_pred,d_y_true))"
      ],
      "execution_count": 0,
      "outputs": []
    },
    {
      "cell_type": "code",
      "metadata": {
        "id": "j006E4VsMqJh",
        "colab_type": "code",
        "colab": {}
      },
      "source": [
        "def entropy(A):    \n",
        "  eigen_A = tf.linalg.eigvalsh(A)\n",
        "  return -tf.math.real(tf.reduce_sum(eigen_A*tf.math.log(eigen_A),axis=-1))\n",
        "\n",
        "def relative_entropy(A,B):\n",
        "  log_B = tf.linalg.logm(B)\n",
        "  eigen_AlogB = tf.linalg.eigvalsh(tf.tensordot(A,log_B, axes=1))\n",
        "  return - entropy(A) - tf.math.real(tf.reduce_sum(eigen_AlogB,axis=-1)) \n",
        "\n",
        "def r_entropy_loss(y_true,y_pred):\n",
        "  d_y_true = create_2qubit_density_mat(y_true)  \n",
        "  d_y_pred = create_2qubit_density_mat(y_pred)  \n",
        "  return tf.reduce_mean(relative_entropy(d_y_pred,d_y_true))"
      ],
      "execution_count": 0,
      "outputs": []
    },
    {
      "cell_type": "code",
      "metadata": {
        "id": "I5pgkzKCLrUi",
        "colab_type": "code",
        "outputId": "0d6d9cc7-ceea-4c8b-9d5f-ad54448131b1",
        "colab": {
          "base_uri": "https://localhost:8080/",
          "height": 69
        }
      },
      "source": [
        "meas_1 = [np.random.rand(15),np.random.rand(15),np.random.rand(15),np.random.rand(15)]\n",
        "measurement_1 = np.array(meas_1, dtype=np.complex64)\n",
        "measurement_tensor_1 = tf.Variable(measurement_1, tf.complex64)\n",
        "\n",
        "meas_2 = [np.random.rand(15),np.random.rand(15),np.random.rand(15),np.random.rand(15)]\n",
        "measurement_2 = np.array(meas_2, dtype=np.complex64)\n",
        "measurement_tensor_2 = tf.Variable(measurement_2, tf.complex64)\n",
        "\n",
        "print(entropy(create_2qubit_density_mat(measurement_tensor_1)))\n",
        "print(trace_loss(measurement_tensor_1,measurement_tensor_2))\n",
        "print(r_entropy_loss(measurement_tensor_1,measurement_tensor_2))"
      ],
      "execution_count": 11,
      "outputs": [
        {
          "output_type": "stream",
          "text": [
            "tf.Tensor([-0.04518264 -0.4167397   0.03460643 -0.30552974], shape=(4,), dtype=float32)\n",
            "tf.Tensor(0.56964934, shape=(), dtype=float32)\n",
            "tf.Tensor(4.097905, shape=(), dtype=float32)\n"
          ],
          "name": "stdout"
        }
      ]
    },
    {
      "cell_type": "code",
      "metadata": {
        "id": "cr9fihI5VW4D",
        "colab_type": "code",
        "colab": {}
      },
      "source": [
        "def fidelity(A,B):\n",
        "  sqrt_A = tf.linalg.sqrtm(A)\n",
        "  aux1 = sqrt_A@B\n",
        "  aux = aux1@sqrt_A\n",
        "  internal = tf.linalg.sqrtm(aux)\n",
        "  eigenvalues = tf.linalg.eigvalsh(internal)  \n",
        "  return tf.math.real(tf.reduce_sum(eigenvalues, axis=-1))\n",
        "\n",
        "def fidelity(A,B):\n",
        "  left_A, s_A, right_A = tf.linalg.svd(A)  \n",
        "  aux = tf.matmul(tf.linalg.diag(tf.sqrt(s_A)), right_A, adjoint_b=True)\n",
        "  return tf.matmul\n",
        "  sqrt_A = tf.linalg.sqrtm(A)\n",
        "  aux1 = sqrt_A@B\n",
        "  aux = aux1@sqrt_A\n",
        "  internal = tf.linalg.sqrtm(aux)\n",
        "  eigenvalues = tf.linalg.eigvalsh(internal)  \n",
        "  return tf.math.real(tf.reduce_sum(eigenvalues, axis=-1))\n",
        "\n",
        "\n",
        "# def fidelity(A,B):\n",
        "  \n",
        "#   (eigenvalues_A, vector_A) = tf.linalg.eig(A)\n",
        "\n",
        "#   aux_fidelity = vector_A@tf.transpose(tf.sqrt(eigenvalues_A))@tf.transpose(vector_A, perm=[0,2,1], conjugate=True)\n",
        "    \n",
        "#   print(tf.shape(aux_fidelity))\n",
        "#   ff = aux_fidelity@B@tf.transpose(aux_fidelity, perm=[0,2,1], conjugate=True)\n",
        "#   print(tf.shape(ff))\n",
        "#   (vector_F,eigenvalues_F) = tf.linalg.eig(ff)  \n",
        "  \n",
        "#   return tf.math.real(tf.linalg.trace(vector_F@tf.sqrt(eigenvalues_F)@tf.transpose(vector_F, conjugate=True)))"
      ],
      "execution_count": 0,
      "outputs": []
    },
    {
      "cell_type": "code",
      "metadata": {
        "id": "gf_LOYLCWZtO",
        "colab_type": "code",
        "outputId": "0d5632da-58a1-42c5-e4ce-e10f68b4c0e0",
        "colab": {
          "base_uri": "https://localhost:8080/",
          "height": 1000
        }
      },
      "source": [
        "fidelity(create_2qubit_density_mat(measurement_tensor_1),create_2qubit_density_mat(measurement_tensor_1))"
      ],
      "execution_count": 95,
      "outputs": [
        {
          "output_type": "execute_result",
          "data": {
            "text/plain": [
              "<tf.Tensor: shape=(4, 4, 4, 4), dtype=complex64, numpy=\n",
              "array([[[[ 7.62885451e-01-1.49373129e-01j,\n",
              "           1.79723129e-01+1.66882128e-01j,\n",
              "           3.12129468e-01+1.78523213e-01j,\n",
              "           1.63663805e-01+1.57821774e-01j],\n",
              "         [-5.50423190e-02-1.27663970e-01j,\n",
              "           2.23448634e-01+1.76921099e-01j,\n",
              "          -2.32308328e-01-6.91469759e-03j,\n",
              "          -1.33760512e-01+3.09678525e-01j],\n",
              "         [ 1.01990968e-01-1.31818950e-01j,\n",
              "          -3.92498374e-01-8.45020711e-02j,\n",
              "          -2.10072547e-01-3.48170176e-02j,\n",
              "           1.60996690e-01+2.06444189e-01j],\n",
              "         [ 1.59515470e-01+1.29981205e-01j,\n",
              "           1.78499252e-01+2.95249894e-02j,\n",
              "          -3.18043619e-01-2.67862916e-01j,\n",
              "           2.43545637e-01-2.03096405e-01j]],\n",
              "\n",
              "        [[-1.86501354e-01-3.84982198e-01j,\n",
              "           3.69177982e-02-1.59912840e-01j,\n",
              "          -1.15170255e-02-2.14222461e-01j,\n",
              "           8.90771523e-02-5.33311218e-02j],\n",
              "         [ 4.95385602e-02-2.20791787e-01j,\n",
              "           2.06283048e-01-2.22846717e-01j,\n",
              "          -2.65416682e-01+5.35076976e-01j,\n",
              "          -1.70318410e-01-1.44882455e-01j],\n",
              "         [-5.19162714e-02+1.17429920e-01j,\n",
              "           1.29067212e-01+6.12735115e-02j,\n",
              "           3.25682223e-01+7.96961337e-02j,\n",
              "           2.60554343e-01-7.15785563e-01j],\n",
              "         [-2.21590996e-01-1.07985780e-01j,\n",
              "           2.40177587e-01+3.97349745e-01j,\n",
              "           6.71780929e-02+5.58797121e-02j,\n",
              "          -1.36122033e-01+6.29160553e-02j]],\n",
              "\n",
              "        [[ 1.69397518e-02-4.83384013e-01j,\n",
              "           1.61621213e-01-1.02971703e-01j,\n",
              "           1.42800674e-01-1.19372807e-01j,\n",
              "           2.78194934e-01-9.14264917e-02j],\n",
              "         [ 1.52691558e-01+2.35557795e-01j,\n",
              "          -2.84106821e-01-3.47485900e-01j,\n",
              "           3.28064024e-01-7.64889345e-02j,\n",
              "           1.90302104e-01-1.36669651e-01j],\n",
              "         [ 1.23116583e-01+1.53262243e-01j,\n",
              "           1.85643673e-01+1.41216397e-01j,\n",
              "          -1.18611276e-01+1.66295230e-01j,\n",
              "           1.81609154e-01-4.68162388e-01j],\n",
              "         [ 2.62935787e-01+1.40638560e-01j,\n",
              "           2.82350332e-01-3.78346115e-01j,\n",
              "          -4.46436495e-01-4.34203207e-01j,\n",
              "          -1.05939452e-02+6.77899867e-02j]],\n",
              "\n",
              "        [[-2.15452388e-01-3.47592235e-01j,\n",
              "           1.01801008e-01-1.68952793e-01j,\n",
              "           2.77178772e-02-1.46352172e-01j,\n",
              "           1.35807946e-01-2.21888237e-02j],\n",
              "         [-1.00478763e-02+2.66768396e-01j,\n",
              "          -4.57559675e-02+1.91522330e-01j,\n",
              "           2.80934751e-01-2.22313628e-01j,\n",
              "           6.42479599e-01-5.39227622e-05j],\n",
              "         [-2.10977569e-01-2.51618475e-02j,\n",
              "           3.68709415e-02+3.93883258e-01j,\n",
              "           2.57077187e-01-3.15563709e-01j,\n",
              "          -3.29246104e-01+1.05747138e-04j],\n",
              "         [ 1.48506895e-01+2.05029115e-01j,\n",
              "          -8.27520527e-03-4.93822992e-01j,\n",
              "           3.71930182e-01-2.40173012e-01j,\n",
              "          -1.81928441e-01+3.57122719e-03j]]],\n",
              "\n",
              "\n",
              "       [[[ 6.80527866e-01+3.59059811e-01j,\n",
              "           3.47341374e-02+2.40255773e-01j,\n",
              "           1.29499227e-01+3.31513524e-01j,\n",
              "           2.79937238e-02+2.23295271e-01j],\n",
              "         [ 2.76947357e-02-1.45616680e-01j,\n",
              "           9.15640667e-02+2.89752185e-01j,\n",
              "          -2.00986505e-01-1.44938126e-01j,\n",
              "          -3.03176045e-01+1.93495363e-01j],\n",
              "         [ 1.12622581e-01-3.32224928e-02j,\n",
              "          -1.89324945e-01-2.10152760e-01j,\n",
              "          -1.05624005e-01-1.06531933e-01j,\n",
              "           6.80510094e-03+1.84316382e-01j],\n",
              "         [ 1.39262840e-01+1.86275378e-01j,\n",
              "           1.87629998e-01+8.13298821e-02j,\n",
              "          -2.75276303e-01-3.80943000e-01j,\n",
              "           3.22753280e-01-1.55903906e-01j]],\n",
              "\n",
              "        [[ 1.64302051e-01-4.37056482e-01j,\n",
              "           1.54268816e-01-9.10533667e-02j,\n",
              "           1.60808399e-01-1.70212030e-01j,\n",
              "           1.09178185e-01+3.03617362e-02j],\n",
              "         [-1.86149806e-01-5.87396286e-02j,\n",
              "          -1.76443696e-01-1.93615526e-01j,\n",
              "           4.40484673e-01+2.67294854e-01j,\n",
              "          -1.36995658e-01+1.35788411e-01j],\n",
              "         [-4.43156064e-02+4.26122770e-02j,\n",
              "           4.60706949e-02+5.05737998e-02j,\n",
              "           1.29848853e-01+9.44186151e-02j,\n",
              "           2.45353982e-01-2.69884288e-01j],\n",
              "         [ 6.16694838e-02-4.03103828e-01j,\n",
              "          -5.09621441e-01+5.74680448e-01j,\n",
              "          -5.52523248e-02+1.33580059e-01j,\n",
              "          -1.66285172e-01-1.84099883e-01j]],\n",
              "\n",
              "        [[ 3.81536126e-01-3.20824683e-01j,\n",
              "           1.90386385e-01+5.25531843e-02j,\n",
              "           1.89939007e-01+2.68282592e-02j,\n",
              "           2.62049347e-01+1.49716347e-01j],\n",
              "         [-2.95493007e-01+2.32651442e-01j,\n",
              "           4.28666770e-01-4.21726108e-01j,\n",
              "           1.42357513e-01+4.28269207e-01j,\n",
              "           2.05715463e-01+2.37086460e-01j],\n",
              "         [ 4.13378179e-02+1.93646759e-01j,\n",
              "           1.03045516e-01+2.11132288e-01j,\n",
              "          -1.82031885e-01+9.58782732e-02j,\n",
              "           3.75441015e-01-3.38912219e-01j],\n",
              "         [ 1.14544734e-01+8.24978724e-02j,\n",
              "           1.56237349e-01-1.59800425e-01j,\n",
              "          -1.82216033e-01-2.31764376e-01j,\n",
              "          -9.22687445e-03+3.11432034e-02j]],\n",
              "\n",
              "        [[-5.03449813e-02-3.65276515e-01j,\n",
              "           1.45716041e-01-1.01972304e-01j,\n",
              "           7.63973147e-02-1.10458389e-01j,\n",
              "           1.20032370e-01+3.14131193e-02j],\n",
              "         [-2.28486722e-03+1.81626067e-01j,\n",
              "          -2.78566573e-02+1.31053001e-01j,\n",
              "           1.87299103e-01-1.56008020e-01j,\n",
              "           4.37010944e-01-1.09939743e-02j],\n",
              "         [-2.88914710e-01-3.40446681e-02j,\n",
              "           5.12417294e-02+5.39225996e-01j,\n",
              "           3.51377010e-01-4.32558686e-01j,\n",
              "          -4.50796932e-01+7.79045746e-04j],\n",
              "         [ 1.05623096e-01+1.45483077e-01j,\n",
              "          -6.26621442e-03-3.50679040e-01j,\n",
              "           2.63934582e-01-1.70850933e-01j,\n",
              "          -1.29192635e-01+2.67962739e-03j]]],\n",
              "\n",
              "\n",
              "       [[[ 7.10410178e-01+2.19466478e-01j,\n",
              "           7.58913979e-02+2.21965313e-01j,\n",
              "           1.82185486e-01+2.91708648e-01j,\n",
              "           6.64613098e-02+2.07061827e-01j],\n",
              "         [ 1.73599511e-01-6.86957687e-03j,\n",
              "          -3.06660324e-01+1.81152523e-01j,\n",
              "           1.12372510e-01-2.67819256e-01j,\n",
              "          -3.01095545e-01-2.95043290e-01j],\n",
              "         [-1.64015636e-01-4.56771925e-02j,\n",
              "           7.13448524e-02+4.03883696e-01j,\n",
              "           4.80332971e-02+2.12153688e-01j,\n",
              "           1.33246094e-01-2.31879249e-01j],\n",
              "         [ 1.96109340e-03+2.07745358e-01j,\n",
              "           9.22280177e-02+1.57679901e-01j,\n",
              "           2.85072625e-03-4.19820935e-01j,\n",
              "           3.14858615e-01+5.81227988e-02j]],\n",
              "\n",
              "        [[ 1.30519420e-02-4.58333880e-01j,\n",
              "           1.14195794e-01-1.33808658e-01j,\n",
              "           9.49975252e-02-2.09408551e-01j,\n",
              "           1.11083299e-01-6.65912405e-03j],\n",
              "         [-2.30372280e-01-9.64109004e-02j,\n",
              "          -2.02377379e-01-2.67135233e-01j,\n",
              "           5.30261755e-01+3.91606450e-01j,\n",
              "          -1.90283626e-01+1.57137960e-01j],\n",
              "         [-6.02381974e-02+6.96013644e-02j,\n",
              "           7.56146461e-02+6.90953881e-02j,\n",
              "           2.06528395e-01+1.22994944e-01j,\n",
              "           3.28859508e-01-4.35983270e-01j],\n",
              "         [ 6.98798746e-02-3.26574147e-01j,\n",
              "          -4.44380641e-01+4.45215851e-01j,\n",
              "          -5.16203269e-02+1.06538728e-01j,\n",
              "          -1.27055213e-01-1.58536866e-01j]],\n",
              "\n",
              "        [[ 1.89109161e-01-3.77212405e-01j,\n",
              "           1.65603340e-01-2.29288340e-02j,\n",
              "           1.56637490e-01-4.27763276e-02j,\n",
              "           2.53861398e-01+2.85935253e-02j],\n",
              "         [-2.93316305e-01+4.80025522e-02j,\n",
              "           4.57696944e-01-1.27896085e-01j,\n",
              "          -6.52006939e-02+3.50653946e-01j,\n",
              "           5.16916066e-02+2.42620260e-01j],\n",
              "         [-1.66999787e-01-7.00652152e-02j,\n",
              "          -2.12349266e-01-3.28562558e-02j,\n",
              "           2.30444241e-02-1.86754525e-01j,\n",
              "           5.84753603e-02+4.58885878e-01j],\n",
              "         [-1.00356854e-01-2.89147109e-01j,\n",
              "          -4.76378292e-01+8.87137055e-02j,\n",
              "           3.43238823e-02+6.38307214e-01j,\n",
              "           5.51928245e-02-4.37453575e-02j]],\n",
              "\n",
              "        [[-1.06687650e-01-5.52564383e-01j,\n",
              "           2.13712335e-01-1.67360947e-01j,\n",
              "           1.07372217e-01-1.74608454e-01j,\n",
              "           1.85509890e-01+3.80295217e-02j],\n",
              "         [ 1.95405588e-01+9.97736864e-03j,\n",
              "           1.39910862e-01+3.54091935e-02j,\n",
              "          -1.60172418e-01-2.08064109e-01j,\n",
              "           6.25520805e-03-4.70848501e-01j],\n",
              "         [-2.74831027e-01-3.27975117e-02j,\n",
              "           4.79931720e-02+5.13101995e-01j,\n",
              "           3.34915787e-01-4.11049873e-01j,\n",
              "          -4.28897887e-01+1.06515945e-04j],\n",
              "         [ 8.59647617e-02+4.86310720e-02j,\n",
              "          -8.30926076e-02-1.73846483e-01j,\n",
              "           9.29621011e-02-1.45575657e-01j,\n",
              "          -6.39616549e-02+3.07973921e-02j]]],\n",
              "\n",
              "\n",
              "       [[[ 6.60482407e-01+3.89353752e-01j,\n",
              "           2.32850462e-02+2.40765810e-01j,\n",
              "           1.13320507e-01+3.36049497e-01j,\n",
              "           1.73728839e-02+2.23567858e-01j],\n",
              "         [ 1.54180720e-01-7.36422092e-03j,\n",
              "          -2.71129578e-01+1.63168609e-01j,\n",
              "           9.78893191e-02-2.38754362e-01j,\n",
              "          -2.69644946e-01-2.59937376e-01j],\n",
              "         [ 1.59968749e-01-5.16256802e-02j,\n",
              "          -2.78556317e-01-2.93885827e-01j,\n",
              "          -1.55017808e-01-1.48628682e-01j,\n",
              "           1.64182447e-02+2.63526171e-01j],\n",
              "         [-1.60248876e-01+1.27601847e-01j,\n",
              "          -6.65611923e-02+1.67364269e-01j,\n",
              "           3.27973157e-01-2.52568424e-01j,\n",
              "           1.45916224e-01+2.79950798e-01j]],\n",
              "\n",
              "        [[ 1.02193110e-01-5.11565447e-01j,\n",
              "           1.53640985e-01-1.28262758e-01j,\n",
              "           1.46550208e-01-2.16721594e-01j,\n",
              "           1.25861019e-01+1.37511939e-02j],\n",
              "         [ 3.50323468e-02-1.46571428e-01j,\n",
              "           1.39430851e-01-1.46489069e-01j,\n",
              "          -1.81699067e-01+3.53862524e-01j,\n",
              "          -1.12077661e-01-9.80567038e-02j],\n",
              "         [-8.91185999e-02+7.08398595e-02j,\n",
              "           7.61257261e-02+1.01258121e-01j,\n",
              "           2.22938567e-01+1.96677878e-01j,\n",
              "           4.99320716e-01-4.54814047e-01j],\n",
              "         [-3.63593578e-01-3.76185179e-02j,\n",
              "           5.36759555e-01+4.31184232e-01j,\n",
              "           1.22006863e-01+4.36373278e-02j,\n",
              "          -1.57567993e-01+1.56911910e-01j]],\n",
              "\n",
              "        [[ 2.87453234e-01-3.10754985e-01j,\n",
              "           1.65980533e-01+2.40965784e-02j,\n",
              "           1.62876621e-01+2.46952474e-03j,\n",
              "           2.36659825e-01+9.83645171e-02j],\n",
              "         [ 2.61725098e-01+9.73732695e-02j,\n",
              "          -4.33070809e-01-1.08696096e-01j,\n",
              "           2.16452122e-01-2.55818933e-01j,\n",
              "           7.07618743e-02-2.22068921e-01j],\n",
              "         [-1.99517101e-01+1.38329089e-01j,\n",
              "          -1.90119296e-01+2.16404170e-01j,\n",
              "          -1.94536120e-01-1.60588354e-01j,\n",
              "           5.60922325e-01+2.64464945e-01j],\n",
              "         [-2.70921513e-02-2.74819732e-01j,\n",
              "          -4.36621189e-01-2.25889832e-02j,\n",
              "          -1.04437791e-01+5.67214668e-01j,\n",
              "           5.76411672e-02-2.67431140e-02j]],\n",
              "\n",
              "        [[-1.40368029e-01-4.09220576e-01j,\n",
              "           1.44773319e-01-1.50281861e-01j,\n",
              "           6.30457029e-02-1.44415393e-01j,\n",
              "           1.45291060e-01+9.09136329e-03j],\n",
              "         [-2.94978708e-01-1.11715309e-02j,\n",
              "          -2.11766690e-01-5.06387912e-02j,\n",
              "           2.45760575e-01+3.10696393e-01j,\n",
              "          -8.73395620e-05+7.10426331e-01j],\n",
              "         [-2.50368547e-02+2.11360574e-01j,\n",
              "           3.94531429e-01-3.72485369e-02j,\n",
              "          -3.16311598e-01-2.57267743e-01j,\n",
              "           3.68538254e-04+3.29812407e-01j],\n",
              "         [ 9.99898091e-02+1.40093029e-01j,\n",
              "          -3.28388344e-03-3.35764021e-01j,\n",
              "           2.53995150e-01-1.61517322e-01j,\n",
              "          -1.23700708e-01+1.56508049e-03j]]]], dtype=complex64)>"
            ]
          },
          "metadata": {
            "tags": []
          },
          "execution_count": 95
        }
      ]
    },
    {
      "cell_type": "code",
      "metadata": {
        "id": "_nBJGBrfKTC_",
        "colab_type": "code",
        "colab": {
          "base_uri": "https://localhost:8080/",
          "height": 234
        },
        "outputId": "e139ce9d-8ec4-4343-afb7-e670f890f8c7"
      },
      "source": [
        "import tensorflow as tf\n",
        "import numpy as np\n",
        "s, u, v = tf.linalg.svd(a)\n",
        "tf_a_approx = tf.matmul(u, tf.matmul(tf.linalg.diag(s), v, adjoint_b=True))\n",
        "u, s, v_adj = np.linalg.svd(a, full_matrices=False)\n",
        "np_a_approx = np.dot(u, np.dot(np.diag(s), v_adj))"
      ],
      "execution_count": 91,
      "outputs": [
        {
          "output_type": "error",
          "ename": "NameError",
          "evalue": "ignored",
          "traceback": [
            "\u001b[0;31m---------------------------------------------------------------------------\u001b[0m",
            "\u001b[0;31mNameError\u001b[0m                                 Traceback (most recent call last)",
            "\u001b[0;32m<ipython-input-91-7ccf32317ab2>\u001b[0m in \u001b[0;36m<module>\u001b[0;34m()\u001b[0m\n\u001b[1;32m      1\u001b[0m \u001b[0;32mimport\u001b[0m \u001b[0mtensorflow\u001b[0m \u001b[0;32mas\u001b[0m \u001b[0mtf\u001b[0m\u001b[0;34m\u001b[0m\u001b[0;34m\u001b[0m\u001b[0m\n\u001b[1;32m      2\u001b[0m \u001b[0;32mimport\u001b[0m \u001b[0mnumpy\u001b[0m \u001b[0;32mas\u001b[0m \u001b[0mnp\u001b[0m\u001b[0;34m\u001b[0m\u001b[0;34m\u001b[0m\u001b[0m\n\u001b[0;32m----> 3\u001b[0;31m \u001b[0ms\u001b[0m\u001b[0;34m,\u001b[0m \u001b[0mu\u001b[0m\u001b[0;34m,\u001b[0m \u001b[0mv\u001b[0m \u001b[0;34m=\u001b[0m \u001b[0mtf\u001b[0m\u001b[0;34m.\u001b[0m\u001b[0mlinalg\u001b[0m\u001b[0;34m.\u001b[0m\u001b[0msvd\u001b[0m\u001b[0;34m(\u001b[0m\u001b[0ma\u001b[0m\u001b[0;34m)\u001b[0m\u001b[0;34m\u001b[0m\u001b[0;34m\u001b[0m\u001b[0m\n\u001b[0m\u001b[1;32m      4\u001b[0m \u001b[0mtf_a_approx\u001b[0m \u001b[0;34m=\u001b[0m \u001b[0mtf\u001b[0m\u001b[0;34m.\u001b[0m\u001b[0mmatmul\u001b[0m\u001b[0;34m(\u001b[0m\u001b[0mu\u001b[0m\u001b[0;34m,\u001b[0m \u001b[0mtf\u001b[0m\u001b[0;34m.\u001b[0m\u001b[0mmatmul\u001b[0m\u001b[0;34m(\u001b[0m\u001b[0mtf\u001b[0m\u001b[0;34m.\u001b[0m\u001b[0mlinalg\u001b[0m\u001b[0;34m.\u001b[0m\u001b[0mdiag\u001b[0m\u001b[0;34m(\u001b[0m\u001b[0ms\u001b[0m\u001b[0;34m)\u001b[0m\u001b[0;34m,\u001b[0m \u001b[0mv\u001b[0m\u001b[0;34m,\u001b[0m \u001b[0madjoint_b\u001b[0m\u001b[0;34m=\u001b[0m\u001b[0;32mTrue\u001b[0m\u001b[0;34m)\u001b[0m\u001b[0;34m)\u001b[0m\u001b[0;34m\u001b[0m\u001b[0;34m\u001b[0m\u001b[0m\n\u001b[1;32m      5\u001b[0m \u001b[0mu\u001b[0m\u001b[0;34m,\u001b[0m \u001b[0ms\u001b[0m\u001b[0;34m,\u001b[0m \u001b[0mv_adj\u001b[0m \u001b[0;34m=\u001b[0m \u001b[0mnp\u001b[0m\u001b[0;34m.\u001b[0m\u001b[0mlinalg\u001b[0m\u001b[0;34m.\u001b[0m\u001b[0msvd\u001b[0m\u001b[0;34m(\u001b[0m\u001b[0ma\u001b[0m\u001b[0;34m,\u001b[0m \u001b[0mfull_matrices\u001b[0m\u001b[0;34m=\u001b[0m\u001b[0;32mFalse\u001b[0m\u001b[0;34m)\u001b[0m\u001b[0;34m\u001b[0m\u001b[0;34m\u001b[0m\u001b[0m\n",
            "\u001b[0;31mNameError\u001b[0m: name 'a' is not defined"
          ]
        }
      ]
    },
    {
      "cell_type": "code",
      "metadata": {
        "id": "fe04Uc7tau_1",
        "colab_type": "code",
        "colab": {}
      },
      "source": [
        ""
      ],
      "execution_count": 0,
      "outputs": []
    }
  ]
}