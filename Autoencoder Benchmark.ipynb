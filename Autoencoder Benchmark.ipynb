{
  "nbformat": 4,
  "nbformat_minor": 0,
  "metadata": {
    "colab": {
      "name": "Autoencoder Benchmark.ipynb",
      "provenance": [],
      "collapsed_sections": [],
      "toc_visible": true,
      "authorship_tag": "ABX9TyPmzIRJf6fCTJ6OV6iimEPB",
      "include_colab_link": true
    },
    "kernelspec": {
      "name": "python3",
      "display_name": "Python 3"
    },
    "widgets": {
      "application/vnd.jupyter.widget-state+json": {
        "b23a08eae47b41d4af62c941f3c9dabf": {
          "model_module": "@jupyter-widgets/controls",
          "model_name": "HBoxModel",
          "state": {
            "_view_name": "HBoxView",
            "_dom_classes": [],
            "_model_name": "HBoxModel",
            "_view_module": "@jupyter-widgets/controls",
            "_model_module_version": "1.5.0",
            "_view_count": null,
            "_view_module_version": "1.5.0",
            "box_style": "",
            "layout": "IPY_MODEL_e28b616a0093414fb5e4117d3f60ebe8",
            "_model_module": "@jupyter-widgets/controls",
            "children": [
              "IPY_MODEL_2546375963f6408d8362b19318e9cceb",
              "IPY_MODEL_29422d503fc44cbfa90a760ae5adb9d9"
            ]
          }
        },
        "e28b616a0093414fb5e4117d3f60ebe8": {
          "model_module": "@jupyter-widgets/base",
          "model_name": "LayoutModel",
          "state": {
            "_view_name": "LayoutView",
            "grid_template_rows": null,
            "right": null,
            "justify_content": null,
            "_view_module": "@jupyter-widgets/base",
            "overflow": null,
            "_model_module_version": "1.2.0",
            "_view_count": null,
            "flex_flow": null,
            "width": null,
            "min_width": null,
            "border": null,
            "align_items": null,
            "bottom": null,
            "_model_module": "@jupyter-widgets/base",
            "top": null,
            "grid_column": null,
            "overflow_y": null,
            "overflow_x": null,
            "grid_auto_flow": null,
            "grid_area": null,
            "grid_template_columns": null,
            "flex": null,
            "_model_name": "LayoutModel",
            "justify_items": null,
            "grid_row": null,
            "max_height": null,
            "align_content": null,
            "visibility": null,
            "align_self": null,
            "height": null,
            "min_height": null,
            "padding": null,
            "grid_auto_rows": null,
            "grid_gap": null,
            "max_width": null,
            "order": null,
            "_view_module_version": "1.2.0",
            "grid_template_areas": null,
            "object_position": null,
            "object_fit": null,
            "grid_auto_columns": null,
            "margin": null,
            "display": null,
            "left": null
          }
        },
        "2546375963f6408d8362b19318e9cceb": {
          "model_module": "@jupyter-widgets/controls",
          "model_name": "FloatProgressModel",
          "state": {
            "_view_name": "ProgressView",
            "style": "IPY_MODEL_5d1ba74dc92a40b69b2976b212a785b6",
            "_dom_classes": [],
            "description": "Epochs: 100%",
            "_model_name": "FloatProgressModel",
            "bar_style": "success",
            "max": 20,
            "_view_module": "@jupyter-widgets/controls",
            "_model_module_version": "1.5.0",
            "value": 20,
            "_view_count": null,
            "_view_module_version": "1.5.0",
            "orientation": "horizontal",
            "min": 0,
            "description_tooltip": null,
            "_model_module": "@jupyter-widgets/controls",
            "layout": "IPY_MODEL_379a70a6a1e54f5a9f9edb2ffebd088d"
          }
        },
        "29422d503fc44cbfa90a760ae5adb9d9": {
          "model_module": "@jupyter-widgets/controls",
          "model_name": "HTMLModel",
          "state": {
            "_view_name": "HTMLView",
            "style": "IPY_MODEL_c561b06262dc4e77a7160fe2f1e3d292",
            "_dom_classes": [],
            "description": "",
            "_model_name": "HTMLModel",
            "placeholder": "​",
            "_view_module": "@jupyter-widgets/controls",
            "_model_module_version": "1.5.0",
            "value": " 20/20 [02:15&lt;00:00,  6.78s/it]",
            "_view_count": null,
            "_view_module_version": "1.5.0",
            "description_tooltip": null,
            "_model_module": "@jupyter-widgets/controls",
            "layout": "IPY_MODEL_5c0c5e971b3c429ca7c24e977ece794e"
          }
        },
        "5d1ba74dc92a40b69b2976b212a785b6": {
          "model_module": "@jupyter-widgets/controls",
          "model_name": "ProgressStyleModel",
          "state": {
            "_view_name": "StyleView",
            "_model_name": "ProgressStyleModel",
            "description_width": "initial",
            "_view_module": "@jupyter-widgets/base",
            "_model_module_version": "1.5.0",
            "_view_count": null,
            "_view_module_version": "1.2.0",
            "bar_color": null,
            "_model_module": "@jupyter-widgets/controls"
          }
        },
        "379a70a6a1e54f5a9f9edb2ffebd088d": {
          "model_module": "@jupyter-widgets/base",
          "model_name": "LayoutModel",
          "state": {
            "_view_name": "LayoutView",
            "grid_template_rows": null,
            "right": null,
            "justify_content": null,
            "_view_module": "@jupyter-widgets/base",
            "overflow": null,
            "_model_module_version": "1.2.0",
            "_view_count": null,
            "flex_flow": null,
            "width": null,
            "min_width": null,
            "border": null,
            "align_items": null,
            "bottom": null,
            "_model_module": "@jupyter-widgets/base",
            "top": null,
            "grid_column": null,
            "overflow_y": null,
            "overflow_x": null,
            "grid_auto_flow": null,
            "grid_area": null,
            "grid_template_columns": null,
            "flex": null,
            "_model_name": "LayoutModel",
            "justify_items": null,
            "grid_row": null,
            "max_height": null,
            "align_content": null,
            "visibility": null,
            "align_self": null,
            "height": null,
            "min_height": null,
            "padding": null,
            "grid_auto_rows": null,
            "grid_gap": null,
            "max_width": null,
            "order": null,
            "_view_module_version": "1.2.0",
            "grid_template_areas": null,
            "object_position": null,
            "object_fit": null,
            "grid_auto_columns": null,
            "margin": null,
            "display": null,
            "left": null
          }
        },
        "c561b06262dc4e77a7160fe2f1e3d292": {
          "model_module": "@jupyter-widgets/controls",
          "model_name": "DescriptionStyleModel",
          "state": {
            "_view_name": "StyleView",
            "_model_name": "DescriptionStyleModel",
            "description_width": "",
            "_view_module": "@jupyter-widgets/base",
            "_model_module_version": "1.5.0",
            "_view_count": null,
            "_view_module_version": "1.2.0",
            "_model_module": "@jupyter-widgets/controls"
          }
        },
        "5c0c5e971b3c429ca7c24e977ece794e": {
          "model_module": "@jupyter-widgets/base",
          "model_name": "LayoutModel",
          "state": {
            "_view_name": "LayoutView",
            "grid_template_rows": null,
            "right": null,
            "justify_content": null,
            "_view_module": "@jupyter-widgets/base",
            "overflow": null,
            "_model_module_version": "1.2.0",
            "_view_count": null,
            "flex_flow": null,
            "width": null,
            "min_width": null,
            "border": null,
            "align_items": null,
            "bottom": null,
            "_model_module": "@jupyter-widgets/base",
            "top": null,
            "grid_column": null,
            "overflow_y": null,
            "overflow_x": null,
            "grid_auto_flow": null,
            "grid_area": null,
            "grid_template_columns": null,
            "flex": null,
            "_model_name": "LayoutModel",
            "justify_items": null,
            "grid_row": null,
            "max_height": null,
            "align_content": null,
            "visibility": null,
            "align_self": null,
            "height": null,
            "min_height": null,
            "padding": null,
            "grid_auto_rows": null,
            "grid_gap": null,
            "max_width": null,
            "order": null,
            "_view_module_version": "1.2.0",
            "grid_template_areas": null,
            "object_position": null,
            "object_fit": null,
            "grid_auto_columns": null,
            "margin": null,
            "display": null,
            "left": null
          }
        },
        "39237e04a9a649d4817fa7a956854ffa": {
          "model_module": "@jupyter-widgets/controls",
          "model_name": "HBoxModel",
          "state": {
            "_view_name": "HBoxView",
            "_dom_classes": [],
            "_model_name": "HBoxModel",
            "_view_module": "@jupyter-widgets/controls",
            "_model_module_version": "1.5.0",
            "_view_count": null,
            "_view_module_version": "1.5.0",
            "box_style": "",
            "layout": "IPY_MODEL_ad73df0b50fd4a26a6bb8d3ba9f0fe71",
            "_model_module": "@jupyter-widgets/controls",
            "children": [
              "IPY_MODEL_e0f9f8d1e03c45849bcc20041d43e14b",
              "IPY_MODEL_998d3a0dad324da5aacbd9bd9cb4ba46"
            ]
          }
        },
        "ad73df0b50fd4a26a6bb8d3ba9f0fe71": {
          "model_module": "@jupyter-widgets/base",
          "model_name": "LayoutModel",
          "state": {
            "_view_name": "LayoutView",
            "grid_template_rows": null,
            "right": null,
            "justify_content": null,
            "_view_module": "@jupyter-widgets/base",
            "overflow": null,
            "_model_module_version": "1.2.0",
            "_view_count": null,
            "flex_flow": null,
            "width": null,
            "min_width": null,
            "border": null,
            "align_items": null,
            "bottom": null,
            "_model_module": "@jupyter-widgets/base",
            "top": null,
            "grid_column": null,
            "overflow_y": null,
            "overflow_x": null,
            "grid_auto_flow": null,
            "grid_area": null,
            "grid_template_columns": null,
            "flex": null,
            "_model_name": "LayoutModel",
            "justify_items": null,
            "grid_row": null,
            "max_height": null,
            "align_content": null,
            "visibility": null,
            "align_self": null,
            "height": null,
            "min_height": null,
            "padding": null,
            "grid_auto_rows": null,
            "grid_gap": null,
            "max_width": null,
            "order": null,
            "_view_module_version": "1.2.0",
            "grid_template_areas": null,
            "object_position": null,
            "object_fit": null,
            "grid_auto_columns": null,
            "margin": null,
            "display": null,
            "left": null
          }
        },
        "e0f9f8d1e03c45849bcc20041d43e14b": {
          "model_module": "@jupyter-widgets/controls",
          "model_name": "FloatProgressModel",
          "state": {
            "_view_name": "ProgressView",
            "style": "IPY_MODEL_e8f934a46e2b446887d9717c8c06b261",
            "_dom_classes": [],
            "description": "Epochs: 100%",
            "_model_name": "FloatProgressModel",
            "bar_style": "success",
            "max": 20,
            "_view_module": "@jupyter-widgets/controls",
            "_model_module_version": "1.5.0",
            "value": 20,
            "_view_count": null,
            "_view_module_version": "1.5.0",
            "orientation": "horizontal",
            "min": 0,
            "description_tooltip": null,
            "_model_module": "@jupyter-widgets/controls",
            "layout": "IPY_MODEL_44cb0d8e173044358741ceaf36dd5888"
          }
        },
        "998d3a0dad324da5aacbd9bd9cb4ba46": {
          "model_module": "@jupyter-widgets/controls",
          "model_name": "HTMLModel",
          "state": {
            "_view_name": "HTMLView",
            "style": "IPY_MODEL_c901cdba502b42b6b0456f3f6d79d033",
            "_dom_classes": [],
            "description": "",
            "_model_name": "HTMLModel",
            "placeholder": "​",
            "_view_module": "@jupyter-widgets/controls",
            "_model_module_version": "1.5.0",
            "value": " 20/20 [03:03&lt;00:00,  9.17s/it]",
            "_view_count": null,
            "_view_module_version": "1.5.0",
            "description_tooltip": null,
            "_model_module": "@jupyter-widgets/controls",
            "layout": "IPY_MODEL_04e6867bbe7f4611871ef66f163693bf"
          }
        },
        "e8f934a46e2b446887d9717c8c06b261": {
          "model_module": "@jupyter-widgets/controls",
          "model_name": "ProgressStyleModel",
          "state": {
            "_view_name": "StyleView",
            "_model_name": "ProgressStyleModel",
            "description_width": "initial",
            "_view_module": "@jupyter-widgets/base",
            "_model_module_version": "1.5.0",
            "_view_count": null,
            "_view_module_version": "1.2.0",
            "bar_color": null,
            "_model_module": "@jupyter-widgets/controls"
          }
        },
        "44cb0d8e173044358741ceaf36dd5888": {
          "model_module": "@jupyter-widgets/base",
          "model_name": "LayoutModel",
          "state": {
            "_view_name": "LayoutView",
            "grid_template_rows": null,
            "right": null,
            "justify_content": null,
            "_view_module": "@jupyter-widgets/base",
            "overflow": null,
            "_model_module_version": "1.2.0",
            "_view_count": null,
            "flex_flow": null,
            "width": null,
            "min_width": null,
            "border": null,
            "align_items": null,
            "bottom": null,
            "_model_module": "@jupyter-widgets/base",
            "top": null,
            "grid_column": null,
            "overflow_y": null,
            "overflow_x": null,
            "grid_auto_flow": null,
            "grid_area": null,
            "grid_template_columns": null,
            "flex": null,
            "_model_name": "LayoutModel",
            "justify_items": null,
            "grid_row": null,
            "max_height": null,
            "align_content": null,
            "visibility": null,
            "align_self": null,
            "height": null,
            "min_height": null,
            "padding": null,
            "grid_auto_rows": null,
            "grid_gap": null,
            "max_width": null,
            "order": null,
            "_view_module_version": "1.2.0",
            "grid_template_areas": null,
            "object_position": null,
            "object_fit": null,
            "grid_auto_columns": null,
            "margin": null,
            "display": null,
            "left": null
          }
        },
        "c901cdba502b42b6b0456f3f6d79d033": {
          "model_module": "@jupyter-widgets/controls",
          "model_name": "DescriptionStyleModel",
          "state": {
            "_view_name": "StyleView",
            "_model_name": "DescriptionStyleModel",
            "description_width": "",
            "_view_module": "@jupyter-widgets/base",
            "_model_module_version": "1.5.0",
            "_view_count": null,
            "_view_module_version": "1.2.0",
            "_model_module": "@jupyter-widgets/controls"
          }
        },
        "04e6867bbe7f4611871ef66f163693bf": {
          "model_module": "@jupyter-widgets/base",
          "model_name": "LayoutModel",
          "state": {
            "_view_name": "LayoutView",
            "grid_template_rows": null,
            "right": null,
            "justify_content": null,
            "_view_module": "@jupyter-widgets/base",
            "overflow": null,
            "_model_module_version": "1.2.0",
            "_view_count": null,
            "flex_flow": null,
            "width": null,
            "min_width": null,
            "border": null,
            "align_items": null,
            "bottom": null,
            "_model_module": "@jupyter-widgets/base",
            "top": null,
            "grid_column": null,
            "overflow_y": null,
            "overflow_x": null,
            "grid_auto_flow": null,
            "grid_area": null,
            "grid_template_columns": null,
            "flex": null,
            "_model_name": "LayoutModel",
            "justify_items": null,
            "grid_row": null,
            "max_height": null,
            "align_content": null,
            "visibility": null,
            "align_self": null,
            "height": null,
            "min_height": null,
            "padding": null,
            "grid_auto_rows": null,
            "grid_gap": null,
            "max_width": null,
            "order": null,
            "_view_module_version": "1.2.0",
            "grid_template_areas": null,
            "object_position": null,
            "object_fit": null,
            "grid_auto_columns": null,
            "margin": null,
            "display": null,
            "left": null
          }
        },
        "cf769e27af6d4f3c95ac4f38fabc02a7": {
          "model_module": "@jupyter-widgets/controls",
          "model_name": "HBoxModel",
          "state": {
            "_view_name": "HBoxView",
            "_dom_classes": [],
            "_model_name": "HBoxModel",
            "_view_module": "@jupyter-widgets/controls",
            "_model_module_version": "1.5.0",
            "_view_count": null,
            "_view_module_version": "1.5.0",
            "box_style": "",
            "layout": "IPY_MODEL_c30a4ea0249248fa8b1a43c58529193b",
            "_model_module": "@jupyter-widgets/controls",
            "children": [
              "IPY_MODEL_134bc8d587144b23abf5c8c09e5e7c13",
              "IPY_MODEL_d6d5382b5eff4d58a2da56540f76aff5"
            ]
          }
        },
        "c30a4ea0249248fa8b1a43c58529193b": {
          "model_module": "@jupyter-widgets/base",
          "model_name": "LayoutModel",
          "state": {
            "_view_name": "LayoutView",
            "grid_template_rows": null,
            "right": null,
            "justify_content": null,
            "_view_module": "@jupyter-widgets/base",
            "overflow": null,
            "_model_module_version": "1.2.0",
            "_view_count": null,
            "flex_flow": null,
            "width": null,
            "min_width": null,
            "border": null,
            "align_items": null,
            "bottom": null,
            "_model_module": "@jupyter-widgets/base",
            "top": null,
            "grid_column": null,
            "overflow_y": null,
            "overflow_x": null,
            "grid_auto_flow": null,
            "grid_area": null,
            "grid_template_columns": null,
            "flex": null,
            "_model_name": "LayoutModel",
            "justify_items": null,
            "grid_row": null,
            "max_height": null,
            "align_content": null,
            "visibility": null,
            "align_self": null,
            "height": null,
            "min_height": null,
            "padding": null,
            "grid_auto_rows": null,
            "grid_gap": null,
            "max_width": null,
            "order": null,
            "_view_module_version": "1.2.0",
            "grid_template_areas": null,
            "object_position": null,
            "object_fit": null,
            "grid_auto_columns": null,
            "margin": null,
            "display": null,
            "left": null
          }
        },
        "134bc8d587144b23abf5c8c09e5e7c13": {
          "model_module": "@jupyter-widgets/controls",
          "model_name": "FloatProgressModel",
          "state": {
            "_view_name": "ProgressView",
            "style": "IPY_MODEL_26bc2a810ed74174b5eb135fffdc2f36",
            "_dom_classes": [],
            "description": "Epochs: 100%",
            "_model_name": "FloatProgressModel",
            "bar_style": "success",
            "max": 20,
            "_view_module": "@jupyter-widgets/controls",
            "_model_module_version": "1.5.0",
            "value": 20,
            "_view_count": null,
            "_view_module_version": "1.5.0",
            "orientation": "horizontal",
            "min": 0,
            "description_tooltip": null,
            "_model_module": "@jupyter-widgets/controls",
            "layout": "IPY_MODEL_634054f8ce654971b5c8ba5c2afa58c5"
          }
        },
        "d6d5382b5eff4d58a2da56540f76aff5": {
          "model_module": "@jupyter-widgets/controls",
          "model_name": "HTMLModel",
          "state": {
            "_view_name": "HTMLView",
            "style": "IPY_MODEL_3c1437c402ff4fdbaf1853f8da17d560",
            "_dom_classes": [],
            "description": "",
            "_model_name": "HTMLModel",
            "placeholder": "​",
            "_view_module": "@jupyter-widgets/controls",
            "_model_module_version": "1.5.0",
            "value": " 20/20 [02:13&lt;00:00,  6.65s/it]",
            "_view_count": null,
            "_view_module_version": "1.5.0",
            "description_tooltip": null,
            "_model_module": "@jupyter-widgets/controls",
            "layout": "IPY_MODEL_d21172b570cf4695a40e1d6e4fb8e064"
          }
        },
        "26bc2a810ed74174b5eb135fffdc2f36": {
          "model_module": "@jupyter-widgets/controls",
          "model_name": "ProgressStyleModel",
          "state": {
            "_view_name": "StyleView",
            "_model_name": "ProgressStyleModel",
            "description_width": "initial",
            "_view_module": "@jupyter-widgets/base",
            "_model_module_version": "1.5.0",
            "_view_count": null,
            "_view_module_version": "1.2.0",
            "bar_color": null,
            "_model_module": "@jupyter-widgets/controls"
          }
        },
        "634054f8ce654971b5c8ba5c2afa58c5": {
          "model_module": "@jupyter-widgets/base",
          "model_name": "LayoutModel",
          "state": {
            "_view_name": "LayoutView",
            "grid_template_rows": null,
            "right": null,
            "justify_content": null,
            "_view_module": "@jupyter-widgets/base",
            "overflow": null,
            "_model_module_version": "1.2.0",
            "_view_count": null,
            "flex_flow": null,
            "width": null,
            "min_width": null,
            "border": null,
            "align_items": null,
            "bottom": null,
            "_model_module": "@jupyter-widgets/base",
            "top": null,
            "grid_column": null,
            "overflow_y": null,
            "overflow_x": null,
            "grid_auto_flow": null,
            "grid_area": null,
            "grid_template_columns": null,
            "flex": null,
            "_model_name": "LayoutModel",
            "justify_items": null,
            "grid_row": null,
            "max_height": null,
            "align_content": null,
            "visibility": null,
            "align_self": null,
            "height": null,
            "min_height": null,
            "padding": null,
            "grid_auto_rows": null,
            "grid_gap": null,
            "max_width": null,
            "order": null,
            "_view_module_version": "1.2.0",
            "grid_template_areas": null,
            "object_position": null,
            "object_fit": null,
            "grid_auto_columns": null,
            "margin": null,
            "display": null,
            "left": null
          }
        },
        "3c1437c402ff4fdbaf1853f8da17d560": {
          "model_module": "@jupyter-widgets/controls",
          "model_name": "DescriptionStyleModel",
          "state": {
            "_view_name": "StyleView",
            "_model_name": "DescriptionStyleModel",
            "description_width": "",
            "_view_module": "@jupyter-widgets/base",
            "_model_module_version": "1.5.0",
            "_view_count": null,
            "_view_module_version": "1.2.0",
            "_model_module": "@jupyter-widgets/controls"
          }
        },
        "d21172b570cf4695a40e1d6e4fb8e064": {
          "model_module": "@jupyter-widgets/base",
          "model_name": "LayoutModel",
          "state": {
            "_view_name": "LayoutView",
            "grid_template_rows": null,
            "right": null,
            "justify_content": null,
            "_view_module": "@jupyter-widgets/base",
            "overflow": null,
            "_model_module_version": "1.2.0",
            "_view_count": null,
            "flex_flow": null,
            "width": null,
            "min_width": null,
            "border": null,
            "align_items": null,
            "bottom": null,
            "_model_module": "@jupyter-widgets/base",
            "top": null,
            "grid_column": null,
            "overflow_y": null,
            "overflow_x": null,
            "grid_auto_flow": null,
            "grid_area": null,
            "grid_template_columns": null,
            "flex": null,
            "_model_name": "LayoutModel",
            "justify_items": null,
            "grid_row": null,
            "max_height": null,
            "align_content": null,
            "visibility": null,
            "align_self": null,
            "height": null,
            "min_height": null,
            "padding": null,
            "grid_auto_rows": null,
            "grid_gap": null,
            "max_width": null,
            "order": null,
            "_view_module_version": "1.2.0",
            "grid_template_areas": null,
            "object_position": null,
            "object_fit": null,
            "grid_auto_columns": null,
            "margin": null,
            "display": null,
            "left": null
          }
        }
      }
    }
  },
  "cells": [
    {
      "cell_type": "markdown",
      "metadata": {
        "id": "view-in-github",
        "colab_type": "text"
      },
      "source": [
        "<a href=\"https://colab.research.google.com/github/nahumsa/DM-Reconstruction/blob/master/Autoencoder%20Benchmark.ipynb\" target=\"_parent\"><img src=\"https://colab.research.google.com/assets/colab-badge.svg\" alt=\"Open In Colab\"/></a>"
      ]
    },
    {
      "cell_type": "markdown",
      "metadata": {
        "id": "XBV5v__yz96I"
      },
      "source": [
        "# Autoencoder Benchmark"
      ]
    },
    {
      "cell_type": "markdown",
      "metadata": {
        "id": "T2rmp9RG9Jl7"
      },
      "source": [
        "## Import dependencies for Google Colab"
      ]
    },
    {
      "cell_type": "code",
      "metadata": {
        "id": "TlSHhTXA8KZ2",
        "outputId": "8965e627-a5cb-46c7-e55f-014119c547e6",
        "colab": {
          "base_uri": "https://localhost:8080/",
          "height": 138
        }
      },
      "source": [
        "! git clone https://github.com/nahumsa/DM-Reconstruction"
      ],
      "execution_count": 1,
      "outputs": [
        {
          "output_type": "stream",
          "text": [
            "Cloning into 'DM-Reconstruction'...\n",
            "remote: Enumerating objects: 113, done.\u001b[K\n",
            "remote: Counting objects: 100% (113/113), done.\u001b[K\n",
            "remote: Compressing objects: 100% (102/102), done.\u001b[K\n",
            "remote: Total 411 (delta 48), reused 28 (delta 11), pack-reused 298\u001b[K\n",
            "Receiving objects: 100% (411/411), 9.05 MiB | 5.62 MiB/s, done.\n",
            "Resolving deltas: 100% (191/191), done.\n"
          ],
          "name": "stdout"
        }
      ]
    },
    {
      "cell_type": "code",
      "metadata": {
        "id": "CH6jS4fy8LSS"
      },
      "source": [
        "# !pip install qutip"
      ],
      "execution_count": null,
      "outputs": []
    },
    {
      "cell_type": "code",
      "metadata": {
        "id": "WPlNSZN79kTe",
        "outputId": "331728a5-5deb-4607-bd71-a577bcdf6b72",
        "colab": {
          "base_uri": "https://localhost:8080/",
          "height": 34
        }
      },
      "source": [
        "% cd DM-Reconstruction/"
      ],
      "execution_count": 2,
      "outputs": [
        {
          "output_type": "stream",
          "text": [
            "/content/DM-Reconstruction\n"
          ],
          "name": "stdout"
        }
      ]
    },
    {
      "cell_type": "markdown",
      "metadata": {
        "id": "Ug3S__hR9Lcn"
      },
      "source": [
        "## Import Dependencies"
      ]
    },
    {
      "cell_type": "code",
      "metadata": {
        "id": "lJTGyYZq9Qvz"
      },
      "source": [
        "try:\n",
        "  %tensorflow_version 2.x\n",
        "\n",
        "except Exception:\n",
        "  pass\n",
        "  \n",
        "import tensorflow as tf\n",
        "\n",
        "#Set Random Seed for reproduction\n",
        "tf.random.set_seed(1234)\n",
        "\n",
        "import numpy as np\n",
        "from tensorflow.keras import layers\n",
        "from tqdm.notebook import tqdm\n",
        "import matplotlib.pyplot as plt\n",
        "\n",
        "# Remove warnings\n",
        "import logging\n",
        "logging.getLogger('tensorflow').disabled = True\n",
        "\n",
        "#Use this to not need to initialize tensors outside session\n",
        "tf.config.experimental_run_functions_eagerly(True)"
      ],
      "execution_count": 3,
      "outputs": []
    },
    {
      "cell_type": "code",
      "metadata": {
        "id": "w7Qdcbpt9djP"
      },
      "source": [
        "%load_ext autoreload\n",
        "%autoreload 2"
      ],
      "execution_count": 4,
      "outputs": []
    },
    {
      "cell_type": "markdown",
      "metadata": {
        "id": "FEgPtXJZ9eo3"
      },
      "source": [
        "## Loading Dataset"
      ]
    },
    {
      "cell_type": "code",
      "metadata": {
        "id": "NaRMA_jWaPoa"
      },
      "source": [
        "X_train = np.loadtxt('Data/Measurements/X_train.txt')\n",
        "X_test = np.loadtxt('Data/Measurements/X_test.txt')"
      ],
      "execution_count": null,
      "outputs": []
    },
    {
      "cell_type": "markdown",
      "metadata": {
        "id": "S7UzPFMt9s3G"
      },
      "source": [
        "# Model"
      ]
    },
    {
      "cell_type": "markdown",
      "metadata": {
        "id": "BlaDojsgdcN-"
      },
      "source": [
        "## 1) Using a simple AutoEncoder with a Mean Squared Error"
      ]
    },
    {
      "cell_type": "code",
      "metadata": {
        "id": "ufAnZuDs4uwQ"
      },
      "source": [
        "from Models.AE import AutoEncoder\n",
        "latent_dim = 20\n",
        "input_dim = X_train.shape[1]\n",
        "hidden_dims = [64,128,256]\n",
        "batchsize = 32\n",
        "dropout_rate=0.3\n",
        "\n",
        "AE = AutoEncoder(original_dim=input_dim, \n",
        "            intermediate_dim= hidden_dims,\n",
        "            latent_dim=latent_dim,\n",
        "            dropout_rate=dropout_rate)\n",
        "\n",
        "AE.compile(optimizer=\"adam\", loss=\"mse\", metrics=[\"mae\"])"
      ],
      "execution_count": null,
      "outputs": []
    },
    {
      "cell_type": "code",
      "metadata": {
        "id": "-tLInpo15-bM"
      },
      "source": [
        "from Utils.QMetrics import fidelity_rho\n",
        "\n",
        "epochs = 25\n",
        "loss_epochs = []\n",
        "val_loss_epochs = []\n",
        "fidelity_epochs = []\n",
        "val_fidelity_epochs = []\n",
        "\n",
        "for _ in range(epochs):\n",
        "  history = AE.fit(x=X_train,\n",
        "                   y=X_train, \n",
        "                   epochs=1,                                                                                   \n",
        "                   validation_data=(X_test,X_test)\n",
        "                  )\n",
        "  loss_epochs.append(history.history['loss'][0])\n",
        "  val_loss_epochs.append(history.history['val_loss'][0])\n",
        "\n",
        "  fid = fidelity_rho(X_train, AE.predict(X_train))\n",
        "  fidelity_epochs.append(tf.reduce_mean(fid).numpy())\n",
        "\n",
        "  val_fid = fidelity_rho(X_test, AE.predict(X_test))\n",
        "  val_fidelity_epochs.append(tf.reduce_mean(val_fid).numpy())"
      ],
      "execution_count": null,
      "outputs": []
    },
    {
      "cell_type": "code",
      "metadata": {
        "id": "6eUVCjwVQD21"
      },
      "source": [
        "# Saving results\n",
        "save = False\n",
        "if save:\n",
        "  np.savetxt('Results/AE/AE_Fidelity.txt', fidelity_epochs)\n",
        "  np.savetxt('Results/AE/AE_Loss.txt', loss_epochs)\n",
        "  np.savetxt('Results/AE/val_AE_Fidelity.txt', val_fidelity_epochs)\n",
        "  np.savetxt('Results/AE/val_AE_Loss.txt', val_loss_epochs)"
      ],
      "execution_count": null,
      "outputs": []
    },
    {
      "cell_type": "code",
      "metadata": {
        "id": "ywsc1bv5NyOp",
        "outputId": "f6276f1b-a008-4bad-9cca-8d435e937397",
        "colab": {
          "base_uri": "https://localhost:8080/",
          "height": 338
        }
      },
      "source": [
        "epochs = range(len(loss_epochs))\n",
        "\n",
        "fig = plt.figure(figsize=(14,5))\n",
        "gs = fig.add_gridspec(1, 2)\n",
        "ax1 = fig.add_subplot(gs[0, 0])\n",
        "ax2 = fig.add_subplot(gs[0, 1])\n",
        "\n",
        "ax1.plot(epochs,loss_epochs, label='Training')\n",
        "ax1.plot(epochs,val_loss_epochs, label='Validation')\n",
        "ax1.set_xlabel('Epochs', size=16)\n",
        "ax1.set_ylabel('Loss', size=16)\n",
        "ax1.legend()\n",
        "\n",
        "ax2.plot(epochs,fidelity_epochs, label='Training')\n",
        "ax2.plot(epochs,val_fidelity_epochs, label='Validation')\n",
        "ax2.set_xlabel('Epochs', size=16)\n",
        "ax2.set_ylabel('Fidelity', size=16)\n",
        "ax2.legend()\n",
        "plt.show()"
      ],
      "execution_count": null,
      "outputs": [
        {
          "output_type": "display_data",
          "data": {
            "image/png": "[encoded data removed]",
            "text/plain": [
              "<Figure size 1008x360 with 2 Axes>"
            ]
          },
          "metadata": {
            "tags": [],
            "needs_background": "light"
          }
        }
      ]
    },
    {
      "cell_type": "markdown",
      "metadata": {
        "id": "jMuPWxEAlbJt"
      },
      "source": [
        "## 2) Using a AutoEncoder with trace distance as a loss function"
      ]
    },
    {
      "cell_type": "code",
      "metadata": {
        "id": "O5JXisVOnXbX"
      },
      "source": [
        "from Models.TAE import TraceAutoEncoder\n",
        "\n",
        "latent_dim = 20\n",
        "input_dim = X_train.shape[1]\n",
        "hidden_dims = [64,128,256]\n",
        "batchsize = 64\n",
        "dropout_rate=0.3\n",
        "\n",
        "TAE = TraceAutoEncoder(original_dim=input_dim, \n",
        "           intermediate_dim= hidden_dims,\n",
        "            latent_dim=latent_dim,\n",
        "            dropout_rate=dropout_rate)\n",
        "\n",
        "optimizer = tf.keras.optimizers.Adam(learning_rate=1e-3)\n",
        "TAE.compile(optimizer=optimizer)\n",
        "\n",
        "# Prepare a dataset.\n",
        "dataset = tf.data.Dataset.from_tensor_slices((X_train, X_train))\n",
        "dataset = dataset.shuffle(buffer_size=1024).batch(batchsize)\n",
        "val_dataset = tf.data.Dataset.from_tensor_slices((X_test, X_test))\n",
        "val_dataset = val_dataset.shuffle(buffer_size=1024).batch(batchsize)"
      ],
      "execution_count": null,
      "outputs": []
    },
    {
      "cell_type": "code",
      "metadata": {
        "id": "Oa_YlqE1oQ42",
        "outputId": "06f70472-2c09-47a8-f0d4-e0b0194283e6",
        "colab": {
          "base_uri": "https://localhost:8080/",
          "height": 66,
          "referenced_widgets": [
            "b23a08eae47b41d4af62c941f3c9dabf",
            "e28b616a0093414fb5e4117d3f60ebe8",
            "2546375963f6408d8362b19318e9cceb",
            "29422d503fc44cbfa90a760ae5adb9d9",
            "5d1ba74dc92a40b69b2976b212a785b6",
            "379a70a6a1e54f5a9f9edb2ffebd088d",
            "c561b06262dc4e77a7160fe2f1e3d292",
            "5c0c5e971b3c429ca7c24e977ece794e"
          ]
        }
      },
      "source": [
        "from Utils.Plotter import PeriodicPlotter\n",
        "\n",
        "r_loss = 10.\n",
        "epochs = 20\n",
        "\n",
        "# Periodic Plotter for loss\n",
        "plotter = PeriodicPlotter(sec=5, xlabel='Epochs', ylabel='Loss')\n",
        "\n",
        "loss_epochs, val_loss_epochs, fidelity_epochs, val_fidelity_epochs = TAE.training(dataset, \n",
        "                                                                                  epochs, \n",
        "                                                                                  r_loss,                                                                                   \n",
        "                                                                                  test=val_dataset, \n",
        "                                                                                  )#Plotter=plotter)"
      ],
      "execution_count": null,
      "outputs": [
        {
          "output_type": "display_data",
          "data": {
            "application/vnd.jupyter.widget-view+json": {
              "model_id": "b23a08eae47b41d4af62c941f3c9dabf",
              "version_minor": 0,
              "version_major": 2
            },
            "text/plain": [
              "HBox(children=(FloatProgress(value=0.0, description='Epochs', max=20.0, style=ProgressStyle(description_width=…"
            ]
          },
          "metadata": {
            "tags": []
          }
        },
        {
          "output_type": "stream",
          "text": [
            "\n"
          ],
          "name": "stdout"
        }
      ]
    },
    {
      "cell_type": "code",
      "metadata": {
        "id": "ijwwZj5doULO",
        "outputId": "c42b937f-2603-491d-c48b-49b59ee9a33c",
        "colab": {
          "base_uri": "https://localhost:8080/",
          "height": 338
        }
      },
      "source": [
        "epochs = range(len(loss_epochs))\n",
        "\n",
        "fig = plt.figure(figsize=(14,5))\n",
        "gs = fig.add_gridspec(1, 2)\n",
        "ax1 = fig.add_subplot(gs[0, 0])\n",
        "ax2 = fig.add_subplot(gs[0, 1])\n",
        "\n",
        "ax1.plot(epochs,loss_epochs, label='Training')\n",
        "ax1.plot(epochs,val_loss_epochs, label='Validation')\n",
        "ax1.set_xlabel('Epochs', size=16)\n",
        "ax1.set_ylabel('Loss', size=16)\n",
        "ax1.legend()\n",
        "\n",
        "ax2.plot(epochs,fidelity_epochs, label='Training')\n",
        "ax2.plot(epochs,val_fidelity_epochs, label='Validation')\n",
        "ax2.set_xlabel('Epochs', size=16)\n",
        "ax2.set_ylabel('Fidelity', size=16)\n",
        "ax2.legend()\n",
        "plt.show()"
      ],
      "execution_count": null,
      "outputs": [
        {
          "output_type": "display_data",
          "data": {
            "image/png": "[encoded data removed]",
            "text/plain": [
              "<Figure size 1008x360 with 2 Axes>"
            ]
          },
          "metadata": {
            "tags": [],
            "needs_background": "light"
          }
        }
      ]
    },
    {
      "cell_type": "code",
      "metadata": {
        "id": "LNZ4Wr7HySb0"
      },
      "source": [
        "# Saving results\n",
        "save = False\n",
        "if save:\n",
        "  np.savetxt('Results/TAE/TAE_Fidelity.txt', fidelity_epochs)\n",
        "  np.savetxt('Results/TAE/TAE_Loss.txt', loss_epochs)\n",
        "  np.savetxt('Results/TAE/val_TAE_Fidelity.txt', val_fidelity_epochs)\n",
        "  np.savetxt('Results/TAE/val_TAE_Loss.txt', val_loss_epochs)"
      ],
      "execution_count": null,
      "outputs": []
    },
    {
      "cell_type": "markdown",
      "metadata": {
        "id": "0fC8LgyvgMWZ"
      },
      "source": [
        "## 3) Autoencoder using data with error"
      ]
    },
    {
      "cell_type": "markdown",
      "metadata": {
        "id": "1Z89FHZJLs4l"
      },
      "source": [
        "## 3.1) $\\frac{\\pi}{6}$"
      ]
    },
    {
      "cell_type": "markdown",
      "metadata": {
        "id": "3sn4IToSXuai"
      },
      "source": [
        "### 3.1.1) Autoencoder"
      ]
    },
    {
      "cell_type": "code",
      "metadata": {
        "id": "REHhE6tqgyTg"
      },
      "source": [
        "X_train = np.loadtxt('Data/Measurements_pi6/X_train.txt')\n",
        "Y_train = np.loadtxt('Data/Measurements_pi6/Y_train.txt')\n",
        "X_test = np.loadtxt('Data/Measurements_pi6/X_test.txt')\n",
        "Y_test = np.loadtxt('Data/Measurements_pi6/Y_test.txt')"
      ],
      "execution_count": 5,
      "outputs": []
    },
    {
      "cell_type": "code",
      "metadata": {
        "id": "Xa0y3kdqgVXq"
      },
      "source": [
        "from Models.AE import AutoEncoder\n",
        "latent_dim = 20\n",
        "input_dim = X_train.shape[1]\n",
        "hidden_dims = [64,128,256]\n",
        "batchsize = 32\n",
        "dropout_rate=0.3\n",
        "\n",
        "AE = AutoEncoder(original_dim=input_dim, \n",
        "            intermediate_dim= hidden_dims,\n",
        "            latent_dim=latent_dim,\n",
        "            dropout_rate=dropout_rate)\n",
        "\n",
        "AE.compile(optimizer=\"adam\", loss=\"mse\", metrics=[\"mae\"])"
      ],
      "execution_count": 17,
      "outputs": []
    },
    {
      "cell_type": "code",
      "metadata": {
        "id": "YyycdVqrgcug"
      },
      "source": [
        "from Utils.QMetrics import fidelity_rho\n",
        "\n",
        "epochs = 25\n",
        "loss_epochs = []\n",
        "val_loss_epochs = []\n",
        "fidelity_epochs = []\n",
        "val_fidelity_epochs = []\n",
        "\n",
        "for _ in range(epochs):\n",
        "  history = AE.fit(x=X_train,\n",
        "                   y=Y_train, \n",
        "                   epochs=1,                                                                                   \n",
        "                   validation_data=(X_test,Y_test)\n",
        "                  )\n",
        "  loss_epochs.append(history.history['loss'][0])\n",
        "  val_loss_epochs.append(history.history['val_loss'][0])\n",
        "\n",
        "  fid = fidelity_rho(Y_train, AE.predict(X_train))\n",
        "  fidelity_epochs.append(tf.reduce_mean(fid).numpy())\n",
        "\n",
        "  val_fid = fidelity_rho(Y_test, AE.predict(X_test))\n",
        "  val_fidelity_epochs.append(tf.reduce_mean(val_fid).numpy())"
      ],
      "execution_count": null,
      "outputs": []
    },
    {
      "cell_type": "code",
      "metadata": {
        "id": "FH-Of0Qvgfzb"
      },
      "source": [
        "# Saving results\n",
        "save = False\n",
        "if save:\n",
        "  np.savetxt('Results/Error/AE_pi6/AE_Fidelity.txt', fidelity_epochs)\n",
        "  np.savetxt('Results/Error/AE_pi6/AE_Loss.txt', loss_epochs)\n",
        "  np.savetxt('Results/Error/AE_pi6/val_AE_Fidelity.txt', val_fidelity_epochs)\n",
        "  np.savetxt('Results/Error/AE_pi6/val_AE_Loss.txt', val_loss_epochs)"
      ],
      "execution_count": 20,
      "outputs": []
    },
    {
      "cell_type": "code",
      "metadata": {
        "id": "6HS2-iIvgiFl",
        "outputId": "f508eee8-117a-4df7-a653-d16cd32eb571",
        "colab": {
          "base_uri": "https://localhost:8080/",
          "height": 338
        }
      },
      "source": [
        "epochs = range(len(loss_epochs))\n",
        "\n",
        "fig = plt.figure(figsize=(14,5))\n",
        "gs = fig.add_gridspec(1, 2)\n",
        "ax1 = fig.add_subplot(gs[0, 0])\n",
        "ax2 = fig.add_subplot(gs[0, 1])\n",
        "\n",
        "ax1.plot(epochs,loss_epochs, label='Training')\n",
        "ax1.plot(epochs,val_loss_epochs, label='Validation')\n",
        "ax1.set_xlabel('Epochs', size=16)\n",
        "ax1.set_ylabel('Loss', size=16)\n",
        "ax1.legend()\n",
        "\n",
        "ax2.plot(epochs,fidelity_epochs, label='Training')\n",
        "ax2.plot(epochs,val_fidelity_epochs, label='Validation')\n",
        "ax2.set_xlabel('Epochs', size=16)\n",
        "ax2.set_ylabel('Fidelity', size=16)\n",
        "ax2.legend()\n",
        "plt.show()"
      ],
      "execution_count": 19,
      "outputs": [
        {
          "output_type": "display_data",
          "data": {
            "image/png": "[encoded data removed]",
            "text/plain": [
              "<Figure size 1008x360 with 2 Axes>"
            ]
          },
          "metadata": {
            "tags": [],
            "needs_background": "light"
          }
        }
      ]
    },
    {
      "cell_type": "markdown",
      "metadata": {
        "id": "xvSXvlW7X5hU"
      },
      "source": [
        "### 3.1.2) Trace AutoEncoder"
      ]
    },
    {
      "cell_type": "code",
      "metadata": {
        "id": "U6GRwtBoX-WD"
      },
      "source": [
        "from Models.TAE import TraceAutoEncoder\n",
        "\n",
        "latent_dim = 20\n",
        "input_dim = X_train.shape[1]\n",
        "hidden_dims = [64,128,256]\n",
        "batchsize = 64\n",
        "dropout_rate=0.3\n",
        "\n",
        "TAE = TraceAutoEncoder(original_dim=input_dim, \n",
        "           intermediate_dim= hidden_dims,\n",
        "            latent_dim=latent_dim,\n",
        "            dropout_rate=dropout_rate)\n",
        "\n",
        "optimizer = tf.keras.optimizers.Adam(learning_rate=1e-3)\n",
        "TAE.compile(optimizer=optimizer)\n",
        "\n",
        "# Prepare a dataset.\n",
        "dataset = tf.data.Dataset.from_tensor_slices((X_train, Y_train))\n",
        "dataset = dataset.shuffle(buffer_size=1024).batch(batchsize)\n",
        "val_dataset = tf.data.Dataset.from_tensor_slices((X_test, Y_test))\n",
        "val_dataset = val_dataset.shuffle(buffer_size=1024).batch(batchsize)"
      ],
      "execution_count": 12,
      "outputs": []
    },
    {
      "cell_type": "code",
      "metadata": {
        "id": "94aGsLlNX-WK",
        "outputId": "56c5dc38-32f6-4284-ca0a-5360d2e50959",
        "colab": {
          "base_uri": "https://localhost:8080/",
          "height": 66,
          "referenced_widgets": [
            "39237e04a9a649d4817fa7a956854ffa",
            "ad73df0b50fd4a26a6bb8d3ba9f0fe71",
            "e0f9f8d1e03c45849bcc20041d43e14b",
            "998d3a0dad324da5aacbd9bd9cb4ba46",
            "e8f934a46e2b446887d9717c8c06b261",
            "44cb0d8e173044358741ceaf36dd5888",
            "c901cdba502b42b6b0456f3f6d79d033",
            "04e6867bbe7f4611871ef66f163693bf"
          ]
        }
      },
      "source": [
        "from Utils.Plotter import PeriodicPlotter\n",
        "\n",
        "r_loss = 10.\n",
        "epochs = 20\n",
        "\n",
        "# Periodic Plotter for loss\n",
        "plotter = PeriodicPlotter(sec=5, xlabel='Epochs', ylabel='Loss')\n",
        "\n",
        "loss_epochs, val_loss_epochs, fidelity_epochs, val_fidelity_epochs = TAE.training(dataset, \n",
        "                                                                                  epochs, \n",
        "                                                                                  r_loss,                                                                                   \n",
        "                                                                                  test=val_dataset, \n",
        "                                                                                  )#Plotter=plotter)"
      ],
      "execution_count": 13,
      "outputs": [
        {
          "output_type": "display_data",
          "data": {
            "application/vnd.jupyter.widget-view+json": {
              "model_id": "39237e04a9a649d4817fa7a956854ffa",
              "version_minor": 0,
              "version_major": 2
            },
            "text/plain": [
              "HBox(children=(FloatProgress(value=0.0, description='Epochs', max=20.0, style=ProgressStyle(description_width=…"
            ]
          },
          "metadata": {
            "tags": []
          }
        },
        {
          "output_type": "stream",
          "text": [
            "\n"
          ],
          "name": "stdout"
        }
      ]
    },
    {
      "cell_type": "code",
      "metadata": {
        "id": "vS3L7Ew3X-WO",
        "outputId": "b5f92939-8f0f-4fcb-a897-448718555dc2",
        "colab": {
          "base_uri": "https://localhost:8080/",
          "height": 338
        }
      },
      "source": [
        "epochs = range(len(loss_epochs))\n",
        "\n",
        "fig = plt.figure(figsize=(14,5))\n",
        "gs = fig.add_gridspec(1, 2)\n",
        "ax1 = fig.add_subplot(gs[0, 0])\n",
        "ax2 = fig.add_subplot(gs[0, 1])\n",
        "\n",
        "ax1.plot(epochs,loss_epochs, label='Training')\n",
        "ax1.plot(epochs,val_loss_epochs, label='Validation')\n",
        "ax1.set_xlabel('Epochs', size=16)\n",
        "ax1.set_ylabel('Loss', size=16)\n",
        "ax1.legend()\n",
        "\n",
        "ax2.plot(epochs,fidelity_epochs, label='Training')\n",
        "ax2.plot(epochs,val_fidelity_epochs, label='Validation')\n",
        "ax2.set_xlabel('Epochs', size=16)\n",
        "ax2.set_ylabel('Fidelity', size=16)\n",
        "ax2.legend()\n",
        "plt.show()"
      ],
      "execution_count": 15,
      "outputs": [
        {
          "output_type": "display_data",
          "data": {
            "image/png": "[encoded data removed]",
            "text/plain": [
              "<Figure size 1008x360 with 2 Axes>"
            ]
          },
          "metadata": {
            "tags": [],
            "needs_background": "light"
          }
        }
      ]
    },
    {
      "cell_type": "code",
      "metadata": {
        "id": "j9Nrro04X-WT"
      },
      "source": [
        "# Saving results\n",
        "save = False\n",
        "if save:\n",
        "  np.savetxt('Results/Error/TAE_pi6/TAE_Fidelity.txt', fidelity_epochs)\n",
        "  np.savetxt('Results/Error/TAE_pi6/TAE_Loss.txt', loss_epochs)\n",
        "  np.savetxt('Results/Error/TAE_pi6/val_TAE_Fidelity.txt', val_fidelity_epochs)\n",
        "  np.savetxt('Results/Error/TAE_pi6/val_TAE_Loss.txt', val_loss_epochs)"
      ],
      "execution_count": 16,
      "outputs": []
    },
    {
      "cell_type": "markdown",
      "metadata": {
        "id": "gTZqjE4ZL2ba"
      },
      "source": [
        "## 3.2) $\\frac{\\pi}{4}$"
      ]
    },
    {
      "cell_type": "markdown",
      "metadata": {
        "id": "0DaNQn6icFLu"
      },
      "source": [
        "### 3.2.1) Autoencoder"
      ]
    },
    {
      "cell_type": "code",
      "metadata": {
        "id": "kKE4nYfhL2bc"
      },
      "source": [
        "X_train = np.loadtxt('Data/Measurements_pi4/X_train.txt')\n",
        "Y_train = np.loadtxt('Data/Measurements_pi4/Y_train.txt')\n",
        "X_test = np.loadtxt('Data/Measurements_pi4/X_test.txt')\n",
        "Y_test = np.loadtxt('Data/Measurements_pi4/Y_test.txt')"
      ],
      "execution_count": 21,
      "outputs": []
    },
    {
      "cell_type": "code",
      "metadata": {
        "id": "aS8A26ZQL2bl"
      },
      "source": [
        "from Models.AE import AutoEncoder\n",
        "latent_dim = 20\n",
        "input_dim = X_train.shape[1]\n",
        "hidden_dims = [64,128,256]\n",
        "batchsize = 32\n",
        "dropout_rate=0.3\n",
        "\n",
        "AE = AutoEncoder(original_dim=input_dim, \n",
        "            intermediate_dim= hidden_dims,\n",
        "            latent_dim=latent_dim,\n",
        "            dropout_rate=dropout_rate)\n",
        "\n",
        "AE.compile(optimizer=\"adam\", loss=\"mse\", metrics=[\"mae\"])"
      ],
      "execution_count": 22,
      "outputs": []
    },
    {
      "cell_type": "code",
      "metadata": {
        "id": "aXiMb9CBL2bp"
      },
      "source": [
        "from Utils.QMetrics import fidelity_rho\n",
        "\n",
        "epochs = 25\n",
        "loss_epochs = []\n",
        "val_loss_epochs = []\n",
        "fidelity_epochs = []\n",
        "val_fidelity_epochs = []\n",
        "\n",
        "for _ in range(epochs):\n",
        "  history = AE.fit(x=X_train,\n",
        "                   y=Y_train, \n",
        "                   epochs=1,                                                                                   \n",
        "                   validation_data=(X_test,Y_test)\n",
        "                  )\n",
        "  loss_epochs.append(history.history['loss'][0])\n",
        "  val_loss_epochs.append(history.history['val_loss'][0])\n",
        "\n",
        "  fid = fidelity_rho(Y_train, AE.predict(X_train))\n",
        "  fidelity_epochs.append(tf.reduce_mean(fid).numpy())\n",
        "\n",
        "  val_fid = fidelity_rho(Y_test, AE.predict(X_test))\n",
        "  val_fidelity_epochs.append(tf.reduce_mean(val_fid).numpy())"
      ],
      "execution_count": null,
      "outputs": []
    },
    {
      "cell_type": "code",
      "metadata": {
        "id": "PA3mOWUFL2bt"
      },
      "source": [
        "# Saving results\n",
        "save = False\n",
        "if save:\n",
        "  np.savetxt('Results/Error/AE_pi4/AE_Fidelity.txt', fidelity_epochs)\n",
        "  np.savetxt('Results/Error/AE_pi4/AE_Loss.txt', loss_epochs)\n",
        "  np.savetxt('Results/Error/AE_pi4/val_AE_Fidelity.txt', val_fidelity_epochs)\n",
        "  np.savetxt('Results/Error/AE_pi4/val_AE_Loss.txt', val_loss_epochs)"
      ],
      "execution_count": 27,
      "outputs": []
    },
    {
      "cell_type": "code",
      "metadata": {
        "id": "wvpQYwMLL2bx",
        "outputId": "6dede39f-2266-4b5e-d48c-53e677fc104a",
        "colab": {
          "base_uri": "https://localhost:8080/",
          "height": 338
        }
      },
      "source": [
        "epochs = range(len(loss_epochs))\n",
        "\n",
        "fig = plt.figure(figsize=(14,5))\n",
        "gs = fig.add_gridspec(1, 2)\n",
        "ax1 = fig.add_subplot(gs[0, 0])\n",
        "ax2 = fig.add_subplot(gs[0, 1])\n",
        "\n",
        "ax1.plot(epochs,loss_epochs, label='Training')\n",
        "ax1.plot(epochs,val_loss_epochs, label='Validation')\n",
        "ax1.set_xlabel('Epochs', size=16)\n",
        "ax1.set_ylabel('Loss', size=16)\n",
        "ax1.legend()\n",
        "\n",
        "ax2.plot(epochs,fidelity_epochs, label='Training')\n",
        "ax2.plot(epochs,val_fidelity_epochs, label='Validation')\n",
        "ax2.set_xlabel('Epochs', size=16)\n",
        "ax2.set_ylabel('Fidelity', size=16)\n",
        "ax2.legend()\n",
        "plt.show()"
      ],
      "execution_count": 24,
      "outputs": [
        {
          "output_type": "display_data",
          "data": {
            "image/png": "[encoded data removed]",
            "text/plain": [
              "<Figure size 1008x360 with 2 Axes>"
            ]
          },
          "metadata": {
            "tags": [],
            "needs_background": "light"
          }
        }
      ]
    },
    {
      "cell_type": "markdown",
      "metadata": {
        "id": "jvqX1OI1cT84"
      },
      "source": [
        "### 3.2.2) Trace AutoEncoder"
      ]
    },
    {
      "cell_type": "code",
      "metadata": {
        "id": "1KoIqJShcT87"
      },
      "source": [
        "from Models.TAE import TraceAutoEncoder\n",
        "\n",
        "latent_dim = 20\n",
        "input_dim = X_train.shape[1]\n",
        "hidden_dims = [64,128,256]\n",
        "batchsize = 64\n",
        "dropout_rate=0.3\n",
        "\n",
        "TAE = TraceAutoEncoder(original_dim=input_dim, \n",
        "           intermediate_dim= hidden_dims,\n",
        "            latent_dim=latent_dim,\n",
        "            dropout_rate=dropout_rate)\n",
        "\n",
        "optimizer = tf.keras.optimizers.Adam(learning_rate=1e-3)\n",
        "TAE.compile(optimizer=optimizer)\n",
        "\n",
        "# Prepare a dataset.\n",
        "dataset = tf.data.Dataset.from_tensor_slices((X_train, Y_train))\n",
        "dataset = dataset.shuffle(buffer_size=1024).batch(batchsize)\n",
        "val_dataset = tf.data.Dataset.from_tensor_slices((X_test, Y_test))\n",
        "val_dataset = val_dataset.shuffle(buffer_size=1024).batch(batchsize)"
      ],
      "execution_count": 28,
      "outputs": []
    },
    {
      "cell_type": "code",
      "metadata": {
        "id": "bkk3Mz_scT9D",
        "outputId": "241f971a-2635-42fa-f8f8-c401511c7e48",
        "colab": {
          "base_uri": "https://localhost:8080/",
          "height": 66,
          "referenced_widgets": [
            "cf769e27af6d4f3c95ac4f38fabc02a7",
            "c30a4ea0249248fa8b1a43c58529193b",
            "134bc8d587144b23abf5c8c09e5e7c13",
            "d6d5382b5eff4d58a2da56540f76aff5",
            "26bc2a810ed74174b5eb135fffdc2f36",
            "634054f8ce654971b5c8ba5c2afa58c5",
            "3c1437c402ff4fdbaf1853f8da17d560",
            "d21172b570cf4695a40e1d6e4fb8e064"
          ]
        }
      },
      "source": [
        "from Utils.Plotter import PeriodicPlotter\n",
        "\n",
        "r_loss = 10.\n",
        "epochs = 20\n",
        "\n",
        "# Periodic Plotter for loss\n",
        "plotter = PeriodicPlotter(sec=5, xlabel='Epochs', ylabel='Loss')\n",
        "\n",
        "loss_epochs, val_loss_epochs, fidelity_epochs, val_fidelity_epochs = TAE.training(dataset, \n",
        "                                                                                  epochs, \n",
        "                                                                                  r_loss,                                                                                   \n",
        "                                                                                  test=val_dataset, \n",
        "                                                                                  )#Plotter=plotter)"
      ],
      "execution_count": 29,
      "outputs": [
        {
          "output_type": "display_data",
          "data": {
            "application/vnd.jupyter.widget-view+json": {
              "model_id": "cf769e27af6d4f3c95ac4f38fabc02a7",
              "version_minor": 0,
              "version_major": 2
            },
            "text/plain": [
              "HBox(children=(FloatProgress(value=0.0, description='Epochs', max=20.0, style=ProgressStyle(description_width=…"
            ]
          },
          "metadata": {
            "tags": []
          }
        },
        {
          "output_type": "stream",
          "text": [
            "\n"
          ],
          "name": "stdout"
        }
      ]
    },
    {
      "cell_type": "code",
      "metadata": {
        "id": "ubTlmkXfcT9I",
        "outputId": "268a29a0-9c3e-48ed-ff18-5fbfd57fdb6c",
        "colab": {
          "base_uri": "https://localhost:8080/",
          "height": 338
        }
      },
      "source": [
        "epochs = range(len(loss_epochs))\n",
        "\n",
        "fig = plt.figure(figsize=(14,5))\n",
        "gs = fig.add_gridspec(1, 2)\n",
        "ax1 = fig.add_subplot(gs[0, 0])\n",
        "ax2 = fig.add_subplot(gs[0, 1])\n",
        "\n",
        "ax1.plot(epochs,loss_epochs, label='Training')\n",
        "ax1.plot(epochs,val_loss_epochs, label='Validation')\n",
        "ax1.set_xlabel('Epochs', size=16)\n",
        "ax1.set_ylabel('Loss', size=16)\n",
        "ax1.legend()\n",
        "\n",
        "ax2.plot(epochs,fidelity_epochs, label='Training')\n",
        "ax2.plot(epochs,val_fidelity_epochs, label='Validation')\n",
        "ax2.set_xlabel('Epochs', size=16)\n",
        "ax2.set_ylabel('Fidelity', size=16)\n",
        "ax2.legend()\n",
        "plt.show()"
      ],
      "execution_count": 30,
      "outputs": [
        {
          "output_type": "display_data",
          "data": {
            "image/png": "[encoded data removed]",
            "text/plain": [
              "<Figure size 1008x360 with 2 Axes>"
            ]
          },
          "metadata": {
            "tags": [],
            "needs_background": "light"
          }
        }
      ]
    },
    {
      "cell_type": "code",
      "metadata": {
        "id": "Gc1uH4RrcT9M"
      },
      "source": [
        "# Saving results\n",
        "save = False\n",
        "if save:\n",
        "  np.savetxt('Results/Error/TAE_pi4/TAE_Fidelity.txt', fidelity_epochs)\n",
        "  np.savetxt('Results/Error/TAE_pi4/TAE_Loss.txt', loss_epochs)\n",
        "  np.savetxt('Results/Error/TAE_pi4/val_TAE_Fidelity.txt', val_fidelity_epochs)\n",
        "  np.savetxt('Results/Error/TAE_pi4/val_TAE_Loss.txt', val_loss_epochs)"
      ],
      "execution_count": 31,
      "outputs": []
    },
    {
      "cell_type": "markdown",
      "metadata": {
        "id": "Vd30ceO6L-hp"
      },
      "source": [
        "## 3.3) $\\frac{\\pi}{2}$"
      ]
    },
    {
      "cell_type": "code",
      "metadata": {
        "id": "b5-MirDIL-hr"
      },
      "source": [
        "X_train = np.loadtxt('Data/Measurements_pi2/X_train.txt')\n",
        "Y_train = np.loadtxt('Data/Measurements_pi2/Y_train.txt')\n",
        "X_test = np.loadtxt('Data/Measurements_pi2/X_test.txt')\n",
        "Y_test = np.loadtxt('Data/Measurements_pi2/Y_test.txt')"
      ],
      "execution_count": null,
      "outputs": []
    },
    {
      "cell_type": "code",
      "metadata": {
        "id": "Jx9GRYXKL-hw"
      },
      "source": [
        "from Models.AE import AutoEncoder\n",
        "latent_dim = 20\n",
        "input_dim = X_train.shape[1]\n",
        "hidden_dims = [64,128,256]\n",
        "batchsize = 32\n",
        "dropout_rate=0.3\n",
        "\n",
        "AE = AutoEncoder(original_dim=input_dim, \n",
        "            intermediate_dim= hidden_dims,\n",
        "            latent_dim=latent_dim,\n",
        "            dropout_rate=dropout_rate)\n",
        "\n",
        "AE.compile(optimizer=\"adam\", loss=\"mse\", metrics=[\"mae\"])"
      ],
      "execution_count": null,
      "outputs": []
    },
    {
      "cell_type": "code",
      "metadata": {
        "id": "WvU5ySjqL-h0"
      },
      "source": [
        "from Utils.QMetrics import fidelity_rho\n",
        "\n",
        "epochs = 10\n",
        "loss_epochs = []\n",
        "val_loss_epochs = []\n",
        "fidelity_epochs = []\n",
        "val_fidelity_epochs = []\n",
        "\n",
        "for _ in range(epochs):\n",
        "  history = AE.fit(x=X_train,\n",
        "                   y=Y_train, \n",
        "                   epochs=1,                                                                                   \n",
        "                   validation_data=(X_test,Y_test)\n",
        "                  )\n",
        "  loss_epochs.append(history.history['loss'][0])\n",
        "  val_loss_epochs.append(history.history['val_loss'][0])\n",
        "\n",
        "  fid = []\n",
        "  with tqdm(total=len(X_train)) as pbar:  \n",
        "    for val_1, val_2 in zip(Y_train, AE.predict(X_train)):\n",
        "      fid.append(fidelity_rho(val_1,val_2))\n",
        "      pbar.update(1)\n",
        "  fidelity_epochs.append(np.mean(fid))\n",
        "\n",
        "  val_fid = []\n",
        "  with tqdm(total=len(X_test)) as pbar:\n",
        "    for val_1, val_2 in zip(Y_test, AE.predict(X_test)):\n",
        "      val_fid.append(fidelity_rho(val_1,val_2))\n",
        "      pbar.update(1)\n",
        "  val_fidelity_epochs.append(np.mean(val_fid))"
      ],
      "execution_count": null,
      "outputs": []
    },
    {
      "cell_type": "code",
      "metadata": {
        "id": "ctUI8tIQL-h_",
        "outputId": "4c59891f-fffa-49cc-e865-2748ceb41c59",
        "colab": {
          "base_uri": "https://localhost:8080/",
          "height": 341
        }
      },
      "source": [
        "epochs = range(len(loss_epochs))\n",
        "\n",
        "fig = plt.figure(figsize=(14,5))\n",
        "gs = fig.add_gridspec(1, 2)\n",
        "ax1 = fig.add_subplot(gs[0, 0])\n",
        "ax2 = fig.add_subplot(gs[0, 1])\n",
        "\n",
        "ax1.plot(epochs,loss_epochs, label='Training')\n",
        "ax1.plot(epochs,val_loss_epochs, label='Validation')\n",
        "ax1.set_xlabel('Epochs', size=16)\n",
        "ax1.set_ylabel('Loss', size=16)\n",
        "ax1.legend()\n",
        "\n",
        "ax2.plot(epochs,fidelity_epochs, label='Training')\n",
        "ax2.plot(epochs,val_fidelity_epochs, label='Validation')\n",
        "ax2.set_xlabel('Epochs', size=16)\n",
        "ax2.set_ylabel('Fidelity', size=16)\n",
        "ax2.legend()\n",
        "plt.show()"
      ],
      "execution_count": null,
      "outputs": [
        {
          "output_type": "display_data",
          "data": {
            "image/png": "[encoded data removed]",
            "text/plain": [
              "<Figure size 1008x360 with 2 Axes>"
            ]
          },
          "metadata": {
            "tags": [],
            "needs_background": "light"
          }
        }
      ]
    },
    {
      "cell_type": "code",
      "metadata": {
        "id": "Q9guQHgmL-h5"
      },
      "source": [
        "# Saving results\n",
        "save = False\n",
        "if save:\n",
        "  np.savetxt('Results/Error/AE/AE_Fidelity.txt', fidelity_epochs)\n",
        "  np.savetxt('Results/Error/AE/AE_Loss.txt', loss_epochs)\n",
        "  np.savetxt('Results/Error/AE/val_AE_Fidelity.txt', val_fidelity_epochs)\n",
        "  np.savetxt('Results/Error/AE/val_AE_Loss.txt', val_loss_epochs)"
      ],
      "execution_count": null,
      "outputs": []
    },
    {
      "cell_type": "markdown",
      "metadata": {
        "id": "ScmmQvDgMI8M"
      },
      "source": [
        "## 3.4) $\\pi$"
      ]
    },
    {
      "cell_type": "code",
      "metadata": {
        "id": "BirXzTtwMI8P"
      },
      "source": [
        "X_train = np.loadtxt('Data/Measurements_pi/X_train.txt')\n",
        "Y_train = np.loadtxt('Data/Measurements_pi/Y_train.txt')\n",
        "X_test = np.loadtxt('Data/Measurements_pi/X_test.txt')\n",
        "Y_test = np.loadtxt('Data/Measurements_pi/Y_test.txt')"
      ],
      "execution_count": null,
      "outputs": []
    },
    {
      "cell_type": "code",
      "metadata": {
        "id": "5LTjBpKcMI8X"
      },
      "source": [
        "from Models.AE import AutoEncoder\n",
        "latent_dim = 20\n",
        "input_dim = X_train.shape[1]\n",
        "hidden_dims = [64,128,256]\n",
        "batchsize = 32\n",
        "dropout_rate=0.3\n",
        "\n",
        "AE = AutoEncoder(original_dim=input_dim, \n",
        "            intermediate_dim= hidden_dims,\n",
        "            latent_dim=latent_dim,\n",
        "            dropout_rate=dropout_rate)\n",
        "\n",
        "AE.compile(optimizer=\"adam\", loss=\"mse\", metrics=[\"mae\"])"
      ],
      "execution_count": null,
      "outputs": []
    },
    {
      "cell_type": "code",
      "metadata": {
        "id": "MRnG_xU2MI8b"
      },
      "source": [
        "from Utils.QMetrics import fidelity_rho\n",
        "\n",
        "epochs = 10\n",
        "loss_epochs = []\n",
        "val_loss_epochs = []\n",
        "fidelity_epochs = []\n",
        "val_fidelity_epochs = []\n",
        "\n",
        "for _ in range(epochs):\n",
        "  history = AE.fit(x=X_train,\n",
        "                   y=Y_train, \n",
        "                   epochs=1,                                                                                   \n",
        "                   validation_data=(X_test,Y_test)\n",
        "                  )\n",
        "  loss_epochs.append(history.history['loss'][0])\n",
        "  val_loss_epochs.append(history.history['val_loss'][0])\n",
        "\n",
        "  fid = []\n",
        "  with tqdm(total=len(X_train)) as pbar:  \n",
        "    for val_1, val_2 in zip(Y_train, AE.predict(X_train)):\n",
        "      fid.append(fidelity_rho(val_1,val_2))\n",
        "      pbar.update(1)\n",
        "  fidelity_epochs.append(np.mean(fid))\n",
        "\n",
        "  val_fid = []\n",
        "  with tqdm(total=len(X_test)) as pbar:\n",
        "    for val_1, val_2 in zip(Y_test, AE.predict(X_test)):\n",
        "      val_fid.append(fidelity_rho(val_1,val_2))\n",
        "      pbar.update(1)\n",
        "  val_fidelity_epochs.append(np.mean(val_fid))"
      ],
      "execution_count": null,
      "outputs": []
    },
    {
      "cell_type": "code",
      "metadata": {
        "id": "jNs9vtXIMI8g"
      },
      "source": [
        "# Saving results\n",
        "save = False\n",
        "if save:\n",
        "  np.savetxt('Results/Error/AE/AE_Fidelity.txt', fidelity_epochs)\n",
        "  np.savetxt('Results/Error/AE/AE_Loss.txt', loss_epochs)\n",
        "  np.savetxt('Results/Error/AE/val_AE_Fidelity.txt', val_fidelity_epochs)\n",
        "  np.savetxt('Results/Error/AE/val_AE_Loss.txt', val_loss_epochs)"
      ],
      "execution_count": null,
      "outputs": []
    },
    {
      "cell_type": "code",
      "metadata": {
        "id": "8Uwqn8SpMI8k"
      },
      "source": [
        "epochs = range(len(loss_epochs))\n",
        "\n",
        "fig = plt.figure(figsize=(14,5))\n",
        "gs = fig.add_gridspec(1, 2)\n",
        "ax1 = fig.add_subplot(gs[0, 0])\n",
        "ax2 = fig.add_subplot(gs[0, 1])\n",
        "\n",
        "ax1.plot(epochs,loss_epochs, label='Training')\n",
        "ax1.plot(epochs,val_loss_epochs, label='Validation')\n",
        "ax1.set_xlabel('Epochs', size=16)\n",
        "ax1.set_ylabel('Loss', size=16)\n",
        "ax1.legend()\n",
        "\n",
        "ax2.plot(epochs,fidelity_epochs, label='Training')\n",
        "ax2.plot(epochs,val_fidelity_epochs, label='Validation')\n",
        "ax2.set_xlabel('Epochs', size=16)\n",
        "ax2.set_ylabel('Fidelity', size=16)\n",
        "ax2.legend()\n",
        "plt.show()"
      ],
      "execution_count": null,
      "outputs": []
    },
    {
      "cell_type": "markdown",
      "metadata": {
        "id": "nRtIxU8th2N_"
      },
      "source": [
        "## 4) Using a AutoEncoder with trace distance as a loss function and data with error"
      ]
    },
    {
      "cell_type": "markdown",
      "metadata": {
        "id": "EaOypnlqYcG5"
      },
      "source": [
        "## 4.1) $\\frac{\\pi}{6}$"
      ]
    },
    {
      "cell_type": "code",
      "metadata": {
        "id": "62CvrHZaYh6G"
      },
      "source": [
        "X_train = np.loadtxt('Data/Measurements_pi6/X_train.txt')\n",
        "Y_train = np.loadtxt('Data/Measurements_pi6/Y_train.txt')\n",
        "X_test = np.loadtxt('Data/Measurements_pi6/X_test.txt')\n",
        "Y_test = np.loadtxt('Data/Measurements_pi6/Y_test.txt')"
      ],
      "execution_count": null,
      "outputs": []
    },
    {
      "cell_type": "code",
      "metadata": {
        "id": "8sZC4qlwpy1J"
      },
      "source": [
        "from Models.TAE import TraceAutoEncoder\n",
        "\n",
        "latent_dim = 20\n",
        "input_dim = X_train.shape[1]\n",
        "hidden_dims = [64,128,256]\n",
        "batchsize = 32\n",
        "dropout_rate=0.3\n",
        "\n",
        "TAE = TraceAutoEncoder(original_dim=input_dim, \n",
        "           intermediate_dim= hidden_dims,\n",
        "            latent_dim=latent_dim,\n",
        "            dropout_rate=dropout_rate)\n",
        "\n",
        "optimizer = tf.keras.optimizers.Adam(learning_rate=1e-3)\n",
        "TAE.compile(optimizer=optimizer)\n",
        "\n",
        "# Prepare a dataset.\n",
        "dataset = tf.data.Dataset.from_tensor_slices((X_train, Y_train))\n",
        "dataset = dataset.shuffle(buffer_size=1024).batch(batchsize)\n",
        "val_dataset = tf.data.Dataset.from_tensor_slices((X_test, Y_test))\n",
        "val_dataset = val_dataset.shuffle(buffer_size=1024).batch(batchsize)"
      ],
      "execution_count": null,
      "outputs": []
    },
    {
      "cell_type": "code",
      "metadata": {
        "id": "ulZa07VBp3z7"
      },
      "source": [
        "from Utils.Plotter import PeriodicPlotter\n",
        "\n",
        "r_loss = 10.\n",
        "epochs = 10\n",
        "\n",
        "# Periodic Plotter for loss\n",
        "plotter = PeriodicPlotter(sec=5, xlabel='Epochs', ylabel='Loss')\n",
        "\n",
        "loss_epochs, val_loss_epochs, fidelity_epochs, val_fidelity_epochs = TAE.training(dataset, \n",
        "                                                                                  epochs, \n",
        "                                                                                  r_loss,                                                                                   \n",
        "                                                                                  test=val_dataset, \n",
        "                                                                                  )#Plotter=plotter)"
      ],
      "execution_count": null,
      "outputs": []
    },
    {
      "cell_type": "code",
      "metadata": {
        "id": "ilSe5pnTp8O-",
        "outputId": "ae540df5-8387-438c-fae3-9cc1ba1d9106",
        "colab": {
          "base_uri": "https://localhost:8080/",
          "height": 338
        }
      },
      "source": [
        "epochs = range(len(loss_epochs))\n",
        "\n",
        "fig = plt.figure(figsize=(14,5))\n",
        "gs = fig.add_gridspec(1, 2)\n",
        "ax1 = fig.add_subplot(gs[0, 0])\n",
        "ax2 = fig.add_subplot(gs[0, 1])\n",
        "\n",
        "ax1.plot(epochs,loss_epochs, label='Training')\n",
        "ax1.plot(epochs,val_loss_epochs, label='Validation')\n",
        "ax1.set_xlabel('Epochs', size=16)\n",
        "ax1.set_ylabel('Loss', size=16)\n",
        "ax1.legend()\n",
        "\n",
        "ax2.plot(epochs,fidelity_epochs, label='Training')\n",
        "ax2.plot(epochs,val_fidelity_epochs, label='Validation')\n",
        "ax2.set_xlabel('Epochs', size=16)\n",
        "ax2.set_ylabel('Fidelity', size=16)\n",
        "ax2.legend()\n",
        "plt.show()"
      ],
      "execution_count": null,
      "outputs": [
        {
          "output_type": "display_data",
          "data": {
            "image/png": "[encoded data removed]",
            "text/plain": [
              "<Figure size 1008x360 with 2 Axes>"
            ]
          },
          "metadata": {
            "tags": [],
            "needs_background": "light"
          }
        }
      ]
    },
    {
      "cell_type": "code",
      "metadata": {
        "id": "11NiY43VqABP"
      },
      "source": [
        "# Saving results\n",
        "save = False\n",
        "if save:\n",
        "  np.savetxt('Results/Error/TAE/TAE_Fidelity.txt', fidelity_epochs)\n",
        "  np.savetxt('Results/Error/TAE/TAE_Loss.txt', loss_epochs)\n",
        "  np.savetxt('Results/Error/TAE/val_TAE_Fidelity.txt', val_fidelity_epochs)\n",
        "  np.savetxt('Results/Error/TAE/val_TAE_Loss.txt', val_loss_epochs)"
      ],
      "execution_count": null,
      "outputs": []
    },
    {
      "cell_type": "markdown",
      "metadata": {
        "id": "X4lCWRAEYo8C"
      },
      "source": [
        "## 4.2) $\\frac{\\pi}{4}$"
      ]
    },
    {
      "cell_type": "code",
      "metadata": {
        "id": "9wwnhaHIYo8F"
      },
      "source": [
        "X_train = np.loadtxt('Data/Measurements_pi4/X_train.txt')\n",
        "Y_train = np.loadtxt('Data/Measurements_pi4/Y_train.txt')\n",
        "X_test = np.loadtxt('Data/Measurements_pi4/X_test.txt')\n",
        "Y_test = np.loadtxt('Data/Measurements_pi4/Y_test.txt')"
      ],
      "execution_count": null,
      "outputs": []
    },
    {
      "cell_type": "code",
      "metadata": {
        "id": "xAlzJNcnYo8L"
      },
      "source": [
        "from Models.TAE import TraceAutoEncoder\n",
        "\n",
        "latent_dim = 20\n",
        "input_dim = X_train.shape[1]\n",
        "hidden_dims = [64,128,256]\n",
        "batchsize = 32\n",
        "dropout_rate=0.3\n",
        "\n",
        "TAE = TraceAutoEncoder(original_dim=input_dim, \n",
        "           intermediate_dim= hidden_dims,\n",
        "            latent_dim=latent_dim,\n",
        "            dropout_rate=dropout_rate)\n",
        "\n",
        "optimizer = tf.keras.optimizers.Adam(learning_rate=1e-3)\n",
        "TAE.compile(optimizer=optimizer)\n",
        "\n",
        "# Prepare a dataset.\n",
        "dataset = tf.data.Dataset.from_tensor_slices((X_train, Y_train))\n",
        "dataset = dataset.shuffle(buffer_size=1024).batch(batchsize)\n",
        "val_dataset = tf.data.Dataset.from_tensor_slices((X_test, Y_test))\n",
        "val_dataset = val_dataset.shuffle(buffer_size=1024).batch(batchsize)"
      ],
      "execution_count": null,
      "outputs": []
    },
    {
      "cell_type": "code",
      "metadata": {
        "id": "usEAVxgPYo8V"
      },
      "source": [
        "from Utils.Plotter import PeriodicPlotter\n",
        "\n",
        "r_loss = 10.\n",
        "epochs = 10\n",
        "\n",
        "# Periodic Plotter for loss\n",
        "plotter = PeriodicPlotter(sec=5, xlabel='Epochs', ylabel='Loss')\n",
        "\n",
        "loss_epochs, val_loss_epochs, fidelity_epochs, val_fidelity_epochs = TAE.training(dataset, \n",
        "                                                                                  epochs, \n",
        "                                                                                  r_loss,                                                                                   \n",
        "                                                                                  test=val_dataset, \n",
        "                                                                                  )#Plotter=plotter)"
      ],
      "execution_count": null,
      "outputs": []
    },
    {
      "cell_type": "code",
      "metadata": {
        "id": "tOorKfvwYo8a",
        "outputId": "ae540df5-8387-438c-fae3-9cc1ba1d9106",
        "colab": {
          "base_uri": "https://localhost:8080/",
          "height": 338
        }
      },
      "source": [
        "epochs = range(len(loss_epochs))\n",
        "\n",
        "fig = plt.figure(figsize=(14,5))\n",
        "gs = fig.add_gridspec(1, 2)\n",
        "ax1 = fig.add_subplot(gs[0, 0])\n",
        "ax2 = fig.add_subplot(gs[0, 1])\n",
        "\n",
        "ax1.plot(epochs,loss_epochs, label='Training')\n",
        "ax1.plot(epochs,val_loss_epochs, label='Validation')\n",
        "ax1.set_xlabel('Epochs', size=16)\n",
        "ax1.set_ylabel('Loss', size=16)\n",
        "ax1.legend()\n",
        "\n",
        "ax2.plot(epochs,fidelity_epochs, label='Training')\n",
        "ax2.plot(epochs,val_fidelity_epochs, label='Validation')\n",
        "ax2.set_xlabel('Epochs', size=16)\n",
        "ax2.set_ylabel('Fidelity', size=16)\n",
        "ax2.legend()\n",
        "plt.show()"
      ],
      "execution_count": null,
      "outputs": [
        {
          "output_type": "display_data",
          "data": {
            "image/png": "[encoded data removed]",
            "text/plain": [
              "<Figure size 1008x360 with 2 Axes>"
            ]
          },
          "metadata": {
            "tags": [],
            "needs_background": "light"
          }
        }
      ]
    },
    {
      "cell_type": "code",
      "metadata": {
        "id": "FYlFmjLbYo8f"
      },
      "source": [
        "# Saving results\n",
        "save = False\n",
        "if save:\n",
        "  np.savetxt('Results/Error/TAE/TAE_Fidelity.txt', fidelity_epochs)\n",
        "  np.savetxt('Results/Error/TAE/TAE_Loss.txt', loss_epochs)\n",
        "  np.savetxt('Results/Error/TAE/val_TAE_Fidelity.txt', val_fidelity_epochs)\n",
        "  np.savetxt('Results/Error/TAE/val_TAE_Loss.txt', val_loss_epochs)"
      ],
      "execution_count": null,
      "outputs": []
    },
    {
      "cell_type": "markdown",
      "metadata": {
        "id": "aOKVn30UYuFO"
      },
      "source": [
        "## 4.3) $\\frac{\\pi}{2}$"
      ]
    },
    {
      "cell_type": "code",
      "metadata": {
        "id": "_9audy_qYuFQ"
      },
      "source": [
        "X_train = np.loadtxt('Data/Measurements_pi2/X_train.txt')\n",
        "Y_train = np.loadtxt('Data/Measurements_pi2/Y_train.txt')\n",
        "X_test = np.loadtxt('Data/Measurements_pi2/X_test.txt')\n",
        "Y_test = np.loadtxt('Data/Measurements_pi2/Y_test.txt')"
      ],
      "execution_count": null,
      "outputs": []
    },
    {
      "cell_type": "code",
      "metadata": {
        "id": "qjuvqpe1YuFU"
      },
      "source": [
        "from Models.TAE import TraceAutoEncoder\n",
        "\n",
        "latent_dim = 20\n",
        "input_dim = X_train.shape[1]\n",
        "hidden_dims = [64,128,256]\n",
        "batchsize = 32\n",
        "dropout_rate=0.3\n",
        "\n",
        "TAE = TraceAutoEncoder(original_dim=input_dim, \n",
        "           intermediate_dim= hidden_dims,\n",
        "            latent_dim=latent_dim,\n",
        "            dropout_rate=dropout_rate)\n",
        "\n",
        "optimizer = tf.keras.optimizers.Adam(learning_rate=1e-3)\n",
        "TAE.compile(optimizer=optimizer)\n",
        "\n",
        "# Prepare a dataset.\n",
        "dataset = tf.data.Dataset.from_tensor_slices((X_train, Y_train))\n",
        "dataset = dataset.shuffle(buffer_size=1024).batch(batchsize)\n",
        "val_dataset = tf.data.Dataset.from_tensor_slices((X_test, Y_test))\n",
        "val_dataset = val_dataset.shuffle(buffer_size=1024).batch(batchsize)"
      ],
      "execution_count": null,
      "outputs": []
    },
    {
      "cell_type": "code",
      "metadata": {
        "id": "-1GkixBmYuFZ"
      },
      "source": [
        "from Utils.Plotter import PeriodicPlotter\n",
        "\n",
        "r_loss = 10.\n",
        "epochs = 10\n",
        "\n",
        "# Periodic Plotter for loss\n",
        "plotter = PeriodicPlotter(sec=5, xlabel='Epochs', ylabel='Loss')\n",
        "\n",
        "loss_epochs, val_loss_epochs, fidelity_epochs, val_fidelity_epochs = TAE.training(dataset, \n",
        "                                                                                  epochs, \n",
        "                                                                                  r_loss,                                                                                   \n",
        "                                                                                  test=val_dataset, \n",
        "                                                                                  )#Plotter=plotter)"
      ],
      "execution_count": null,
      "outputs": []
    },
    {
      "cell_type": "code",
      "metadata": {
        "id": "yH9e08fbYuFf"
      },
      "source": [
        "epochs = range(len(loss_epochs))\n",
        "\n",
        "fig = plt.figure(figsize=(14,5))\n",
        "gs = fig.add_gridspec(1, 2)\n",
        "ax1 = fig.add_subplot(gs[0, 0])\n",
        "ax2 = fig.add_subplot(gs[0, 1])\n",
        "\n",
        "ax1.plot(epochs,loss_epochs, label='Training')\n",
        "ax1.plot(epochs,val_loss_epochs, label='Validation')\n",
        "ax1.set_xlabel('Epochs', size=16)\n",
        "ax1.set_ylabel('Loss', size=16)\n",
        "ax1.legend()\n",
        "\n",
        "ax2.plot(epochs,fidelity_epochs, label='Training')\n",
        "ax2.plot(epochs,val_fidelity_epochs, label='Validation')\n",
        "ax2.set_xlabel('Epochs', size=16)\n",
        "ax2.set_ylabel('Fidelity', size=16)\n",
        "ax2.legend()\n",
        "plt.show()"
      ],
      "execution_count": null,
      "outputs": []
    },
    {
      "cell_type": "code",
      "metadata": {
        "id": "AEFKmw9YYuFn"
      },
      "source": [
        "# Saving results\n",
        "save = False\n",
        "if save:\n",
        "  np.savetxt('Results/Error/TAE/TAE_Fidelity.txt', fidelity_epochs)\n",
        "  np.savetxt('Results/Error/TAE/TAE_Loss.txt', loss_epochs)\n",
        "  np.savetxt('Results/Error/TAE/val_TAE_Fidelity.txt', val_fidelity_epochs)\n",
        "  np.savetxt('Results/Error/TAE/val_TAE_Loss.txt', val_loss_epochs)"
      ],
      "execution_count": null,
      "outputs": []
    },
    {
      "cell_type": "markdown",
      "metadata": {
        "id": "lVKH4g3eYyYW"
      },
      "source": [
        "## 4.4) $\\pi$"
      ]
    },
    {
      "cell_type": "code",
      "metadata": {
        "id": "F5QSSGqkYyYX"
      },
      "source": [
        "X_train = np.loadtxt('Data/Measurements_pi6/X_train.txt')\n",
        "Y_train = np.loadtxt('Data/Measurements_pi6/Y_train.txt')\n",
        "X_test = np.loadtxt('Data/Measurements_pi6/X_test.txt')\n",
        "Y_test = np.loadtxt('Data/Measurements_pi6/Y_test.txt')"
      ],
      "execution_count": null,
      "outputs": []
    },
    {
      "cell_type": "code",
      "metadata": {
        "id": "UgWXxkrEYyYb"
      },
      "source": [
        "from Models.TAE import TraceAutoEncoder\n",
        "\n",
        "latent_dim = 20\n",
        "input_dim = X_train.shape[1]\n",
        "hidden_dims = [64,128,256]\n",
        "batchsize = 32\n",
        "dropout_rate=0.3\n",
        "\n",
        "TAE = TraceAutoEncoder(original_dim=input_dim, \n",
        "           intermediate_dim= hidden_dims,\n",
        "            latent_dim=latent_dim,\n",
        "            dropout_rate=dropout_rate)\n",
        "\n",
        "optimizer = tf.keras.optimizers.Adam(learning_rate=1e-3)\n",
        "TAE.compile(optimizer=optimizer)\n",
        "\n",
        "# Prepare a dataset.\n",
        "dataset = tf.data.Dataset.from_tensor_slices((X_train, Y_train))\n",
        "dataset = dataset.shuffle(buffer_size=1024).batch(batchsize)\n",
        "val_dataset = tf.data.Dataset.from_tensor_slices((X_test, Y_test))\n",
        "val_dataset = val_dataset.shuffle(buffer_size=1024).batch(batchsize)"
      ],
      "execution_count": null,
      "outputs": []
    },
    {
      "cell_type": "code",
      "metadata": {
        "id": "uk0YyHg2YyYf"
      },
      "source": [
        "from Utils.Plotter import PeriodicPlotter\n",
        "\n",
        "r_loss = 10.\n",
        "epochs = 10\n",
        "\n",
        "# Periodic Plotter for loss\n",
        "plotter = PeriodicPlotter(sec=5, xlabel='Epochs', ylabel='Loss')\n",
        "\n",
        "loss_epochs, val_loss_epochs, fidelity_epochs, val_fidelity_epochs = TAE.training(dataset, \n",
        "                                                                                  epochs, \n",
        "                                                                                  r_loss,                                                                                   \n",
        "                                                                                  test=val_dataset, \n",
        "                                                                                  )#Plotter=plotter)"
      ],
      "execution_count": null,
      "outputs": []
    },
    {
      "cell_type": "code",
      "metadata": {
        "id": "aBE0efq_YyYk",
        "outputId": "ae540df5-8387-438c-fae3-9cc1ba1d9106",
        "colab": {
          "base_uri": "https://localhost:8080/",
          "height": 338
        }
      },
      "source": [
        "epochs = range(len(loss_epochs))\n",
        "\n",
        "fig = plt.figure(figsize=(14,5))\n",
        "gs = fig.add_gridspec(1, 2)\n",
        "ax1 = fig.add_subplot(gs[0, 0])\n",
        "ax2 = fig.add_subplot(gs[0, 1])\n",
        "\n",
        "ax1.plot(epochs,loss_epochs, label='Training')\n",
        "ax1.plot(epochs,val_loss_epochs, label='Validation')\n",
        "ax1.set_xlabel('Epochs', size=16)\n",
        "ax1.set_ylabel('Loss', size=16)\n",
        "ax1.legend()\n",
        "\n",
        "ax2.plot(epochs,fidelity_epochs, label='Training')\n",
        "ax2.plot(epochs,val_fidelity_epochs, label='Validation')\n",
        "ax2.set_xlabel('Epochs', size=16)\n",
        "ax2.set_ylabel('Fidelity', size=16)\n",
        "ax2.legend()\n",
        "plt.show()"
      ],
      "execution_count": null,
      "outputs": [
        {
          "output_type": "display_data",
          "data": {
            "image/png": "[encoded data removed]",
            "text/plain": [
              "<Figure size 1008x360 with 2 Axes>"
            ]
          },
          "metadata": {
            "tags": [],
            "needs_background": "light"
          }
        }
      ]
    },
    {
      "cell_type": "code",
      "metadata": {
        "id": "CjVGJjPdYyYn"
      },
      "source": [
        "# Saving results\n",
        "save = False\n",
        "if save:\n",
        "  np.savetxt('Results/Error/TAE/TAE_Fidelity.txt', fidelity_epochs)\n",
        "  np.savetxt('Results/Error/TAE/TAE_Loss.txt', loss_epochs)\n",
        "  np.savetxt('Results/Error/TAE/val_TAE_Fidelity.txt', val_fidelity_epochs)\n",
        "  np.savetxt('Results/Error/TAE/val_TAE_Loss.txt', val_loss_epochs)"
      ],
      "execution_count": null,
      "outputs": []
    }
  ]
}