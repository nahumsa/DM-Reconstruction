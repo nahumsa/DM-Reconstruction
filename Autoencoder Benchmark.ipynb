{
  "nbformat": 4,
  "nbformat_minor": 0,
  "metadata": {
    "colab": {
      "name": "Autoencoder Benchmark.ipynb",
      "provenance": [],
      "collapsed_sections": [],
      "authorship_tag": "ABX9TyM8vF8FBrE+LAlCMsZZ2uQW",
      "include_colab_link": true
    },
    "kernelspec": {
      "name": "python3",
      "display_name": "Python 3"
    },
    "widgets": {
      "application/vnd.jupyter.widget-state+json": {
        "4627ea4aaf7c4eeabf3375aff0ef1940": {
          "model_module": "@jupyter-widgets/controls",
          "model_name": "HBoxModel",
          "state": {
            "_view_name": "HBoxView",
            "_dom_classes": [],
            "_model_name": "HBoxModel",
            "_view_module": "@jupyter-widgets/controls",
            "_model_module_version": "1.5.0",
            "_view_count": null,
            "_view_module_version": "1.5.0",
            "box_style": "",
            "layout": "IPY_MODEL_9252ebfc9bbd49bd9f2ffc2f8568c664",
            "_model_module": "@jupyter-widgets/controls",
            "children": [
              "IPY_MODEL_1213ef78878c477295af6f6c40c3ab68",
              "IPY_MODEL_74bb0ff717344191b782482893e67e40"
            ]
          }
        },
        "9252ebfc9bbd49bd9f2ffc2f8568c664": {
          "model_module": "@jupyter-widgets/base",
          "model_name": "LayoutModel",
          "state": {
            "_view_name": "LayoutView",
            "grid_template_rows": null,
            "right": null,
            "justify_content": null,
            "_view_module": "@jupyter-widgets/base",
            "overflow": null,
            "_model_module_version": "1.2.0",
            "_view_count": null,
            "flex_flow": null,
            "width": null,
            "min_width": null,
            "border": null,
            "align_items": null,
            "bottom": null,
            "_model_module": "@jupyter-widgets/base",
            "top": null,
            "grid_column": null,
            "overflow_y": null,
            "overflow_x": null,
            "grid_auto_flow": null,
            "grid_area": null,
            "grid_template_columns": null,
            "flex": null,
            "_model_name": "LayoutModel",
            "justify_items": null,
            "grid_row": null,
            "max_height": null,
            "align_content": null,
            "visibility": null,
            "align_self": null,
            "height": null,
            "min_height": null,
            "padding": null,
            "grid_auto_rows": null,
            "grid_gap": null,
            "max_width": null,
            "order": null,
            "_view_module_version": "1.2.0",
            "grid_template_areas": null,
            "object_position": null,
            "object_fit": null,
            "grid_auto_columns": null,
            "margin": null,
            "display": null,
            "left": null
          }
        },
        "1213ef78878c477295af6f6c40c3ab68": {
          "model_module": "@jupyter-widgets/controls",
          "model_name": "FloatProgressModel",
          "state": {
            "_view_name": "ProgressView",
            "style": "IPY_MODEL_21cc029ce61c43dab816a111ff44a167",
            "_dom_classes": [],
            "description": "100%",
            "_model_name": "FloatProgressModel",
            "bar_style": "success",
            "max": 3000,
            "_view_module": "@jupyter-widgets/controls",
            "_model_module_version": "1.5.0",
            "value": 3000,
            "_view_count": null,
            "_view_module_version": "1.5.0",
            "orientation": "horizontal",
            "min": 0,
            "description_tooltip": null,
            "_model_module": "@jupyter-widgets/controls",
            "layout": "IPY_MODEL_95a338e8872c45e0a8f56330d89305a0"
          }
        },
        "74bb0ff717344191b782482893e67e40": {
          "model_module": "@jupyter-widgets/controls",
          "model_name": "HTMLModel",
          "state": {
            "_view_name": "HTMLView",
            "style": "IPY_MODEL_0910af91039d4feb90ea7a43727bd758",
            "_dom_classes": [],
            "description": "",
            "_model_name": "HTMLModel",
            "placeholder": "​",
            "_view_module": "@jupyter-widgets/controls",
            "_model_module_version": "1.5.0",
            "value": " 3000/3000 [01:11&lt;00:00, 42.22it/s]",
            "_view_count": null,
            "_view_module_version": "1.5.0",
            "description_tooltip": null,
            "_model_module": "@jupyter-widgets/controls",
            "layout": "IPY_MODEL_c7d02db19c6340e6965a97ee425485cc"
          }
        },
        "21cc029ce61c43dab816a111ff44a167": {
          "model_module": "@jupyter-widgets/controls",
          "model_name": "ProgressStyleModel",
          "state": {
            "_view_name": "StyleView",
            "_model_name": "ProgressStyleModel",
            "description_width": "initial",
            "_view_module": "@jupyter-widgets/base",
            "_model_module_version": "1.5.0",
            "_view_count": null,
            "_view_module_version": "1.2.0",
            "bar_color": null,
            "_model_module": "@jupyter-widgets/controls"
          }
        },
        "95a338e8872c45e0a8f56330d89305a0": {
          "model_module": "@jupyter-widgets/base",
          "model_name": "LayoutModel",
          "state": {
            "_view_name": "LayoutView",
            "grid_template_rows": null,
            "right": null,
            "justify_content": null,
            "_view_module": "@jupyter-widgets/base",
            "overflow": null,
            "_model_module_version": "1.2.0",
            "_view_count": null,
            "flex_flow": null,
            "width": null,
            "min_width": null,
            "border": null,
            "align_items": null,
            "bottom": null,
            "_model_module": "@jupyter-widgets/base",
            "top": null,
            "grid_column": null,
            "overflow_y": null,
            "overflow_x": null,
            "grid_auto_flow": null,
            "grid_area": null,
            "grid_template_columns": null,
            "flex": null,
            "_model_name": "LayoutModel",
            "justify_items": null,
            "grid_row": null,
            "max_height": null,
            "align_content": null,
            "visibility": null,
            "align_self": null,
            "height": null,
            "min_height": null,
            "padding": null,
            "grid_auto_rows": null,
            "grid_gap": null,
            "max_width": null,
            "order": null,
            "_view_module_version": "1.2.0",
            "grid_template_areas": null,
            "object_position": null,
            "object_fit": null,
            "grid_auto_columns": null,
            "margin": null,
            "display": null,
            "left": null
          }
        },
        "0910af91039d4feb90ea7a43727bd758": {
          "model_module": "@jupyter-widgets/controls",
          "model_name": "DescriptionStyleModel",
          "state": {
            "_view_name": "StyleView",
            "_model_name": "DescriptionStyleModel",
            "description_width": "",
            "_view_module": "@jupyter-widgets/base",
            "_model_module_version": "1.5.0",
            "_view_count": null,
            "_view_module_version": "1.2.0",
            "_model_module": "@jupyter-widgets/controls"
          }
        },
        "c7d02db19c6340e6965a97ee425485cc": {
          "model_module": "@jupyter-widgets/base",
          "model_name": "LayoutModel",
          "state": {
            "_view_name": "LayoutView",
            "grid_template_rows": null,
            "right": null,
            "justify_content": null,
            "_view_module": "@jupyter-widgets/base",
            "overflow": null,
            "_model_module_version": "1.2.0",
            "_view_count": null,
            "flex_flow": null,
            "width": null,
            "min_width": null,
            "border": null,
            "align_items": null,
            "bottom": null,
            "_model_module": "@jupyter-widgets/base",
            "top": null,
            "grid_column": null,
            "overflow_y": null,
            "overflow_x": null,
            "grid_auto_flow": null,
            "grid_area": null,
            "grid_template_columns": null,
            "flex": null,
            "_model_name": "LayoutModel",
            "justify_items": null,
            "grid_row": null,
            "max_height": null,
            "align_content": null,
            "visibility": null,
            "align_self": null,
            "height": null,
            "min_height": null,
            "padding": null,
            "grid_auto_rows": null,
            "grid_gap": null,
            "max_width": null,
            "order": null,
            "_view_module_version": "1.2.0",
            "grid_template_areas": null,
            "object_position": null,
            "object_fit": null,
            "grid_auto_columns": null,
            "margin": null,
            "display": null,
            "left": null
          }
        },
        "f6d87c2c60294452b0bd188f5852812d": {
          "model_module": "@jupyter-widgets/controls",
          "model_name": "HBoxModel",
          "state": {
            "_view_name": "HBoxView",
            "_dom_classes": [],
            "_model_name": "HBoxModel",
            "_view_module": "@jupyter-widgets/controls",
            "_model_module_version": "1.5.0",
            "_view_count": null,
            "_view_module_version": "1.5.0",
            "box_style": "",
            "layout": "IPY_MODEL_2f00aee64c12487985916e2f1348ed4f",
            "_model_module": "@jupyter-widgets/controls",
            "children": [
              "IPY_MODEL_390c813fcb3e4893896a1e711c766610",
              "IPY_MODEL_85a89717e2f646d8932bff02a678de7f"
            ]
          }
        },
        "2f00aee64c12487985916e2f1348ed4f": {
          "model_module": "@jupyter-widgets/base",
          "model_name": "LayoutModel",
          "state": {
            "_view_name": "LayoutView",
            "grid_template_rows": null,
            "right": null,
            "justify_content": null,
            "_view_module": "@jupyter-widgets/base",
            "overflow": null,
            "_model_module_version": "1.2.0",
            "_view_count": null,
            "flex_flow": null,
            "width": null,
            "min_width": null,
            "border": null,
            "align_items": null,
            "bottom": null,
            "_model_module": "@jupyter-widgets/base",
            "top": null,
            "grid_column": null,
            "overflow_y": null,
            "overflow_x": null,
            "grid_auto_flow": null,
            "grid_area": null,
            "grid_template_columns": null,
            "flex": null,
            "_model_name": "LayoutModel",
            "justify_items": null,
            "grid_row": null,
            "max_height": null,
            "align_content": null,
            "visibility": null,
            "align_self": null,
            "height": null,
            "min_height": null,
            "padding": null,
            "grid_auto_rows": null,
            "grid_gap": null,
            "max_width": null,
            "order": null,
            "_view_module_version": "1.2.0",
            "grid_template_areas": null,
            "object_position": null,
            "object_fit": null,
            "grid_auto_columns": null,
            "margin": null,
            "display": null,
            "left": null
          }
        },
        "390c813fcb3e4893896a1e711c766610": {
          "model_module": "@jupyter-widgets/controls",
          "model_name": "FloatProgressModel",
          "state": {
            "_view_name": "ProgressView",
            "style": "IPY_MODEL_8ab0538c40c2488b8a46f77befc0e0cf",
            "_dom_classes": [],
            "description": "Epochs: 100%",
            "_model_name": "FloatProgressModel",
            "bar_style": "success",
            "max": 10,
            "_view_module": "@jupyter-widgets/controls",
            "_model_module_version": "1.5.0",
            "value": 10,
            "_view_count": null,
            "_view_module_version": "1.5.0",
            "orientation": "horizontal",
            "min": 0,
            "description_tooltip": null,
            "_model_module": "@jupyter-widgets/controls",
            "layout": "IPY_MODEL_b6caccfc827f41c1a7be80b5fd7c7314"
          }
        },
        "85a89717e2f646d8932bff02a678de7f": {
          "model_module": "@jupyter-widgets/controls",
          "model_name": "HTMLModel",
          "state": {
            "_view_name": "HTMLView",
            "style": "IPY_MODEL_8f1fe64d7ec34776941456b5543a6f57",
            "_dom_classes": [],
            "description": "",
            "_model_name": "HTMLModel",
            "placeholder": "​",
            "_view_module": "@jupyter-widgets/controls",
            "_model_module_version": "1.5.0",
            "value": " 10/10 [29:40&lt;00:00, 178.09s/it]",
            "_view_count": null,
            "_view_module_version": "1.5.0",
            "description_tooltip": null,
            "_model_module": "@jupyter-widgets/controls",
            "layout": "IPY_MODEL_2f59e25a51744ae087b8bf12a7f0babc"
          }
        },
        "8ab0538c40c2488b8a46f77befc0e0cf": {
          "model_module": "@jupyter-widgets/controls",
          "model_name": "ProgressStyleModel",
          "state": {
            "_view_name": "StyleView",
            "_model_name": "ProgressStyleModel",
            "description_width": "initial",
            "_view_module": "@jupyter-widgets/base",
            "_model_module_version": "1.5.0",
            "_view_count": null,
            "_view_module_version": "1.2.0",
            "bar_color": null,
            "_model_module": "@jupyter-widgets/controls"
          }
        },
        "b6caccfc827f41c1a7be80b5fd7c7314": {
          "model_module": "@jupyter-widgets/base",
          "model_name": "LayoutModel",
          "state": {
            "_view_name": "LayoutView",
            "grid_template_rows": null,
            "right": null,
            "justify_content": null,
            "_view_module": "@jupyter-widgets/base",
            "overflow": null,
            "_model_module_version": "1.2.0",
            "_view_count": null,
            "flex_flow": null,
            "width": null,
            "min_width": null,
            "border": null,
            "align_items": null,
            "bottom": null,
            "_model_module": "@jupyter-widgets/base",
            "top": null,
            "grid_column": null,
            "overflow_y": null,
            "overflow_x": null,
            "grid_auto_flow": null,
            "grid_area": null,
            "grid_template_columns": null,
            "flex": null,
            "_model_name": "LayoutModel",
            "justify_items": null,
            "grid_row": null,
            "max_height": null,
            "align_content": null,
            "visibility": null,
            "align_self": null,
            "height": null,
            "min_height": null,
            "padding": null,
            "grid_auto_rows": null,
            "grid_gap": null,
            "max_width": null,
            "order": null,
            "_view_module_version": "1.2.0",
            "grid_template_areas": null,
            "object_position": null,
            "object_fit": null,
            "grid_auto_columns": null,
            "margin": null,
            "display": null,
            "left": null
          }
        },
        "8f1fe64d7ec34776941456b5543a6f57": {
          "model_module": "@jupyter-widgets/controls",
          "model_name": "DescriptionStyleModel",
          "state": {
            "_view_name": "StyleView",
            "_model_name": "DescriptionStyleModel",
            "description_width": "",
            "_view_module": "@jupyter-widgets/base",
            "_model_module_version": "1.5.0",
            "_view_count": null,
            "_view_module_version": "1.2.0",
            "_model_module": "@jupyter-widgets/controls"
          }
        },
        "2f59e25a51744ae087b8bf12a7f0babc": {
          "model_module": "@jupyter-widgets/base",
          "model_name": "LayoutModel",
          "state": {
            "_view_name": "LayoutView",
            "grid_template_rows": null,
            "right": null,
            "justify_content": null,
            "_view_module": "@jupyter-widgets/base",
            "overflow": null,
            "_model_module_version": "1.2.0",
            "_view_count": null,
            "flex_flow": null,
            "width": null,
            "min_width": null,
            "border": null,
            "align_items": null,
            "bottom": null,
            "_model_module": "@jupyter-widgets/base",
            "top": null,
            "grid_column": null,
            "overflow_y": null,
            "overflow_x": null,
            "grid_auto_flow": null,
            "grid_area": null,
            "grid_template_columns": null,
            "flex": null,
            "_model_name": "LayoutModel",
            "justify_items": null,
            "grid_row": null,
            "max_height": null,
            "align_content": null,
            "visibility": null,
            "align_self": null,
            "height": null,
            "min_height": null,
            "padding": null,
            "grid_auto_rows": null,
            "grid_gap": null,
            "max_width": null,
            "order": null,
            "_view_module_version": "1.2.0",
            "grid_template_areas": null,
            "object_position": null,
            "object_fit": null,
            "grid_auto_columns": null,
            "margin": null,
            "display": null,
            "left": null
          }
        }
      }
    }
  },
  "cells": [
    {
      "cell_type": "markdown",
      "metadata": {
        "id": "view-in-github",
        "colab_type": "text"
      },
      "source": [
        "<a href=\"https://colab.research.google.com/github/nahumsa/DM-Reconstruction/blob/master/Autoencoder%20Benchmark.ipynb\" target=\"_parent\"><img src=\"https://colab.research.google.com/assets/colab-badge.svg\" alt=\"Open In Colab\"/></a>"
      ]
    },
    {
      "cell_type": "markdown",
      "metadata": {
        "id": "XBV5v__yz96I",
        "colab_type": "text"
      },
      "source": [
        "# Autoencoder Benchmark"
      ]
    },
    {
      "cell_type": "markdown",
      "metadata": {
        "id": "T2rmp9RG9Jl7",
        "colab_type": "text"
      },
      "source": [
        "## Import dependencies for Google Colab"
      ]
    },
    {
      "cell_type": "code",
      "metadata": {
        "id": "TlSHhTXA8KZ2",
        "colab_type": "code",
        "colab": {
          "base_uri": "https://localhost:8080/",
          "height": 138
        },
        "outputId": "b7fddb21-164f-4607-9103-6d505eaff348"
      },
      "source": [
        "! git clone https://github.com/nahumsa/DM-Reconstruction"
      ],
      "execution_count": 1,
      "outputs": [
        {
          "output_type": "stream",
          "text": [
            "Cloning into 'DM-Reconstruction'...\n",
            "remote: Enumerating objects: 98, done.\u001b[K\n",
            "remote: Counting objects:   1% (1/98)\u001b[K\rremote: Counting objects:   2% (2/98)\u001b[K\rremote: Counting objects:   3% (3/98)\u001b[K\rremote: Counting objects:   4% (4/98)\u001b[K\rremote: Counting objects:   5% (5/98)\u001b[K\rremote: Counting objects:   6% (6/98)\u001b[K\rremote: Counting objects:   7% (7/98)\u001b[K\rremote: Counting objects:   8% (8/98)\u001b[K\rremote: Counting objects:   9% (9/98)\u001b[K\rremote: Counting objects:  10% (10/98)\u001b[K\rremote: Counting objects:  11% (11/98)\u001b[K\rremote: Counting objects:  12% (12/98)\u001b[K\rremote: Counting objects:  13% (13/98)\u001b[K\rremote: Counting objects:  14% (14/98)\u001b[K\rremote: Counting objects:  15% (15/98)\u001b[K\rremote: Counting objects:  16% (16/98)\u001b[K\rremote: Counting objects:  17% (17/98)\u001b[K\rremote: Counting objects:  18% (18/98)\u001b[K\rremote: Counting objects:  19% (19/98)\u001b[K\rremote: Counting objects:  20% (20/98)\u001b[K\rremote: Counting objects:  21% (21/98)\u001b[K\rremote: Counting objects:  22% (22/98)\u001b[K\rremote: Counting objects:  23% (23/98)\u001b[K\rremote: Counting objects:  24% (24/98)\u001b[K\rremote: Counting objects:  25% (25/98)\u001b[K\rremote: Counting objects:  26% (26/98)\u001b[K\rremote: Counting objects:  27% (27/98)\u001b[K\rremote: Counting objects:  28% (28/98)\u001b[K\rremote: Counting objects:  29% (29/98)\u001b[K\rremote: Counting objects:  30% (30/98)\u001b[K\rremote: Counting objects:  31% (31/98)\u001b[K\rremote: Counting objects:  32% (32/98)\u001b[K\rremote: Counting objects:  33% (33/98)\u001b[K\rremote: Counting objects:  34% (34/98)\u001b[K\rremote: Counting objects:  35% (35/98)\u001b[K\rremote: Counting objects:  36% (36/98)\u001b[K\rremote: Counting objects:  37% (37/98)\u001b[K\rremote: Counting objects:  38% (38/98)\u001b[K\rremote: Counting objects:  39% (39/98)\u001b[K\rremote: Counting objects:  40% (40/98)\u001b[K\rremote: Counting objects:  41% (41/98)\u001b[K\rremote: Counting objects:  42% (42/98)\u001b[K\rremote: Counting objects:  43% (43/98)\u001b[K\rremote: Counting objects:  44% (44/98)\u001b[K\rremote: Counting objects:  45% (45/98)\u001b[K\rremote: Counting objects:  46% (46/98)\u001b[K\rremote: Counting objects:  47% (47/98)\u001b[K\rremote: Counting objects:  48% (48/98)\u001b[K\rremote: Counting objects:  50% (49/98)\u001b[K\rremote: Counting objects:  51% (50/98)\u001b[K\rremote: Counting objects:  52% (51/98)\u001b[K\rremote: Counting objects:  53% (52/98)\u001b[K\rremote: Counting objects:  54% (53/98)\u001b[K\rremote: Counting objects:  55% (54/98)\u001b[K\rremote: Counting objects:  56% (55/98)\u001b[K\rremote: Counting objects:  57% (56/98)\u001b[K\rremote: Counting objects:  58% (57/98)\u001b[K\rremote: Counting objects:  59% (58/98)\u001b[K\rremote: Counting objects:  60% (59/98)\u001b[K\rremote: Counting objects:  61% (60/98)\u001b[K\rremote: Counting objects:  62% (61/98)\u001b[K\rremote: Counting objects:  63% (62/98)\u001b[K\rremote: Counting objects:  64% (63/98)\u001b[K\rremote: Counting objects:  65% (64/98)\u001b[K\rremote: Counting objects:  66% (65/98)\u001b[K\rremote: Counting objects:  67% (66/98)\u001b[K\rremote: Counting objects:  68% (67/98)\u001b[K\rremote: Counting objects:  69% (68/98)\u001b[K\rremote: Counting objects:  70% (69/98)\u001b[K\rremote: Counting objects:  71% (70/98)\u001b[K\rremote: Counting objects:  72% (71/98)\u001b[K\rremote: Counting objects:  73% (72/98)\u001b[K\rremote: Counting objects:  74% (73/98)\u001b[K\rremote: Counting objects:  75% (74/98)\u001b[K\rremote: Counting objects:  76% (75/98)\u001b[K\rremote: Counting objects:  77% (76/98)\u001b[K\rremote: Counting objects:  78% (77/98)\u001b[K\rremote: Counting objects:  79% (78/98)\u001b[K\rremote: Counting objects:  80% (79/98)\u001b[K\rremote: Counting objects:  81% (80/98)\u001b[K\rremote: Counting objects:  82% (81/98)\u001b[K\rremote: Counting objects:  83% (82/98)\u001b[K\rremote: Counting objects:  84% (83/98)\u001b[K\rremote: Counting objects:  85% (84/98)\u001b[K\rremote: Counting objects:  86% (85/98)\u001b[K\rremote: Counting objects:  87% (86/98)\u001b[K\rremote: Counting objects:  88% (87/98)\u001b[K\rremote: Counting objects:  89% (88/98)\u001b[K\rremote: Counting objects:  90% (89/98)\u001b[K\rremote: Counting objects:  91% (90/98)\u001b[K\rremote: Counting objects:  92% (91/98)\u001b[K\rremote: Counting objects:  93% (92/98)\u001b[K\rremote: Counting objects:  94% (93/98)\u001b[K\rremote: Counting objects:  95% (94/98)\u001b[K\rremote: Counting objects:  96% (95/98)\u001b[K\rremote: Counting objects:  97% (96/98)\u001b[K\rremote: Counting objects:  98% (97/98)\u001b[K\rremote: Counting objects: 100% (98/98)\u001b[K\rremote: Counting objects: 100% (98/98), done.\u001b[K\n",
            "remote: Compressing objects:   1% (1/96)\u001b[K\rremote: Compressing objects:   2% (2/96)\u001b[K\rremote: Compressing objects:   3% (3/96)\u001b[K\rremote: Compressing objects:   4% (4/96)\u001b[K\rremote: Compressing objects:   5% (5/96)\u001b[K\rremote: Compressing objects:   6% (6/96)\u001b[K\rremote: Compressing objects:   7% (7/96)\u001b[K\rremote: Compressing objects:   8% (8/96)\u001b[K\rremote: Compressing objects:   9% (9/96)\u001b[K\rremote: Compressing objects:  10% (10/96)\u001b[K\rremote: Compressing objects:  11% (11/96)\u001b[K\rremote: Compressing objects:  12% (12/96)\u001b[K\rremote: Compressing objects:  13% (13/96)\u001b[K\rremote: Compressing objects:  14% (14/96)\u001b[K\rremote: Compressing objects:  15% (15/96)\u001b[K\rremote: Compressing objects:  16% (16/96)\u001b[K\rremote: Compressing objects:  17% (17/96)\u001b[K\rremote: Compressing objects:  18% (18/96)\u001b[K\rremote: Compressing objects:  19% (19/96)\u001b[K\rremote: Compressing objects:  20% (20/96)\u001b[K\rremote: Compressing objects:  21% (21/96)\u001b[K\rremote: Compressing objects:  22% (22/96)\u001b[K\rremote: Compressing objects:  23% (23/96)\u001b[K\rremote: Compressing objects:  25% (24/96)\u001b[K\rremote: Compressing objects:  26% (25/96)\u001b[K\rremote: Compressing objects:  27% (26/96)\u001b[K\rremote: Compressing objects:  28% (27/96)\u001b[K\rremote: Compressing objects:  29% (28/96)\u001b[K\rremote: Compressing objects:  30% (29/96)\u001b[K\rremote: Compressing objects:  31% (30/96)\u001b[K\rremote: Compressing objects:  32% (31/96)\u001b[K\rremote: Compressing objects:  33% (32/96)\u001b[K\rremote: Compressing objects:  34% (33/96)\u001b[K\rremote: Compressing objects:  35% (34/96)\u001b[K\rremote: Compressing objects:  36% (35/96)\u001b[K\rremote: Compressing objects:  37% (36/96)\u001b[K\rremote: Compressing objects:  38% (37/96)\u001b[K\rremote: Compressing objects:  39% (38/96)\u001b[K\rremote: Compressing objects:  40% (39/96)\u001b[K\rremote: Compressing objects:  41% (40/96)\u001b[K\rremote: Compressing objects:  42% (41/96)\u001b[K\rremote: Compressing objects:  43% (42/96)\u001b[K\rremote: Compressing objects:  44% (43/96)\u001b[K\rremote: Compressing objects:  45% (44/96)\u001b[K\rremote: Compressing objects:  46% (45/96)\u001b[K\rremote: Compressing objects:  47% (46/96)\u001b[K\rremote: Compressing objects:  48% (47/96)\u001b[K\rremote: Compressing objects:  50% (48/96)\u001b[K\rremote: Compressing objects:  51% (49/96)\u001b[K\rremote: Compressing objects:  52% (50/96)\u001b[K\rremote: Compressing objects:  53% (51/96)\u001b[K\rremote: Compressing objects:  54% (52/96)\u001b[K\rremote: Compressing objects:  55% (53/96)\u001b[K\rremote: Compressing objects:  56% (54/96)\u001b[K\rremote: Compressing objects:  57% (55/96)\u001b[K\rremote: Compressing objects:  58% (56/96)\u001b[K\rremote: Compressing objects:  59% (57/96)\u001b[K\rremote: Compressing objects:  60% (58/96)\u001b[K\rremote: Compressing objects:  61% (59/96)\u001b[K\rremote: Compressing objects:  62% (60/96)\u001b[K\rremote: Compressing objects:  63% (61/96)\u001b[K\rremote: Compressing objects:  64% (62/96)\u001b[K\rremote: Compressing objects:  65% (63/96)\u001b[K\rremote: Compressing objects:  66% (64/96)\u001b[K\rremote: Compressing objects:  67% (65/96)\u001b[K\rremote: Compressing objects:  68% (66/96)\u001b[K\rremote: Compressing objects:  69% (67/96)\u001b[K\rremote: Compressing objects:  70% (68/96)\u001b[K\rremote: Compressing objects:  71% (69/96)\u001b[K\rremote: Compressing objects:  72% (70/96)\u001b[K\rremote: Compressing objects:  73% (71/96)\u001b[K\rremote: Compressing objects:  75% (72/96)\u001b[K\rremote: Compressing objects:  76% (73/96)\u001b[K\rremote: Compressing objects:  77% (74/96)\u001b[K\rremote: Compressing objects:  78% (75/96)\u001b[K\rremote: Compressing objects:  79% (76/96)\u001b[K\rremote: Compressing objects:  80% (77/96)\u001b[K\rremote: Compressing objects:  81% (78/96)\u001b[K\rremote: Compressing objects:  82% (79/96)\u001b[K\rremote: Compressing objects:  83% (80/96)\u001b[K\rremote: Compressing objects:  84% (81/96)\u001b[K\rremote: Compressing objects:  85% (82/96)\u001b[K\rremote: Compressing objects:  86% (83/96)\u001b[K\rremote: Compressing objects:  87% (84/96)\u001b[K\rremote: Compressing objects:  88% (85/96)\u001b[K\rremote: Compressing objects:  89% (86/96)\u001b[K\rremote: Compressing objects:  90% (87/96)\u001b[K\rremote: Compressing objects:  91% (88/96)\u001b[K\rremote: Compressing objects:  92% (89/96)\u001b[K\rremote: Compressing objects:  93% (90/96)\u001b[K\rremote: Compressing objects:  94% (91/96)\u001b[K\rremote: Compressing objects:  95% (92/96)\u001b[K\rremote: Compressing objects:  96% (93/96)\u001b[K\rremote: Compressing objects:  97% (94/96)\u001b[K\rremote: Compressing objects:  98% (95/96)\u001b[K\rremote: Compressing objects: 100% (96/96)\u001b[K\rremote: Compressing objects: 100% (96/96), done.\u001b[K\n",
            "Receiving objects:   0% (1/254)   \rReceiving objects:   1% (3/254)   \rReceiving objects:   2% (6/254)   \rReceiving objects:   3% (8/254)   \rReceiving objects:   4% (11/254)   \rReceiving objects:   5% (13/254)   \rReceiving objects:   6% (16/254)   \rReceiving objects:   7% (18/254)   \rReceiving objects:   8% (21/254)   \rReceiving objects:   9% (23/254)   \rReceiving objects:  10% (26/254)   \rReceiving objects:  11% (28/254)   \rReceiving objects:  12% (31/254)   \rReceiving objects:  13% (34/254)   \rReceiving objects:  14% (36/254)   \rReceiving objects:  15% (39/254)   \rReceiving objects:  16% (41/254)   \rReceiving objects:  17% (44/254)   \rReceiving objects:  18% (46/254)   \rReceiving objects:  19% (49/254)   \rReceiving objects:  20% (51/254)   \rReceiving objects:  21% (54/254)   \rReceiving objects:  22% (56/254)   \rReceiving objects:  23% (59/254)   \rReceiving objects:  24% (61/254)   \rReceiving objects:  25% (64/254)   \rReceiving objects:  26% (67/254)   \rReceiving objects:  27% (69/254)   \rReceiving objects:  28% (72/254)   \rReceiving objects:  29% (74/254)   \rReceiving objects:  30% (77/254)   \rReceiving objects:  31% (79/254)   \rReceiving objects:  32% (82/254)   \rReceiving objects:  33% (84/254)   \rReceiving objects:  34% (87/254)   \rReceiving objects:  35% (89/254)   \rReceiving objects:  36% (92/254)   \rReceiving objects:  37% (94/254)   \rReceiving objects:  38% (97/254)   \rReceiving objects:  39% (100/254)   \rReceiving objects:  40% (102/254)   \rReceiving objects:  41% (105/254)   \rReceiving objects:  42% (107/254)   \rReceiving objects:  43% (110/254)   \rReceiving objects:  44% (112/254)   \rReceiving objects:  45% (115/254)   \rReceiving objects:  46% (117/254)   \rReceiving objects:  47% (120/254)   \rReceiving objects:  48% (122/254)   \rReceiving objects:  49% (125/254)   \rReceiving objects:  50% (127/254)   \rReceiving objects:  51% (130/254)   \rReceiving objects:  52% (133/254)   \rReceiving objects:  53% (135/254)   \rReceiving objects:  54% (138/254)   \rReceiving objects:  55% (140/254)   \rReceiving objects:  56% (143/254)   \rReceiving objects:  57% (145/254)   \rReceiving objects:  58% (148/254)   \rReceiving objects:  59% (150/254)   \rReceiving objects:  60% (153/254)   \rReceiving objects:  61% (155/254)   \rReceiving objects:  62% (158/254)   \rReceiving objects:  63% (161/254)   \rReceiving objects:  64% (163/254)   \rReceiving objects:  65% (166/254)   \rReceiving objects:  66% (168/254)   \rReceiving objects:  67% (171/254)   \rReceiving objects:  68% (173/254)   \rReceiving objects:  69% (176/254)   \rReceiving objects:  70% (178/254)   \rReceiving objects:  71% (181/254)   \rReceiving objects:  72% (183/254)   \rReceiving objects:  73% (186/254)   \rReceiving objects:  74% (188/254)   \rReceiving objects:  75% (191/254)   \rReceiving objects:  76% (194/254)   \rReceiving objects:  77% (196/254)   \rReceiving objects:  78% (199/254)   \rReceiving objects:  79% (201/254)   \rReceiving objects:  80% (204/254)   \rReceiving objects:  81% (206/254)   \rReceiving objects:  82% (209/254)   \rReceiving objects:  83% (211/254)   \rReceiving objects:  84% (214/254)   \rReceiving objects:  85% (216/254)   \rReceiving objects:  86% (219/254)   \rReceiving objects:  87% (221/254)   \rReceiving objects:  88% (224/254)   \rReceiving objects:  89% (227/254)   \rReceiving objects:  90% (229/254)   \rReceiving objects:  91% (232/254)   \rReceiving objects:  92% (234/254)   \rremote: Total 254 (delta 48), reused 8 (delta 1), pack-reused 156\u001b[K\n",
            "Receiving objects:  93% (237/254)   \rReceiving objects:  94% (239/254)   \rReceiving objects:  95% (242/254)   \rReceiving objects:  96% (244/254)   \rReceiving objects:  97% (247/254)   \rReceiving objects:  98% (249/254)   \rReceiving objects:  99% (252/254)   \rReceiving objects: 100% (254/254)   \rReceiving objects: 100% (254/254), 2.80 MiB | 21.74 MiB/s, done.\n",
            "Resolving deltas:   0% (0/123)   \rResolving deltas:  10% (13/123)   \rResolving deltas:  15% (19/123)   \rResolving deltas:  16% (20/123)   \rResolving deltas:  17% (22/123)   \rResolving deltas:  25% (31/123)   \rResolving deltas:  28% (35/123)   \rResolving deltas:  31% (39/123)   \rResolving deltas:  41% (51/123)   \rResolving deltas:  43% (54/123)   \rResolving deltas:  44% (55/123)   \rResolving deltas:  54% (67/123)   \rResolving deltas:  55% (68/123)   \rResolving deltas:  77% (95/123)   \rResolving deltas:  78% (96/123)   \rResolving deltas:  84% (104/123)   \rResolving deltas:  91% (112/123)   \rResolving deltas:  94% (116/123)   \rResolving deltas:  95% (118/123)   \rResolving deltas:  96% (119/123)   \rResolving deltas: 100% (123/123)   \rResolving deltas: 100% (123/123), done.\n"
          ],
          "name": "stdout"
        }
      ]
    },
    {
      "cell_type": "code",
      "metadata": {
        "id": "CH6jS4fy8LSS",
        "colab_type": "code",
        "colab": {
          "base_uri": "https://localhost:8080/",
          "height": 294
        },
        "outputId": "4c8d0762-a941-475f-e3f7-fcd1025de478"
      },
      "source": [
        "!pip install qutip"
      ],
      "execution_count": 2,
      "outputs": [
        {
          "output_type": "stream",
          "text": [
            "Collecting qutip\n",
            "\u001b[?25l  Downloading https://files.pythonhosted.org/packages/71/94/c79bd57137320657c3acc8e7a08d3c66dcf9d697e594e945fbc905dfec42/qutip-4.5.2.tar.gz (3.4MB)\n",
            "\u001b[K     |████████████████████████████████| 3.4MB 2.7MB/s \n",
            "\u001b[?25h  Installing build dependencies ... \u001b[?25l\u001b[?25hdone\n",
            "  Getting requirements to build wheel ... \u001b[?25l\u001b[?25hdone\n",
            "    Preparing wheel metadata ... \u001b[?25l\u001b[?25hdone\n",
            "Requirement already satisfied: cython>=0.21 in /usr/local/lib/python3.6/dist-packages (from qutip) (0.29.21)\n",
            "Requirement already satisfied: numpy>=1.12 in /usr/local/lib/python3.6/dist-packages (from qutip) (1.18.5)\n",
            "Requirement already satisfied: scipy>=1.0 in /usr/local/lib/python3.6/dist-packages (from qutip) (1.4.1)\n",
            "Building wheels for collected packages: qutip\n",
            "  Building wheel for qutip (PEP 517) ... \u001b[?25l\u001b[?25hdone\n",
            "  Created wheel for qutip: filename=qutip-4.5.2-cp36-cp36m-linux_x86_64.whl size=12575492 sha256=44684cbdb4812a22c944d701b3b117146aabe2eda77ee7d3931f394a4866a670\n",
            "  Stored in directory: /root/.cache/pip/wheels/ae/90/e9/f26fdecfb6c0e9d9d6f5fa564d16d26ff2bdfd8ad6e7a8a28a\n",
            "Successfully built qutip\n",
            "Installing collected packages: qutip\n",
            "Successfully installed qutip-4.5.2\n"
          ],
          "name": "stdout"
        }
      ]
    },
    {
      "cell_type": "code",
      "metadata": {
        "id": "WPlNSZN79kTe",
        "colab_type": "code",
        "colab": {
          "base_uri": "https://localhost:8080/",
          "height": 34
        },
        "outputId": "2ac34c62-6d6e-4829-ba7d-83048af8fbcd"
      },
      "source": [
        "% cd DM-Reconstruction/"
      ],
      "execution_count": 3,
      "outputs": [
        {
          "output_type": "stream",
          "text": [
            "/content/DM-Reconstruction\n"
          ],
          "name": "stdout"
        }
      ]
    },
    {
      "cell_type": "markdown",
      "metadata": {
        "id": "Ug3S__hR9Lcn",
        "colab_type": "text"
      },
      "source": [
        "## Import Dependencies"
      ]
    },
    {
      "cell_type": "code",
      "metadata": {
        "id": "lJTGyYZq9Qvz",
        "colab_type": "code",
        "colab": {}
      },
      "source": [
        "try:\n",
        "  %tensorflow_version 2.x\n",
        "\n",
        "except Exception:\n",
        "  pass\n",
        "  \n",
        "import tensorflow as tf\n",
        "\n",
        "#Set Random Seed for reproduction\n",
        "tf.random.set_seed(1234)\n",
        "\n",
        "import numpy as np\n",
        "from tensorflow.keras import layers\n",
        "from tqdm.notebook import tqdm\n",
        "import matplotlib.pyplot as plt\n",
        "\n",
        "# Remove warnings\n",
        "import logging\n",
        "logging.getLogger('tensorflow').disabled = True\n",
        "\n",
        "#Use this to not need to initialize tensors outside session\n",
        "tf.config.experimental_run_functions_eagerly(True)"
      ],
      "execution_count": 4,
      "outputs": []
    },
    {
      "cell_type": "code",
      "metadata": {
        "id": "w7Qdcbpt9djP",
        "colab_type": "code",
        "colab": {}
      },
      "source": [
        "%load_ext autoreload\n",
        "%autoreload 2"
      ],
      "execution_count": 5,
      "outputs": []
    },
    {
      "cell_type": "markdown",
      "metadata": {
        "id": "FEgPtXJZ9eo3",
        "colab_type": "text"
      },
      "source": [
        "## Loading Dataset"
      ]
    },
    {
      "cell_type": "code",
      "metadata": {
        "id": "NaRMA_jWaPoa",
        "colab_type": "code",
        "colab": {}
      },
      "source": [
        "X_train = np.loadtxt('Data/Measurements/X_train.txt')\n",
        "X_test = np.loadtxt('Data/Measurements/X_test.txt')"
      ],
      "execution_count": 6,
      "outputs": []
    },
    {
      "cell_type": "markdown",
      "metadata": {
        "id": "S7UzPFMt9s3G",
        "colab_type": "text"
      },
      "source": [
        "# Model"
      ]
    },
    {
      "cell_type": "markdown",
      "metadata": {
        "id": "BlaDojsgdcN-",
        "colab_type": "text"
      },
      "source": [
        "## 1) Using a simple AutoEncoder with a Mean Squared Error"
      ]
    },
    {
      "cell_type": "code",
      "metadata": {
        "id": "ufAnZuDs4uwQ",
        "colab_type": "code",
        "colab": {}
      },
      "source": [
        "from Models.AE import AutoEncoder\n",
        "latent_dim = 20\n",
        "input_dim = X_train.shape[1]\n",
        "hidden_dims = [64,128,256]\n",
        "batchsize = 32\n",
        "dropout_rate=0.3\n",
        "\n",
        "AE = AutoEncoder(original_dim=input_dim, \n",
        "            intermediate_dim= hidden_dims,\n",
        "            latent_dim=latent_dim,\n",
        "            dropout_rate=dropout_rate)\n",
        "\n",
        "AE.compile(optimizer=\"adam\", loss=\"mse\", metrics=[\"mae\"])"
      ],
      "execution_count": 7,
      "outputs": []
    },
    {
      "cell_type": "code",
      "metadata": {
        "id": "-tLInpo15-bM",
        "colab_type": "code",
        "colab": {}
      },
      "source": [
        "epochs = 10\n",
        "history = AE.fit(x=X_train,\n",
        "                 y=X_train, \n",
        "                 epochs=epochs,                                                                                   \n",
        "                 validation_data=(X_test,X_test)\n",
        "                )"
      ],
      "execution_count": null,
      "outputs": []
    },
    {
      "cell_type": "code",
      "metadata": {
        "id": "S3FdeMM__cvM",
        "colab_type": "code",
        "colab": {
          "base_uri": "https://localhost:8080/",
          "height": 338
        },
        "outputId": "d1fcf947-3c59-4911-c340-1d10616e81f0"
      },
      "source": [
        "fig = plt.figure(figsize=(14,5))\n",
        "gs = fig.add_gridspec(1, 2)\n",
        "ax1 = fig.add_subplot(gs[0, 0])\n",
        "ax2 = fig.add_subplot(gs[0, 1])\n",
        "\n",
        "\n",
        "ax1.imshow((X_test[0:20]), cmap=\"gray\")\n",
        "ax1.set_title('Original', size=16)\n",
        "\n",
        "ax2.imshow(AE.predict(X_test[0:20]), cmap=\"gray\")\n",
        "ax2.set_title('Reconstruction', size=16)\n",
        "\n",
        "plt.show()"
      ],
      "execution_count": 9,
      "outputs": [
        {
          "output_type": "display_data",
          "data": {
            "image/png": "[encoded data removed]",
            "text/plain": [
              "<Figure size 1008x360 with 2 Axes>"
            ]
          },
          "metadata": {
            "tags": [],
            "needs_background": "light"
          }
        }
      ]
    },
    {
      "cell_type": "code",
      "metadata": {
        "id": "-oPl6WX_A_NZ",
        "colab_type": "code",
        "colab": {
          "base_uri": "https://localhost:8080/",
          "height": 84,
          "referenced_widgets": [
            "4627ea4aaf7c4eeabf3375aff0ef1940",
            "9252ebfc9bbd49bd9f2ffc2f8568c664",
            "1213ef78878c477295af6f6c40c3ab68",
            "74bb0ff717344191b782482893e67e40",
            "21cc029ce61c43dab816a111ff44a167",
            "95a338e8872c45e0a8f56330d89305a0",
            "0910af91039d4feb90ea7a43727bd758",
            "c7d02db19c6340e6965a97ee425485cc"
          ]
        },
        "outputId": "8c2591f1-2e8c-4a20-b6b6-a100091fea6d"
      },
      "source": [
        "from Utils.QMetrics import fidelity_rho\n",
        "\n",
        "fid = []\n",
        "\n",
        "with tqdm(total=len(X_test)) as pbar:\n",
        "  for val_1, val_2 in zip(X_test, AE.predict(X_test)):\n",
        "    fid.append(fidelity_rho(val_1,val_2))\n",
        "    pbar.update(1)\n",
        "\n",
        "print(f'Fidelity: {np.mean(fid)}')"
      ],
      "execution_count": 10,
      "outputs": [
        {
          "output_type": "display_data",
          "data": {
            "application/vnd.jupyter.widget-view+json": {
              "model_id": "4627ea4aaf7c4eeabf3375aff0ef1940",
              "version_minor": 0,
              "version_major": 2
            },
            "text/plain": [
              "HBox(children=(FloatProgress(value=0.0, max=3000.0), HTML(value='')))"
            ]
          },
          "metadata": {
            "tags": []
          }
        },
        {
          "output_type": "stream",
          "text": [
            "\n",
            "Fidelity: 0.9581938973853666\n"
          ],
          "name": "stdout"
        }
      ]
    },
    {
      "cell_type": "markdown",
      "metadata": {
        "id": "jMuPWxEAlbJt",
        "colab_type": "text"
      },
      "source": [
        "## 2) Using a AutoEncoder with trace distance as a loss function"
      ]
    },
    {
      "cell_type": "code",
      "metadata": {
        "id": "qjFh_er6loH_",
        "colab_type": "code",
        "colab": {}
      },
      "source": [
        "from tensorflow.keras import layers\n",
        "import tensorflow as tf\n",
        "import numpy as numpy\n",
        "\n",
        "class Encoder(layers.Layer):\n",
        "    \"\"\"Maps Input to latent dimension.\"\"\"\n",
        "\n",
        "    def __init__(self,\n",
        "                latent_dim,\n",
        "                intermediate_dim,\n",
        "                dropout_rate,\n",
        "                **kwargs):\n",
        "      \n",
        "      super(Encoder, self).__init__(**kwargs)\n",
        "      self.dense_proj = []\n",
        "      for i in intermediate_dim:        \n",
        "        self.dense_proj.append(layers.Dense(i,\n",
        "                                            activation=tf.nn.relu))\n",
        "      \n",
        "      self.dropout_rate = dropout_rate\n",
        "      \n",
        "      if self.dropout_rate:\n",
        "        self.dropout = layers.Dropout(self.dropout_rate)\n",
        "\n",
        "      self.latent_layer = layers.Dense(latent_dim)    \n",
        "\n",
        "    def call(self, inputs):\n",
        "      x = self.dense_proj[0](inputs)\n",
        "      \n",
        "      for lay in self.dense_proj[1:]:\n",
        "        x = lay(x)\n",
        "        if self.dropout_rate:\n",
        "          x = self.dropout(x)\n",
        "          \n",
        "      return self.latent_layer(x)\n",
        "\n",
        "class Decoder(layers.Layer):\n",
        "  \"\"\"Decodes the encoded representation of the Encoder.\"\"\"\n",
        "\n",
        "  def __init__(self,\n",
        "               original_dim,\n",
        "               intermediate_dim,\n",
        "               dropout_rate=None,\n",
        "               **kwargs):\n",
        "    super(Decoder, self).__init__(**kwargs)\n",
        "\n",
        "    self.dense_proj = []\n",
        "    for i in reversed(intermediate_dim):      \n",
        "      self.dense_proj.append(layers.Dense(i,\n",
        "                                          activation=tf.nn.relu))\n",
        "    \n",
        "    self.dropout_rate = dropout_rate\n",
        "    \n",
        "    if self.dropout_rate:\n",
        "      self.dropout = layers.Dropout(self.dropout_rate)\n",
        "\n",
        "    self.dense_output = layers.Dense(original_dim)\n",
        "\n",
        "  def call(self, inputs):\n",
        "    x = self.dense_proj[0](inputs)\n",
        "    \n",
        "    for lay in self.dense_proj[1:]:\n",
        "      x = lay(x)\n",
        "      if self.dropout_rate:\n",
        "        x = self.dropout(x)\n",
        "\n",
        "    return self.dense_output(x)"
      ],
      "execution_count": 11,
      "outputs": []
    },
    {
      "cell_type": "code",
      "metadata": {
        "id": "4sUxF5KtmECE",
        "colab_type": "code",
        "colab": {}
      },
      "source": [
        "from Utils.QMetrics import trace_loss, fidelity_rho\n",
        "class TraceAutoEncoder(tf.keras.Model):\n",
        "  \"\"\" AutoEncoder Model.\n",
        "\n",
        "  Parameters\n",
        "  -----------------------------------\n",
        "  original_dim(int): Dimension of the input.\n",
        "  intermediate_dim(list): Number of neurons on intermediate layers.\n",
        "  latent_dim(int): Latent dimension.\n",
        "  dropout_rate(float): Percentage of dropout.\n",
        "\n",
        "  \"\"\"\n",
        "\n",
        "  def __init__(self,\n",
        "               original_dim,\n",
        "               intermediate_dim,\n",
        "               latent_dim,\n",
        "               dropout_rate,       \n",
        "               **kwargs):\n",
        "    super(TraceAutoEncoder, self).__init__()    \n",
        "    self.encoder = Encoder(latent_dim=latent_dim, \n",
        "                           dropout_rate=dropout_rate,\n",
        "                           intermediate_dim= intermediate_dim)\n",
        "    self.decoder = Decoder(original_dim, \n",
        "                           dropout_rate= dropout_rate,\n",
        "                           intermediate_dim= intermediate_dim)    \n",
        "    self.fidelity = []\n",
        "  \n",
        "  def call(self, inputs):\n",
        "    z = self.encoder(inputs)\n",
        "    reconstructed = self.decoder(z)    \n",
        "    return reconstructed\n",
        "\n",
        "  def training_step(self, data, r_loss):\n",
        "    \"\"\"Training step for the AE.\n",
        "  \n",
        "    Parameters\n",
        "    -------------------------------------------\n",
        "    x: Data    \n",
        "    optimizer(tf.keras.optimizer): Optimizer used.  \n",
        "    r_loss(float): Parameter controlling reconstruction loss.    \n",
        "\n",
        "    Return:\n",
        "    Loss(float): Loss value of the training step.\n",
        "\n",
        "    \"\"\"\n",
        "    x, y = data\n",
        "\n",
        "    with tf.GradientTape() as tape:\n",
        "      reconstructed = self(x)  # Compute input reconstruction.\n",
        "      \n",
        "      # Compute loss.\n",
        "      loss = trace_loss(y, reconstructed)            \n",
        "    \n",
        "    # Update the weights of the VAE.\n",
        "    grads = tape.gradient(loss, self.trainable_weights)\n",
        "    self.optimizer.apply_gradients(zip(grads, self.trainable_weights))    \n",
        "    \n",
        "    fid = []\n",
        "    for val_1, val_2 in zip(y.numpy(), reconstructed.numpy()):\n",
        "      fid.append(fidelity_rho(val_1,val_2))    \n",
        "\n",
        "    return loss, np.mean(fid)\n",
        "\n",
        "  def validating_step(self, data, r_loss):\n",
        "    \"\"\"Validation step for the VAE.\n",
        "  \n",
        "    Parameters\n",
        "    -------------------------------------------\n",
        "    x: Data    \n",
        "    r_loss(float): Parameter controlling reconstruction loss.    \n",
        "\n",
        "    Return:\n",
        "    Loss(float): Loss value of the training step.\n",
        "\n",
        "    \"\"\"\n",
        "    x,y = data\n",
        "\n",
        "    reconstructed = self(x)  # Compute input reconstruction.\n",
        "    # Compute loss.\n",
        "    loss = trace_loss(y, reconstructed)    \n",
        "    \n",
        "    fid = []\n",
        "    for val_1, val_2 in zip(y.numpy(), reconstructed.numpy()):\n",
        "      fid.append(fidelity_rho(val_1,val_2))    \n",
        "\n",
        "    return loss, np.mean(fid)\n",
        "\n",
        "  def training(self, dataset, \n",
        "             epochs, r_loss,              \n",
        "             test= None ,Plotter=None):\n",
        "    \"\"\" Training of the Variational Autoencoder for a \n",
        "    tensorflow.dataset.\n",
        "\n",
        "    Parameters\n",
        "    -------------------------------------------\n",
        "    dataset(tf.data.Dataset): Dataset of the data.    \n",
        "    epochs(int): Number of epochs.\n",
        "    r_loss(float): Parameter controlling reconstruction loss.    \n",
        "    Plotter(object): Plotter object to show how the training is\n",
        "                    going (Default=None).\n",
        "\n",
        "    \"\"\"\n",
        "\n",
        "    losses = []\n",
        "    val_losses = []\n",
        "    fidelities = []\n",
        "    val_fidelities = []\n",
        "    epochs = range(epochs)\n",
        "\n",
        "    for i in tqdm(epochs, desc='Epochs'):\n",
        "      losses_epochs = []\n",
        "      fidelity_epochs =[]\n",
        "      for step, x in enumerate(dataset):\n",
        "\n",
        "        loss, fidelity = self.training_step(x, r_loss)\n",
        "  \n",
        "        # Logging.\n",
        "        losses_epochs.append(float(loss))\n",
        "        fidelity_epochs.append(float(fidelity))\n",
        "      \n",
        "      losses.append(np.mean(losses_epochs))\n",
        "      fidelities.append(np.mean(fidelity_epochs))\n",
        "      \n",
        "      if test:\n",
        "        val_losses_epochs = []\n",
        "        val_fidelity_epochs = []\n",
        "\n",
        "        for step, x in enumerate(test):\n",
        "\n",
        "          val_loss, val_fidelity = self.validating_step(x, r_loss)\n",
        "    \n",
        "          # Logging.\n",
        "          val_losses_epochs.append(float(val_loss))\n",
        "          val_fidelity_epochs.append(float(val_fidelity))\n",
        "        \n",
        "        val_losses.append(np.mean(val_losses_epochs))\n",
        "        val_fidelities.append(np.mean(val_fidelity_epochs))\n",
        "\n",
        "      if Plotter != None:\n",
        "        if test:\n",
        "          Plotter.plot([losses,val_losses])          \n",
        "        else:\n",
        "          Plotter.plot(losses)\n",
        "        \n",
        "\n",
        "    return losses, val_losses, fidelities, val_fidelities"
      ],
      "execution_count": 26,
      "outputs": []
    },
    {
      "cell_type": "code",
      "metadata": {
        "id": "O5JXisVOnXbX",
        "colab_type": "code",
        "colab": {}
      },
      "source": [
        "from Models.AE import AutoEncoder\n",
        "latent_dim = 20\n",
        "input_dim = X_train.shape[1]\n",
        "hidden_dims = [64,128,256]\n",
        "batchsize = 32\n",
        "dropout_rate=0.3\n",
        "\n",
        "AE = TraceAutoEncoder(original_dim=input_dim, \n",
        "            intermediate_dim= hidden_dims,\n",
        "            latent_dim=latent_dim,\n",
        "            dropout_rate=dropout_rate)\n",
        "\n",
        "optimizer = tf.keras.optimizers.Adam(learning_rate=1e-3)\n",
        "AE.compile(optimizer=optimizer)\n",
        "\n",
        "# Prepare a dataset.\n",
        "dataset = tf.data.Dataset.from_tensor_slices((X_train, X_train))\n",
        "dataset = dataset.shuffle(buffer_size=1024).batch(batchsize)\n",
        "val_dataset = tf.data.Dataset.from_tensor_slices((X_test, X_test))\n",
        "val_dataset = val_dataset.shuffle(buffer_size=1024).batch(batchsize)"
      ],
      "execution_count": 27,
      "outputs": []
    },
    {
      "cell_type": "code",
      "metadata": {
        "id": "Oa_YlqE1oQ42",
        "colab_type": "code",
        "colab": {
          "base_uri": "https://localhost:8080/",
          "height": 562,
          "referenced_widgets": [
            "f6d87c2c60294452b0bd188f5852812d",
            "2f00aee64c12487985916e2f1348ed4f",
            "390c813fcb3e4893896a1e711c766610",
            "85a89717e2f646d8932bff02a678de7f",
            "8ab0538c40c2488b8a46f77befc0e0cf",
            "b6caccfc827f41c1a7be80b5fd7c7314",
            "8f1fe64d7ec34776941456b5543a6f57",
            "2f59e25a51744ae087b8bf12a7f0babc"
          ]
        },
        "outputId": "ff4c8e53-044b-4c9f-fde9-530b636414b4"
      },
      "source": [
        "from Utils.Plotter import PeriodicPlotter\n",
        "\n",
        "r_loss = 10.\n",
        "epochs = 10\n",
        "\n",
        "# Periodic Plotter for loss\n",
        "plotter = PeriodicPlotter(sec=5, xlabel='Epochs', ylabel='Loss')\n",
        "\n",
        "loss_epochs, val_loss_epochs, fidelity_epochs, val_fidelity_epochs = AE.training(dataset, \n",
        "                                                                                  epochs, \n",
        "                                                                                  r_loss,                                                                                   \n",
        "                                                                                  test=val_dataset, \n",
        "                                                                                  Plotter=plotter)"
      ],
      "execution_count": 28,
      "outputs": [
        {
          "output_type": "display_data",
          "data": {
            "image/png": "[encoded data removed]",
            "text/plain": [
              "<Figure size 432x288 with 1 Axes>"
            ]
          },
          "metadata": {
            "tags": []
          }
        },
        {
          "output_type": "stream",
          "text": [
            "\n"
          ],
          "name": "stdout"
        },
        {
          "output_type": "display_data",
          "data": {
            "image/png": "[encoded data removed]",
            "text/plain": [
              "<Figure size 432x288 with 1 Axes>"
            ]
          },
          "metadata": {
            "tags": [],
            "needs_background": "light"
          }
        }
      ]
    },
    {
      "cell_type": "code",
      "metadata": {
        "id": "ijwwZj5doULO",
        "colab_type": "code",
        "colab": {
          "base_uri": "https://localhost:8080/",
          "height": 338
        },
        "outputId": "aacafa3b-66c5-4957-9c00-14ad47b564ec"
      },
      "source": [
        "epochs = range(len(loss_epochs))\n",
        "\n",
        "fig = plt.figure(figsize=(14,5))\n",
        "gs = fig.add_gridspec(1, 2)\n",
        "ax1 = fig.add_subplot(gs[0, 0])\n",
        "ax2 = fig.add_subplot(gs[0, 1])\n",
        "\n",
        "ax1.plot(epochs,loss_epochs, label='Training')\n",
        "ax1.plot(epochs,val_loss_epochs, label='Validation')\n",
        "ax1.set_xlabel('Epochs', size=16)\n",
        "ax1.set_ylabel('Loss', size=16)\n",
        "ax1.legend()\n",
        "\n",
        "ax2.plot(epochs,fidelity_epochs, label='Training')\n",
        "ax2.plot(epochs,val_fidelity_epochs, label='Validation')\n",
        "ax2.set_xlabel('Epochs', size=16)\n",
        "ax2.set_ylabel('Fidelity', size=16)\n",
        "ax2.legend()\n",
        "plt.show()"
      ],
      "execution_count": 29,
      "outputs": [
        {
          "output_type": "display_data",
          "data": {
            "image/png": "[encoded data removed]",
            "text/plain": [
              "<Figure size 1008x360 with 2 Axes>"
            ]
          },
          "metadata": {
            "tags": [],
            "needs_background": "light"
          }
        }
      ]
    },
    {
      "cell_type": "code",
      "metadata": {
        "id": "LNZ4Wr7HySb0",
        "colab_type": "code",
        "colab": {}
      },
      "source": [
        "# Saving results\n",
        "np.savetxt('Results/TAE/TAE_Fidelity.txt', fidelity_epochs)\n",
        "np.savetxt('Results/TAE/TAE_Loss.txt', loss_epochs)"
      ],
      "execution_count": 31,
      "outputs": []
    }
  ]
}