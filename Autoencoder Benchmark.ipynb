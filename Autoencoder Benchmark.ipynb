{
  "nbformat": 4,
  "nbformat_minor": 0,
  "metadata": {
    "colab": {
      "name": "Autoencoder Benchmark.ipynb",
      "provenance": [],
      "collapsed_sections": [],
      "authorship_tag": "ABX9TyMAbSBQfgiEhxBMNxBruIpS",
      "include_colab_link": true
    },
    "kernelspec": {
      "name": "python3",
      "display_name": "Python 3"
    }
  },
  "cells": [
    {
      "cell_type": "markdown",
      "metadata": {
        "id": "view-in-github",
        "colab_type": "text"
      },
      "source": [
        "<a href=\"https://colab.research.google.com/github/nahumsa/DM-Reconstruction/blob/master/Autoencoder%20Benchmark.ipynb\" target=\"_parent\"><img src=\"https://colab.research.google.com/assets/colab-badge.svg\" alt=\"Open In Colab\"/></a>"
      ]
    },
    {
      "cell_type": "markdown",
      "metadata": {
        "id": "XBV5v__yz96I",
        "colab_type": "text"
      },
      "source": [
        "# Autoencoder Benchmark"
      ]
    },
    {
      "cell_type": "markdown",
      "metadata": {
        "id": "T2rmp9RG9Jl7",
        "colab_type": "text"
      },
      "source": [
        "## Import dependencies for Google Colab"
      ]
    },
    {
      "cell_type": "code",
      "metadata": {
        "id": "TlSHhTXA8KZ2",
        "colab_type": "code",
        "colab": {}
      },
      "source": [
        "! git clone https://github.com/nahumsa/DM-Reconstruction"
      ],
      "execution_count": null,
      "outputs": []
    },
    {
      "cell_type": "code",
      "metadata": {
        "id": "CH6jS4fy8LSS",
        "colab_type": "code",
        "colab": {}
      },
      "source": [
        "!pip install qutip"
      ],
      "execution_count": null,
      "outputs": []
    },
    {
      "cell_type": "code",
      "metadata": {
        "id": "WPlNSZN79kTe",
        "colab_type": "code",
        "colab": {}
      },
      "source": [
        "% cd DM-Reconstruction/"
      ],
      "execution_count": null,
      "outputs": []
    },
    {
      "cell_type": "markdown",
      "metadata": {
        "id": "Ug3S__hR9Lcn",
        "colab_type": "text"
      },
      "source": [
        "## Import Dependencies"
      ]
    },
    {
      "cell_type": "code",
      "metadata": {
        "id": "lJTGyYZq9Qvz",
        "colab_type": "code",
        "colab": {}
      },
      "source": [
        "try:\n",
        "  %tensorflow_version 2.x\n",
        "\n",
        "except Exception:\n",
        "  pass\n",
        "  \n",
        "import tensorflow as tf\n",
        "\n",
        "#Set Random Seed for reproduction\n",
        "tf.random.set_seed(1234)\n",
        "\n",
        "import numpy as np\n",
        "from tensorflow.keras import layers\n",
        "from tqdm.notebook import tqdm\n",
        "import matplotlib.pyplot as plt\n",
        "\n",
        "# Remove warnings\n",
        "import logging\n",
        "logging.getLogger('tensorflow').disabled = True\n",
        "\n",
        "#Use this to not need to initialize tensors outside session\n",
        "tf.config.experimental_run_functions_eagerly(True)"
      ],
      "execution_count": 68,
      "outputs": []
    },
    {
      "cell_type": "code",
      "metadata": {
        "id": "w7Qdcbpt9djP",
        "colab_type": "code",
        "colab": {}
      },
      "source": [
        "%load_ext autoreload\n",
        "%autoreload 2"
      ],
      "execution_count": 44,
      "outputs": []
    },
    {
      "cell_type": "markdown",
      "metadata": {
        "id": "FEgPtXJZ9eo3",
        "colab_type": "text"
      },
      "source": [
        "## Creating Dataset"
      ]
    },
    {
      "cell_type": "code",
      "metadata": {
        "id": "lVepY2zV9sdk",
        "colab_type": "code",
        "colab": {}
      },
      "source": [
        "from Utils.Dataset import create_dataset\n",
        "\n",
        "samples_train = 5000\n",
        "states_train, measurements_train, labels_train = create_dataset(samples_train)\n",
        "\n",
        "samples_test = 3000\n",
        "states_test, measurements_test, labels_test = create_dataset(samples_test)"
      ],
      "execution_count": 46,
      "outputs": []
    },
    {
      "cell_type": "code",
      "metadata": {
        "id": "iKCFbbGx9ssQ",
        "colab_type": "code",
        "colab": {}
      },
      "source": [
        "from Utils.Dataset import create_x\n",
        "\n",
        "#Transforming in an np.array\n",
        "X_train = np.array(create_x(measurements_train))\n",
        "Y_train = np.array(labels_train)\n",
        "\n",
        "X_test = np.array(create_x(measurements_test))\n",
        "Y_test = np.array(labels_test)\n"
      ],
      "execution_count": 47,
      "outputs": []
    },
    {
      "cell_type": "markdown",
      "metadata": {
        "id": "S7UzPFMt9s3G",
        "colab_type": "text"
      },
      "source": [
        "## Model"
      ]
    },
    {
      "cell_type": "code",
      "metadata": {
        "id": "v266Psyd1tHz",
        "colab_type": "code",
        "colab": {}
      },
      "source": [
        "class Encoder(layers.Layer):\n",
        "    \"\"\"Maps Input to latent dimension.\"\"\"\n",
        "\n",
        "    def __init__(self,\n",
        "                latent_dim,\n",
        "                intermediate_dim,\n",
        "                dropout_rate,\n",
        "                **kwargs):\n",
        "      \n",
        "      super(Encoder, self).__init__(**kwargs)\n",
        "      self.dense_proj = []\n",
        "      for i in intermediate_dim:        \n",
        "        self.dense_proj.append(layers.Dense(i,\n",
        "                                            activation=tf.nn.relu))\n",
        "      \n",
        "      self.dropout_rate = dropout_rate\n",
        "      \n",
        "      if self.dropout_rate:\n",
        "        self.dropout = layers.Dropout(self.dropout_rate)\n",
        "\n",
        "      self.latent_layer = layers.Dense(latent_dim)    \n",
        "\n",
        "    def call(self, inputs):\n",
        "      x = self.dense_proj[0](inputs)\n",
        "      \n",
        "      for lay in self.dense_proj[1:]:\n",
        "        x = lay(x)\n",
        "        if self.dropout_rate:\n",
        "          x = self.dropout(x)\n",
        "          \n",
        "      return self.latent_layer(x)\n",
        "\n",
        "class Decoder(layers.Layer):\n",
        "  \"\"\"Decodes the encoded representation of the Encoder.\"\"\"\n",
        "\n",
        "  def __init__(self,\n",
        "               original_dim,\n",
        "               intermediate_dim,\n",
        "               dropout_rate=None,\n",
        "               **kwargs):\n",
        "    super(Decoder, self).__init__(**kwargs)\n",
        "\n",
        "    self.dense_proj = []\n",
        "    for i in reversed(intermediate_dim):      \n",
        "      self.dense_proj.append(layers.Dense(i,\n",
        "                                          activation=tf.nn.relu))\n",
        "    \n",
        "    self.dropout_rate = dropout_rate\n",
        "    \n",
        "    if self.dropout_rate:\n",
        "      self.dropout = layers.Dropout(self.dropout_rate)\n",
        "\n",
        "    self.dense_output = layers.Dense(original_dim)\n",
        "\n",
        "  def call(self, inputs):\n",
        "    x = self.dense_proj[0](inputs)\n",
        "    \n",
        "    for lay in self.dense_proj[1:]:\n",
        "      x = lay(x)\n",
        "      if self.dropout_rate:\n",
        "        x = self.dropout(x)\n",
        "\n",
        "    return self.dense_output(x)\n",
        "\n",
        "class AutoEncoder(tf.keras.Model):\n",
        "  \"\"\" AutoEncoder Model.\n",
        "\n",
        "  Parameters\n",
        "  -----------------------------------\n",
        "  original_dim(int): Dimension of the input.\n",
        "  intermediate_dim(list): Number of neurons on intermediate layers.\n",
        "  latent_dim(int): Latent dimension.\n",
        "  dropout_rate(float): Percentage of dropout.\n",
        "\n",
        "  \"\"\"\n",
        "\n",
        "  def __init__(self,\n",
        "               original_dim,\n",
        "               intermediate_dim,\n",
        "               latent_dim,\n",
        "               dropout_rate,       \n",
        "               **kwargs):\n",
        "    super(AutoEncoder, self).__init__()    \n",
        "    self.encoder = Encoder(latent_dim=latent_dim, \n",
        "                           dropout_rate=dropout_rate,\n",
        "                           intermediate_dim= intermediate_dim)\n",
        "    self.decoder = Decoder(original_dim, \n",
        "                           dropout_rate= dropout_rate,\n",
        "                           intermediate_dim= intermediate_dim)    \n",
        "    self.fidelity = []\n",
        "  \n",
        "  def call(self, inputs):\n",
        "    z = self.encoder(inputs)\n",
        "    reconstructed = self.decoder(z)    \n",
        "    return reconstructed\n",
        "\n",
        "  def train_step(self, data):\n",
        "    x, y = data \n",
        "    \n",
        "    with tf.GradientTape() as tape:\n",
        "      # Forward Pass\n",
        "      y_pred = self(x, training=True)\n",
        "\n",
        "      # Compute Loss Function\n",
        "      loss = self.compiled_loss(y, y_pred, regularization_losses=self.losses)\n",
        "    \n",
        "    # Compute gradients\n",
        "    trainable_vars = self.trainable_variables\n",
        "    gradients = tape.gradient(loss, trainable_vars)\n",
        "    \n",
        "    # Update weights\n",
        "    self.optimizer.apply_gradients(zip(gradients, trainable_vars))\n",
        "    \n",
        "    # Update metrics (includes the metric that tracks the loss)\n",
        "    self.compiled_metrics.update_state(y, y_pred)\n",
        "    \n",
        "    # Return a dict mapping metric names to current value\n",
        "    return {m.name: m.result() for m in self.metrics}  \n",
        "\n",
        "  def test_step(self, data):\n",
        "    # Unpack the data\n",
        "    x, y = data\n",
        "    # Compute predictions\n",
        "    y_pred = self(x, training=False)\n",
        "    # Updates the metrics tracking the loss\n",
        "    self.compiled_loss(y, y_pred, regularization_losses=self.losses)\n",
        "    # Update the metrics.\n",
        "    self.compiled_metrics.update_state(y, y_pred)\n",
        "    # Return a dict mapping metric names to current value.\n",
        "    # Note that it will include the loss (tracked in self.metrics).         \n",
        "    return {m.name: m.result() for m in self.metrics}\n"
      ],
      "execution_count": 93,
      "outputs": []
    },
    {
      "cell_type": "code",
      "metadata": {
        "id": "ufAnZuDs4uwQ",
        "colab_type": "code",
        "colab": {}
      },
      "source": [
        "latent_dim = 20\n",
        "input_dim = X_train.shape[1]\n",
        "hidden_dims = [64,128,256]\n",
        "batchsize = 32\n",
        "dropout_rate=0.3\n",
        "\n",
        "AE = AutoEncoder(original_dim=input_dim, \n",
        "            intermediate_dim= hidden_dims,\n",
        "            latent_dim=latent_dim,\n",
        "            dropout_rate=dropout_rate)\n",
        "\n",
        "AE.compile(optimizer=\"adam\", loss=\"mse\", metrics=[\"mae\"])"
      ],
      "execution_count": 94,
      "outputs": []
    },
    {
      "cell_type": "code",
      "metadata": {
        "id": "-tLInpo15-bM",
        "colab_type": "code",
        "colab": {}
      },
      "source": [
        "epochs = 10\n",
        "history = AE.fit(x=X_train,\n",
        "                 y=X_train, \n",
        "                 epochs=epochs,                                                                                   \n",
        "                 validation_data=(X_test,X_test)\n",
        "                )"
      ],
      "execution_count": null,
      "outputs": []
    },
    {
      "cell_type": "code",
      "metadata": {
        "id": "S3FdeMM__cvM",
        "colab_type": "code",
        "colab": {
          "base_uri": "https://localhost:8080/",
          "height": 338
        },
        "outputId": "40f246a9-fba9-40c1-8b87-71398c48b9de"
      },
      "source": [
        "fig = plt.figure(figsize=(14,5))\n",
        "gs = fig.add_gridspec(1, 2)\n",
        "ax1 = fig.add_subplot(gs[0, 0])\n",
        "ax2 = fig.add_subplot(gs[0, 1])\n",
        "\n",
        "\n",
        "ax1.imshow((X_test[0:20]), cmap=\"gray\")\n",
        "ax1.set_title('Original', size=16)\n",
        "\n",
        "ax2.imshow(AE.predict(X_test[0:20]), cmap=\"gray\")\n",
        "ax2.set_title('Reconstruction', size=16)\n",
        "\n",
        "plt.show()"
      ],
      "execution_count": 96,
      "outputs": [
        {
          "output_type": "display_data",
          "data": {
            "image/png": "[encoded data removed]",
            "text/plain": [
              "<Figure size 1008x360 with 2 Axes>"
            ]
          },
          "metadata": {
            "tags": [],
            "needs_background": "light"
          }
        }
      ]
    },
    {
      "cell_type": "code",
      "metadata": {
        "id": "-oPl6WX_A_NZ",
        "colab_type": "code",
        "colab": {
          "base_uri": "https://localhost:8080/",
          "height": 34
        },
        "outputId": "8834a0ef-4140-4aac-e8b3-a1cc758f319a"
      },
      "source": [
        "from Utils.QMetrics import fidelity_rho\n",
        "\n",
        "fid = []\n",
        "for val_1, val_2 in zip(X_test, AE.predict(X_test)):\n",
        "  fid.append(fidelity_rho(val_1,val_2))\n",
        "\n",
        "np.mean(fid)"
      ],
      "execution_count": 97,
      "outputs": [
        {
          "output_type": "execute_result",
          "data": {
            "text/plain": [
              "0.9572691240045957"
            ]
          },
          "metadata": {
            "tags": []
          },
          "execution_count": 97
        }
      ]
    }
  ]
}